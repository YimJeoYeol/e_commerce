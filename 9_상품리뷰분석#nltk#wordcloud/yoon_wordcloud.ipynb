{
 "cells": [
  {
   "cell_type": "markdown",
   "source": [
    "# 모듈 및 데이터 로딩"
   ],
   "metadata": {
    "collapsed": false
   }
  },
  {
   "cell_type": "code",
   "execution_count": null,
   "outputs": [],
   "source": [
    "# %pip install -r ../requirements.txt\n",
    "import string\n",
    "\n",
    "import matplotlib.pyplot as plt"
   ],
   "metadata": {
    "collapsed": false
   }
  },
  {
   "cell_type": "code",
   "execution_count": null,
   "outputs": [],
   "source": [
    "with open(\"yoon.txt\", encoding=\"utf-8\") as f:\n",
    "    text = f.read()"
   ],
   "metadata": {
    "collapsed": false
   }
  },
  {
   "cell_type": "code",
   "execution_count": null,
   "outputs": [],
   "source": [
    "text[:100]"
   ],
   "metadata": {
    "collapsed": false
   }
  },
  {
   "cell_type": "code",
   "execution_count": null,
   "outputs": [],
   "source": [
    "text = text.replace(\"\\n\", \" \").replace(\"  \", \" \")"
   ],
   "metadata": {
    "collapsed": false
   }
  },
  {
   "cell_type": "code",
   "execution_count": null,
   "outputs": [],
   "source": [
    "# def remove_punc(x):\n",
    "#     new_s = []\n",
    "#     for i in x:\n",
    "#         if i not in string.punctuation:\n",
    "#             new_s.append(i)\n",
    "#     new_s = ''.join(new_s)\n",
    "#     return new_s"
   ],
   "metadata": {
    "collapsed": false
   }
  },
  {
   "cell_type": "code",
   "execution_count": null,
   "outputs": [],
   "source": [
    "# 위 함수 대신 List Comprehension으로 만들어보기\n",
    "text = ''.join([i for i in text if i not in string.punctuation])"
   ],
   "metadata": {
    "collapsed": false
   }
  },
  {
   "cell_type": "code",
   "execution_count": null,
   "outputs": [],
   "source": [
    "text[:100]"
   ],
   "metadata": {
    "collapsed": false
   }
  },
  {
   "cell_type": "markdown",
   "source": [
    "# 단어 등장 빈도 확인하기"
   ],
   "metadata": {
    "collapsed": false
   }
  },
  {
   "cell_type": "code",
   "execution_count": null,
   "outputs": [],
   "source": [
    "# 모든 단어를 하나의 리스트로 통합하기\n",
    "word_split = text.split(\" \")\n",
    "word_split[:100]"
   ],
   "metadata": {
    "collapsed": false
   }
  },
  {
   "cell_type": "code",
   "execution_count": null,
   "outputs": [],
   "source": [
    "len(word_split)"
   ],
   "metadata": {
    "collapsed": false
   }
  },
  {
   "cell_type": "code",
   "execution_count": null,
   "outputs": [],
   "source": [
    "stop_words = [\"있습니다\", \"것입니다\", \"합니다\", \"그리고\", \"이\", \"두\", \"수\", \"전\", \"그\", \"미\", \"등\"]"
   ],
   "metadata": {
    "collapsed": false
   }
  },
  {
   "cell_type": "code",
   "execution_count": null,
   "outputs": [],
   "source": [
    "word_split = [i for i in word_split if i not in stop_words]"
   ],
   "metadata": {
    "collapsed": false
   }
  },
  {
   "cell_type": "code",
   "execution_count": null,
   "outputs": [],
   "source": [
    "len(word_split)"
   ],
   "metadata": {
    "collapsed": false
   }
  },
  {
   "cell_type": "code",
   "execution_count": null,
   "outputs": [],
   "source": [
    "from nltk.probability import FreqDist"
   ],
   "metadata": {
    "collapsed": false
   }
  },
  {
   "cell_type": "code",
   "execution_count": null,
   "outputs": [],
   "source": [
    "import matplotlib as mpl\n",
    "\n",
    "mpl.rcParams['font.family'] = 'Gulim'  # 굴림체 적용\n",
    "plt.figure(figsize=(20, 10))\n",
    "FreqDist(word_split).plot(50)"
   ],
   "metadata": {
    "collapsed": false
   }
  },
  {
   "cell_type": "markdown",
   "source": [
    "# Word Cloud 만들기"
   ],
   "metadata": {
    "collapsed": false
   }
  },
  {
   "cell_type": "code",
   "execution_count": null,
   "outputs": [],
   "source": [
    "from wordcloud import WordCloud"
   ],
   "metadata": {
    "collapsed": false
   }
  },
  {
   "cell_type": "code",
   "execution_count": null,
   "outputs": [],
   "source": [
    "word_split = str(word_split)[3:].replace(\"', '\", \" \").replace(\"을\", \"\").replace(\"를\", \"\").replace(\"의\", \"\").replace(\"은\",\n",
    "                                                                                                                 \"\")"
   ],
   "metadata": {
    "collapsed": false
   }
  },
  {
   "cell_type": "code",
   "execution_count": null,
   "outputs": [],
   "source": [
    "# wc = WordCloud().generate(str(word_split))  # 가장 간단히\n",
    "# plt.figure(figsize=(10, 5))\n",
    "# mpl.rcParams['font.family'] = 'Gulim'  # 굴림체 적용\n",
    "# plt.imshow(wc)\n",
    "# plt.axis('off')\n",
    "\n",
    "wc = WordCloud(font_path='malgun', width=800, height=800, scale=2.0, max_font_size=250, colormap=\"Set1\")\n",
    "gen = wc.generate(str(word_split))\n",
    "plt.imshow(gen)\n",
    "plt.axis('off')"
   ],
   "metadata": {
    "collapsed": false
   }
  },
  {
   "cell_type": "code",
   "execution_count": null,
   "outputs": [],
   "source": [
    "from PIL import Image\n",
    "\n",
    "image_file = Image.open(\"KOREA.png\")  # open colour image\n",
    "image_file = image_file.convert('1')  # convert image to black and white\n",
    "image_file.save('korea_b&w.png')"
   ],
   "metadata": {
    "collapsed": false
   }
  },
  {
   "cell_type": "code",
   "execution_count": null,
   "outputs": [],
   "source": [
    "from PIL import Image\n",
    "import numpy as np\n",
    "\n",
    "korea_mask = np.array(Image.open(\"korea.png\"))\n",
    "\n",
    "# wc = WordCloud(font_path='malgun', width=800, height=800, scale=2.0, max_font_size=250, colormap=\"Set1\")\n",
    "# gen = wc.generate(str(word_split))\n",
    "# plt.imshow(gen)\n",
    "# plt.axis('off')\n",
    "wc = WordCloud(font_path='malgun', background_color=\"black\", max_words=2000, mask=korea_mask, width=1486)\n",
    "# background_color=\"white\", max_words=2000, contour_width=1, contour_color='steelblue', width=1920, height=1080)\n",
    "gen = wc.generate(word_split)\n",
    "\n",
    "# 파일로 저장\n",
    "wc.to_file(\"korea_wordcloud.png\")\n",
    "\n",
    "# show\n",
    "plt.axis(\"off\")\n",
    "plt.imshow(wc, cmap=plt.cm.gray)\n",
    "# plt.imshow(wc, cmap=plt.cm.gray, interpolation='bilinear')\n",
    "# plt.imshow(wc, interpolation='bilinear')"
   ],
   "metadata": {
    "collapsed": false
   }
  },
  {
   "cell_type": "code",
   "execution_count": null,
   "outputs": [],
   "source": [],
   "metadata": {
    "collapsed": false
   }
  }
 ],
 "metadata": {
  "kernelspec": {
   "display_name": "Python 3",
   "language": "python",
   "name": "python3"
  },
  "language_info": {
   "codemirror_mode": {
    "name": "ipython",
    "version": 2
   },
   "file_extension": ".py",
   "mimetype": "text/x-python",
   "name": "python",
   "nbconvert_exporter": "python",
   "pygments_lexer": "ipython2",
   "version": "2.7.6"
  }
 },
 "nbformat": 4,
 "nbformat_minor": 0
}
