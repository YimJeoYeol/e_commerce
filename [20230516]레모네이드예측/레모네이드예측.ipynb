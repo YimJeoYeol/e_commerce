{
  "nbformat": 4,
  "nbformat_minor": 0,
  "metadata": {
    "colab": {
      "private_outputs": true,
      "provenance": [],
      "machine_shape": "hm",
      "gpuType": "V100"
    },
    "kernelspec": {
      "name": "python3",
      "display_name": "Python 3"
    },
    "language_info": {
      "name": "python"
    },
    "accelerator": "GPU",
    "gpuClass": "standard"
  },
  "cells": [
    {
      "cell_type": "code",
      "source": [
        "from tensorflow import keras\n",
        "(train_input, train_target), (test_input, test_target) = \\\n",
        "    keras.datasets.fashion_mnist.load_data()"
      ],
      "metadata": {
        "id": "7isRcWDdpg27"
      },
      "execution_count": null,
      "outputs": []
    },
    {
      "cell_type": "code",
      "source": [
        "train_input[:10]"
      ],
      "metadata": {
        "id": "gInLgrVwpwxu"
      },
      "execution_count": null,
      "outputs": []
    },
    {
      "cell_type": "code",
      "source": [
        "print(train_input.shape, train_target.shape)"
      ],
      "metadata": {
        "id": "tmMwpXespzwU"
      },
      "execution_count": null,
      "outputs": []
    },
    {
      "cell_type": "code",
      "source": [
        "import matplotlib.pyplot as plt\n",
        "\n",
        "fig, axs = plt.subplots(1, 10, figsize=(10,10))\n",
        "for i in range(10):\n",
        "    axs[i].imshow(train_input[i], cmap='gray_r')\n",
        "    axs[i].axis('off')\n",
        "plt.show()"
      ],
      "metadata": {
        "id": "9TKmTLPbqdwV"
      },
      "execution_count": null,
      "outputs": []
    },
    {
      "cell_type": "code",
      "source": [
        "items = [\"티셔츠 \", \"바지\", \"스웨터\", \"드레스\", \"코트\",\n",
        "         \"샌달\", \"셔츠\", \"스니커즈\", \"가방\", \"앵클부츠\"]"
      ],
      "metadata": {
        "id": "JEEFMO8GyM9Z"
      },
      "execution_count": null,
      "outputs": []
    },
    {
      "cell_type": "code",
      "source": [
        "[items[i] for i in train_target[:10]]"
      ],
      "metadata": {
        "id": "LZXq5G2E5Qn1"
      },
      "execution_count": null,
      "outputs": []
    },
    {
      "cell_type": "code",
      "source": [
        "import numpy as np\n",
        "\n",
        "print(np.unique(train_target, return_counts=True))"
      ],
      "metadata": {
        "id": "dNrrdpzx5kbe"
      },
      "execution_count": null,
      "outputs": []
    },
    {
      "cell_type": "code",
      "source": [
        "train_scaled = train_input / 255\n",
        "train_scaled = train_scaled.reshape(-1, 28*28)"
      ],
      "metadata": {
        "id": "L1w27fjk6Mya"
      },
      "execution_count": null,
      "outputs": []
    },
    {
      "cell_type": "code",
      "source": [
        "train_scaled.shape"
      ],
      "metadata": {
        "id": "mUqZS6zW63zz"
      },
      "execution_count": null,
      "outputs": []
    },
    {
      "cell_type": "code",
      "source": [
        "train_input.shape"
      ],
      "metadata": {
        "id": "jGiVlGRT65Pq"
      },
      "execution_count": null,
      "outputs": []
    },
    {
      "cell_type": "code",
      "source": [
        "from sklearn.model_selection import cross_validate\n",
        "from sklearn.linear_model import SGDClassifier\n",
        "\n",
        "sc = SGDClassifier(loss=\"log_loss\", max_iter=5, random_state=42)\n",
        "scores = cross_validate(sc, train_scaled, train_target, n_jobs=-1)\n",
        "print(np.mean(scores[\"test_score\"]))"
      ],
      "metadata": {
        "id": "aB2Mdjg47ElD"
      },
      "execution_count": null,
      "outputs": []
    },
    {
      "cell_type": "code",
      "source": [
        "# 인공신경망"
      ],
      "metadata": {
        "id": "ntZ4s5i384rO"
      },
      "execution_count": null,
      "outputs": []
    },
    {
      "cell_type": "code",
      "source": [
        "from sklearn.model_selection import train_test_split\n",
        "\n",
        "train_scaled, val_scaled, train_target, val_target =\\\n",
        "    train_test_split(train_scaled, train_target, test_size=0.2,\n",
        "                     random_state=42)"
      ],
      "metadata": {
        "id": "yLDY4DJ_-2SQ"
      },
      "execution_count": null,
      "outputs": []
    },
    {
      "cell_type": "code",
      "source": [
        "print(train_scaled.shape)"
      ],
      "metadata": {
        "id": "VNqLUg9mAMRd"
      },
      "execution_count": null,
      "outputs": []
    },
    {
      "cell_type": "code",
      "source": [
        "print(val_scaled.shape)"
      ],
      "metadata": {
        "id": "bQVm4c0KAPIl"
      },
      "execution_count": null,
      "outputs": []
    },
    {
      "cell_type": "code",
      "source": [
        "dense = keras.layers.Dense(10, 'softmax', input_shape=(784,))"
      ],
      "metadata": {
        "id": "LnwVyE7zAemr"
      },
      "execution_count": null,
      "outputs": []
    },
    {
      "cell_type": "code",
      "source": [
        "model = keras.Sequential(dense)"
      ],
      "metadata": {
        "id": "BRVm593NBjks"
      },
      "execution_count": null,
      "outputs": []
    },
    {
      "cell_type": "code",
      "source": [
        "model.compile(loss=\"sparse_categorical_crossentropy\", metrics=\"accuracy\")"
      ],
      "metadata": {
        "id": "wWxse30QB1pI"
      },
      "execution_count": null,
      "outputs": []
    },
    {
      "cell_type": "code",
      "source": [
        "model.fit(train_scaled, train_target, epochs=10)"
      ],
      "metadata": {
        "id": "4igYe0W4CWX1"
      },
      "execution_count": null,
      "outputs": []
    },
    {
      "cell_type": "code",
      "source": [
        "model.evaluate(val_scaled, val_target)"
      ],
      "metadata": {
        "id": "6ZRmMNd4FKCr"
      },
      "execution_count": null,
      "outputs": []
    },
    {
      "cell_type": "code",
      "source": [
        "# 본격적인 딥러닝(2개의 층)"
      ],
      "metadata": {
        "id": "YO8YY6fTGJvd"
      },
      "execution_count": null,
      "outputs": []
    },
    {
      "cell_type": "code",
      "source": [
        "from tensorflow import keras\n",
        "(train_input, train_target), (test_input, test_target) = \\\n",
        "    keras.datasets.fashion_mnist.load_data()"
      ],
      "metadata": {
        "id": "_0EupSRUIA5k"
      },
      "execution_count": null,
      "outputs": []
    },
    {
      "cell_type": "code",
      "source": [
        "from sklearn.model_selection import train_test_split\n",
        "\n",
        "train_scaled = train_input / 255\n",
        "train_scaled = train_scaled.reshape(-1, 28 * 28)"
      ],
      "metadata": {
        "id": "jIoDG8loISTr"
      },
      "execution_count": null,
      "outputs": []
    },
    {
      "cell_type": "code",
      "source": [
        "train_scaled, val_scaled, train_target, val_target = \\\n",
        "    train_test_split(train_scaled, train_target, \n",
        "                     test_size=0.2, random_state=42)"
      ],
      "metadata": {
        "id": "49qk0pk3IvlC"
      },
      "execution_count": null,
      "outputs": []
    },
    {
      "cell_type": "code",
      "source": [
        "dense1 = keras.layers.Dense(100, activation=\"relu\", input_shape=(784,))\n",
        "dense2 = keras.layers.Dense(10, activation=\"softmax\")"
      ],
      "metadata": {
        "id": "ASVX2AXlIxlh"
      },
      "execution_count": null,
      "outputs": []
    },
    {
      "cell_type": "code",
      "source": [
        "model = keras.Sequential([dense1, dense2])"
      ],
      "metadata": {
        "id": "hQXPLcyiKAE3"
      },
      "execution_count": null,
      "outputs": []
    },
    {
      "cell_type": "code",
      "source": [
        "model.summary()"
      ],
      "metadata": {
        "id": "hUhmqVWKKRf6"
      },
      "execution_count": null,
      "outputs": []
    },
    {
      "cell_type": "code",
      "source": [
        "sgd = keras.optimizers.SGD(learning_rate=0.01, momentum=0.9, nesterov=True)\n",
        "\n",
        "model.compile(optimizer=sgd,\n",
        "              loss=\"sparse_categorical_crossentropy\",\n",
        "              metrics=\"accuracy\")\n",
        "model.fit(train_scaled, train_target, epochs=5)"
      ],
      "metadata": {
        "id": "Phkpe0xnKfJs"
      },
      "execution_count": null,
      "outputs": []
    },
    {
      "cell_type": "code",
      "source": [
        "model.evaluate(val_scaled, val_target)"
      ],
      "metadata": {
        "id": "6Qek9Go_Mra_"
      },
      "execution_count": null,
      "outputs": []
    },
    {
      "cell_type": "code",
      "source": [
        "# 07-3 신경망 모델 훈련"
      ],
      "metadata": {
        "id": "FtrxH_D2Nyi8"
      },
      "execution_count": null,
      "outputs": []
    },
    {
      "cell_type": "code",
      "source": [
        "# np.array().reshape(-1, 28 * 28)\n",
        "# keras.layers.Flatten(input_shape=(28,28))"
      ],
      "metadata": {
        "id": "CZexbvDOTFFe"
      },
      "execution_count": null,
      "outputs": []
    },
    {
      "cell_type": "code",
      "source": [
        "from tensorflow import keras\n",
        "from sklearn.model_selection import train_test_split\n",
        "\n",
        "(train_input, train_target), (test_input, test_target) = \\\n",
        "    keras.datasets.fashion_mnist.load_data()\n",
        "\n",
        "train_scaled = train_input / 255\n",
        "# train_scaled = train_scaled.reshape(-1, 28 * 28)\n",
        "\n",
        "train_scaled, val_scaled, train_target, val_target = \\\n",
        "    train_test_split(train_scaled, train_target, \n",
        "                     test_size=0.2, random_state=42)"
      ],
      "metadata": {
        "id": "UqWkrK3CTaBv"
      },
      "execution_count": null,
      "outputs": []
    },
    {
      "cell_type": "code",
      "source": [
        "def model_fn(a_layer=None):\n",
        "    model = keras.Sequential()\n",
        "    model.add(keras.layers.Flatten(input_shape=(28,28)))\n",
        "    model.add(keras.layers.Dense(100, activation=\"relu\"))\n",
        "    if a_layer:\n",
        "        model.add(a_layer)\n",
        "    model.add(keras.layers.Dense(10, activation=\"softmax\"))\n",
        "    return model"
      ],
      "metadata": {
        "id": "Z9RXTEhNT8n4"
      },
      "execution_count": null,
      "outputs": []
    },
    {
      "cell_type": "code",
      "source": [
        "model = model_fn()\n",
        "model.summary()"
      ],
      "metadata": {
        "id": "AIZlanTpU60-"
      },
      "execution_count": null,
      "outputs": []
    },
    {
      "cell_type": "code",
      "source": [
        "model.compile(loss=\"sparse_categorical_crossentropy\", metrics=\"accuracy\")\n",
        "history = model.fit(train_scaled, train_target, epochs=5, verbose=0)"
      ],
      "metadata": {
        "id": "vDQyKamLVAxE"
      },
      "execution_count": null,
      "outputs": []
    },
    {
      "cell_type": "code",
      "source": [
        "import matplotlib.pyplot as plt\n",
        "\n",
        "plt.plot(history.history[\"loss\"])\n",
        "plt.xlabel(\"epoch\")\n",
        "plt.ylabel(\"loss\")"
      ],
      "metadata": {
        "id": "8tvntxj6VyTO"
      },
      "execution_count": null,
      "outputs": []
    },
    {
      "cell_type": "code",
      "source": [
        "import matplotlib.pyplot as plt\n",
        "\n",
        "plt.plot(history.history[\"accuracy\"])\n",
        "plt.xlabel(\"epoch\")\n",
        "plt.ylabel(\"accuracy\")"
      ],
      "metadata": {
        "id": "nIrlNUc7WHNf"
      },
      "execution_count": null,
      "outputs": []
    },
    {
      "cell_type": "code",
      "source": [
        "model = model_fn()\n",
        "model.compile(optimizer=\"adam\",\n",
        "              loss=\"sparse_categorical_crossentropy\",\n",
        "              metrics=\"accuracy\")\n",
        "history = model.fit(train_scaled, train_target, epochs=20, verbose=0,\n",
        "          validation_data=(val_scaled, val_target))"
      ],
      "metadata": {
        "id": "2bGYomQiWfpZ"
      },
      "execution_count": null,
      "outputs": []
    },
    {
      "cell_type": "code",
      "source": [
        "plt.plot(history.history[\"loss\"])\n",
        "plt.plot(history.history[\"val_loss\"])\n",
        "plt.xlabel(\"epoch\")\n",
        "plt.ylabel(\"loss\")\n",
        "plt.legend([\"train\", \"val\"])"
      ],
      "metadata": {
        "id": "IN1ryUudXSVC"
      },
      "execution_count": null,
      "outputs": []
    },
    {
      "cell_type": "code",
      "source": [
        "history.history"
      ],
      "metadata": {
        "id": "M_iGP1g-X3S2"
      },
      "execution_count": null,
      "outputs": []
    },
    {
      "cell_type": "code",
      "source": [
        "# 모델 저장과 복원"
      ],
      "metadata": {
        "id": "mRQZe3guYTA7"
      },
      "execution_count": null,
      "outputs": []
    },
    {
      "cell_type": "code",
      "source": [
        "model.save_weights(\"model-weights.h5\")"
      ],
      "metadata": {
        "id": "MVHh73MqZq9X"
      },
      "execution_count": null,
      "outputs": []
    },
    {
      "cell_type": "code",
      "source": [
        "model.save(\"model-whole.h5\")"
      ],
      "metadata": {
        "id": "DPeDLZvzaK4s"
      },
      "execution_count": null,
      "outputs": []
    },
    {
      "cell_type": "code",
      "source": [
        "!ls -al"
      ],
      "metadata": {
        "id": "iXPPRR8QaUyM"
      },
      "execution_count": null,
      "outputs": []
    },
    {
      "cell_type": "code",
      "source": [
        "model = model_fn(keras.layers.Dropout(0.3))\n",
        "model.load_weights(\"model-weights.h5\")"
      ],
      "metadata": {
        "id": "rp-_0UzUanFr"
      },
      "execution_count": null,
      "outputs": []
    },
    {
      "cell_type": "code",
      "source": [
        "import numpy as np\n",
        "\n",
        "val_labels = np.argmax(model.predict(val_scaled), axis=-1)\n",
        "print(np.mean(val_labels == val_target))"
      ],
      "metadata": {
        "id": "4Z6o-dgebXkl"
      },
      "execution_count": null,
      "outputs": []
    },
    {
      "cell_type": "code",
      "source": [
        "model.predict(val_scaled)[0]"
      ],
      "metadata": {
        "id": "viMISEedb86k"
      },
      "execution_count": null,
      "outputs": []
    },
    {
      "cell_type": "code",
      "source": [
        "np.argmax(model.predict(val_scaled)[0])"
      ],
      "metadata": {
        "id": "DYtHpvUWcM1O"
      },
      "execution_count": null,
      "outputs": []
    },
    {
      "cell_type": "code",
      "source": [
        "# 콜백"
      ],
      "metadata": {
        "id": "iRymxQV2cxFs"
      },
      "execution_count": null,
      "outputs": []
    },
    {
      "cell_type": "code",
      "source": [
        "model = model_fn(keras.layers.Dropout(0.3))\n",
        "model.compile(optimizer=\"adam\",\n",
        "              loss=\"sparse_categorical_crossentropy\",\n",
        "              metrics=\"accuracy\")\n",
        "checkpoint_cb = keras.callbacks.ModelCheckpoint(\n",
        "    \"best-model.h5\", save_best_only=True)\n",
        "early_stopping_cb = keras.callbacks.EarlyStopping(\n",
        "    patience=2, restore_best_weights=True)\n",
        "history = model.fit(train_scaled, train_target, epochs=2000,\n",
        "          verbose=0, validation_data=(val_scaled, val_target),\n",
        "          callbacks=[checkpoint_cb, early_stopping_cb])"
      ],
      "metadata": {
        "id": "KPUCquI6hFMw"
      },
      "execution_count": null,
      "outputs": []
    },
    {
      "cell_type": "code",
      "source": [
        "model = keras.models.load_model(\"best-model.h5\")\n",
        "model.evaluate(val_scaled, val_target)"
      ],
      "metadata": {
        "id": "QGGxoNSsiOiN"
      },
      "execution_count": null,
      "outputs": []
    },
    {
      "cell_type": "code",
      "source": [
        "plt.plot(history.history[\"loss\"])\n",
        "plt.plot(history.history[\"val_loss\"])\n",
        "plt.xlabel(\"epoch\")\n",
        "plt.ylabel(\"loss\")\n",
        "plt.legend([\"train\", \"val\"])"
      ],
      "metadata": {
        "id": "R5aVKD1Yi9oF"
      },
      "execution_count": null,
      "outputs": []
    },
    {
      "cell_type": "code",
      "source": [],
      "metadata": {
        "id": "pXHXiX2wlfmE"
      },
      "execution_count": null,
      "outputs": []
    }
  ]
}