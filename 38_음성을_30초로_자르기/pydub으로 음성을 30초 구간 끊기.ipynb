{
 "cells": [
  {
   "cell_type": "code",
   "execution_count": 2,
   "outputs": [],
   "source": [
    "# 전처리 : 모든 wav파일의 이름으로 각각 폴더 생성\n",
    "# %pip install pydub\n",
    "# %pip install SpeechRecognition\n",
    "import os\n",
    "import shutil\n",
    "import speech_recognition as sr\n",
    "import glob\n",
    "from pydub import AudioSegment\n",
    "from tqdm import tqdm\n",
    "\n",
    "\n",
    "os.chdir(\"./samples\")\n",
    "filelist = os.listdir()\n",
    "for i in filelist:\n",
    "    os.mkdir(i[:-4])"
   ],
   "metadata": {
    "collapsed": false,
    "ExecuteTime": {
     "end_time": "2023-06-16T01:53:20.785323900Z",
     "start_time": "2023-06-16T01:53:20.752701700Z"
    }
   }
  },
  {
   "cell_type": "code",
   "execution_count": 3,
   "outputs": [],
   "source": [
    "# 모든 wav파일을 각각 폴더로 하나씩 이동\n",
    "for i in filelist:\n",
    "    shutil.move(i, f\"./{i[:-4]}/\")"
   ],
   "metadata": {
    "collapsed": false,
    "ExecuteTime": {
     "end_time": "2023-06-16T01:54:35.754530600Z",
     "start_time": "2023-06-16T01:54:35.707098900Z"
    }
   }
  },
  {
   "cell_type": "code",
   "execution_count": 8,
   "metadata": {
    "collapsed": true,
    "ExecuteTime": {
     "end_time": "2023-06-16T02:03:19.133191600Z",
     "start_time": "2023-06-16T02:03:19.108628600Z"
    }
   },
   "outputs": [
    {
     "data": {
      "text/plain": "['쇼핑_1026',\n '쇼핑_1040',\n '쇼핑_110',\n '쇼핑_1112',\n '쇼핑_1156',\n '쇼핑_1163',\n '쇼핑_120',\n '쇼핑_1246',\n '쇼핑_1253',\n '쇼핑_1293']"
     },
     "execution_count": 8,
     "metadata": {},
     "output_type": "execute_result"
    }
   ],
   "source": [
    "# 모든 폴더에 들어가서 해당 wav파일을 30초 구간으로 자름.\n",
    "# 원본 wav는 삭제\n",
    "folderlist = os.listdir()\n",
    "folderlist[:10]"
   ]
  },
  {
   "cell_type": "code",
   "execution_count": 17,
   "outputs": [
    {
     "ename": "FileNotFoundError",
     "evalue": "[Errno 2] No such file or directory: '쇼핑_1026.wav'",
     "output_type": "error",
     "traceback": [
      "\u001B[1;31m---------------------------------------------------------------------------\u001B[0m",
      "\u001B[1;31mFileNotFoundError\u001B[0m                         Traceback (most recent call last)",
      "Cell \u001B[1;32mIn[17], line 9\u001B[0m\n\u001B[0;32m      6\u001B[0m after \u001B[38;5;241m=\u001B[39m \u001B[38;5;241m30\u001B[39m \u001B[38;5;241m*\u001B[39m \u001B[38;5;241m1000\u001B[39m  \u001B[38;5;66;03m# 30초\u001B[39;00m\n\u001B[0;32m      8\u001B[0m os\u001B[38;5;241m.\u001B[39mchdir(i)\n\u001B[1;32m----> 9\u001B[0m song \u001B[38;5;241m=\u001B[39m \u001B[43mAudioSegment\u001B[49m\u001B[38;5;241;43m.\u001B[39;49m\u001B[43mfrom_wav\u001B[49m\u001B[43m(\u001B[49m\u001B[43mi\u001B[49m\u001B[38;5;241;43m+\u001B[39;49m\u001B[38;5;124;43m\"\u001B[39;49m\u001B[38;5;124;43m.wav\u001B[39;49m\u001B[38;5;124;43m\"\u001B[39;49m\u001B[43m)\u001B[49m\n\u001B[0;32m     10\u001B[0m \u001B[38;5;28;01mwhile\u001B[39;00m q_cond:\n\u001B[0;32m     11\u001B[0m     \u001B[38;5;28;01mif\u001B[39;00m after \u001B[38;5;241m>\u001B[39m \u001B[38;5;28mlen\u001B[39m(song):\n",
      "File \u001B[1;32mC:\\python\\Python311\\Lib\\site-packages\\pydub\\audio_segment.py:808\u001B[0m, in \u001B[0;36mAudioSegment.from_wav\u001B[1;34m(cls, file, parameters)\u001B[0m\n\u001B[0;32m    806\u001B[0m \u001B[38;5;129m@classmethod\u001B[39m\n\u001B[0;32m    807\u001B[0m \u001B[38;5;28;01mdef\u001B[39;00m \u001B[38;5;21mfrom_wav\u001B[39m(\u001B[38;5;28mcls\u001B[39m, file, parameters\u001B[38;5;241m=\u001B[39m\u001B[38;5;28;01mNone\u001B[39;00m):\n\u001B[1;32m--> 808\u001B[0m     \u001B[38;5;28;01mreturn\u001B[39;00m \u001B[38;5;28;43mcls\u001B[39;49m\u001B[38;5;241;43m.\u001B[39;49m\u001B[43mfrom_file\u001B[49m\u001B[43m(\u001B[49m\u001B[43mfile\u001B[49m\u001B[43m,\u001B[49m\u001B[43m \u001B[49m\u001B[38;5;124;43m'\u001B[39;49m\u001B[38;5;124;43mwav\u001B[39;49m\u001B[38;5;124;43m'\u001B[39;49m\u001B[43m,\u001B[49m\u001B[43m \u001B[49m\u001B[43mparameters\u001B[49m\u001B[38;5;241;43m=\u001B[39;49m\u001B[43mparameters\u001B[49m\u001B[43m)\u001B[49m\n",
      "File \u001B[1;32mC:\\python\\Python311\\Lib\\site-packages\\pydub\\audio_segment.py:651\u001B[0m, in \u001B[0;36mAudioSegment.from_file\u001B[1;34m(cls, file, format, codec, parameters, start_second, duration, **kwargs)\u001B[0m\n\u001B[0;32m    649\u001B[0m \u001B[38;5;28;01mexcept\u001B[39;00m \u001B[38;5;167;01mTypeError\u001B[39;00m:\n\u001B[0;32m    650\u001B[0m     filename \u001B[38;5;241m=\u001B[39m \u001B[38;5;28;01mNone\u001B[39;00m\n\u001B[1;32m--> 651\u001B[0m file, close_file \u001B[38;5;241m=\u001B[39m \u001B[43m_fd_or_path_or_tempfile\u001B[49m\u001B[43m(\u001B[49m\u001B[43mfile\u001B[49m\u001B[43m,\u001B[49m\u001B[43m \u001B[49m\u001B[38;5;124;43m'\u001B[39;49m\u001B[38;5;124;43mrb\u001B[39;49m\u001B[38;5;124;43m'\u001B[39;49m\u001B[43m,\u001B[49m\u001B[43m \u001B[49m\u001B[43mtempfile\u001B[49m\u001B[38;5;241;43m=\u001B[39;49m\u001B[38;5;28;43;01mFalse\u001B[39;49;00m\u001B[43m)\u001B[49m\n\u001B[0;32m    653\u001B[0m \u001B[38;5;28;01mif\u001B[39;00m \u001B[38;5;28mformat\u001B[39m:\n\u001B[0;32m    654\u001B[0m     \u001B[38;5;28mformat\u001B[39m \u001B[38;5;241m=\u001B[39m \u001B[38;5;28mformat\u001B[39m\u001B[38;5;241m.\u001B[39mlower()\n",
      "File \u001B[1;32mC:\\python\\Python311\\Lib\\site-packages\\pydub\\utils.py:60\u001B[0m, in \u001B[0;36m_fd_or_path_or_tempfile\u001B[1;34m(fd, mode, tempfile)\u001B[0m\n\u001B[0;32m     57\u001B[0m     close_fd \u001B[38;5;241m=\u001B[39m \u001B[38;5;28;01mTrue\u001B[39;00m\n\u001B[0;32m     59\u001B[0m \u001B[38;5;28;01mif\u001B[39;00m \u001B[38;5;28misinstance\u001B[39m(fd, basestring):\n\u001B[1;32m---> 60\u001B[0m     fd \u001B[38;5;241m=\u001B[39m \u001B[38;5;28mopen\u001B[39m(fd, mode\u001B[38;5;241m=\u001B[39mmode)\n\u001B[0;32m     61\u001B[0m     close_fd \u001B[38;5;241m=\u001B[39m \u001B[38;5;28;01mTrue\u001B[39;00m\n\u001B[0;32m     63\u001B[0m \u001B[38;5;28;01mtry\u001B[39;00m:\n",
      "\u001B[1;31mFileNotFoundError\u001B[0m: [Errno 2] No such file or directory: '쇼핑_1026.wav'"
     ]
    }
   ],
   "source": [
    "os.chdir(r\"C:\\Users\\hkit\\PycharmProjects\\e_commerce\\38_음성을_30초로_자르기\\samples\")\n",
    "\n",
    "for i in folderlist:\n",
    "    q_cond = True\n",
    "    before = 0\n",
    "    after = 30 * 1000  # 30초\n",
    "\n",
    "    os.chdir(i)\n",
    "    song = AudioSegment.from_wav(i+\".wav\")\n",
    "    while q_cond:\n",
    "        if after > len(song):\n",
    "            after = len(song)\n",
    "            q_cond = False\n",
    "        sec = song[before:after]\n",
    "        sec.export(f\"{i}#{after/1000}.wav\", format=\"wav\")\n",
    "        del sec\n",
    "        before = after\n",
    "        after = after + 30000\n",
    "    os.chdir(\"..\")\n",
    "\n",
    "# wav 분할 완료"
   ],
   "metadata": {
    "collapsed": false,
    "ExecuteTime": {
     "end_time": "2023-06-16T02:19:38.787297900Z",
     "start_time": "2023-06-16T02:19:38.727660700Z"
    }
   }
  },
  {
   "cell_type": "code",
   "execution_count": null,
   "outputs": [
    {
     "name": "stderr",
     "output_type": "stream",
     "text": [
      "  8%|▊         | 1/13 [00:03<00:40,  3.41s/it]"
     ]
    },
    {
     "name": "stdout",
     "output_type": "stream",
     "text": [
      "000 확인 되고요 0000 0000 후가 맞습니까네 맞아요 방송하고 있는 올인원스쿼트머신 주문 하시는게 맞습니까네 맞아요네 색상 블랙과 화이트 중에 어느 색상으로 도와드릴까요\n"
     ]
    },
    {
     "name": "stderr",
     "output_type": "stream",
     "text": [
      " 15%|█▌        | 2/13 [00:07<00:39,  3.60s/it]"
     ]
    },
    {
     "name": "stdout",
     "output_type": "stream",
     "text": [
      "블랙이요네 자동 주문 할인 5,000원 적용하여 금액을 14만 4천 원입니다 일시불로 결제하면 만 원 더 할인됩니다 결제는 카드로 도와드릴까요 카드요 내일 카드 번호 말씀 부탁드리겠습니다 0 0 0 0\n"
     ]
    },
    {
     "name": "stderr",
     "output_type": "stream",
     "text": [
      " 23%|██▎       | 3/13 [00:10<00:35,  3.55s/it]"
     ]
    },
    {
     "name": "stdout",
     "output_type": "stream",
     "text": [
      "00 00 00 다시 한번 확인 하겠습니다 000000네 카드 소유진은 고객님 본인 되십니까\n"
     ]
    },
    {
     "name": "stderr",
     "output_type": "stream",
     "text": [
      " 31%|███       | 4/13 [00:14<00:32,  3.57s/it]"
     ]
    },
    {
     "name": "stdout",
     "output_type": "stream",
     "text": [
      "고객님 소리의 카드가 맞습니까 늘 저희 엄마 카드인데요 내일 소유지분 성함 말씀 부탁드립니다 00025 맞습니까네 맞아요네 000 고객님이 생년월일 6자리 말씀 부탁\n"
     ]
    },
    {
     "name": "stderr",
     "output_type": "stream",
     "text": [
      " 38%|███▊      | 5/13 [00:17<00:27,  3.49s/it]"
     ]
    },
    {
     "name": "stdout",
     "output_type": "stream",
     "text": [
      "있습니다 000000 카드 유효기간 말씀 부탁드리겠습니다 여기 그냥 써져 있는 걸로 불러 볼게요 4 4 0 0 0 0 0 0 0 0 4 4\n"
     ]
    },
    {
     "name": "stderr",
     "output_type": "stream",
     "text": [
      " 46%|████▌     | 6/13 [00:21<00:24,  3.55s/it]"
     ]
    },
    {
     "name": "stdout",
     "output_type": "stream",
     "text": [
      "무이자 6개월까지 가능하구요 20일로 하시면 아까 말씀드린 것처럼 만 원 할인됩니다 만약에 할부하면 얼마 안 되는 거예요 할부하면 5,000원만 할인되서 14만 4천 원입니다 잠시만요 아 일시불로 할게요네 고객님이 안전한\n"
     ]
    },
    {
     "name": "stderr",
     "output_type": "stream",
     "text": [
      " 54%|█████▍    | 7/13 [00:24<00:21,  3.62s/it]"
     ]
    },
    {
     "name": "stdout",
     "output_type": "stream",
     "text": [
      "궁금 쇼핑 000입니다 무엇을 도와드릴까요 이게 자동 주문을 했는데 연결이 바로 됐네요 제가 한번 확인해 보겠습니다 고객님 성함과 핸드폰 번호 말씀 부탁드리겠습니다 000 000\n"
     ]
    },
    {
     "name": "stderr",
     "output_type": "stream",
     "text": [
      " 62%|██████▏   | 8/13 [00:29<00:18,  3.77s/it]"
     ]
    },
    {
     "name": "stdout",
     "output_type": "stream",
     "text": [
      "저를 위해 카드 인증 ARS로 연결해 드리겠습니다 안내멘트에 따라 카드 비밀번호 앞 두 자리 버튼으로 입력 부탁드립니다 연결 하겠습니다네 알겠어요 예 고객님 국민카드 일시불 결제 금액 13만 4천 원으로 카드 결제\n"
     ]
    },
    {
     "name": "stderr",
     "output_type": "stream",
     "text": [
      " 69%|██████▉   | 9/13 [00:32<00:14,  3.75s/it]"
     ]
    },
    {
     "name": "stdout",
     "output_type": "stream",
     "text": [
      "승인되었습니다네 예 다음번 주문시 편리한 결제를 위해 카드정보 등록을 도와 드릴까요 아니요 등록 안 해 주셔도 돼요 내일 상품은 일요일 공유를 제외하고 4일 이내에 배송이 됩니다 예 예 교환이나 반품은 배송받으신 날로부터\n"
     ]
    },
    {
     "name": "stderr",
     "output_type": "stream",
     "text": [
      " 77%|███████▋  | 10/13 [00:36<00:11,  3.68s/it]"
     ]
    },
    {
     "name": "stdout",
     "output_type": "stream",
     "text": [
      "30일이내에 연락 주셔야 하며 제품하자 왜 개봉 및 사용 시 기간 경과 시 교환 반품이 불가하오니 이점 양해 부탁드리겠습니다네 알겠어요 더 문의사항은 없으십니까네 없어요 좋은 상품으로 찾아뵙겠습니다 000 60이다네 감사합니다\n"
     ]
    },
    {
     "name": "stderr",
     "output_type": "stream",
     "text": [
      " 92%|█████████▏| 12/13 [00:40<00:02,  2.93s/it]"
     ]
    },
    {
     "name": "stdout",
     "output_type": "stream",
     "text": [
      "소중한 정보 확인 감사합니다 고객님 지금 주문이 되어 있지는 않고요 주민번호 오류 나서 넘어가거든요 아 그러십니까 그럼 제가 주문 바로 도와 드릴까요네네 주소지가 정확하게 등록이 되어 있지 않은데요 주소 한번 부탁을 드리겠습니다네\n"
     ]
    },
    {
     "name": "stderr",
     "output_type": "stream",
     "text": [
      "100%|██████████| 13/13 [00:43<00:00,  3.36s/it]\n"
     ]
    },
    {
     "name": "stdout",
     "output_type": "stream",
     "text": [
      "경기도 의정부시 000000 다시 한번 확인 하겠습니다 경기도 의정부시 0 0 0 0 0 0\n"
     ]
    },
    {
     "name": "stderr",
     "output_type": "stream",
     "text": [
      " 14%|█▍        | 1/7 [00:03<00:18,  3.03s/it]"
     ]
    },
    {
     "name": "stdout",
     "output_type": "stream",
     "text": [
      "000 000 000 배송지 말씀해 주시겠어요 고객님 조회가 안 되시는데 정확한 번지수를 말씀해 보시겠어요\n"
     ]
    },
    {
     "name": "stderr",
     "output_type": "stream",
     "text": [
      " 29%|██▊       | 2/7 [00:06<00:16,  3.35s/it]"
     ]
    },
    {
     "name": "stdout",
     "output_type": "stream",
     "text": [
      "그거 말 거는 잘 모르겠어요 고객님 정확한 배송지를 말씀해 주셔야 될 것 같습니다 다른 거는 알아서 다 오던데요 이거는 식품이기 때문에 배송 중 오류가 되면 공공 고객님께서 금액만 손해 보실 수도 있기 때문에 정확한 배송지를 확인해 주셔야 합니다\n"
     ]
    },
    {
     "name": "stderr",
     "output_type": "stream",
     "text": [
      " 43%|████▎     | 3/7 [00:09<00:13,  3.36s/it]"
     ]
    },
    {
     "name": "stdout",
     "output_type": "stream",
     "text": [
      "고객님이 상품은 물량이 있으면 언제라도 주문은 가능하니까요 정확한 주소 확인 하시는게 좋을 것 같습니다 못해 죄송합니다 더 문의할 수 없습니까 항상 좋은 서비스로 찾아뵙겠습니다 000였습니다\n"
     ]
    },
    {
     "name": "stderr",
     "output_type": "stream",
     "text": [
      " 57%|█████▋    | 4/7 [00:11<00:08,  2.75s/it]"
     ]
    },
    {
     "name": "stdout",
     "output_type": "stream",
     "text": [
      "네 고객님 먼저 통화 종료 해 주시겠습니까네 수고하세요\n"
     ]
    },
    {
     "name": "stderr",
     "output_type": "stream",
     "text": [
      " 71%|███████▏  | 5/7 [00:15<00:06,  3.06s/it]"
     ]
    },
    {
     "name": "stdout",
     "output_type": "stream",
     "text": [
      "000000 고객님 주문하려고 했는데 잘 안 됐나 봐요 아 그러십니까 이번만 예비적으로 혜택과 적용 해 드리겠습니다 정보 확인 후 주문 도와 드리겠습니다\n"
     ]
    },
    {
     "name": "stderr",
     "output_type": "stream",
     "text": [
      " 86%|████████▌ | 6/7 [00:18<00:03,  3.17s/it]"
     ]
    },
    {
     "name": "stdout",
     "output_type": "stream",
     "text": [
      "네 자동주문 혜택은 천안 하루입니다 주문 도와 드리면 되겠습니까 그리고 다른 곳으로 보내려고요 안에 고객님이 성함 먼저 말씀 부탁드립니다 맞습니까\n"
     ]
    },
    {
     "name": "stderr",
     "output_type": "stream",
     "text": [
      "100%|██████████| 7/7 [00:22<00:00,  3.17s/it]\n"
     ]
    },
    {
     "name": "stdout",
     "output_type": "stream",
     "text": [
      "고객님이 휴대폰 번호 말씀 부탁드립니다 수정한 정보 확인 감사합니다 고객님 그러면 받으시는 분 성함하고 전화번호 주소를 말씀해 주시겠습니까\n"
     ]
    },
    {
     "name": "stderr",
     "output_type": "stream",
     "text": [
      "  6%|▌         | 1/18 [00:03<00:57,  3.37s/it]"
     ]
    },
    {
     "name": "stdout",
     "output_type": "stream",
     "text": [
      "핸드폰 번호 말씀해 주시겠습니까 000 000 000 유선 번호 집 전화번호 등록 할까요 000000 주소 말씀해 주시겠습니까\n"
     ]
    },
    {
     "name": "stderr",
     "output_type": "stream",
     "text": [
      " 11%|█         | 2/18 [00:06<00:51,  3.25s/it]"
     ]
    },
    {
     "name": "stdout",
     "output_type": "stream",
     "text": [
      "시흥시 00 00 00 00 아파트 00 00 00 안에 경기 시흥시 200 아파트 0 0 0 0 0\n"
     ]
    },
    {
     "name": "stderr",
     "output_type": "stream",
     "text": [
      " 17%|█▋        | 3/18 [00:10<00:50,  3.36s/it]"
     ]
    },
    {
     "name": "stdout",
     "output_type": "stream",
     "text": [
      "공우 맞습니까네 맞아요네 확인해 주셔서 감사합니다 이벤트나 상품 서비스 광고를 문자로 드릴 수 있습니다 아니 알겠습니다네 말씀드린 대로 ARS 할인과 적용해 드릴 거고요 방송이 끝난 캐나다산 루이스 노바 랍스타 말씀이신\n"
     ]
    },
    {
     "name": "stderr",
     "output_type": "stream",
     "text": [
      " 22%|██▏       | 4/18 [00:13<00:46,  3.35s/it]"
     ]
    },
    {
     "name": "stdout",
     "output_type": "stream",
     "text": [
      "네네네 금액은 128,000원 이구요 결제는 카드로 하시겠습니까 그걸로 할게요네 카드 번호 전체 말씀해 주시겠습니까 00 00 00 00 00\n"
     ]
    },
    {
     "name": "stderr",
     "output_type": "stream",
     "text": [
      " 28%|██▊       | 5/18 [00:16<00:44,  3.39s/it]"
     ]
    },
    {
     "name": "stdout",
     "output_type": "stream",
     "text": [
      "네 유효기간 말씀해 주시겠습니까 궁입니다네 카드 고객님 명의로 카드 갔습니까 제가 아닌데요 삼성카드인가요 고객님네 맞아요 사업자 명과 사업자 번호 말씀 부탁드립니다 잠깐만요\n"
     ]
    },
    {
     "name": "stderr",
     "output_type": "stream",
     "text": [
      " 33%|███▎      | 6/18 [00:20<00:41,  3.49s/it]"
     ]
    },
    {
     "name": "stdout",
     "output_type": "stream",
     "text": [
      "관계가 어떻게 되십니까 딴 편인데요 삼성카드는 사업자명 하고 사업자 번호가 있어야 돼요 궁으로 하면 안 될까요 저희 회사 업체 카드는 사업자 번호로 입력하게 되어 있습니다 아 이게 사업자 카드 아니면 개인사업자\n"
     ]
    },
    {
     "name": "stderr",
     "output_type": "stream",
     "text": [
      " 39%|███▉      | 7/18 [00:24<00:39,  3.63s/it]"
     ]
    },
    {
     "name": "stdout",
     "output_type": "stream",
     "text": [
      "공공 쇼핑 공공입니다 안녕하세요네 안녕하십니까 현재 방송 중인 상품 주문 중이잖아요 개인 카드가 아니라 사업자카드로 하려고요 그러셨습니까 고객님 현재 ARS를 통해서 주문 하셨다가 상담사로 연결되면서 고객님이\n"
     ]
    },
    {
     "name": "stderr",
     "output_type": "stream",
     "text": [
      " 44%|████▍     | 8/18 [00:28<00:36,  3.63s/it]"
     ]
    },
    {
     "name": "stdout",
     "output_type": "stream",
     "text": [
      "아직 잘 모르겠네요 그러십니까 그러면 생년월일 말씀 부탁드립니다 000 000 000 불러야 되나요 아니요 11만 8천원 기업 bc 카드로 무이자 6개월 결제하시겠습니까\n"
     ]
    },
    {
     "name": "stderr",
     "output_type": "stream",
     "text": [
      " 50%|█████     | 9/18 [00:31<00:32,  3.60s/it]"
     ]
    },
    {
     "name": "stdout",
     "output_type": "stream",
     "text": [
      "그렇게 해 주세요네 안전한 카드 결제를 위해서 카드 인증 ARS로 연결해 드리겠습니다 안내멘트에 따라서 카드 비밀번호 앞 두 자리 입력 부탁드립니다 연결 하겠습니다네 알겠습니다네 78,000원\n"
     ]
    },
    {
     "name": "stderr",
     "output_type": "stream",
     "text": [
      " 56%|█████▌    | 10/18 [00:35<00:28,  3.57s/it]"
     ]
    },
    {
     "name": "stdout",
     "output_type": "stream",
     "text": [
      "기업 bc 카드로 무이자 6개월 승인되었습니다 개인카드로 확인 되었고요네네네 카드 정보를 등록할까요 아니요네 삭제하겠습니다네 상품배송을 일요일 월요일 금요일 제외하고 평균 3일 이내에 배송됩니다\n"
     ]
    },
    {
     "name": "stderr",
     "output_type": "stream",
     "text": [
      " 61%|██████    | 11/18 [00:38<00:25,  3.62s/it]"
     ]
    },
    {
     "name": "stdout",
     "output_type": "stream",
     "text": [
      "교환 반품은 배송받으신 날로부터 일주일 이내로 연락 주셔야 하며 식품의 경우 제품 화자에는 단순변심으로 교환 반품 어려운 점 양해 부탁드립니다 미니 사은품은 상품과 함께 배송됩니다 더 문 열쇠 없습니까\n"
     ]
    },
    {
     "name": "stderr",
     "output_type": "stream",
     "text": [
      " 67%|██████▋   | 12/18 [00:42<00:21,  3.60s/it]"
     ]
    },
    {
     "name": "stdout",
     "output_type": "stream",
     "text": [
      "습니다네 주문 감사합니다 오늘도 편안한 밤 되세요 좋은 상품으로 찾아뵙겠습니다 000이었습니다 이거 20일로 했죠 일시불로요네 확인해 보겠습니다네 그렇게 해 주세요\n"
     ]
    },
    {
     "name": "stderr",
     "output_type": "stream",
     "text": [
      " 72%|███████▏  | 13/18 [00:46<00:18,  3.67s/it]"
     ]
    },
    {
     "name": "stdout",
     "output_type": "stream",
     "text": [
      "아니요 고객님 무이자 6개월 결제되었습니다 해 주세요 1시 걸로요 아 제가 카드 정보를 다 지워 버렸거든요 고객님 카드 번호 다시 한번 말씀해 주셔야 됩니다 00 00 00 00 00\n"
     ]
    },
    {
     "name": "stderr",
     "output_type": "stream",
     "text": [
      " 78%|███████▊  | 14/18 [00:49<00:14,  3.58s/it]"
     ]
    },
    {
     "name": "stdout",
     "output_type": "stream",
     "text": [
      "궁녀 고객님 성함 말씀해 주셨고요 배우 장님 성함과 생년월일 다시 한번 말씀 부탁드립니다입니다 생년월일은요 000000입니다네 고객님 일시불로 말씀해 주셨고\n"
     ]
    },
    {
     "name": "stderr",
     "output_type": "stream",
     "text": [
      " 83%|████████▎ | 15/18 [00:53<00:10,  3.55s/it]"
     ]
    },
    {
     "name": "stdout",
     "output_type": "stream",
     "text": [
      "ELS 연결합니다 비밀번호 앞 두 자리 입력 부탁드립니다 연결 하겠습니다 예 알겠습니다네 고객님 118,000원 일시불로 결제 변경 처리 되었습니다네 감사합니다네\n"
     ]
    },
    {
     "name": "stderr",
     "output_type": "stream",
     "text": [
      " 89%|████████▉ | 16/18 [00:55<00:06,  3.18s/it]"
     ]
    },
    {
     "name": "stdout",
     "output_type": "stream",
     "text": [
      "더 이상 없습니까네 없습니다네 더 좋은 상품으로 찾아뵙겠습니다 000이었습니다네 알겠습니다\n"
     ]
    },
    {
     "name": "stderr",
     "output_type": "stream",
     "text": [
      " 94%|█████████▍| 17/18 [00:58<00:03,  3.28s/it]"
     ]
    },
    {
     "name": "stdout",
     "output_type": "stream",
     "text": [
      "정보 보호 차원에서 입력하셨던 모든 정보가 자동으로 삭제가 됩니다 그래서 제가 고객님 정보를 바르게 입력한 후에 다시 한번 ARS 할인가 적용해서 주문 도와드리겠습니다 고객님에 회원 서비스 제공을 위해 성함 생년월일 성별 주소 연락처를 등록하고\n"
     ]
    },
    {
     "name": "stderr",
     "output_type": "stream",
     "text": [
      "100%|██████████| 18/18 [01:02<00:00,  3.46s/it]\n"
     ]
    },
    {
     "name": "stdout",
     "output_type": "stream",
     "text": [
      "이에 동의하십니까네 그럴게요네 감사합니다 지금 전화 주신 고객님 본인 성함 말씀해 주시겠습니까 공짜 공짜 말씀해 주셨고요 생년월일 말씀 부탁드립니다 000000\n"
     ]
    },
    {
     "name": "stderr",
     "output_type": "stream",
     "text": [
      " 14%|█▍        | 1/7 [00:03<00:20,  3.45s/it]"
     ]
    },
    {
     "name": "stdout",
     "output_type": "stream",
     "text": [
      "예 그래요 이렇게 상품 하나가 나오고 그 다음에 또 하나 상품페이지 색상으로만 되어 있는 색상인데요네 두 개 상품이 같이 배송이 됩니다 하나 상품만 받고 싶은데요네 블랙커피는 지금 블랙을 뒤집으면 카키색상의 나오는 거고요 메이지 색상도 같이 구성되서 같이 배송이 됩니다\n"
     ]
    },
    {
     "name": "stderr",
     "output_type": "stream",
     "text": [
      " 29%|██▊       | 2/7 [00:06<00:16,  3.35s/it]"
     ]
    },
    {
     "name": "stdout",
     "output_type": "stream",
     "text": [
      "귀신은 안 하면 안 되나요 고객님 그거를 선택하시는게 아니라요 아까 말씀드린 것처럼 상품은 블랙하고 기가 하나고 베이지색상 하나랑 이렇게 두 벌 같이 구성되어서 모두 두거리 배송 되는 겁니다네 근데 이거는 세트 상품이라서 상품은 같이 배송이 되는 내용입니다\n"
     ]
    },
    {
     "name": "stderr",
     "output_type": "stream",
     "text": [
      " 43%|████▎     | 3/7 [00:10<00:13,  3.35s/it]"
     ]
    },
    {
     "name": "stdout",
     "output_type": "stream",
     "text": [
      "색상은 그거 두 개밖에 없더라고요네 베이지 색상이랑 그다음에 블랙 카키 리버시블 상품 두 개의 상품이 받지 배송됩니다 하나만 배송 되는 건 아니고요 일단 알겠습니다 일단은 39,800원 일시불 승인되었습니다네 알겠어요 지금 사용하신 카드정보 등록해 드릴까요\n"
     ]
    },
    {
     "name": "stderr",
     "output_type": "stream",
     "text": [
      " 57%|█████▋    | 4/7 [00:11<00:07,  2.57s/it]"
     ]
    },
    {
     "name": "stdout",
     "output_type": "stream",
     "text": [
      "아니요 괜찮아요 예 그럼 바로 삭제 도와 드리겠습니다네 알겠습니다\n"
     ]
    },
    {
     "name": "stderr",
     "output_type": "stream",
     "text": [
      " 71%|███████▏  | 5/7 [00:14<00:05,  2.82s/it]"
     ]
    },
    {
     "name": "stdout",
     "output_type": "stream",
     "text": [
      "고객님 00 쇼핑 000입니다네 말씀하세요네 결제 중에 통화 종료 하셔서 다시 한번 전화 드렸습니다 아니 비밀번호 얘기를 했는데도 왜 자꾸 왜 그래요 바로 얘기했어요 아 고객님 말씀하시는게 아니라 고객님께서 입력을 해 주셔야 됩니다 아 그래요\n"
     ]
    },
    {
     "name": "stderr",
     "output_type": "stream",
     "text": [
      " 86%|████████▌ | 6/7 [00:18<00:02,  3.00s/it]"
     ]
    },
    {
     "name": "stdout",
     "output_type": "stream",
     "text": [
      "네 그럼 다시 한번 카드 인증 연결해도 되겠습니까네 알았어요네 비밀번호 앞에 두 자리만 입력 부탁드립니다 연결해 드리겠습니다네 알겠어요네 고객님 39,800원 일시불 승인되었습니다 아 고객님 제가 색상 다시 말씀드리겠습니다\n"
     ]
    },
    {
     "name": "stderr",
     "output_type": "stream",
     "text": [
      "100%|██████████| 7/7 [00:21<00:00,  3.07s/it]\n"
     ]
    },
    {
     "name": "stdout",
     "output_type": "stream",
     "text": [
      "승인 되었는데요네 고객님 마르조 겨울패딩점퍼 색상 설명을 드릴게요 색상은 카키색상 만 배송이 되는게 아니라요 카키 색상을 입으면 블로그로도 나오는 블랙 카키 색상인 거고요 블랙은 카키를 뒤집어 사용하시는 겁니다 블로그로도 입으셨다 뒤집으면 그냥 카키색상의 나오는 거고요\n"
     ]
    },
    {
     "name": "stderr",
     "output_type": "stream",
     "text": [
      " 10%|█         | 1/10 [00:03<00:31,  3.50s/it]"
     ]
    },
    {
     "name": "stdout",
     "output_type": "stream",
     "text": [
      "아파트 공동 모입니다 0000 아파트 주소가 두 개로 확인됩니다 고객님 식품이기 때문에 주소 정확하게 확인해야 하는 부분이라서 다시 부탁드립니다\n"
     ]
    },
    {
     "name": "stderr",
     "output_type": "stream",
     "text": [
      " 20%|██        | 2/10 [00:07<00:28,  3.50s/it]"
     ]
    },
    {
     "name": "stdout",
     "output_type": "stream",
     "text": [
      "아파트 0 0 0 0 5입니다네 감사합니다 이벤트나 상품 서비스 광고를 문자로 드릴 수 있습니다 지금 방송 중인 000 갈비탕 상품 이번만 예외적으로 자동\n"
     ]
    },
    {
     "name": "stderr",
     "output_type": "stream",
     "text": [
      " 30%|███       | 3/10 [00:10<00:24,  3.56s/it]"
     ]
    },
    {
     "name": "stdout",
     "output_type": "stream",
     "text": [
      "천안 할인 적용 해 드리고 58900 원 결제 카드로 도와드릴까요 카드 번호 말씀 부탁드립니다입니다\n"
     ]
    },
    {
     "name": "stderr",
     "output_type": "stream",
     "text": [
      " 40%|████      | 4/10 [00:14<00:21,  3.52s/it]"
     ]
    },
    {
     "name": "stdout",
     "output_type": "stream",
     "text": [
      "카드 맞으니까네 카드 유효기간 말씀 부탁드립니다 농협 카드 확인됩니다 무이자 3개월 가능하십니다네 그렇게 해 주세요 농협 카드이므로 청구서 나올 때 5% 별도로 할인이 될 예정이니\n"
     ]
    },
    {
     "name": "stderr",
     "output_type": "stream",
     "text": [
      " 50%|█████     | 5/10 [00:17<00:17,  3.40s/it]"
     ]
    },
    {
     "name": "stdout",
     "output_type": "stream",
     "text": [
      "3개월 58900 원 결제 도와 드리겠습니다 고객님의 안전한 결제를 위해 카드인증 ARS 연결해 드리겠습니다 안내멘트에 따라 카드 비밀번호 앞 두 자리 입력 부탁드립니다 58900 원 3개월로\n"
     ]
    },
    {
     "name": "stderr",
     "output_type": "stream",
     "text": [
      " 60%|██████    | 6/10 [00:21<00:14,  3.54s/it]"
     ]
    },
    {
     "name": "stdout",
     "output_type": "stream",
     "text": [
      "항상 승인되었습니다 지금 등록된 카드 그대로 등록해 놓을까요 상품은 주말 공휴일 제외 평균 3일이내 배송이 됩니다 교환 반품 배송 받으신 날로부터 일주일 이내에 연락을 주셔야 하며 식품이기 때문에 제품하자 외에는 교환반품불가 한 점 양해 부탁드립니다\n"
     ]
    },
    {
     "name": "stderr",
     "output_type": "stream",
     "text": [
      " 70%|███████   | 7/10 [00:23<00:09,  3.25s/it]"
     ]
    },
    {
     "name": "stdout",
     "output_type": "stream",
     "text": [
      "알겠습니다 더 문의사항은 없으신가요 방문 전 연락 달라고 내용 남겨 드리겠습니다\n"
     ]
    },
    {
     "name": "stderr",
     "output_type": "stream",
     "text": [
      " 80%|████████  | 8/10 [00:27<00:06,  3.30s/it]"
     ]
    },
    {
     "name": "stdout",
     "output_type": "stream",
     "text": [
      "00 00 00 00 00 00 주문 도와드리겠습니다 고객님에 회원 서비스 제공을 위해 성함 생년월일 성별 주소 14\n"
     ]
    },
    {
     "name": "stderr",
     "output_type": "stream",
     "text": [
      " 90%|█████████ | 9/10 [00:30<00:03,  3.35s/it]"
     ]
    },
    {
     "name": "stdout",
     "output_type": "stream",
     "text": [
      "등록하고 있습니다 이에 동의하십니까네 감사합니다 전화 주신 고객님 성함 말씀 부탁드립니다 생년월일 6자리 말씀 부탁드립니다 전화번호 말씀해 주시겠습니까\n"
     ]
    },
    {
     "name": "stderr",
     "output_type": "stream",
     "text": [
      "100%|██████████| 10/10 [00:33<00:00,  3.38s/it]\n"
     ]
    },
    {
     "name": "stdout",
     "output_type": "stream",
     "text": [
      "핸드폰 번호요 0 0 0 0 4 자택 전화번호 같이 등록해 드릴까요 주소 말씀 부탁드립니다\n"
     ]
    },
    {
     "name": "stderr",
     "output_type": "stream",
     "text": [
      "  7%|▋         | 1/15 [00:03<00:45,  3.27s/it]"
     ]
    },
    {
     "name": "stdout",
     "output_type": "stream",
     "text": [
      "0000요 백 전화번호 있으시면 등록 도와드릴까요 휴대폰 밖에 없어요네 상품 배송 받으실 주소 확인 부탁드립니다 전남 무안군 00 00 00 00 00 00 00 아파트\n"
     ]
    },
    {
     "name": "stderr",
     "output_type": "stream",
     "text": [
      " 13%|█▎        | 2/15 [00:06<00:43,  3.36s/it]"
     ]
    },
    {
     "name": "stdout",
     "output_type": "stream",
     "text": [
      "0 0 4 4 입력 후 주소 확인하겠습니다 전남 무안군 00 00 00 00 확인되었습니다네 고객님께 이벤트나 상품 서비스 광고\n"
     ]
    },
    {
     "name": "stderr",
     "output_type": "stream",
     "text": [
      " 20%|██        | 3/15 [00:09<00:38,  3.20s/it]"
     ]
    },
    {
     "name": "stdout",
     "output_type": "stream",
     "text": [
      "문자 드릴 수 있습니다 이제 방송 중인 상품 올인원스쿼트머신 149,000원 상품 주문 도와 드리겠습니다 색상은 블랙과 화이트가 있습니다 18만 원이네요\n"
     ]
    },
    {
     "name": "stderr",
     "output_type": "stream",
     "text": [
      " 27%|██▋       | 4/15 [00:12<00:35,  3.18s/it]"
     ]
    },
    {
     "name": "stdout",
     "output_type": "stream",
     "text": [
      "149,000원 상품입니다 고객님 여기에 149,000원이라고 나와 있네요 블랙이요네 블랙 색상으로 주문 도와 드릴까요네 카드 결제 도와 드릴까요 고객님 카드 번호 전\n"
     ]
    },
    {
     "name": "stderr",
     "output_type": "stream",
     "text": [
      " 33%|███▎      | 5/15 [00:15<00:31,  3.10s/it]"
     ]
    },
    {
     "name": "stdout",
     "output_type": "stream",
     "text": [
      "말씀해 주시겠습니까 00 00 00 00 00 00 00 00 카드 소유주는 고객님 본인 되십니까 안에 카드 소유주 성함\n"
     ]
    },
    {
     "name": "stderr",
     "output_type": "stream",
     "text": [
      " 40%|████      | 6/15 [00:18<00:27,  3.01s/it]"
     ]
    },
    {
     "name": "stdout",
     "output_type": "stream",
     "text": [
      "부탁드립니다 000 000 생년월일 6자리 확인 부탁드립니다 0 0 0 0 0 0 0네 카드 유효 기간 확인 부탁드립니다\n"
     ]
    },
    {
     "name": "stderr",
     "output_type": "stream",
     "text": [
      " 47%|████▋     | 7/15 [00:21<00:24,  3.02s/it]"
     ]
    },
    {
     "name": "stdout",
     "output_type": "stream",
     "text": [
      "00 쇼핑 0 0 0입니다네 새해 복 많이 받으세요네 감사합니다 무엇을 도와 드릴까요 지금 방송 중인 거요 올인원스쿼트머신 도와 드릴까요네 고객님 공공 쇼핑 처음 이용 2시면\n"
     ]
    },
    {
     "name": "stderr",
     "output_type": "stream",
     "text": [
      " 53%|█████▎    | 8/15 [00:24<00:21,  3.11s/it]"
     ]
    },
    {
     "name": "stdout",
     "output_type": "stream",
     "text": [
      "14만 9천 원 삼성카드로 무이자 6개월로 결제하시겠습니까 그렇게 할게요 고객님의 안전한 결제를 위해 하드인증 ARS 연결합니다 안내멘트에 따라 카드 비밀번호 앞 두 자리만 입력 부탁드립니다 연결 하겠습니다네 알겠어요\n"
     ]
    },
    {
     "name": "stderr",
     "output_type": "stream",
     "text": [
      " 60%|██████    | 9/15 [00:28<00:18,  3.15s/it]"
     ]
    },
    {
     "name": "stdout",
     "output_type": "stream",
     "text": [
      "확인 감사합니다 149,000원 삼성카드로 무이자 6개월로 승인되었습니다 카드 정보 등록해 드릴까요 상품은 일요일 공휴일 제외하고 평균 4일 이내 배송 됩니다네 예 교환과 반품으로 배송 받으신 날로부터 30일이내 연락 주셔야 하며\n"
     ]
    },
    {
     "name": "stderr",
     "output_type": "stream",
     "text": [
      " 67%|██████▋   | 10/15 [00:31<00:15,  3.11s/it]"
     ]
    },
    {
     "name": "stdout",
     "output_type": "stream",
     "text": [
      "제품 하자 왜 개봉 및 사용 시 기간 경과 시 교환반품불가 한 점 양해 부탁드립니다 제품수령후 포장 박스 보관 부탁드리겠습니다 상품 교환과 반품이 및 배송 중 화성권 박스 포장 꼭 필요합니다 알겠어요네 고객님 주문 되었습니다 그런데 6개월로 됐나요\n"
     ]
    },
    {
     "name": "stderr",
     "output_type": "stream",
     "text": [
      " 73%|███████▎  | 11/15 [00:34<00:12,  3.10s/it]"
     ]
    },
    {
     "name": "stdout",
     "output_type": "stream",
     "text": [
      "네 6개월로 결제 도와 드렸습니다 고객님네네 더 문의할 사항 없으니까 근데 이거 제가 잘못 한번 보고 마음에 안 들면 다시 반품 해도 되죠 아닙니다 고객님께서 변심으로 인해서 예를 들어서\n"
     ]
    },
    {
     "name": "stderr",
     "output_type": "stream",
     "text": [
      " 80%|████████  | 12/15 [00:37<00:09,  3.15s/it]"
     ]
    },
    {
     "name": "stdout",
     "output_type": "stream",
     "text": [
      "형님이 반품하시면 반품 배송비 15,000원 있습니다네네 예 그 제품에 하자가 있을 때는 당연히 무료로 반품가능합니다 그냥 단순 변심에 의한 부분은 무료로 반품 안 돼요네 그렇군요 더 좋은 상품으로 찾아뵙겠습니다 000이었습니다\n"
     ]
    },
    {
     "name": "stderr",
     "output_type": "stream",
     "text": [
      " 87%|████████▋ | 13/15 [00:38<00:04,  2.41s/it]"
     ]
    },
    {
     "name": "stdout",
     "output_type": "stream",
     "text": [
      "네 알겠어요\n"
     ]
    },
    {
     "name": "stderr",
     "output_type": "stream",
     "text": [
      " 93%|█████████▎| 14/15 [00:41<00:02,  2.60s/it]"
     ]
    },
    {
     "name": "stdout",
     "output_type": "stream",
     "text": [
      "정보 등록 후에 도움 드리겠습니다 아네네네 고객님 회원 서비스 제공을 위해 성함 생년월일 성별 주소 연락처 등록하고 있습니다 이에 동의하십니까 아 그럴게요 감사합니다 고객님 성함 말씀 부탁드립니다\n"
     ]
    },
    {
     "name": "stderr",
     "output_type": "stream",
     "text": [
      "100%|██████████| 15/15 [00:44<00:00,  2.96s/it]\n"
     ]
    },
    {
     "name": "stdout",
     "output_type": "stream",
     "text": [
      "다시 한번 성함 좀 말씀해 주시겠어요 000네 고객님의 생년월일 6자리 확인 부탁드립니다 000000네 전화번호 확인 부탁드립니다 0000 0000\n"
     ]
    },
    {
     "name": "stderr",
     "output_type": "stream",
     "text": [
      "  7%|▋         | 1/14 [00:03<00:40,  3.15s/it]"
     ]
    },
    {
     "name": "stdout",
     "output_type": "stream",
     "text": [
      "00 00 00 00 00 00 00 00 00 00 00 00 00 동 호수가 같아요\n"
     ]
    },
    {
     "name": "stderr",
     "output_type": "stream",
     "text": [
      " 14%|█▍        | 2/14 [00:06<00:40,  3.38s/it]"
     ]
    },
    {
     "name": "stdout",
     "output_type": "stream",
     "text": [
      "궁금 궁금 궁둥이 00000 이렇게 되나요네 맞아요 이벤트나 상품 서비스 광고 문자 드릴 수 있습니다네네 현재 방송 중인 상품 지금 자동주문 이용에 불편 드려 죄송합니다 자동 주문하니까 적용해서 118,000원\n"
     ]
    },
    {
     "name": "stderr",
     "output_type": "stream",
     "text": [
      " 21%|██▏       | 3/14 [00:10<00:38,  3.46s/it]"
     ]
    },
    {
     "name": "stdout",
     "output_type": "stream",
     "text": [
      "도움 드리도록 하겠습니다네 그렇게 해 주세요 예 카드 결제 도와 드릴까요네 카드 번호 말씀 부탁드립니다 00 00 00 00 00\n"
     ]
    },
    {
     "name": "stderr",
     "output_type": "stream",
     "text": [
      " 29%|██▊       | 4/14 [00:14<00:35,  3.60s/it]"
     ]
    },
    {
     "name": "stdout",
     "output_type": "stream",
     "text": [
      "공군이야 휴지는 고객님 본인 되십니까네 맞아요네 이야기가 말씀 부탁드립니다 공부 공부 공부 의자 6개월까지 가능 합니다 내일 118,000원\n"
     ]
    },
    {
     "name": "stderr",
     "output_type": "stream",
     "text": [
      " 36%|███▌      | 5/14 [00:17<00:32,  3.62s/it]"
     ]
    },
    {
     "name": "stdout",
     "output_type": "stream",
     "text": [
      "카드 20일 안전한 결제를 위해 카드인증 ARS 연결되면 안내멘트에 따라 카드 비밀번호 앞 두 자리 입력 부탁드립니다네네 연결해 드리겠습니다 안에 카드가 법인 카드인가요\n"
     ]
    },
    {
     "name": "stderr",
     "output_type": "stream",
     "text": [
      " 43%|████▎     | 6/14 [00:21<00:28,  3.58s/it]"
     ]
    },
    {
     "name": "stdout",
     "output_type": "stream",
     "text": [
      "맞아요 아 그러십니까 그러면 카드 번호 다시 한번 확인하겠습니다 00000 잠깐만요네 맞아요 000\n"
     ]
    },
    {
     "name": "stderr",
     "output_type": "stream",
     "text": [
      " 50%|█████     | 7/14 [00:24<00:25,  3.58s/it]"
     ]
    },
    {
     "name": "stdout",
     "output_type": "stream",
     "text": [
      "궁금 쇼핑 궁금합니다 불러 드리면 돼요 방송 중인 캐나다산 루이스 누가 랍스터로 주문하려고요네 맞아요네 도와 드리겠습니다 고객님 궁금 쇼핑 처음이 오셔서 성함 생년월일 성별 주소 연락처 등록하고 있습니다\n"
     ]
    },
    {
     "name": "stderr",
     "output_type": "stream",
     "text": [
      " 57%|█████▋    | 8/14 [00:28<00:22,  3.68s/it]"
     ]
    },
    {
     "name": "stdout",
     "output_type": "stream",
     "text": [
      "맞습니까네 혹시 회사명으로 되어 있지 않습니까 그럴 수도 있겠어요 다른 거 불러 드려야 되겠네요 아 그러십니까 다른 카드로 하실까요네 그럴게요 고객님 카드 번호 처음부터 말씀 부탁드립니다\n"
     ]
    },
    {
     "name": "stderr",
     "output_type": "stream",
     "text": [
      " 64%|██████▍   | 9/14 [00:32<00:17,  3.57s/it]"
     ]
    },
    {
     "name": "stdout",
     "output_type": "stream",
     "text": [
      "000 000 000 소유진은 고객님 본인 되시나요네 맞아요 유효기간 말씀 부탁드립니다 4 0 0 0 0 0\n"
     ]
    },
    {
     "name": "stderr",
     "output_type": "stream",
     "text": [
      " 71%|███████▏  | 10/14 [00:35<00:14,  3.59s/it]"
     ]
    },
    {
     "name": "stdout",
     "output_type": "stream",
     "text": [
      "네 무이자 6개월까지 가능합니다 일시불로 해 주세요네 118,000원 롯데카드 안전한 결제를 위해 카드인데 ARS로 다시 한 번 연결해 드리겠습니다네네네 감사합니다 20일로 승인되었습니다 카드 정보 등록해 드릴까\n"
     ]
    },
    {
     "name": "stderr",
     "output_type": "stream",
     "text": [
      " 79%|███████▊  | 11/14 [00:39<00:11,  3.72s/it]"
     ]
    },
    {
     "name": "stdout",
     "output_type": "stream",
     "text": [
      "네 그럴게요 상태는 일요일 월요일 공유지의 평균 3일이내 배송되고 교환 반품은 받으신 날로부터 일주일 내에 연락 주셔야 하는데 식품이라 제품하자 재위에 단순변심 교환반품불가 한 점 양해 부탁드립니다네 알겠습니다 더 문의사항은\n"
     ]
    },
    {
     "name": "stderr",
     "output_type": "stream",
     "text": [
      " 86%|████████▌ | 12/14 [00:41<00:06,  3.20s/it]"
     ]
    },
    {
     "name": "stdout",
     "output_type": "stream",
     "text": [
      "네 없습니다 좋은 상품으로 찾아뵙겠습니다 000 60입니다네\n"
     ]
    },
    {
     "name": "stderr",
     "output_type": "stream",
     "text": [
      " 93%|█████████▎| 13/14 [00:45<00:03,  3.38s/it]"
     ]
    },
    {
     "name": "stdout",
     "output_type": "stream",
     "text": [
      "이 동의하십니까네 그럴게요네 감사합니다 고객님 본인 성함 말씀 부탁드립니다 0 0 0 0 0 0 0 고객님 맞습니까네 감사합니다 전화번호 말씀 부탁드립니다 0 0 0 0 0 0\n"
     ]
    },
    {
     "name": "stderr",
     "output_type": "stream",
     "text": [
      "100%|██████████| 14/14 [00:48<00:00,  3.48s/it]\n"
     ]
    },
    {
     "name": "stdout",
     "output_type": "stream",
     "text": [
      "0000입니다네 감사합니다 생년월일 6자리 말씀 부탁드립니다 000000 주소 말씀 부탁드립니다 경기도 화성시 0 0 0 0\n"
     ]
    },
    {
     "name": "stderr",
     "output_type": "stream",
     "text": [
      "  8%|▊         | 1/13 [00:03<00:36,  3.05s/it]"
     ]
    },
    {
     "name": "stdout",
     "output_type": "stream",
     "text": [
      "000 000 000 번인가요 맞아요 유선 번호 있으면 등록해 드릴까요 아니요 배송 받을 주소 말씀 부탁드립니다 경기도 오산시 00000\n"
     ]
    },
    {
     "name": "stderr",
     "output_type": "stream",
     "text": [
      " 15%|█▌        | 2/13 [00:05<00:32,  2.95s/it]"
     ]
    },
    {
     "name": "stdout",
     "output_type": "stream",
     "text": [
      "00 00 00 확인됩니다 00 00 00 00 안에 00 00 00 00 00 맞습니까\n"
     ]
    },
    {
     "name": "stderr",
     "output_type": "stream",
     "text": [
      " 23%|██▎       | 3/13 [00:09<00:30,  3.01s/it]"
     ]
    },
    {
     "name": "stdout",
     "output_type": "stream",
     "text": [
      "확인해 주신 도로명으로 등록 도와 드렸습니다 알겠습니다 이벤트나 상품 서비스 광고를 문자로 드릴 수가 있습니다 방송 중인 올인원스쿼트머신 맞습니까네 맞아요네 금액은 14만\n"
     ]
    },
    {
     "name": "stderr",
     "output_type": "stream",
     "text": [
      " 31%|███       | 4/13 [00:11<00:26,  2.97s/it]"
     ]
    },
    {
     "name": "stdout",
     "output_type": "stream",
     "text": [
      "아닙니다 어느 색상 주문해 드릴까요 해 주세요네 검정 색상입니다 하트 카드 결제로 도와 드릴까요네 그걸로 할게요 카드 준비해 주셨습니까 번호 말씀 부탁드립니다\n"
     ]
    },
    {
     "name": "stderr",
     "output_type": "stream",
     "text": [
      " 38%|███▊      | 5/13 [00:15<00:24,  3.07s/it]"
     ]
    },
    {
     "name": "stdout",
     "output_type": "stream",
     "text": [
      "00 00 00 00 00 농협 체크 카드입니다 만 원 할인 적용되어서 13만 9천 원입니다 고객님에 카드인가요네 맞아요\n"
     ]
    },
    {
     "name": "stderr",
     "output_type": "stream",
     "text": [
      " 46%|████▌     | 6/13 [00:18<00:21,  3.08s/it]"
     ]
    },
    {
     "name": "stdout",
     "output_type": "stream",
     "text": [
      "인증을 위한 공공 생년월일 한 번 더 말씀 부탁드립니다 000000 확인 감사합니다 카드 유효기간 확인해 주시겠습니까 00006 안전한 결제를 위하여 카드인증\n"
     ]
    },
    {
     "name": "stderr",
     "output_type": "stream",
     "text": [
      " 54%|█████▍    | 7/13 [00:21<00:18,  3.10s/it]"
     ]
    },
    {
     "name": "stdout",
     "output_type": "stream",
     "text": [
      "00 쇼핑 000입니다네 감사합니다 지금 하고 있는 저거를 주문 좀 하고 싶은데요 아 그렇습니까 스쿼트 머신 맞습니까네 공공 쇼핑 처음 이용하셔서 정보 등록\n"
     ]
    },
    {
     "name": "stderr",
     "output_type": "stream",
     "text": [
      " 62%|██████▏   | 8/13 [00:24<00:15,  3.11s/it]"
     ]
    },
    {
     "name": "stdout",
     "output_type": "stream",
     "text": [
      "연결해 드립니다 안내멘트에 따라 카드 비밀번호 앞 두 자리만 입력 부탁드립니다 연결해 드립니다 확인해 드립니다 139,000원 일시불 승인되었습니다 다음번 주문시 편리한 결제를 위하여 카드 정보 등록해 드릴까요\n"
     ]
    },
    {
     "name": "stderr",
     "output_type": "stream",
     "text": [
      " 69%|██████▉   | 9/13 [00:27<00:12,  3.05s/it]"
     ]
    },
    {
     "name": "stdout",
     "output_type": "stream",
     "text": [
      "아 그러세요 상품은 일요일 공휴일을 제외한 4일 내려오는 방송 배송이 됩니다 아네네 교환이나 반품 배송 받으신 날로부터 30일 안으로는 연락을 주셔야 하고 개봉 사용 기간 이겨\n"
     ]
    },
    {
     "name": "stderr",
     "output_type": "stream",
     "text": [
      " 77%|███████▋  | 10/13 [00:30<00:09,  3.08s/it]"
     ]
    },
    {
     "name": "stdout",
     "output_type": "stream",
     "text": [
      "가지면 처리는 어렵습니다 수령하시면 박스는 보관해 주시기 바랍니다네 그럴게요 선택하신 검정색상으로 주문 되었습니다 더 문의사항이 없으니까 없습니다 편안한 밤 되시고요 좋은 상품으로 찾아 뵙겠습니다 수고하세요\n"
     ]
    },
    {
     "name": "stderr",
     "output_type": "stream",
     "text": [
      " 85%|████████▍ | 11/13 [00:31<00:05,  2.51s/it]"
     ]
    },
    {
     "name": "stdout",
     "output_type": "stream",
     "text": [
      "감사합니다 0 0 0이었습니다네 알겠습니다\n"
     ]
    },
    {
     "name": "stderr",
     "output_type": "stream",
     "text": [
      " 92%|█████████▏| 12/13 [00:34<00:02,  2.61s/it]"
     ]
    },
    {
     "name": "stdout",
     "output_type": "stream",
     "text": [
      "드리도록 하겠습니다네 그럴게요 고객님에 회원 서비스 제공을 위해 성함 생년월일 성별 주소 연락처를 등록하고 있습니다 이에 동의하십니까 감사합니다 전화 주신 고객님 성함 말씀 부탁드립니다 0 0 0 0\n"
     ]
    },
    {
     "name": "stderr",
     "output_type": "stream",
     "text": [
      "100%|██████████| 13/13 [00:37<00:00,  2.89s/it]\n"
     ]
    },
    {
     "name": "stdout",
     "output_type": "stream",
     "text": [
      "000 님 반갑습니다 생년월일 6자리 말씀 부탁드립니다 0000001 소중한 정보 확인 감사합니다 휴대폰 번호 말씀해 주시겠습니까 000 000 000 확인해 드립니다\n"
     ]
    },
    {
     "name": "stderr",
     "output_type": "stream",
     "text": [
      " 10%|█         | 1/10 [00:03<00:30,  3.41s/it]"
     ]
    },
    {
     "name": "stdout",
     "output_type": "stream",
     "text": [
      "부탁드립니다 그래요 이제 색상 블랙과 화이트 있는데요 어떤 색으로 해 드릴까요네 블랙으로 선택을했습니다 배송 받으시는 주소는 서울 마포구 90000 되어 있으시네요\n"
     ]
    },
    {
     "name": "stderr",
     "output_type": "stream",
     "text": [
      " 20%|██        | 2/10 [00:06<00:26,  3.27s/it]"
     ]
    },
    {
     "name": "stdout",
     "output_type": "stream",
     "text": [
      "확인 부탁드리겠습니다 아파트 공동 공공 확인해 주셔서 감사합니다 너무 그러면 결제는 어떻게 카드 결제 도와 드릴까요네 카드 번호 말씀해 주시겠습니까\n"
     ]
    },
    {
     "name": "stderr",
     "output_type": "stream",
     "text": [
      " 30%|███       | 3/10 [00:10<00:24,  3.54s/it]"
     ]
    },
    {
     "name": "stdout",
     "output_type": "stream",
     "text": [
      "00 00 00 00 6시간 부탁드립니다 주 본인 맞습니까\n"
     ]
    },
    {
     "name": "stderr",
     "output_type": "stream",
     "text": [
      " 40%|████      | 4/10 [00:13<00:21,  3.50s/it]"
     ]
    },
    {
     "name": "stdout",
     "output_type": "stream",
     "text": [
      "고객님 생년월일 말씀 부탁드립니다이 제품은 일시불로 하시면 추가 만 원 할인 가능하시고요 무이자할부는 6개월까지 가능합니다 그래요 결제 어떻게 도와 드릴까요 고객님 그럼 이제\n"
     ]
    },
    {
     "name": "stderr",
     "output_type": "stream",
     "text": [
      " 50%|█████     | 5/10 [00:17<00:17,  3.49s/it]"
     ]
    },
    {
     "name": "stdout",
     "output_type": "stream",
     "text": [
      "134,000원 일시불로 결제하겠습니다 알겠습니다 제가 ARS 연결을 해 드리면 비밀번호 앞 두 자리 입력 부탁드립니다 연결 하겠습니다 예 카드 승인 중입니다\n"
     ]
    },
    {
     "name": "stderr",
     "output_type": "stream",
     "text": [
      " 60%|██████    | 6/10 [00:21<00:14,  3.59s/it]"
     ]
    },
    {
     "name": "stdout",
     "output_type": "stream",
     "text": [
      "결제 잘 되었습니다 교환 반품은 배송받으신 날로부터 이제 3일 30일 안에 연락을 주셔야 되시고 제품하자 왜 개봉 및 사용 시 기간 경과 시 교환 반품이 불가하오니 이점 양해 부탁드리겠습니다네 더운 없음\n"
     ]
    },
    {
     "name": "stderr",
     "output_type": "stream",
     "text": [
      " 70%|███████   | 7/10 [00:23<00:09,  3.13s/it]"
     ]
    },
    {
     "name": "stdout",
     "output_type": "stream",
     "text": [
      "네 없습니다 예 감사합니다 좋은 상품으로 찾아뵙겠습니다 000 열었습니다 알겠습니다\n"
     ]
    },
    {
     "name": "stderr",
     "output_type": "stream",
     "text": [
      " 80%|████████  | 8/10 [00:26<00:06,  3.21s/it]"
     ]
    },
    {
     "name": "stdout",
     "output_type": "stream",
     "text": [
      "공구쇼핑 공구입니다네 고객님 도와드릴까요네 고객님 도움 드리겠습니다 성함과 전화번호 확인 부탁드리겠습니다\n"
     ]
    },
    {
     "name": "stderr",
     "output_type": "stream",
     "text": [
      " 90%|█████████ | 9/10 [00:29<00:03,  3.21s/it]"
     ]
    },
    {
     "name": "stdout",
     "output_type": "stream",
     "text": [
      "예 이거요네 고객님 00 00 00 아니요 전화번호 부탁드리겠습니다\n"
     ]
    },
    {
     "name": "stderr",
     "output_type": "stream",
     "text": [
      "100%|██████████| 10/10 [00:33<00:00,  3.36s/it]\n"
     ]
    },
    {
     "name": "stdout",
     "output_type": "stream",
     "text": [
      "소중한 정보 확인 감사합니다 지금 방송 중인 오리라는 스쿼트 머신 149,000원 맞습니까 자동주문전화 할인 적용 해서 주문해 드리겠습니다 예 알았어요 아예 5,000원 할인 적용을 해드리고요 다음 이용 부턴 직접 자동 주문\n"
     ]
    },
    {
     "name": "stderr",
     "output_type": "stream",
     "text": [
      "  6%|▌         | 1/17 [00:02<00:45,  2.86s/it]"
     ]
    },
    {
     "name": "stdout",
     "output_type": "stream",
     "text": [
      "다른 배송지 공공 공로 보내 드릴까요 예네 받으시는 분 성함 휴대폰 번호는 그대로 해 드릴까요네 그렇게 해 주세요 000 고객님 000000 해드리며 주소\n"
     ]
    },
    {
     "name": "stderr",
     "output_type": "stream",
     "text": [
      " 12%|█▏        | 2/17 [00:05<00:42,  2.86s/it]"
     ]
    },
    {
     "name": "stdout",
     "output_type": "stream",
     "text": [
      "말씀 부탁드립니다 주소가 경기도 남양주시 00 00 00 00 00 00 00 00 00 00 00 말씀하신 주소 확인하고 있습니다 잠시만 기다려\n"
     ]
    },
    {
     "name": "stderr",
     "output_type": "stream",
     "text": [
      " 18%|█▊        | 3/17 [00:08<00:42,  3.02s/it]"
     ]
    },
    {
     "name": "stdout",
     "output_type": "stream",
     "text": [
      "주시겠습니까네 기다릴게요 0000 아파트 맞습니까 고객님네 맞아요 혹시 도로명 주소로 00 00 00 00 00\n"
     ]
    },
    {
     "name": "stderr",
     "output_type": "stream",
     "text": [
      " 24%|██▎       | 4/17 [00:12<00:40,  3.09s/it]"
     ]
    },
    {
     "name": "stdout",
     "output_type": "stream",
     "text": [
      "이제 주소 다시 한 번 더 정리해서 도로명 주소로 안내해 드리겠습니다 경기 남양주시 00 00 00 00 00 아파트 0 0 0 0 0 0 0 5 맞습니까네 맞아요 말씀하신 주소로 보내드리면\n"
     ]
    },
    {
     "name": "stderr",
     "output_type": "stream",
     "text": [
      " 29%|██▉       | 5/17 [00:15<00:36,  3.05s/it]"
     ]
    },
    {
     "name": "stdout",
     "output_type": "stream",
     "text": [
      "카드 결제 도와 드릴까요네 그걸로 할게요네 고객님 그 카드 번호 처음부터 말씀을 부탁드립니다 000 000 000 카드 유효기간 말씀 부탁드립니다\n"
     ]
    },
    {
     "name": "stderr",
     "output_type": "stream",
     "text": [
      " 35%|███▌      | 6/17 [00:18<00:33,  3.05s/it]"
     ]
    },
    {
     "name": "stdout",
     "output_type": "stream",
     "text": [
      "0 0 0 0 6 4 카드 소유주는 본인이네네네 고객님 생년월일 6자리 말씀 부탁드립니다 000000 무이자로 하면 어떻게 도와드릴까요 3개월로 해주세요\n"
     ]
    },
    {
     "name": "stderr",
     "output_type": "stream",
     "text": [
      " 41%|████      | 7/17 [00:21<00:31,  3.12s/it]"
     ]
    },
    {
     "name": "stdout",
     "output_type": "stream",
     "text": [
      "00 쇼핑 000입니다네 여보세요네 무엇을 도와드릴까요 아 다름이 아니라 카드 다 눌렀는데요 주문하려고 하는데 상담사 연결 해 주실래요 죄송하지만 주문 하시다가 뭐 잘못 눌러진 것 같은데요\n"
     ]
    },
    {
     "name": "stderr",
     "output_type": "stream",
     "text": [
      " 47%|████▋     | 8/17 [00:24<00:28,  3.13s/it]"
     ]
    },
    {
     "name": "stdout",
     "output_type": "stream",
     "text": [
      "3개월 무이자 할부 14만 4천 원 결제 예정이며 고객님 안전한 결제 위에 카드 인증 ARS 연결해 드리면 안내멘트에 따라 카드 비밀번호 앞 두 자리 입력 부탁드립니다 연결해 드리겠습니다네 알겠습니다 3개월 무이자 할부 14만 4천 원 결제\n"
     ]
    },
    {
     "name": "stderr",
     "output_type": "stream",
     "text": [
      " 53%|█████▎    | 9/17 [00:27<00:25,  3.16s/it]"
     ]
    },
    {
     "name": "stdout",
     "output_type": "stream",
     "text": [
      "고객님으로 카드 등록 해 드릴까요네 카드 등록해 드릴까요네 그렇게 해주세요네 주의사항안내 하겠습니다 본 제품은 일요일 공휴일 제외 평균 일주일 내에 배송이 되며 교환 반품은 배송 받으신 날로부터 30일이내 연락 주셔야 되며\n"
     ]
    },
    {
     "name": "stderr",
     "output_type": "stream",
     "text": [
      " 59%|█████▉    | 10/17 [00:30<00:21,  3.12s/it]"
     ]
    },
    {
     "name": "stdout",
     "output_type": "stream",
     "text": [
      "좀 하자 왜 개봉 및 사용 시 교환 반품 불가 하며 제품수령후 박스 보관 부탁드리겠습니다네 알겠어요 더문 의상 없습니까네 아 근데 전화로 한 가지만 여쭤볼게요네 고객님 아까 그 자동 주문 했을 때요\n"
     ]
    },
    {
     "name": "stderr",
     "output_type": "stream",
     "text": [
      " 65%|██████▍   | 11/17 [00:34<00:18,  3.15s/it]"
     ]
    },
    {
     "name": "stdout",
     "output_type": "stream",
     "text": [
      "수요일에 두 가지로 나오는데 그 때 그 제품 맞죠 내 동일한 제품입니다 두 가지로 얘기 하셔 가지고요 이게 저희가 그러면 그 업체 쪽에서 저희가 미리 물품을 사 가지고 같이 판매 하는 경우도 있는데요 동일하게 나오는 거지 이게 뭐 제품이 다르거나 이런 건 전혀 아닙니다 고객님\n"
     ]
    },
    {
     "name": "stderr",
     "output_type": "stream",
     "text": [
      " 71%|███████   | 12/17 [00:37<00:15,  3.15s/it]"
     ]
    },
    {
     "name": "stdout",
     "output_type": "stream",
     "text": [
      "아네 사용 설명서가 같이 오는 건가요 설명서요 고객님 저희 쪽에 대해서 말씀하시는 걸까요 조립도 그렇고 그거 설치하는 방법 있잖아요네 기본적인 설명서와 제품에 구성에 관한 내용에 대해서 제가 함께 보내 드리고 있고요 혹시라도 누락이 되거나\n"
     ]
    },
    {
     "name": "stderr",
     "output_type": "stream",
     "text": [
      " 76%|███████▋  | 13/17 [00:40<00:12,  3.24s/it]"
     ]
    },
    {
     "name": "stdout",
     "output_type": "stream",
     "text": [
      "내가 있으실 경우 저희 쪽에 전화 주시면 다시 한번 더 확인 후 도움 드리겠습니다네 알겠어요네 편안한 밤 되세요 000이었습니다 아 여보세요네 고객님 아 그리고 저 얼마 전에 주문한 거 아직까지 안 와서 그러거든요 어 잠시만 기다려 주시기\n"
     ]
    },
    {
     "name": "stderr",
     "output_type": "stream",
     "text": [
      " 82%|████████▏ | 14/17 [00:43<00:09,  3.27s/it]"
     ]
    },
    {
     "name": "stdout",
     "output_type": "stream",
     "text": [
      "지금 확인해 보니 000 말씀하시는 거 맞으신가요네 맞아요네 현재 지금 배송 이동 중으로 확인됩니다 근데 저희가 현재 연말이라 보니까 전체적으로 배송 사가 지금 배송이 지연되고 있는 부분 확인해 보니 다행히 고객님의 물품을 배송 이동 중으로 확인됩니다네\n"
     ]
    },
    {
     "name": "stderr",
     "output_type": "stream",
     "text": [
      " 88%|████████▊ | 15/17 [00:45<00:05,  2.67s/it]"
     ]
    },
    {
     "name": "stdout",
     "output_type": "stream",
     "text": [
      "있습니다 4 0 0 0 2 없습니다네 예\n"
     ]
    },
    {
     "name": "stderr",
     "output_type": "stream",
     "text": [
      " 94%|█████████▍| 16/17 [00:48<00:02,  2.80s/it]"
     ]
    },
    {
     "name": "stdout",
     "output_type": "stream",
     "text": [
      "제가 다시 한번 정보 확인 후 자동 주문으로 도움 드려도 괜찮으실까요네 그렇게 해 주세요 고객 정보 확인 후 도움 드렸습니다 고객님 본인 성함과 휴대폰 번호 말씀 부탁드립니다 00 00 00 00 00 00\n"
     ]
    },
    {
     "name": "stderr",
     "output_type": "stream",
     "text": [
      "100%|██████████| 17/17 [00:51<00:00,  3.02s/it]\n"
     ]
    },
    {
     "name": "stdout",
     "output_type": "stream",
     "text": [
      "확인 감사합니다 올인원스쿼트머신네 맞아요네 화이트색상으로 주문 도움 드리며 배송지는 경기 남양주시 00 00 00 00 00 00 00 아니요 아니요\n"
     ]
    },
    {
     "name": "stderr",
     "output_type": "stream",
     "text": [
      " 14%|█▍        | 1/7 [00:03<00:18,  3.11s/it]"
     ]
    },
    {
     "name": "stdout",
     "output_type": "stream",
     "text": [
      "다시 한번 연결해 드리겠습니다 잘못 눌렀어요 아 그러셨어요 다시 연결해 드리겠습니다 49,900원 승인되었습니다 카드정보 등록해 드릴까요 그건 뭔가요 다음번 결제시에 간편하게 결제하기 위해 카드 정보를 등록해 놓은 겁니다\n"
     ]
    },
    {
     "name": "stderr",
     "output_type": "stream",
     "text": [
      " 29%|██▊       | 2/7 [00:06<00:17,  3.55s/it]"
     ]
    },
    {
     "name": "stdout",
     "output_type": "stream",
     "text": [
      "등록해 주세요 상품 배송은 일요일 공휴일 제외 평균 3일이내 배송 되지만 설 전 배송 업무가 마감되어서 설 연휴 이후에 순차적으로 배송될 예정입니다네 알겠습니다 교환 반품은 배송 받으신 날로부터 일주일 내에 연락 주셔야 하며 제품하자에 택 제거 및 외부 착용 세탁 기간 경과시에는\n"
     ]
    },
    {
     "name": "stderr",
     "output_type": "stream",
     "text": [
      " 43%|████▎     | 3/7 [00:10<00:13,  3.33s/it]"
     ]
    },
    {
     "name": "stdout",
     "output_type": "stream",
     "text": [
      "누가 한 점 양해 부탁드립니다네 주문 잘되었습니다 더 문의하실 사항 없으니까 가격하고 내용이 들어간 문자는 아직 안 왔는데요 방금 카드 사용하신 내역을 말씀하시는 겁니까 그건 카드사에서 고객님께서 수정하시는 겁니다네 알겠습니다\n"
     ]
    },
    {
     "name": "stderr",
     "output_type": "stream",
     "text": [
      " 57%|█████▋    | 4/7 [00:11<00:08,  2.72s/it]"
     ]
    },
    {
     "name": "stdout",
     "output_type": "stream",
     "text": [
      "더 문의하실 사항 없으니까네 없습니다 00 쇼핑 000습니다 감사합니다 감사합니다\n"
     ]
    },
    {
     "name": "stderr",
     "output_type": "stream",
     "text": [
      " 71%|███████▏  | 5/7 [00:14<00:05,  2.87s/it]"
     ]
    },
    {
     "name": "stdout",
     "output_type": "stream",
     "text": [
      "고객님 방금 통화했던 공공 쇼핑 상담원입니다 4 0 0 0 고객님 맞으시죠 맞습니다 고객님 카드 번호 말씀 하신다고 하셨는데 전화가 종료 돼서 연락 드렸습니다네 그렇죠 00 00 00 00 00\n"
     ]
    },
    {
     "name": "stderr",
     "output_type": "stream",
     "text": [
      " 86%|████████▌ | 6/7 [00:18<00:02,  2.95s/it]"
     ]
    },
    {
     "name": "stdout",
     "output_type": "stream",
     "text": [
      "카드 소유자 고객님 본인 맞습니까네 맞습니다 카드 소유주 000 고객님의 생년월일 6자리 말씀 부탁드립니다 00000 유효기간 확인 부탁드립니다 0000 0000\n"
     ]
    },
    {
     "name": "stderr",
     "output_type": "stream",
     "text": [
      "100%|██████████| 7/7 [00:21<00:00,  3.06s/it]\n"
     ]
    },
    {
     "name": "stdout",
     "output_type": "stream",
     "text": [
      "비씨카드 49,900원 결제하시겠습니까 진행해 주세요 고객님의 안전한 결제를 위해 카드인증 ARS로 연결해 드리겠습니다 안내멘트에 따라서 카드 비밀번호 앞 두 자리 입력 부탁드립니다 연결해 드리겠습니다네 알겠습니다 고객님 비밀번호 오류로 확인됨\n"
     ]
    },
    {
     "name": "stderr",
     "output_type": "stream",
     "text": [
      "  7%|▋         | 1/14 [00:03<00:42,  3.28s/it]"
     ]
    },
    {
     "name": "stdout",
     "output_type": "stream",
     "text": [
      "0 0 0 4입니다네 확인해 보겠습니다 서울 구로구 공원로 1,500 단지 맞습니다 맞습니다네 확인 감사합니다 이벤트나 상품 서비스 광고를 문자나 전화로\n"
     ]
    },
    {
     "name": "stderr",
     "output_type": "stream",
     "text": [
      " 14%|█▍        | 2/14 [00:06<00:42,  3.52s/it]"
     ]
    },
    {
     "name": "stdout",
     "output_type": "stream",
     "text": [
      "거기다네 알겠습니다 현재 방송 중인 말해 줘 여성 59,800원 색상과 사이즈 선택 부탁드립니다 어떤게 괜찮겠어요 블랙이 지금 판매량은 가장 많아요네 그럼 블랙 팔로해주세요네 블랙 88로 주문 도와드리겠습니다\n"
     ]
    },
    {
     "name": "stderr",
     "output_type": "stream",
     "text": [
      " 21%|██▏       | 3/14 [00:10<00:37,  3.38s/it]"
     ]
    },
    {
     "name": "stdout",
     "output_type": "stream",
     "text": [
      "좋은 넉넉한게 낫겠죠네 맞습니다 고객님 2개세트 이니까 같이 하시려면 조금 큰 상품으로 하시는게 편하지겠습니다네 카드 결제 하시니까네 그럴게요네 카드 번호 확인 부탁드립니다 그런데 이거 잘 나가요 어때요 지금 판매\n"
     ]
    },
    {
     "name": "stderr",
     "output_type": "stream",
     "text": [
      " 29%|██▊       | 4/14 [00:13<00:34,  3.46s/it]"
     ]
    },
    {
     "name": "stdout",
     "output_type": "stream",
     "text": [
      "굉장히 많은 상품이에요 너무 두껍지는 않아요 많이 두꺼운 상품은 아니에요네 알겠어요 농협 가지고요 아네 고객님 00 00 00 00\n"
     ]
    },
    {
     "name": "stderr",
     "output_type": "stream",
     "text": [
      " 36%|███▌      | 5/14 [00:17<00:31,  3.47s/it]"
     ]
    },
    {
     "name": "stdout",
     "output_type": "stream",
     "text": [
      "소유자 분 고객님 본인 맞습니까 예 맞아요 그런데 자동 주문은 얼마고 상담 가면은 얼마예요네 자동 주문하시면 1000원할인 있습니다 그럼 자동 전화를 좀 해 주세요 오늘은 처음 이용하셔서 자동 주문 해 드리고요네 감사합니다 다음에는 자동 주문 이용하셔야 1000원할인 가능하신\n"
     ]
    },
    {
     "name": "stderr",
     "output_type": "stream",
     "text": [
      " 43%|████▎     | 6/14 [00:20<00:26,  3.35s/it]"
     ]
    },
    {
     "name": "stdout",
     "output_type": "stream",
     "text": [
      "아 그러면 저기 몇 개월 무이자예요 5개월 할부 가능합니다네 5개월로 해 주세요네 알겠습니다 000 고객님 생년월일 다시 한번 확인 부탁드립니다 0000 카드 유효기간 확인 부탁드립니다\n"
     ]
    },
    {
     "name": "stderr",
     "output_type": "stream",
     "text": [
      " 50%|█████     | 7/14 [00:23<00:23,  3.31s/it]"
     ]
    },
    {
     "name": "stdout",
     "output_type": "stream",
     "text": [
      "공공 쇼핑 000입니다 예 수고하십니다 방송하는 상품 좀 여쭤볼게요 안에 지금 방송 중인 마르조 겨울패딩점퍼 2종 세트 상품 주문 도와 드릴까요네 그렇게 해 주세요네 고객님 공공 쇼핑 처음 이용 있으면 정보 등록 후에 주문 도와드리겠습니다네 알겠어요\n"
     ]
    },
    {
     "name": "stderr",
     "output_type": "stream",
     "text": [
      " 57%|█████▋    | 8/14 [00:26<00:19,  3.23s/it]"
     ]
    },
    {
     "name": "stdout",
     "output_type": "stream",
     "text": [
      "네 고객님 0000 농협카드로 58,800원 무이자 5개월 할부 결제 하십니까 4 5만 얼마예요 58,800원 이요 55800 뭐예요 행사 카드 결제시 금액이 고요 행사 카드\n"
     ]
    },
    {
     "name": "stderr",
     "output_type": "stream",
     "text": [
      " 64%|██████▍   | 9/14 [00:29<00:16,  3.22s/it]"
     ]
    },
    {
     "name": "stdout",
     "output_type": "stream",
     "text": [
      "국민카드가 있습니다 고객님 카드 있으세요 아 그럼 얼마가 싼 건가요 3000원 싼 건가요네 맞습니다 그럼 그냥 주문해 주세요 예 고객님 ARS로 연결해 드리겠습니다 카드 비밀번호 앞에 두 자리 입력 부탁드립니다 연결 하겠습니다 무이자 5개월 결제되었습니다\n"
     ]
    },
    {
     "name": "stderr",
     "output_type": "stream",
     "text": [
      " 71%|███████▏  | 10/14 [00:33<00:13,  3.28s/it]"
     ]
    },
    {
     "name": "stdout",
     "output_type": "stream",
     "text": [
      "다음에 이용하실 수 있도록 카드 정보 등록해 드릴까요 예 그러세요 예 상품은 일요일 공휴일 제외 평균 3일이내 배송이 됩니다네 알겠습니다 교환 반품은 배송받으신 날로부터 7일 이내에 연락을 주시고 제품하자에 제거 외부 착용했다 기간 경과 시 교환\n"
     ]
    },
    {
     "name": "stderr",
     "output_type": "stream",
     "text": [
      " 79%|███████▊  | 11/14 [00:36<00:09,  3.27s/it]"
     ]
    },
    {
     "name": "stdout",
     "output_type": "stream",
     "text": [
      "불가한 점 양해 부탁드립니다네 알겠습니다 블랙 팔팔 주문 되었습니다 더 문의사항은 없으십니까 그러면 만약에 안 맞아서 반품할 때는 어떻게 해야 돼요이 전화번호로 전화를 주시면 24시간 통화 가능하세요 아 그러면 전화를 하면 됩니까네 맞습니다 더 문을\n"
     ]
    },
    {
     "name": "stderr",
     "output_type": "stream",
     "text": [
      " 86%|████████▌ | 12/14 [00:38<00:05,  2.80s/it]"
     ]
    },
    {
     "name": "stdout",
     "output_type": "stream",
     "text": [
      "없으니까 예 없어요네 다음에도 더 좋은 상품으로 찾아뵙겠습니다 0002 얻습니다 예 수고하세요\n"
     ]
    },
    {
     "name": "stderr",
     "output_type": "stream",
     "text": [
      " 93%|█████████▎| 13/14 [00:41<00:02,  2.89s/it]"
     ]
    },
    {
     "name": "stdout",
     "output_type": "stream",
     "text": [
      "네 회원 서비스 제공을 위해 성함 생년월일 성별 주소 연락처를 등록하고 있습니다 이에 동의하십니까 합니다네 고객님 성함 확인 부탁드립니다 고객님 생년월일 확인 부탁드립니다 0 0 0 0\n"
     ]
    },
    {
     "name": "stderr",
     "output_type": "stream",
     "text": [
      "100%|██████████| 14/14 [00:44<00:00,  3.18s/it]\n"
     ]
    },
    {
     "name": "stdout",
     "output_type": "stream",
     "text": [
      "0 0 0 1 0 0 1 0 0 1 맞습니까 맞아요네 휴대폰 번호 확인 부탁드립니다 000 000 000 고객님 주소 확인 부탁드립니다 서울시 구로구 00 00 00 00 00\n"
     ]
    },
    {
     "name": "stderr",
     "output_type": "stream",
     "text": [
      "  7%|▋         | 1/14 [00:02<00:37,  2.89s/it]"
     ]
    },
    {
     "name": "stdout",
     "output_type": "stream",
     "text": [
      "0000면 00000 맞습니까네 맞습니다네 잠시 기다려 주시겠습니까네 그럴게요네 주소 등록해 드렸습니다네 고객님 제가\n"
     ]
    },
    {
     "name": "stderr",
     "output_type": "stream",
     "text": [
      " 14%|█▍        | 2/14 [00:06<00:38,  3.19s/it]"
     ]
    },
    {
     "name": "stdout",
     "output_type": "stream",
     "text": [
      "배송에 관한 문자 받으실 수 있도록 동의를 해 드려도 되겠습니까네 그럼요네 확인 감사합니다 주문 도와 드리겠습니다네 주문하시는 제품이 마르조 2018년형 다운세트 초특가로 59,800원 제품 맞습니까 맞습니다 예 색상 말씀해 주시겠습니까\n"
     ]
    },
    {
     "name": "stderr",
     "output_type": "stream",
     "text": [
      " 21%|██▏       | 3/14 [00:09<00:36,  3.36s/it]"
     ]
    },
    {
     "name": "stdout",
     "output_type": "stream",
     "text": [
      "베이지색 성인가요 주문할 수 있는 색상이 어떻게되나요 색상은 연한색으로는 핑크 색상 분홍색 하고요 블루 하늘색 있었습니다 페이지는 따로 없었습니다 분홍색으로 할게요 사이즈 말씀해 주시겠습니까 4 8 8 1 4 8 8\n"
     ]
    },
    {
     "name": "stderr",
     "output_type": "stream",
     "text": [
      " 29%|██▊       | 4/14 [00:13<00:33,  3.37s/it]"
     ]
    },
    {
     "name": "stdout",
     "output_type": "stream",
     "text": [
      "가요네 조금 크게 보려고요네 알겠습니다 원래 8899가 가장 인기가 많아서 빨리 매진이 되는데요 오늘은 수량이 좀 많아서 남았어요 팔판로 주문 해 드릴게요네 알겠습니다네 처음 이용하셔서 예외적으로 자동 주문 할인 값 1,000원 적용해 드렸습니다네 알겠어요\n"
     ]
    },
    {
     "name": "stderr",
     "output_type": "stream",
     "text": [
      " 36%|███▌      | 5/14 [00:16<00:29,  3.24s/it]"
     ]
    },
    {
     "name": "stdout",
     "output_type": "stream",
     "text": [
      "58,800원이고 결제 카드이십니까 무통장이십니까 카드요 예 카드 번호 말씀 부탁드립니다 거기에 등록이 안 돼 있어요 아까 첫 등록 이신데 제가 주소를 못 찾아서 지금 전화 다시 드린 거라서요 그랬죠 아네 알겠습니다 카드 번호\n"
     ]
    },
    {
     "name": "stderr",
     "output_type": "stream",
     "text": [
      " 43%|████▎     | 6/14 [00:19<00:25,  3.20s/it]"
     ]
    },
    {
     "name": "stdout",
     "output_type": "stream",
     "text": [
      "나 예 00 00 00 00 00 00 00 00 유효기간 말씀 부탁드립니다 카드 소유자 고객님 본인 맞습니까 예 맞아요 000 고객님 생년월일 한 번 더\n"
     ]
    },
    {
     "name": "stderr",
     "output_type": "stream",
     "text": [
      " 50%|█████     | 7/14 [00:22<00:22,  3.20s/it]"
     ]
    },
    {
     "name": "stdout",
     "output_type": "stream",
     "text": [
      "공공 쇼핑 상담원 공고입니다 고객님 통화 가능하십니까 예 가능합니다 000 고객님 있습니까 맞아요 고객님 너무 죄송합니다 주소 때문에 좀 확인해 보시라고 하고 전화 종료 하셨잖아요 그렇죠 확인해 보니까 정말\n"
     ]
    },
    {
     "name": "stderr",
     "output_type": "stream",
     "text": [
      " 57%|█████▋    | 8/14 [00:25<00:19,  3.24s/it]"
     ]
    },
    {
     "name": "stdout",
     "output_type": "stream",
     "text": [
      "000000네 감사합니다 체크카드로 58,800원 일시불결제 하시겠습니까 예 그럴게요 예 카드 인증 연결 하겠습니다 안내멘트에 따라 비밀번호 앞 두 자리 입력 부탁드립니다\n"
     ]
    },
    {
     "name": "stderr",
     "output_type": "stream",
     "text": [
      " 64%|██████▍   | 9/14 [00:29<00:16,  3.30s/it]"
     ]
    },
    {
     "name": "stdout",
     "output_type": "stream",
     "text": [
      "드리겠습니다네 알겠습니다 고객님 58,800원 일시불 승인되었습니다 지금 결제하신 카드 등록해 드릴까요네 등록해주세요 제품은 일요일 공휴일 제외하고 평균 3일 이내 배송 예정입니다네 그렇군요\n"
     ]
    },
    {
     "name": "stderr",
     "output_type": "stream",
     "text": [
      " 71%|███████▏  | 10/14 [00:32<00:13,  3.25s/it]"
     ]
    },
    {
     "name": "stdout",
     "output_type": "stream",
     "text": [
      "설 연휴 끝나고 10월 7일부터 순차적으로 배송이 되나 보니 조금 늦어질 수 있는 점 양해 부탁드립니다 알겠습니다 고객님 혹시 교환 반품 하시려면 배송 받으신 날로부터 7일 이내로 전화 주시면 되고요네 제품에 하자가 있는 경우에 제거하거나 외부\n"
     ]
    },
    {
     "name": "stderr",
     "output_type": "stream",
     "text": [
      " 79%|███████▊  | 11/14 [00:35<00:09,  3.29s/it]"
     ]
    },
    {
     "name": "stdout",
     "output_type": "stream",
     "text": [
      "세탁 기간이 경과하면 교환반품불가 한 점 양해 부탁드립니다네 알겠어요 제 거 하지 마시고 7일이내 전화 주시면 택배비 없이 교환 반품 가능 합니다네 알았어요네 더 문의사항은 없습니까네 없어요네 고객님\n"
     ]
    },
    {
     "name": "stderr",
     "output_type": "stream",
     "text": [
      " 86%|████████▌ | 12/14 [00:38<00:06,  3.16s/it]"
     ]
    },
    {
     "name": "stdout",
     "output_type": "stream",
     "text": [
      "주소 변경하면 혹시 문자가 갈 수 있어요 정보가 변경되었다고요 그 부분은 양해 부탁드립니다네 알겠습니다 더문 의사 없으니까 없어요 새해 복 많이 받으시고 건강하십시오 5000였습니다 새해 복 많이 받으세요\n"
     ]
    },
    {
     "name": "stderr",
     "output_type": "stream",
     "text": [
      " 93%|█████████▎| 13/14 [00:42<00:03,  3.20s/it]"
     ]
    },
    {
     "name": "stdout",
     "output_type": "stream",
     "text": [
      "주더라고요 너무 죄송합니다네 괜찮습니다네 그래서 제가 인터넷에서 확인하고 다시 주문 도와 드리려고 전화 드렸습니다 다시 주문 도와드릴까요네 그렇게 해주세요 예 확인 감사합니다 000 고객님 아까 말씀하신 주소 제가 한번 확인하고요 더 말씀 드릴게요네 알겠어요\n"
     ]
    },
    {
     "name": "stderr",
     "output_type": "stream",
     "text": [
      "100%|██████████| 14/14 [00:45<00:00,  3.25s/it]\n"
     ]
    },
    {
     "name": "stdout",
     "output_type": "stream",
     "text": [
      "제가 그 인터넷으로 좀 이렇게 찾아보니까 고객님 말대로 무슨 공이 있더라고요 그래서 그 다음에 뭐라고 적으면 됩니까 다음에요 0 0 0 4 이거 000 만 적으면 됩니까네네 알겠습니다 주소 한 번만 더 천천히 말해 보겠습니다 강원도 고성\n"
     ]
    },
    {
     "name": "stderr",
     "output_type": "stream",
     "text": [
      "  4%|▍         | 1/24 [00:03<01:20,  3.52s/it]"
     ]
    },
    {
     "name": "stdout",
     "output_type": "stream",
     "text": [
      "500 500 생년월일만 말씀하시면 됩니다 00 00 00 00 00 등록해 드리고요\n"
     ]
    },
    {
     "name": "stderr",
     "output_type": "stream",
     "text": [
      "  8%|▊         | 2/24 [00:06<01:13,  3.36s/it]"
     ]
    },
    {
     "name": "stdout",
     "output_type": "stream",
     "text": [
      "네 전화번호 말씀 부탁드립니다네 확인 감사합니다 자택 전화번호 등록해 드릴까요 500 주소 말씀 부탁드립니다\n"
     ]
    },
    {
     "name": "stderr",
     "output_type": "stream",
     "text": [
      " 12%|█▎        | 3/24 [00:10<01:09,  3.32s/it]"
     ]
    },
    {
     "name": "stdout",
     "output_type": "stream",
     "text": [
      "해운대고 0000 아파트 공동의 00 00 00 조회가 안 되는데 000인가요 안 했어요\n"
     ]
    },
    {
     "name": "stderr",
     "output_type": "stream",
     "text": [
      " 17%|█▋        | 4/24 [00:13<01:08,  3.44s/it]"
     ]
    },
    {
     "name": "stdout",
     "output_type": "stream",
     "text": [
      "000000 맞습니까 000000 예 아네 00002 확인되고\n"
     ]
    },
    {
     "name": "stderr",
     "output_type": "stream",
     "text": [
      " 21%|██        | 5/24 [00:16<01:03,  3.37s/it]"
     ]
    },
    {
     "name": "stdout",
     "output_type": "stream",
     "text": [
      "00 00 00 00 00 00 00으로 확인되는 대로 고객님 맞습니까 지금 상품을 받을 주소지는 지금 0 0 0 0\n"
     ]
    },
    {
     "name": "stderr",
     "output_type": "stream",
     "text": [
      " 25%|██▌       | 6/24 [00:20<00:59,  3.32s/it]"
     ]
    },
    {
     "name": "stdout",
     "output_type": "stream",
     "text": [
      "말씀인 거죠이 주소로 배송지 등록해 드리고요 0000까지만 확인해 드리면 되나요네 주소 다시 한번 확인하겠습니다 신 주소 확인해 드릴 거고요 부산 해운대구\n"
     ]
    },
    {
     "name": "stderr",
     "output_type": "stream",
     "text": [
      " 29%|██▉       | 7/24 [00:23<00:55,  3.27s/it]"
     ]
    },
    {
     "name": "stdout",
     "output_type": "stream",
     "text": [
      "00 쇼핑 0 0입니다 얼마전에 운동기구 있잖아요 지금 방송 중인 상품 말씀인가요\n"
     ]
    },
    {
     "name": "stderr",
     "output_type": "stream",
     "text": [
      " 33%|███▎      | 8/24 [00:26<00:52,  3.28s/it]"
     ]
    },
    {
     "name": "stdout",
     "output_type": "stream",
     "text": [
      "00 00 00 00 00 00 맞습니까 이벤트나 상품 서비스 광고를 문자로 드릴 수 있습니다 지금 방송 중인 상품\n"
     ]
    },
    {
     "name": "stderr",
     "output_type": "stream",
     "text": [
      " 38%|███▊      | 9/24 [00:29<00:48,  3.25s/it]"
     ]
    },
    {
     "name": "stdout",
     "output_type": "stream",
     "text": [
      "이번만 예외적으로 자동 주문 5,000원 할인 적용 해 드리고요 우리는 스쿼트머신 색상 말씀 부탁드립니다네 가능하세요 일시불 하면 만 원 할인 받으시는데요 얼마예요\n"
     ]
    },
    {
     "name": "stderr",
     "output_type": "stream",
     "text": [
      " 42%|████▏     | 10/24 [00:33<00:46,  3.30s/it]"
     ]
    },
    {
     "name": "stdout",
     "output_type": "stream",
     "text": [
      "할부로 하시면 만원 확인되지 않습니다 일단 블랙과 화이트 중 어느 걸로 해드릴까요 블랙색상으로 주문 해 드리고요 5천 원 할인되는 해요 14만 4천 원 결제 가능합니다\n"
     ]
    },
    {
     "name": "stderr",
     "output_type": "stream",
     "text": [
      " 46%|████▌     | 11/24 [00:36<00:42,  3.25s/it]"
     ]
    },
    {
     "name": "stdout",
     "output_type": "stream",
     "text": [
      "사천 아닙니까 그거는 자동 주문 5,000원 일시불 만 원 그리고 행사카드 농협카드 개인신용카드인 경우 5% 청구할인 되었을 때 세 가지 모두 적용 되었을 때 금액입니다 144000원 주문해 드리면 되겠습니까\n"
     ]
    },
    {
     "name": "stderr",
     "output_type": "stream",
     "text": [
      " 50%|█████     | 12/24 [00:39<00:38,  3.22s/it]"
     ]
    },
    {
     "name": "stdout",
     "output_type": "stream",
     "text": [
      "어 그렇게 해주세요 카드 번호 전체 말씀 부탁드립니다 카드 번호 말씀해 주시면 됩니다\n"
     ]
    },
    {
     "name": "stderr",
     "output_type": "stream",
     "text": [
      " 54%|█████▍    | 13/24 [00:42<00:35,  3.27s/it]"
     ]
    },
    {
     "name": "stdout",
     "output_type": "stream",
     "text": [
      "카드 소유주 본인 카드 맞습니까 생년월일 말씀 부탁드립니다 말씀 부탁드립니다\n"
     ]
    },
    {
     "name": "stderr",
     "output_type": "stream",
     "text": [
      " 58%|█████▊    | 14/24 [00:46<00:33,  3.38s/it]"
     ]
    },
    {
     "name": "stdout",
     "output_type": "stream",
     "text": [
      "네 확인 감사합니다 무이자 10개월 후 가능하세요 의자 6개월 14만 4천 원 롯데카드 결제하겠습니다 고객님의 안전한 결제를 위해 카드인증 ARS 연결해 드리겠습니다 안내멘트에 따라 카드 비밀번호\n"
     ]
    },
    {
     "name": "stderr",
     "output_type": "stream",
     "text": [
      " 62%|██████▎   | 15/24 [00:49<00:30,  3.37s/it]"
     ]
    },
    {
     "name": "stdout",
     "output_type": "stream",
     "text": [
      "두 자리 입력 부탁드립니다 연결 하겠습니다 비밀번호 틀리다고 확인 되는데요 고객님 그 비밀번호 숫자 두 자리만 입력하시면 되세요\n"
     ]
    },
    {
     "name": "stderr",
     "output_type": "stream",
     "text": [
      " 67%|██████▋   | 16/24 [00:53<00:26,  3.37s/it]"
     ]
    },
    {
     "name": "stdout",
     "output_type": "stream",
     "text": [
      "습니다 비밀번호 틀리다고 확인되세요 그냥 한 번도 틀 경우에 카드로 결제가 불가할 수 있습니다 다시 할게요\n"
     ]
    },
    {
     "name": "stderr",
     "output_type": "stream",
     "text": [
      " 71%|███████   | 17/24 [00:56<00:23,  3.34s/it]"
     ]
    },
    {
     "name": "stdout",
     "output_type": "stream",
     "text": [
      "아네 알겠습니다 연결 하겠습니다 죄송합니다만 비밀번호 오류로이 카드 결제가 어렵습니다네 비밀번호는 롯데카드 4로 전화하셔서\n"
     ]
    },
    {
     "name": "stderr",
     "output_type": "stream",
     "text": [
      " 75%|███████▌  | 18/24 [00:59<00:19,  3.33s/it]"
     ]
    },
    {
     "name": "stdout",
     "output_type": "stream",
     "text": [
      "아 방송할 때 주문 안 하고 끝나고 지금 주문해 보고 싶어서 전화했는데요 저희 쇼핑 처음 이용하시면 고객 정보 등록 후 주문 도와 드리겠습니다 고객님의 회원 서비스 제공을 위해 성함 생년월일 성별 주소 연락처\n"
     ]
    },
    {
     "name": "stderr",
     "output_type": "stream",
     "text": [
      " 79%|███████▉  | 19/24 [01:03<00:16,  3.32s/it]"
     ]
    },
    {
     "name": "stdout",
     "output_type": "stream",
     "text": [
      "결제 가능 하세요네 고객님 고객님\n"
     ]
    },
    {
     "name": "stderr",
     "output_type": "stream",
     "text": [
      " 83%|████████▎ | 20/24 [01:06<00:13,  3.32s/it]"
     ]
    },
    {
     "name": "stdout",
     "output_type": "stream",
     "text": [
      "본인 카드 맞습니까 말씀 부탁드립니다 무이자 6개월로 해 드리고요 다시 인증센터 연결하면 비밀번호 앞 두 자리 입력 부탁드립니다 연결 하겠습니다\n"
     ]
    },
    {
     "name": "stderr",
     "output_type": "stream",
     "text": [
      " 88%|████████▊ | 21/24 [01:09<00:10,  3.39s/it]"
     ]
    },
    {
     "name": "stdout",
     "output_type": "stream",
     "text": [
      "14만 4천 원 무이자 6개월로 정상 승인되었습니다 지금 등록된 카드 그대로 등록해 놓을까요 상품은 일요일 공휴일 제외 일주일 내내 배송이 됩니다\n"
     ]
    },
    {
     "name": "stderr",
     "output_type": "stream",
     "text": [
      " 92%|█████████▏| 22/24 [01:13<00:06,  3.42s/it]"
     ]
    },
    {
     "name": "stdout",
     "output_type": "stream",
     "text": [
      "반품 배송 받으신 날로부터 30일이내 연락을 주셔야 하며 제품하자에 왜 개봉 및 사용 시 기간 경과 시 교환 반품 어려운 점 양해 부탁드립니다 제품 수령은 포장 박스 버리지 마시고 보관 부탁드립니다 예 주문 되었습니다 편안한 밤\n"
     ]
    },
    {
     "name": "stderr",
     "output_type": "stream",
     "text": [
      " 96%|█████████▌| 23/24 [01:14<00:02,  2.83s/it]"
     ]
    },
    {
     "name": "stdout",
     "output_type": "stream",
     "text": [
      "0 0 0 열심히 다 알겠어요\n"
     ]
    },
    {
     "name": "stderr",
     "output_type": "stream",
     "text": [
      "100%|██████████| 24/24 [01:18<00:00,  3.26s/it]\n"
     ]
    },
    {
     "name": "stdout",
     "output_type": "stream",
     "text": [
      "등록하고 있습니다 이에 동의하십니까 그럴게요 감사합니다 전화 주신 고객님 성함 말씀 부탁드립니다 000 맞습니까네 생년월일 6자리 말씀 부탁드립니다\n"
     ]
    },
    {
     "name": "stderr",
     "output_type": "stream",
     "text": [
      "  5%|▌         | 1/19 [00:03<01:00,  3.35s/it]"
     ]
    },
    {
     "name": "stdout",
     "output_type": "stream",
     "text": [
      "말씀 부탁드립니다 서울시 동작구 0000 동작구 00 00 00\n"
     ]
    },
    {
     "name": "stderr",
     "output_type": "stream",
     "text": [
      " 11%|█         | 2/19 [00:06<00:56,  3.33s/it]"
     ]
    },
    {
     "name": "stdout",
     "output_type": "stream",
     "text": [
      "000 000 죄송합니다 동작구 000 000 만나요 맞는데요 혹시 죄송하지만 도로명 확인 되면 도로명 말씀 부탁드리겠습니다 예 예\n"
     ]
    },
    {
     "name": "stderr",
     "output_type": "stream",
     "text": [
      " 16%|█▌        | 3/19 [00:09<00:52,  3.31s/it]"
     ]
    },
    {
     "name": "stdout",
     "output_type": "stream",
     "text": [
      "00 00 00 00 00 00 00 00 00 아파트 나올 텐데요 00 00 00\n"
     ]
    },
    {
     "name": "stderr",
     "output_type": "stream",
     "text": [
      " 21%|██        | 4/19 [00:13<00:49,  3.33s/it]"
     ]
    },
    {
     "name": "stdout",
     "output_type": "stream",
     "text": [
      "혹시 궁금 궁금 궁금 아닐까요 0 0 0 0 고객님\n"
     ]
    },
    {
     "name": "stderr",
     "output_type": "stream",
     "text": [
      " 26%|██▋       | 5/19 [00:16<00:48,  3.45s/it]"
     ]
    },
    {
     "name": "stdout",
     "output_type": "stream",
     "text": [
      "공공아파트 니요 그러면 00 00 00 00 00 확인되고 있습니다 아네 그렇게 해 주세요 고객님 몇 동 몇 호입니까 아예 0 0 2 0 0 0 0 말씀하신 주소는\n"
     ]
    },
    {
     "name": "stderr",
     "output_type": "stream",
     "text": [
      " 32%|███▏      | 6/19 [00:20<00:45,  3.48s/it]"
     ]
    },
    {
     "name": "stdout",
     "output_type": "stream",
     "text": [
      "동작구 00 00 00 00 00 아파트 00 00 확인해서 등록을 해 드렸습니다네 알겠습니다 이벤트나 상품 서비스 광고를 문자로 드릴 수 있습니다 아 예 예\n"
     ]
    },
    {
     "name": "stderr",
     "output_type": "stream",
     "text": [
      " 37%|███▋      | 7/19 [00:23<00:41,  3.46s/it]"
     ]
    },
    {
     "name": "stdout",
     "output_type": "stream",
     "text": [
      "궁금 쇼핑 2000입니다네 여보세요네 고객님 이거 주문 하려고 하는데요 입금이 안 됐다고 하네요 아 그러십니까 고객님 공공 쇼핑 처음이요 주시면 고객 정보 등록 후 상품 주문 도와드리겠습니다네 그럴게요 전화 주소\n"
     ]
    },
    {
     "name": "stderr",
     "output_type": "stream",
     "text": [
      " 42%|████▏     | 8/19 [00:27<00:38,  3.50s/it]"
     ]
    },
    {
     "name": "stdout",
     "output_type": "stream",
     "text": [
      "방송으로 보시는 캐나다산 루이스 노바 랍스타 자동 주문 천 원 할인해 터뜨려서 11만 8천 원 결제 도움 드리겠습니다네네 결제는 카드 하시겠습니까 고객님네 그걸로 할게요 잠시만 기다려 주시겠습니까네 기다릴게요\n"
     ]
    },
    {
     "name": "stderr",
     "output_type": "stream",
     "text": [
      " 47%|████▋     | 9/19 [00:31<00:35,  3.52s/it]"
     ]
    },
    {
     "name": "stdout",
     "output_type": "stream",
     "text": [
      "기다려 주셔서 감사합니다 고객님 카드번호 말씀 부탁드립니다 00 00 00 고객님 본인 되십니까네 맞아요\n"
     ]
    },
    {
     "name": "stderr",
     "output_type": "stream",
     "text": [
      " 53%|█████▎    | 10/19 [00:34<00:31,  3.52s/it]"
     ]
    },
    {
     "name": "stdout",
     "output_type": "stream",
     "text": [
      "6자리 말씀 부탁드립니다 000000 확인 감사합니다 카드 유효기간 말씀 부탁드립니다 공공연 확인 감사합니다 11만 8천원 20일 결제하신게 맞습니까네 맞아요\n"
     ]
    },
    {
     "name": "stderr",
     "output_type": "stream",
     "text": [
      " 58%|█████▊    | 11/19 [00:38<00:28,  3.53s/it]"
     ]
    },
    {
     "name": "stdout",
     "output_type": "stream",
     "text": [
      "고객님이 안전한 결제를 위해 카드인증 ARS로 연결 하겠습니다 안내멘트에 따라 카드 비밀번호 앞 두 자리 입력 부탁드립니다 연결 하겠습니다네 알겠습니다 요청하신 상품 128,000원 비밀번호가 틀려서 20일선이\n"
     ]
    },
    {
     "name": "stderr",
     "output_type": "stream",
     "text": [
      " 63%|██████▎   | 12/19 [00:41<00:24,  3.55s/it]"
     ]
    },
    {
     "name": "stdout",
     "output_type": "stream",
     "text": [
      "다시 한번 연결해 드릴까요 비밀번호가 틀리더라고요네 비밀번호 4자리 중에서 앞 두 자리 많이 입력해 주시면 되세요 안에 다시 한 번 연결 하겠습니다네 알겠습니다 요청하신 상품 118,000원 비밀번호가 자꾸 틀리다고 하는데요\n"
     ]
    },
    {
     "name": "stderr",
     "output_type": "stream",
     "text": [
      " 68%|██████▊   | 13/19 [00:45<00:21,  3.50s/it]"
     ]
    },
    {
     "name": "stdout",
     "output_type": "stream",
     "text": [
      "이게 다른 거는 없는데요 한 번 더 해 볼게요네 알겠습니다 다시 한번 연결해 드리겠습니다네 그렇게 해 주세요네 주문 되었습니다 고객님 맞아요네 마지막에 누른게 확인 되고요 다음에 편\n"
     ]
    },
    {
     "name": "stderr",
     "output_type": "stream",
     "text": [
      " 74%|███████▎  | 14/19 [00:48<00:17,  3.55s/it]"
     ]
    },
    {
     "name": "stdout",
     "output_type": "stream",
     "text": [
      "그대를 위해서 카드 정보 등록해 드릴까요네 그렇게 해주세요네 감사합니다 현금 배송은 일요일 월요일 금요일 대회 평균 3일이내 배송됩니다네네 교환이나 반품은 배송받으신 날로부터 7일이내 연락을 주셔야 되며 제품의 경우 제품의 화장이\n"
     ]
    },
    {
     "name": "stderr",
     "output_type": "stream",
     "text": [
      " 79%|███████▉  | 15/19 [00:52<00:14,  3.57s/it]"
     ]
    },
    {
     "name": "stdout",
     "output_type": "stream",
     "text": [
      "변심 교환이나 반품이 불가하오니 이점 양해 부탁드립니다 더 보낼 수 없습니까 이거 저기 할인된 거죠 저희가 할인 되는 거는 천원 밖에 할인 안 됐고요네 카드 5% 맞는 거잖아요 농협카드 되는 거세요 고객님은 체크\n"
     ]
    },
    {
     "name": "stderr",
     "output_type": "stream",
     "text": [
      " 84%|████████▍ | 16/19 [00:56<00:10,  3.60s/it]"
     ]
    },
    {
     "name": "stdout",
     "output_type": "stream",
     "text": [
      "되잖아요 예 그렇죠 그 카드가 아니라 일반 신용 카드로 결제시 청구할인 5% 혜택 드리고 있는데요 체크 카드 할인이 안 됩니다 고객님 아 그래요 예 고객님 아 예 알겠습니다네 감사합니다 더 좋은 상품으로 찾아뵙겠습니다 000였습니다\n"
     ]
    },
    {
     "name": "stderr",
     "output_type": "stream",
     "text": [
      " 89%|████████▉ | 17/19 [00:56<00:05,  2.77s/it]"
     ]
    },
    {
     "name": "stdout",
     "output_type": "stream",
     "text": [
      "네 예\n"
     ]
    },
    {
     "name": "stderr",
     "output_type": "stream",
     "text": [
      " 95%|█████████▍| 18/19 [01:01<00:03,  3.16s/it]"
     ]
    },
    {
     "name": "stdout",
     "output_type": "stream",
     "text": [
      "고객님이 회원 서비스 제공을 위해 성함 생년월일 성별 주소 연락처를 등록하고 있습니다 이에 동의하십니까네 감사합니다 성함 말씀 부탁드립니다 000 확인 감사합니다 생년월일 6자리 말씀 부탁드립니다\n"
     ]
    },
    {
     "name": "stderr",
     "output_type": "stream",
     "text": [
      "100%|██████████| 19/19 [01:04<00:00,  3.37s/it]\n"
     ]
    },
    {
     "name": "stdout",
     "output_type": "stream",
     "text": [
      "00 00 00 확인 감사합니다 전화번호 말씀 부탁드립니다 00 00 00 00 00 00 정보 확인 감사합니다 유선 번호 등록 드릴까요 아니요네 감사합니다\n"
     ]
    },
    {
     "name": "stderr",
     "output_type": "stream",
     "text": [
      "  8%|▊         | 1/12 [00:03<00:33,  3.02s/it]"
     ]
    },
    {
     "name": "stdout",
     "output_type": "stream",
     "text": [
      "네 휴대폰 번호만 등록해 드리겠습니다 주소 확인 부탁드립니다 예 경북 문경시 0000 노네 고객님 나머지 주소는요 00000 경북 문경시\n"
     ]
    },
    {
     "name": "stderr",
     "output_type": "stream",
     "text": [
      " 17%|█▋        | 2/12 [00:06<00:33,  3.37s/it]"
     ]
    },
    {
     "name": "stdout",
     "output_type": "stream",
     "text": [
      "운곡로 00 00 00 00 나와 있습니다 맞습니까네 맞아요네 이벤트나 상품 서비스 광고를 문자나 전화로 드릴 수 있습니다네 알겠습니다 하백스 특대용량 에어프라이어 128,000원 상품 주문 하시는 거 맞\n"
     ]
    },
    {
     "name": "stderr",
     "output_type": "stream",
     "text": [
      " 25%|██▌       | 3/12 [00:09<00:29,  3.32s/it]"
     ]
    },
    {
     "name": "stdout",
     "output_type": "stream",
     "text": [
      "아 왜 12만 8천 원에서 천원이 할인되나요 아니요 129,000원에서 1,000원 확인해서 12만 8천 원이 된 거고요 아네 그래요 일시불로 결제 하시게 되면 만 원 할인됩니다 아 그렇구나 어쩐지 118,000원 이렇게 되어 있더라고요\n"
     ]
    },
    {
     "name": "stderr",
     "output_type": "stream",
     "text": [
      " 33%|███▎      | 4/12 [00:18<00:42,  5.31s/it]"
     ]
    },
    {
     "name": "stdout",
     "output_type": "stream",
     "text": [
      "맞죠네 118,000원 되시는 거예요네 알겠어요 그러면 카드 결제로 도와 드릴까요 아니요 그냥 현금으로요네 고객님 어느 은행이 편 하십니까 농협 이요 내 농협은행 입금 계좌 금액은 문자로 발송해 드리겠습니다네 알겠습니다\n"
     ]
    },
    {
     "name": "stderr",
     "output_type": "stream",
     "text": [
      " 42%|████▏     | 5/12 [00:21<00:31,  4.53s/it]"
     ]
    },
    {
     "name": "stdout",
     "output_type": "stream",
     "text": [
      "현금 영수증 발행해 드릴까요 아니요 괜찮아요네 필요 없으시고요 주문은 정상적으로 완료되었습니다네 알겠어요 상품 배송은 일요일 공휴일 제외하고 평균 3일 이내 배송 되고요 교환이나 반품은 배송받으신 날로부터 제품하자시\n"
     ]
    },
    {
     "name": "stderr",
     "output_type": "stream",
     "text": [
      " 50%|█████     | 6/12 [00:24<00:24,  4.10s/it]"
     ]
    },
    {
     "name": "stdout",
     "output_type": "stream",
     "text": [
      "모임에 미개봉시 30일 이내 연락 주셔야 하며 제품하자 왜 개봉 및 사용 시 기간 경과시에는 교환이나 반품이 불가하오니 이점 양해 부탁드립니다네 알겠습니다 더 문의사항은 없으니까 그거 계좌번호 보내 주신 거 3일 이내 송금 하는 거예요네 맞습니다 만약에\n"
     ]
    },
    {
     "name": "stderr",
     "output_type": "stream",
     "text": [
      " 58%|█████▊    | 7/12 [00:28<00:19,  3.88s/it]"
     ]
    },
    {
     "name": "stdout",
     "output_type": "stream",
     "text": [
      "공공 쇼핑입니다 전화 문의 남겨주셔서요네 맞아요 에어 프라이어 주문 하시는 거죠네 그래요네 공공 쇼핑 처음 이용하셔서 고객 정보 등록 후에 주문 도와드리겠습니다네 알겠어요네 고객님 회원 서비스 제공을 위해 성함\n"
     ]
    },
    {
     "name": "stderr",
     "output_type": "stream",
     "text": [
      " 67%|██████▋   | 8/12 [00:31<00:14,  3.70s/it]"
     ]
    },
    {
     "name": "stdout",
     "output_type": "stream",
     "text": [
      "송금 못 하면 어떻게 되죠 그러시면 저희 쪽에 연락 주셔 가지고 농협은행 입금 계좌 다시 달라고 얘기해 주시면 됩니다 그러면 또 다른 계좌 번호로 3일간 위험하게 되십니다 아 그럼 에어프라이어 주는 이유 한 거죠네 맞습니다 그럼 이게 가상계좌인가요네 가상 계좌예요네 알겠습니다\n"
     ]
    },
    {
     "name": "stderr",
     "output_type": "stream",
     "text": [
      " 75%|███████▌  | 9/12 [00:34<00:10,  3.54s/it]"
     ]
    },
    {
     "name": "stdout",
     "output_type": "stream",
     "text": [
      "상품은 입금 확인 후 발송되며 주라 지시가 떨어져서 그때부터 순차적으로 배송이 됩니다 지금 입금하면 오늘 바로 발송 한다고요 그거는 아니고 설 지나고 나서 상태적으로 배송이 되세요 그거 오늘 송금을 해도 토요일 연휴 빨간 날 지나고 배송 한다는 거죠네 맞습니다네 빨간\n"
     ]
    },
    {
     "name": "stderr",
     "output_type": "stream",
     "text": [
      " 83%|████████▎ | 10/12 [00:37<00:06,  3.20s/it]"
     ]
    },
    {
     "name": "stdout",
     "output_type": "stream",
     "text": [
      "내가 집에 없을 수도 있기 때문에 그래요네 상품 가기 전에 운송장 번호를 발송해 드려요네 알겠습니다네 2019년도에는 더 좋은 상품으로 찾아뵙겠습니다 000 늘 감사합니다\n"
     ]
    },
    {
     "name": "stderr",
     "output_type": "stream",
     "text": [
      " 92%|█████████▏| 11/12 [00:40<00:03,  3.16s/it]"
     ]
    },
    {
     "name": "stdout",
     "output_type": "stream",
     "text": [
      "성별 주소 연락처를 등록하고 있습니다 이에 동의하십니까 동의함니다네 감사합니다 전화 주신 고객님 본인 성함 말씀 부탁드립니다 0 0 0 0 0 0 고객님 2시고요네 맞습니다네 생년월일 말씀 부탁드립니다\n"
     ]
    },
    {
     "name": "stderr",
     "output_type": "stream",
     "text": [
      "100%|██████████| 12/12 [00:43<00:00,  3.61s/it]\n"
     ]
    },
    {
     "name": "stdout",
     "output_type": "stream",
     "text": [
      "00 00 00 00 월 001네 맞습니다네 휴대폰 번호 말씀 부탁드립니다 00 00 00 00 00 00 확인해 주셔서 감사합니다 집 전화번호 등록해 드릴까요 아니 휴대폰만 해주시면 됩니다\n"
     ]
    },
    {
     "name": "stderr",
     "output_type": "stream",
     "text": [
      " 14%|█▍        | 1/7 [00:03<00:19,  3.17s/it]"
     ]
    },
    {
     "name": "stdout",
     "output_type": "stream",
     "text": [
      "전체 말씀 부탁드립니다 00 00 00 00 00 00 00 00네 고객님 본인 카드가 맞습니까네 제 거예요네 고객님 생년월일 확인 부탁드립니다 000000 카드 유효기간 확인 부탁드립니다\n"
     ]
    },
    {
     "name": "stderr",
     "output_type": "stream",
     "text": [
      " 29%|██▊       | 2/7 [00:06<00:16,  3.21s/it]"
     ]
    },
    {
     "name": "stdout",
     "output_type": "stream",
     "text": [
      "공군네 확인 감사합니다 삼성카드로 무이자 5개월 58,800원 결제 진행해 드리면 될까요네 해 주세요네 안전한 결제를 위해 카드인증 ARS로 연결됩니다 안내멘트에 따라 카드 비밀번호 앞 두 자리 입력 부탁드립니다\n"
     ]
    },
    {
     "name": "stderr",
     "output_type": "stream",
     "text": [
      " 43%|████▎     | 3/7 [00:09<00:12,  3.24s/it]"
     ]
    },
    {
     "name": "stdout",
     "output_type": "stream",
     "text": [
      "연결합니다네네 삼성카드로 무이자 5개월 58,800원 결제 승인되었습니다 감사합니다 다음 번 주문하실 때 사용하실 수 있도록 카드 정보 등록을 해 드릴까요 해 주세요네 등록하겠습니다 송장 번호가 출력되면\n"
     ]
    },
    {
     "name": "stderr",
     "output_type": "stream",
     "text": [
      " 57%|█████▋    | 4/7 [00:11<00:07,  2.55s/it]"
     ]
    },
    {
     "name": "stdout",
     "output_type": "stream",
     "text": [
      "안내 전화 다시 연락을 드리도록 하겠습니다 알겠습니다 4 0 0 0 2 없습니다 감사합니다 수고하세요\n"
     ]
    },
    {
     "name": "stderr",
     "output_type": "stream",
     "text": [
      " 71%|███████▏  | 5/7 [00:14<00:05,  2.80s/it]"
     ]
    },
    {
     "name": "stdout",
     "output_type": "stream",
     "text": [
      "00 쇼핑입니다 000 고객님 되십니까네 맞습니다네 마르조경량다운 반품 요청 하셨는데요 그러시다 그냥 착용 하신다고 하셔서 결제 진행으로 도와드리려고 안내차 연락을 드렸습니다 그런데 반품한 상품은 어떻게 보내주나요네\n"
     ]
    },
    {
     "name": "stderr",
     "output_type": "stream",
     "text": [
      " 86%|████████▌ | 6/7 [00:17<00:02,  2.90s/it]"
     ]
    },
    {
     "name": "stdout",
     "output_type": "stream",
     "text": [
      "말씀드렸는데요 착불로 발송을 한다고 합니다 원래 고객님께서 수령 하셨던 전북 군산시 봉곡로 발송해 드리면 될까요네 그쪽으로 보내주세요네 나머지주소 말씀 부탁드립니다 000000입니다네 확인 감사합니다 연락처는 고객님 번호 1 0 0 0 0 0\n"
     ]
    },
    {
     "name": "stderr",
     "output_type": "stream",
     "text": [
      "100%|██████████| 7/7 [00:20<00:00,  2.97s/it]\n"
     ]
    },
    {
     "name": "stdout",
     "output_type": "stream",
     "text": [
      "0000으로 기재하면 될까요 그렇게 해 주세요네 58,800원 결제 진행 도와드리도록 하겠습니다 결제는 카드로 도와드릴까요 해주세요네 카드 번호 끝네 자리 확인 부탁드립니다 0000네 등록이 되어 있지 않으세요 카드\n"
     ]
    },
    {
     "name": "stderr",
     "output_type": "stream",
     "text": [
      "  7%|▋         | 1/14 [00:03<00:44,  3.40s/it]"
     ]
    },
    {
     "name": "stdout",
     "output_type": "stream",
     "text": [
      "00 00 00 아까 말씀하신 핸드폰 번호 등록 개 드릴까요네 전화번호가 따로 있습니까 없습니다 배송 받으실수 말씀 부탁드립니다 부산시 서구 500\n"
     ]
    },
    {
     "name": "stderr",
     "output_type": "stream",
     "text": [
      " 14%|█▍        | 2/14 [00:06<00:41,  3.45s/it]"
     ]
    },
    {
     "name": "stdout",
     "output_type": "stream",
     "text": [
      "00 00 00 소중한 정보 확인 감사합니다 이벤트나 상품 서비스 광고를 문자로 드릴 수 있습니다네 그러세요 지금 방송하고 있는 상품은 공고\n"
     ]
    },
    {
     "name": "stderr",
     "output_type": "stream",
     "text": [
      " 21%|██▏       | 3/14 [00:10<00:39,  3.58s/it]"
     ]
    },
    {
     "name": "stdout",
     "output_type": "stream",
     "text": [
      "전동공구 인데요 혹시 이전에 방송했던 000 사골도가니탕 주문 하시는 거 맞습니까네 맞아요 사골도가니탕 17개로 구성된 상품이 있고 국물 없이 수육 10 팩으로 되어 있는 상품이 있습니다\n"
     ]
    },
    {
     "name": "stderr",
     "output_type": "stream",
     "text": [
      " 29%|██▊       | 4/14 [00:14<00:36,  3.62s/it]"
     ]
    },
    {
     "name": "stdout",
     "output_type": "stream",
     "text": [
      "음성으로 주문 도와 드릴까요 어 그러면 가격은 똑같나요 리 금액은 4만 9천 9백 원입니다 그러면 도가니탕 17개로 주세요 자동 주문하니까 1,000원 적용하여 차 18,900원으로 도와 드리겠습니다\n"
     ]
    },
    {
     "name": "stderr",
     "output_type": "stream",
     "text": [
      " 36%|███▌      | 5/14 [00:17<00:31,  3.49s/it]"
     ]
    },
    {
     "name": "stdout",
     "output_type": "stream",
     "text": [
      "결제는 카드로 도와드릴까요 카드 번호 말씀 부탁드립니다 00 00 00 00\n"
     ]
    },
    {
     "name": "stderr",
     "output_type": "stream",
     "text": [
      " 43%|████▎     | 6/14 [00:21<00:28,  3.53s/it]"
     ]
    },
    {
     "name": "stdout",
     "output_type": "stream",
     "text": [
      "네 카드 소유진은 고객님 본인 되십니까네 맞아요네 고객님 생년월일 6자리 다시 한번 확인 부탁드리겠습니다 4 0 0 0 0 0 0\n"
     ]
    },
    {
     "name": "stderr",
     "output_type": "stream",
     "text": [
      " 50%|█████     | 7/14 [00:25<00:25,  3.63s/it]"
     ]
    },
    {
     "name": "stdout",
     "output_type": "stream",
     "text": [
      "궁금 쇼핑 0 0 0입니다 상품 주문 좀 하려고 그러는데요네 그러십니까 고객님 정보 확인 후 주문 도와 드리겠습니다 혹시 공공 쇼핑 처음 이용하십니까 아닌데요 아 그랬습니까 핸드폰 번호 한번 부탁드려도\n"
     ]
    },
    {
     "name": "stderr",
     "output_type": "stream",
     "text": [
      " 57%|█████▋    | 8/14 [00:28<00:21,  3.64s/it]"
     ]
    },
    {
     "name": "stdout",
     "output_type": "stream",
     "text": [
      "유효기간 말씀 부탁드립니다 00 00 21 가능합니다 고객님의 안전한 결제를 위해 카드 인증 ARS로 연결해 드리겠습니다 안내멘트에 따라 카드 비밀번호 앞 두 자리 버튼으로 입력 부탁드리겠습니다\n"
     ]
    },
    {
     "name": "stderr",
     "output_type": "stream",
     "text": [
      " 64%|██████▍   | 9/14 [00:32<00:18,  3.73s/it]"
     ]
    },
    {
     "name": "stdout",
     "output_type": "stream",
     "text": [
      "연결 하겠습니다네 고객님 20을 38,900원으로 카드결제 승인되었습니다 다음번 주문시 편리한 결제를 위해 카드 정보 등록을 도와 드릴까요\n"
     ]
    },
    {
     "name": "stderr",
     "output_type": "stream",
     "text": [
      " 71%|███████▏  | 10/14 [00:36<00:15,  3.82s/it]"
     ]
    },
    {
     "name": "stdout",
     "output_type": "stream",
     "text": [
      "네 해 주세요 그리고 혹시 상품 안 돼서 받아 볼 수 있나요 고객님 죄송하지만 저희는 카달로그는 바람이 되지 않습니다 아네 알겠습니다 상품은 일요일 공휴일 제외하고 평균 3일이내 배송이 됩니다 교환 반품\n"
     ]
    },
    {
     "name": "stderr",
     "output_type": "stream",
     "text": [
      " 79%|███████▊  | 11/14 [00:40<00:11,  3.80s/it]"
     ]
    },
    {
     "name": "stdout",
     "output_type": "stream",
     "text": [
      "배송 받으신 날로부터 7일이내 연락 주셔야 하며 제품의 경우 제품 하자 위에 단순 변심에 의한 교환 반품이 불가하오니 이점 양해 바랍니다네 알겠습니다 더 문 의상 없습니까네 없어요 저는 공부\n"
     ]
    },
    {
     "name": "stderr",
     "output_type": "stream",
     "text": [
      " 86%|████████▌ | 12/14 [00:41<00:06,  3.13s/it]"
     ]
    },
    {
     "name": "stdout",
     "output_type": "stream",
     "text": [
      "공유했습니다 감사합니다네 수고하세요\n"
     ]
    },
    {
     "name": "stderr",
     "output_type": "stream",
     "text": [
      " 93%|█████████▎| 13/14 [00:45<00:03,  3.27s/it]"
     ]
    },
    {
     "name": "stdout",
     "output_type": "stream",
     "text": [
      "00 00 00 00 00 등록되어 있는 정부 전혀 없습니다 정보 등록 후에 주문 도와드리겠습니다네 고객님이 회원 서비스 제공 우리의 성함\n"
     ]
    },
    {
     "name": "stderr",
     "output_type": "stream",
     "text": [
      "100%|██████████| 14/14 [00:48<00:00,  3.49s/it]\n"
     ]
    },
    {
     "name": "stdout",
     "output_type": "stream",
     "text": [
      "생년월일 성별 주소 연락처를 등록하고 있습니다이 동의하십니까네 감사합니다 전화 주신 고객님 본인 성함과 생년월일 6자리 말씀 부탁드리겠습니다 0 0 0 0\n"
     ]
    },
    {
     "name": "stderr",
     "output_type": "stream",
     "text": [
      "  6%|▌         | 1/18 [00:03<00:56,  3.33s/it]"
     ]
    },
    {
     "name": "stdout",
     "output_type": "stream",
     "text": [
      "000이야 확인 감사합니다 생년월일 6자리 말씀 부탁드립니다 000000 확인 감사합니다 전화번호 말씀 부탁드립니다 00 00 00 00 00 00\n"
     ]
    },
    {
     "name": "stderr",
     "output_type": "stream",
     "text": [
      " 11%|█         | 2/18 [00:07<00:57,  3.58s/it]"
     ]
    },
    {
     "name": "stdout",
     "output_type": "stream",
     "text": [
      "드릴까요 아니요 주소 말씀 부탁드립니다 광주광역시 남구 0 0 0 0\n"
     ]
    },
    {
     "name": "stderr",
     "output_type": "stream",
     "text": [
      " 17%|█▋        | 3/18 [00:10<00:52,  3.49s/it]"
     ]
    },
    {
     "name": "stdout",
     "output_type": "stream",
     "text": [
      "공부 고객님 죄송하지만 000000 아파트가 맞습니까네 00 00 00 맞아요 고객님 말씀하신 주소 광주광역시 남구 공천\n"
     ]
    },
    {
     "name": "stderr",
     "output_type": "stream",
     "text": [
      " 22%|██▏       | 4/18 [00:13<00:47,  3.42s/it]"
     ]
    },
    {
     "name": "stdout",
     "output_type": "stream",
     "text": [
      "아파트 000 000 고객님 000으로 확인되고 있습니다 맞습니까네 맞습니다네 확인 감사합니다 이벤트나 상품 서비스 광고를 문자로 드릴 수 있습니다 받아 보시겠습니까 아니요\n"
     ]
    },
    {
     "name": "stderr",
     "output_type": "stream",
     "text": [
      " 28%|██▊       | 5/18 [00:17<00:46,  3.60s/it]"
     ]
    },
    {
     "name": "stdout",
     "output_type": "stream",
     "text": [
      "센터는 색상이 블랙과 화이트 있습니다 어떤 걸로 하시겠습니까 화이트로 해 주세요네 화이트색상 자동 주문과 5,000원 할인 혜택 드려서 14만 4천 원 결제 좀 드리겠습니다 결제는 카드 하시겠습니까 카드 번호 말씀 부탁드립니다\n"
     ]
    },
    {
     "name": "stderr",
     "output_type": "stream",
     "text": [
      " 33%|███▎      | 6/18 [00:20<00:41,  3.48s/it]"
     ]
    },
    {
     "name": "stdout",
     "output_type": "stream",
     "text": [
      "0000 0000 0000 고객님 본인 되십니까 아닌데요 카드 소유자와 관계가 어떻게 되십니까 남편이에요 확인 감사합니다 배우자 분 성함 말씀 부탁드립니다\n"
     ]
    },
    {
     "name": "stderr",
     "output_type": "stream",
     "text": [
      " 39%|███▉      | 7/18 [00:24<00:38,  3.53s/it]"
     ]
    },
    {
     "name": "stdout",
     "output_type": "stream",
     "text": [
      "0000입니다네 지금 방송하는 거 하려는데요네 주문 도와 드릴까요 자동 주문하려다가 상담하면 넘어가네요 등록이 잘 안 되셔서 아마 상담사 연결 된 것 같습니다 안에든 노크 주문도와드릴까요 근데\n"
     ]
    },
    {
     "name": "stderr",
     "output_type": "stream",
     "text": [
      " 44%|████▍     | 8/18 [00:28<00:35,  3.52s/it]"
     ]
    },
    {
     "name": "stdout",
     "output_type": "stream",
     "text": [
      "000 이네요 카드소유자 000 고객님이 생년월일 6자리 말씀 부탁드립니다 공공연 00 00 유효 기간 확인 부탁드립니다 번호 순서대로 불러 주시면 됩니다 4 0 0\n"
     ]
    },
    {
     "name": "stderr",
     "output_type": "stream",
     "text": [
      " 50%|█████     | 9/18 [00:31<00:31,  3.53s/it]"
     ]
    },
    {
     "name": "stdout",
     "output_type": "stream",
     "text": [
      "공이야 궁금 궁금 허리 맞습니까네 맞아요네 확인 감사합니다 5개월까지 무이자 할부 가능합니다 하시겠습니까 일시불이 할인 있는 거죠 1시 그릇만 원 할인해 드려서 13만 4천 원에 결제 도움 드리겠습니다\n"
     ]
    },
    {
     "name": "stderr",
     "output_type": "stream",
     "text": [
      " 56%|█████▌    | 10/18 [00:34<00:27,  3.46s/it]"
     ]
    },
    {
     "name": "stdout",
     "output_type": "stream",
     "text": [
      "25년 화이트 색상이 11로 13만 4천 원 결제하겠습니다네 맞아요 고객님이 안전한 결제를 위해 카드인증 ARS로 연결합니다 안내멘트에 따라 카드 비밀번호 앞 두 자리 입력 부탁드립니다네 연결 하겠습니다\n"
     ]
    },
    {
     "name": "stderr",
     "output_type": "stream",
     "text": [
      " 61%|██████    | 11/18 [00:38<00:24,  3.50s/it]"
     ]
    },
    {
     "name": "stdout",
     "output_type": "stream",
     "text": [
      "알겠어요 134,000원 20일 승인 좀 드렸습니다 다음편 편리한 결제를 위해 카드정보 등록해 드리도록 할까요 등록하면 어떻게 되는 거예요 다음 주문하실때는 카드번호를 내 자리만 말씀하시면 되세요 언니 그냥 안 해도 돼요네\n"
     ]
    },
    {
     "name": "stderr",
     "output_type": "stream",
     "text": [
      " 67%|██████▋   | 12/18 [00:42<00:21,  3.53s/it]"
     ]
    },
    {
     "name": "stdout",
     "output_type": "stream",
     "text": [
      "카드 정보는 삭제 해 드리겠습니다네 그래주세요 상품 배송은 일요일 공휴일 제외 일주일이네 배송이 됩니다네 교환이나 반품은 배송받으신 날로부터 30일이내 연락을 주셔야 하며 제품하자에 개봉 및 사용 시 교환 경과시 교환 반품 불가\n"
     ]
    },
    {
     "name": "stderr",
     "output_type": "stream",
     "text": [
      " 72%|███████▏  | 13/18 [00:45<00:17,  3.44s/it]"
     ]
    },
    {
     "name": "stdout",
     "output_type": "stream",
     "text": [
      "양해 부탁드립니다 그럼 내일 언제 오냐고요 일요일 공유 재미 일주일 이내 배송 됩니다 늦네요 혹시 다음에 방송을 또 있어요네 잠시만요 방송 일자 확인해 볼게요\n"
     ]
    },
    {
     "name": "stderr",
     "output_type": "stream",
     "text": [
      " 78%|███████▊  | 14/18 [00:49<00:14,  3.55s/it]"
     ]
    },
    {
     "name": "stdout",
     "output_type": "stream",
     "text": [
      "009 멋있는 다음 방송 일정이 정확히 나오지 않네요 안에 다음에 주문할까 해서요 주문 취소 해 드릴까요 고객님 그러시면 방송 알림 서비스를 등록해 드릴까요 이게 어떻게 되는 거죠\n"
     ]
    },
    {
     "name": "stderr",
     "output_type": "stream",
     "text": [
      " 83%|████████▎ | 15/18 [00:52<00:10,  3.62s/it]"
     ]
    },
    {
     "name": "stdout",
     "output_type": "stream",
     "text": [
      "이 상품이 방송 예정이면 미리 문자로 알려 드릴 수 있습니다 알겠습니다 그럼 등록해 주세요네 고객님 등록하신 전화번호로 문자 드리면 되겠습니까네 그래주세요네 1개월 이내에 방송 할 때마다 고객님께 문자를 드리도록 하겠습니다 오늘 결제하신 거는 카드 취소 했으니까\n"
     ]
    },
    {
     "name": "stderr",
     "output_type": "stream",
     "text": [
      " 89%|████████▉ | 16/18 [00:55<00:06,  3.40s/it]"
     ]
    },
    {
     "name": "stdout",
     "output_type": "stream",
     "text": [
      "나 카드사로부터 취소 문자가 전달되었을 겁니다네 확인했어요네 감사합니다 2019년에는 더 좋은 상품으로 찾아뵙겠습니다 0002 없습니다네 수고하세요\n"
     ]
    },
    {
     "name": "stderr",
     "output_type": "stream",
     "text": [
      " 94%|█████████▍| 17/18 [00:59<00:03,  3.44s/it]"
     ]
    },
    {
     "name": "stdout",
     "output_type": "stream",
     "text": [
      "전화로 넘어가기 때문에 가격이 어떻게 되나요 판매가 14만 9천 원에 농협 카드 할인 혜택 있습니다 자동 주문만 하면 얼마예요 판매가에서 자동 주문과 5,000원 할인 적용해서 144,000 원이고요 20만 원 할인해 드립니다네 주문할게요\n"
     ]
    },
    {
     "name": "stderr",
     "output_type": "stream",
     "text": [
      "100%|██████████| 18/18 [01:03<00:00,  3.52s/it]\n"
     ]
    },
    {
     "name": "stdout",
     "output_type": "stream",
     "text": [
      "네 감사합니다 0000 처음 이용하셔서 고객 정보 등록 후 주문 도와 드리겠습니다 전화 주신 고객님이 회원 서비스 제공 우리의 성함 생년월일 성별 주소 연락처를 등록하고 있습니다 이에 동의하십니까네 감사합니다 성함 말씀 부탁드립니다\n"
     ]
    },
    {
     "name": "stderr",
     "output_type": "stream",
     "text": [
      "  7%|▋         | 1/14 [00:02<00:38,  2.96s/it]"
     ]
    },
    {
     "name": "stdout",
     "output_type": "stream",
     "text": [
      "아니요 전화가 없어요네 알겠습니다 주소 말씀해 주시겠어요 광주 서구 000-0 나머지 이하 주소 말씀해주세요 0 0 0 0입니다 소중한 정보 확인 감사합니다\n"
     ]
    },
    {
     "name": "stderr",
     "output_type": "stream",
     "text": [
      " 14%|█▍        | 2/14 [00:05<00:35,  2.93s/it]"
     ]
    },
    {
     "name": "stdout",
     "output_type": "stream",
     "text": [
      "이벤트나 상품 서비스 광고를 문자나 전화로 드릴 수 있습니다네 알겠어요네 고객님 지금 갈비탕 주문한다고 하셨는데요 마셔요 상품 코드 혹시 알고 계신가요 아니요 그건 모르는데요 상품코드 나 아니면 정확한 상품명을 확인해 주셔야 되거든요\n"
     ]
    },
    {
     "name": "stderr",
     "output_type": "stream",
     "text": [
      " 21%|██▏       | 3/14 [00:09<00:33,  3.08s/it]"
     ]
    },
    {
     "name": "stdout",
     "output_type": "stream",
     "text": [
      "어제 밤에 방송을 했어요 어젯밤 혹시 몇 시 정도에 방송 됐을까요네 그 시간에는 다른 상품을 판매를 하셨는데요 1시부터 3시 사이에 나왔던 것 같기도 해요 잠시만요 1시 40분 정도에 갈비탕 밤에 했던 거\n"
     ]
    },
    {
     "name": "stderr",
     "output_type": "stream",
     "text": [
      " 29%|██▊       | 4/14 [00:12<00:30,  3.05s/it]"
     ]
    },
    {
     "name": "stdout",
     "output_type": "stream",
     "text": [
      "아 그때 봐요 내일 갈비탕 지금 주문 수량은 하나만 해 드리면 될까요 가격이 얼마죠 5만 9천 원입니다네 11팩 배송되는 상품이고요 주문 해주세요네 결제\n"
     ]
    },
    {
     "name": "stderr",
     "output_type": "stream",
     "text": [
      " 36%|███▌      | 5/14 [00:15<00:27,  3.04s/it]"
     ]
    },
    {
     "name": "stdout",
     "output_type": "stream",
     "text": [
      "결제는 카드로 하십니까 그렇게 할게요 카드 번호 좀 불러 주시겠어요 00 00 00 00 00 00 00 확인 감사합니다 농협 카드인가요네 맞아요 카드 소유자는\n"
     ]
    },
    {
     "name": "stderr",
     "output_type": "stream",
     "text": [
      " 43%|████▎     | 6/14 [00:18<00:24,  3.09s/it]"
     ]
    },
    {
     "name": "stdout",
     "output_type": "stream",
     "text": [
      "고객님 본인 맞으십니까네 제 거예요네 카드 유효기간 말씀해 주시겠습니까 0000 안전한 결제를 위해 고객님 생년월일 6자리 한번 더 확인 부탁드립니다 000000 카드 인증 ARS로 연결해\n"
     ]
    },
    {
     "name": "stderr",
     "output_type": "stream",
     "text": [
      " 50%|█████     | 7/14 [00:21<00:21,  3.09s/it]"
     ]
    },
    {
     "name": "stdout",
     "output_type": "stream",
     "text": [
      "네 고객님 00 쇼핑입니다 000 고객님 되십니까네 맞아요네 고객님 주문 요청 메모 남기셔서 전화 드렸습니다 갈비탕 주문을 하려고 그러는데요네 확인 도와 드리겠습니다 저희 공 쇼킹 처음 이용 이신가요네 그렇습니다\n"
     ]
    },
    {
     "name": "stderr",
     "output_type": "stream",
     "text": [
      " 57%|█████▋    | 8/14 [00:24<00:18,  3.12s/it]"
     ]
    },
    {
     "name": "stdout",
     "output_type": "stream",
     "text": [
      "안내멘트에 따라 카드 비밀번호 앞 두 자리 입력 부탁드립니다 연결 하겠습니다네 고객님 유효기간이 맞지 않는다고 나오는데요 유효기간 다시 한번 확인해 주시겠어요\n"
     ]
    },
    {
     "name": "stderr",
     "output_type": "stream",
     "text": [
      " 64%|██████▍   | 9/14 [00:27<00:15,  3.09s/it]"
     ]
    },
    {
     "name": "stdout",
     "output_type": "stream",
     "text": [
      "지금 00002 안 맞다고 나오거든요 한 번만 다시 확인해 주시겠어요 아 잠깐만요네 고객님 다시 한번 ARS 연결 하겠습니다네네 고객님 정상적으로 주문 잘 되었습니다\n"
     ]
    },
    {
     "name": "stderr",
     "output_type": "stream",
     "text": [
      " 71%|███████▏  | 10/14 [00:30<00:12,  3.12s/it]"
     ]
    },
    {
     "name": "stdout",
     "output_type": "stream",
     "text": [
      "감사합니다 상품 배송은 일요일 공휴일 제외 평균 3일이내 배송됩니다네 고객님께서 이게 식품이기 때문에 제품하자를 제외하고 단순변심으로 - 교환 반품 어렵습니다 잘 알겠어요네 더 문의사항은 없습니까\n"
     ]
    },
    {
     "name": "stderr",
     "output_type": "stream",
     "text": [
      " 79%|███████▊  | 11/14 [00:33<00:09,  3.09s/it]"
     ]
    },
    {
     "name": "stdout",
     "output_type": "stream",
     "text": [
      "그럼 회원으로 갈등 거예요네 가입은 완료가 되었습니다 그럼 다음에는 이제 상담 안 하고 그냥 자동 주문해도 됩니까네 그렇게 하실 수 있으세요네 잘 알겠습니다네 고객님 결제하신 카드 등록해 드릴까요네 해 주세요\n"
     ]
    },
    {
     "name": "stderr",
     "output_type": "stream",
     "text": [
      " 86%|████████▌ | 12/14 [00:36<00:05,  2.91s/it]"
     ]
    },
    {
     "name": "stdout",
     "output_type": "stream",
     "text": [
      "네 등록해 드리겠습니다 자동 주문하실 때 좀 더 편하게 이용해 보시기 바랍니다 감사합니다네 더 문의사항은 없으십니까네 없어요 오늘도 멋진 하루 되세요 000였습니다\n"
     ]
    },
    {
     "name": "stderr",
     "output_type": "stream",
     "text": [
      " 93%|█████████▎| 13/14 [00:39<00:02,  2.94s/it]"
     ]
    },
    {
     "name": "stdout",
     "output_type": "stream",
     "text": [
      "네 그러시면 현재 고객님 저희 공공 쇼핑 처음이요 미시라 고객 정보 등록 후에 주문 도와 드리겠습니다네 알겠어요네 회원 서비스 제공을 위해 고객님의 성함 생년월일 주소 연락처를 등록하고 있습니다 이에 동의하십니까네네\n"
     ]
    },
    {
     "name": "stderr",
     "output_type": "stream",
     "text": [
      "100%|██████████| 14/14 [00:42<00:00,  3.01s/it]\n"
     ]
    },
    {
     "name": "stdout",
     "output_type": "stream",
     "text": [
      "확인 감사합니다 전화 주신 고객님 성함 연락처 말씀 부탁드립니다 생년월일이 어떻게 되십니까 집 전화번호 있으시면 등록해 드릴까요\n"
     ]
    },
    {
     "name": "stderr",
     "output_type": "stream",
     "text": [
      "  7%|▋         | 1/15 [00:03<00:49,  3.56s/it]"
     ]
    },
    {
     "name": "stdout",
     "output_type": "stream",
     "text": [
      "공공의료 주소 확인 부탁드리겠습니다 울산시 동구 홍곡로 죄송합니다 0 0 0\n"
     ]
    },
    {
     "name": "stderr",
     "output_type": "stream",
     "text": [
      " 13%|█▎        | 2/15 [00:07<00:48,  3.72s/it]"
     ]
    },
    {
     "name": "stdout",
     "output_type": "stream",
     "text": [
      "고객님 일하고 줘야 되는데 맞습니까네 맞아요네 확인해 주셔서 감사합니다 고객님 정보 저장하겠습니다 이벤트나 상품 서비스 광고를 문자로 드릴 수 있습니다네 원래 상담 쪽에서는 자동주문전화 할인이\n"
     ]
    },
    {
     "name": "stderr",
     "output_type": "stream",
     "text": [
      " 20%|██        | 3/15 [00:10<00:42,  3.56s/it]"
     ]
    },
    {
     "name": "stdout",
     "output_type": "stream",
     "text": [
      "적용이 안 되는데 처음 주문이 쉬시라 제가 해 드리겠습니다 감사합니다 지금 방송 중인 스위스 공공 전동 공구 제품 138,000원 맞습니까네 맞아요 자동주문전화 할인은\n"
     ]
    },
    {
     "name": "stderr",
     "output_type": "stream",
     "text": [
      " 27%|██▋       | 4/15 [00:14<00:39,  3.56s/it]"
     ]
    },
    {
     "name": "stdout",
     "output_type": "stream",
     "text": [
      "천 원이고요 그다음에 일시불할인 5천원이고 무이자 할부 10개월까지 가능합니다 결제 어떻게 도와드릴까요 일시불로 할게요네 카드 번호 말씀해 주시겠습니까 00 00 00 00\n"
     ]
    },
    {
     "name": "stderr",
     "output_type": "stream",
     "text": [
      " 33%|███▎      | 5/15 [00:17<00:35,  3.59s/it]"
     ]
    },
    {
     "name": "stdout",
     "output_type": "stream",
     "text": [
      "0000 0000 유효기간 확인 부탁드리겠습니다 0000 소유진은 고객님 본인 되십니까네 카드 소유주 이신 공고\n"
     ]
    },
    {
     "name": "stderr",
     "output_type": "stream",
     "text": [
      " 40%|████      | 6/15 [00:21<00:32,  3.56s/it]"
     ]
    },
    {
     "name": "stdout",
     "output_type": "stream",
     "text": [
      "고객님이 생년월일 6자리 확인 부탁드립니다 0000 확인 감사합니다 20일로 하신다고 하셨죠 체크 카드로 할게요 결제 요청하겠습니다\n"
     ]
    },
    {
     "name": "stderr",
     "output_type": "stream",
     "text": [
      " 47%|████▋     | 7/15 [00:25<00:29,  3.68s/it]"
     ]
    },
    {
     "name": "stdout",
     "output_type": "stream",
     "text": [
      "궁금 쇼핑 0 0 0입니다 지금 방송 나오는 스위스 공고 전동공구 보고 있는데 이것 좀 주문하려고요네 고객님 저희 쪽에 회원 가입이 안 되어 있어서 정부 등록하고 주문 도와드리겠습니다\n"
     ]
    },
    {
     "name": "stderr",
     "output_type": "stream",
     "text": [
      " 53%|█████▎    | 8/15 [00:29<00:26,  3.72s/it]"
     ]
    },
    {
     "name": "stdout",
     "output_type": "stream",
     "text": [
      "고객님의 안전한 결제를 위해 카드인증 ARS로 연결해 드리겠습니다 안내멘트에 따라 카드 비밀번호 앞 두 자리 입력 부탁드립니다 연결 하겠습니다 카드 승인 중입니다 잠시만요 카드 번호로\n"
     ]
    },
    {
     "name": "stderr",
     "output_type": "stream",
     "text": [
      " 60%|██████    | 9/15 [00:32<00:21,  3.65s/it]"
     ]
    },
    {
     "name": "stdout",
     "output_type": "stream",
     "text": [
      "잘못 적었나 봐요 다시 한번 확인 부탁드립니다네 감사합니다 ARS 다시 함\n"
     ]
    },
    {
     "name": "stderr",
     "output_type": "stream",
     "text": [
      " 67%|██████▋   | 10/15 [00:36<00:17,  3.58s/it]"
     ]
    },
    {
     "name": "stdout",
     "output_type": "stream",
     "text": [
      "연결 하겠습니다네 카드 승인 중입니다 고객님 비밀번호가 틀리다고 나오는데요네 다시 한번 할게요\n"
     ]
    },
    {
     "name": "stderr",
     "output_type": "stream",
     "text": [
      " 73%|███████▎  | 11/15 [00:39<00:14,  3.62s/it]"
     ]
    },
    {
     "name": "stdout",
     "output_type": "stream",
     "text": [
      "연락했습니다네 카드 승인 중입니다네 결제 다 되었습니다 고객님 카드 정보 등록해 드릴까요 아니요네 그럼 바로 삭제하겠습니다 배송은\n"
     ]
    },
    {
     "name": "stderr",
     "output_type": "stream",
     "text": [
      " 80%|████████  | 12/15 [00:43<00:10,  3.61s/it]"
     ]
    },
    {
     "name": "stdout",
     "output_type": "stream",
     "text": [
      "일 공휴일 제외 하고 평균 삼일한의 배송이 됩니다 교환 반품은 배송 받으신 날로부터 15일 안에 연락을 주셔야 하며 제품하자에 개봉 및 사용 시 기간 경과 시 교환 반품 불가 한 점 양해 부탁드립니다 예 알겠습니다\n"
     ]
    },
    {
     "name": "stderr",
     "output_type": "stream",
     "text": [
      " 87%|████████▋ | 13/15 [00:46<00:06,  3.41s/it]"
     ]
    },
    {
     "name": "stdout",
     "output_type": "stream",
     "text": [
      "주문 잘 되었습니다 더문 의상 없습니까네 없어요 저는 000이었습니다 감사합니다네 수고하세요 감사합니다\n"
     ]
    },
    {
     "name": "stderr",
     "output_type": "stream",
     "text": [
      " 93%|█████████▎| 14/15 [00:49<00:03,  3.42s/it]"
     ]
    },
    {
     "name": "stdout",
     "output_type": "stream",
     "text": [
      "네 고객님이 회원 서비스 제공 우리의 성함 생년월일 성별 주소 연락처를 등록하고 있습니다 이에 동의하십니까네네 감사합니다 성함 말씀 부탁드립니다\n"
     ]
    },
    {
     "name": "stderr",
     "output_type": "stream",
     "text": [
      "100%|██████████| 15/15 [00:53<00:00,  3.56s/it]\n"
     ]
    },
    {
     "name": "stdout",
     "output_type": "stream",
     "text": [
      "공여 생년월일 확인 부탁드리겠습니다 00000 전화번호 말씀 부탁드립니다 0 0 0 0 0\n"
     ]
    },
    {
     "name": "stderr",
     "output_type": "stream",
     "text": [
      "  8%|▊         | 1/13 [00:02<00:33,  2.80s/it]"
     ]
    },
    {
     "name": "stdout",
     "output_type": "stream",
     "text": [
      "네 그럴게요 결제하실 카드 번호 말씀 부탁드립니다 00 00 00 00 00 00 00 카드 소주 님은 주문 고객님 본인 있으니까네 맞습니다 고객님의 생년월일 확인 부탁드립니다 0 0 0 0\n"
     ]
    },
    {
     "name": "stderr",
     "output_type": "stream",
     "text": [
      " 15%|█▌        | 2/13 [00:05<00:32,  2.95s/it]"
     ]
    },
    {
     "name": "stdout",
     "output_type": "stream",
     "text": [
      "네 카드 유효기간 말씀 부탁드립니다네 고객님 197만 원입니다 할부 진행하시겠습니까 내일 무이자 가능합니다 몇 개월로 진행해 드릴까요\n"
     ]
    },
    {
     "name": "stderr",
     "output_type": "stream",
     "text": [
      " 23%|██▎       | 3/13 [00:08<00:29,  2.93s/it]"
     ]
    },
    {
     "name": "stdout",
     "output_type": "stream",
     "text": [
      "위자 36개월 아니에요네 선택 가능하세요 현대카드로 36개월로 진행해 드릴까요네 그렇게 해 주세요 알겠습니다 고객님의 안전한 결제를 위해서 카드인증 ARS 연결해 드리겠습니다 안내멘트에 따라 카드 비밀번호 앞에 두 자리만 전화기\n"
     ]
    },
    {
     "name": "stderr",
     "output_type": "stream",
     "text": [
      " 31%|███       | 4/13 [00:11<00:26,  2.99s/it]"
     ]
    },
    {
     "name": "stdout",
     "output_type": "stream",
     "text": [
      "입력 부탁드립니다 연결해 드리겠습니다네 알겠습니다 요청하신 카드로 정상 결제 완료 되었습니다 다음 번에도 편리하게 이용할 수 있게 카드 정보 등록을 해 드릴까요 근데 이거 배달이 언제 오는 거예요네 이제 안내 드리겠습니다 제품 배송은 일요일 공휴일 제외하고 설 연휴 기간\n"
     ]
    },
    {
     "name": "stderr",
     "output_type": "stream",
     "text": [
      " 38%|███▊      | 5/13 [00:15<00:24,  3.08s/it]"
     ]
    },
    {
     "name": "stdout",
     "output_type": "stream",
     "text": [
      "3일 이내로 해피콜을 먼저 진행해드립니다 안에 이후 해피콜 때 설치 일정 협의하셔서 주말 공휴일 제외 2주 이내 전문 설치기사가 배송과 동시에 방문 설치해드립니다네 그렇군요 설치기사가 배송 출발 후에 단순 변심으로 취소 요청 하시게 되면 반품비 20만 원이\n"
     ]
    },
    {
     "name": "stderr",
     "output_type": "stream",
     "text": [
      " 46%|████▌     | 6/13 [00:17<00:21,  3.02s/it]"
     ]
    },
    {
     "name": "stdout",
     "output_type": "stream",
     "text": [
      "누가 부담되는 점 양해 부탁드리며 설치 이후에 상품 하자로 인한 교환 반품은 AS 센터 접수 후에 처리가 가능합니다 상품 받기 전에 취소하면 20만 원이라고요네 배송 출발 하고 나서는 배송비가 고객님께 부과됩니다 알겠습니다 취소를 하실 거라\n"
     ]
    },
    {
     "name": "stderr",
     "output_type": "stream",
     "text": [
      " 54%|█████▍    | 7/13 [00:20<00:18,  3.02s/it]"
     ]
    },
    {
     "name": "stdout",
     "output_type": "stream",
     "text": [
      "안녕하십니까 고객님 자동 주문 이용 중 오류가 생겨서 저희 상담 다 연결되었습니다 이용에 불편 드린 점 너무 죄송합니다 저희가 다시 한번 정보 빠르게 확인해서 할인가 적용하여 주문 도와 드리겠습니다네 알겠습니다 전화 주신 고객님 성함하고 전화번호 말씀 부탁드리겠습니다\n"
     ]
    },
    {
     "name": "stderr",
     "output_type": "stream",
     "text": [
      " 62%|██████▏   | 8/13 [00:24<00:15,  3.07s/it]"
     ]
    },
    {
     "name": "stdout",
     "output_type": "stream",
     "text": [
      "해피콜 때 언제까지 취소 가능한지 문의하시고 그 기간 안에는 취소 해 주셔야 합니다네 알겠어요 제품 상담은 7일부터 순차적으로 진행이 될 예정으로 확인 되고 있고요 그런데 제가 그때쯤에 어디를 좀 가는데 며칠 통화가 안 될 것 같아서요 며칠만 통화가 어려우신 겁니까 잘 모르겠네요\n"
     ]
    },
    {
     "name": "stderr",
     "output_type": "stream",
     "text": [
      " 69%|██████▉   | 9/13 [00:27<00:12,  3.09s/it]"
     ]
    },
    {
     "name": "stdout",
     "output_type": "stream",
     "text": [
      "그러면 9일부터는 통화 가능하십니까 잘 모르겠는데 통화 안하면 설치 불가 합니까네 고객님 저희가 일정을 조율할 수 없게 되어 있습니다 아 그래요 고객님 그러시면 그 월요일 날 혹은 뭐 주말에라도 저희 00 채팅 다시 연락 주셔서 해피콜 요청을 다시 한번 해 주시겠습니까\n"
     ]
    },
    {
     "name": "stderr",
     "output_type": "stream",
     "text": [
      " 77%|███████▋  | 10/13 [00:30<00:09,  3.10s/it]"
     ]
    },
    {
     "name": "stdout",
     "output_type": "stream",
     "text": [
      "네 그러면 지금 이거 주문한 거 취소해 주세요 악을 할까요 고객님 그러시면 카드 취소가 되는데까지 시간 좀 소요될 수 있는 점만 양해를 부탁드리겠습니다네 알겠습니다 더 문 의상 없으니까 없어요 고객님 다음에도 좋은 상품으로 찾아뵙겠습니다 000이었습니다\n"
     ]
    },
    {
     "name": "stderr",
     "output_type": "stream",
     "text": [
      " 85%|████████▍ | 11/13 [00:31<00:04,  2.35s/it]"
     ]
    },
    {
     "name": "stdout",
     "output_type": "stream",
     "text": [
      "네 수고하세요\n"
     ]
    },
    {
     "name": "stderr",
     "output_type": "stream",
     "text": [
      " 92%|█████████▏| 12/13 [00:34<00:02,  2.57s/it]"
     ]
    },
    {
     "name": "stdout",
     "output_type": "stream",
     "text": [
      "네 고객님 전화번호 말씀 부탁드립니다 00 00 00 00 00 확인 감사합니다 지금 방송 중인 코지마 안마의자 오딧세이 구매 하시는 거 맞습니까네 맞아요네 고객님 상품 배송 받을 주소지가 서울고\n"
     ]
    },
    {
     "name": "stderr",
     "output_type": "stream",
     "text": [
      "100%|██████████| 13/13 [00:37<00:00,  2.89s/it]\n"
     ]
    },
    {
     "name": "stdout",
     "output_type": "stream",
     "text": [
      "공공의료 맞습니까네 맞습니다 공공 노이사 상세주소 말씀 부탁드립니다 공공아파트 0000 0000 확인 감사합니다 상품 결제하실 금액은 197만원입니다네 알겠습니다 상품 결제 카드로 진행하시겠습니까\n"
     ]
    },
    {
     "name": "stderr",
     "output_type": "stream",
     "text": [
      "  7%|▋         | 1/14 [00:03<00:42,  3.30s/it]"
     ]
    },
    {
     "name": "stdout",
     "output_type": "stream",
     "text": [
      "네 고객님 언제 출고가 된다는 건데요 오늘 듣는 거 오늘 되는 거 맞아요 오늘 출근은 조금 어려울 수 있습니다 제가 잘못한 것도 아니고 그쪽에서 불량을 준 건데 왜 처리가 바로 안 되는 건데요네 지금부터 안내를 해 드리려고 하는데요 안내를 도와드려도 되겠습니까네\n"
     ]
    },
    {
     "name": "stderr",
     "output_type": "stream",
     "text": [
      " 14%|█▍        | 2/14 [00:06<00:40,  3.34s/it]"
     ]
    },
    {
     "name": "stdout",
     "output_type": "stream",
     "text": [
      "일단은 출고로 확인되면 출고 송장을 보내야 되는데요 출고 송장은 하루 정도 걸려요 배송은 주문할 때 바로 출고가 되면서 왜 이건 안 되는 건데요 내일 주문 할 때는 이미 상품이 출고가 준비된 상태에서 주문을 받은 거 잖아요 상품수량 확보가 되고 나서 해 드린 거고 이건 불량 건으로 교환으로\n"
     ]
    },
    {
     "name": "stderr",
     "output_type": "stream",
     "text": [
      " 21%|██▏       | 3/14 [00:10<00:37,  3.37s/it]"
     ]
    },
    {
     "name": "stdout",
     "output_type": "stream",
     "text": [
      "진행을 해 드리는 거예요 알겠어요 그래도 오전 일찍 업체로 확인해 해서요 상품에 대해서 교환을 하라고 답변이 없거든요 뭐가 일찍이 야 내가 이틀 전에 연락을 했는데 저녁에 연락이나 주고 일찍 전화를 줬다면 어제 줬어야지네 그리고 말을 했더니 사용을 그냥\n"
     ]
    },
    {
     "name": "stderr",
     "output_type": "stream",
     "text": [
      " 29%|██▊       | 4/14 [00:13<00:35,  3.55s/it]"
     ]
    },
    {
     "name": "stdout",
     "output_type": "stream",
     "text": [
      "했다가 AS 증상이라고 했다가 이젠 출고가 안 된다는게 말이 안 되잖아요네 고객님 내가 이걸 왜 샀는데요 계속 쿠쿠 마셨어요 똑같은 제품을 내가 쓰고 있다고요 아 진짜 이렇게 하면 피곤해요 그냥 반품 처리 해주세요 예 알겠습니다 반품으로 도와드리도록 하겠습니다\n"
     ]
    },
    {
     "name": "stderr",
     "output_type": "stream",
     "text": [
      " 36%|███▌      | 5/14 [00:17<00:31,  3.46s/it]"
     ]
    },
    {
     "name": "stdout",
     "output_type": "stream",
     "text": [
      "상품 수건은 배송 받으셨던 서울 구로구 0000 맞습니까네 맞아요네 나머지 주소 확인 부탁합니다 00000네 확인 감사합니다 상품은 그대로 포장해 주시면 택배기사가 주말 공휴일 제외 4일에서\n"
     ]
    },
    {
     "name": "stderr",
     "output_type": "stream",
     "text": [
      " 43%|████▎     | 6/14 [00:20<00:26,  3.30s/it]"
     ]
    },
    {
     "name": "stdout",
     "output_type": "stream",
     "text": [
      "내일 방문하여 수고 할 예정입니다네 알겠어요 수거 기사가 드리는 인수증은 1개월간 보관 부탁드립니다 언제 환불되나요네 국민카드로 118,000원 무이자 12개월 결제하신 부분이 확인 되십니다 결제하신 카드는\n"
     ]
    },
    {
     "name": "stderr",
     "output_type": "stream",
     "text": [
      " 50%|█████     | 7/14 [00:23<00:23,  3.36s/it]"
     ]
    },
    {
     "name": "stdout",
     "output_type": "stream",
     "text": [
      "00 쇼핑입니다 000 고객님 되십니까네 맞습니다네 쿠쿠전기압력밥솥 번으로 연락을 드렸는데요 잠시 통화 괜찮으실까요네 괜찮아요네 다름이 아니라 쿠쿠전기압력밥솥 상품 혹시 전화 연결을 하셨습니까 뚜껑을 열었는데 열리지 않아서\n"
     ]
    },
    {
     "name": "stderr",
     "output_type": "stream",
     "text": [
      " 57%|█████▋    | 8/14 [00:27<00:20,  3.47s/it]"
     ]
    },
    {
     "name": "stdout",
     "output_type": "stream",
     "text": [
      "정상적으로 입고되어 확인 후 주말 공휴일 제외하고 3일에서 4일 내일 취소 요청 될 예정입니다 그럼 계속 기다리라는 거네요네 죄송합니다 이거 그냥 가서 가라고요 예 빠른 수거요청 해 드리도록 하겠습니다 아 그리고 먼저 해 주세요 죄송하지만 상품 수거가 되어\n"
     ]
    },
    {
     "name": "stderr",
     "output_type": "stream",
     "text": [
      " 64%|██████▍   | 9/14 [00:30<00:17,  3.46s/it]"
     ]
    },
    {
     "name": "stdout",
     "output_type": "stream",
     "text": [
      "취소 처리가 가능합니다 반품 접수 하면 바로 나오잖아요 그것만 있으면 되지 뭘 더 기다려야 하는데요 다른 업체들도 반품 하면 다 그렇게 해 줘요네 최대한 빨리 처리 가능 하도록 하겠습니다 아니면 내가 전화해서 접수를 할까요 그러면 송장 번호 나오잖아요 거기서 그냥 바로 보내면 되지 뭘 얼마나 기다리는\n"
     ]
    },
    {
     "name": "stderr",
     "output_type": "stream",
     "text": [
      " 71%|███████▏  | 10/14 [00:34<00:13,  3.43s/it]"
     ]
    },
    {
     "name": "stdout",
     "output_type": "stream",
     "text": [
      "죄송합니다 택배기사는 수거 송장이 나와야 수거 가능한 부분이고요 공공 쇼핑에서 산 제품은 공공 쇼핑에서만 처리가 가능합니다 수거되는 날짜에 카드 취소 바로 해 주세요네 죄송하지만 확인하고 이런 말 하지 말고네 죄송하지만 업체\n"
     ]
    },
    {
     "name": "stderr",
     "output_type": "stream",
     "text": [
      " 79%|███████▊  | 11/14 [00:37<00:10,  3.45s/it]"
     ]
    },
    {
     "name": "stdout",
     "output_type": "stream",
     "text": [
      "확인 후에 처리가 가능합니다 가전제품 이다보니 빠르게 수고할 수 있게끔 요청 드리도록 하겠습니다 지금 장난하는 것도 아니고 그렇게만 말 안 했어도 내가 이렇게까지 안 해요네 고객님 죄송합니다 빠르게 도와 드리겠습니다네 일단 알겠어요 빨리 처리해 주세요네 죄송합니다 반품 접수 도와 드렸습니다\n"
     ]
    },
    {
     "name": "stderr",
     "output_type": "stream",
     "text": [
      " 86%|████████▌ | 12/14 [00:38<00:05,  2.58s/it]"
     ]
    },
    {
     "name": "stdout",
     "output_type": "stream",
     "text": [
      "네\n"
     ]
    },
    {
     "name": "stderr",
     "output_type": "stream",
     "text": [
      " 93%|█████████▎| 13/14 [00:41<00:02,  2.79s/it]"
     ]
    },
    {
     "name": "stdout",
     "output_type": "stream",
     "text": [
      "교환 접수를 했거든요네 그러시면 전원 연결은 안 하셨다는 말씀이신 거죠네 맞아요네 일단 교환으로 진행을 도와 드리겠습니다 유성은 언제쯤 되나요 맞교환 처리가 조금 어렵습니다 그러면 언제 수고가 되는 거예요네 잠시만\n"
     ]
    },
    {
     "name": "stderr",
     "output_type": "stream",
     "text": [
      "100%|██████████| 14/14 [00:44<00:00,  3.20s/it]\n"
     ]
    },
    {
     "name": "stdout",
     "output_type": "stream",
     "text": [
      "주시겠습니까 아니 내가 상품 받은게 금요일이에요 그런데 다음날이 주말이라 월요일 날 바로 전화를 했는데요 근데 업체 확인이 안 됐다고 저녁에 전화 와서 그냥 사용하라고 했다가 오늘은 또 이렇게 넘어가고 오늘 바로 상품은 오지 않는다고 뭐 어떻게 하라는 거예요\n"
     ]
    },
    {
     "name": "stderr",
     "output_type": "stream",
     "text": [
      " 20%|██        | 1/5 [00:03<00:13,  3.39s/it]"
     ]
    },
    {
     "name": "stdout",
     "output_type": "stream",
     "text": [
      "000 그럼 이쪽 계좌로 업체 입고된 후 주말 공휴일 제외하고 3일에서 4일 내에 입금 됩니다 알겠습니다 수고 기사가 드리는 인수증은 1개월간 보관 부탁드립니다 잘 보관 할게요 더문 의상 없으니까네 없습니다 당담 4000\n"
     ]
    },
    {
     "name": "stderr",
     "output_type": "stream",
     "text": [
      " 40%|████      | 2/5 [00:04<00:05,  1.79s/it]"
     ]
    },
    {
     "name": "stdout",
     "output_type": "stream",
     "text": [
      "네 감사합니다\n"
     ]
    },
    {
     "name": "stderr",
     "output_type": "stream",
     "text": [
      " 60%|██████    | 3/5 [00:07<00:05,  2.50s/it]"
     ]
    },
    {
     "name": "stdout",
     "output_type": "stream",
     "text": [
      "공공 쇼핑 000입니다네 안녕하세요 000 고객님 되십니까네 맞습니다 문의 주셨던 제모피아 상품 반품 가능하시고요 안에 구성품 누락 되지 않게 포장 부탁드립니다네 놓을게요 기존에 배송 받으셨던 주소지가\n"
     ]
    },
    {
     "name": "stderr",
     "output_type": "stream",
     "text": [
      " 80%|████████  | 4/5 [00:10<00:02,  2.79s/it]"
     ]
    },
    {
     "name": "stdout",
     "output_type": "stream",
     "text": [
      "부산시 사하구 50000 맞으세요 몇 동 몇 호세요 저희 000005 상품이 업체에 입고되면 확인 후 카드 취소 되실 겁니다네 알겠습니다 아 현금 이네요 고객님 현금으로 입금하셨나요\n"
     ]
    },
    {
     "name": "stderr",
     "output_type": "stream",
     "text": [
      "100%|██████████| 5/5 [00:13<00:00,  2.77s/it]\n"
     ]
    },
    {
     "name": "stdout",
     "output_type": "stream",
     "text": [
      "그런 것 같네요 환불받으실 계좌 번호 확인해 주시겠어요 기업은행 있고요 00000 예금주는 000 고객님 본인 되세요 거예요 아드님 성함은 어떻게 되시는데요\n"
     ]
    },
    {
     "name": "stderr",
     "output_type": "stream",
     "text": [
      "  8%|▊         | 1/12 [00:03<00:40,  3.71s/it]"
     ]
    },
    {
     "name": "stdout",
     "output_type": "stream",
     "text": [
      "000 건지 말씀해 주신 주소지는 대전 중구 000000 번지 맞습니까 맞아요네 감사합니다 이벤트나 상품 서비스 광고를 문자로 드릴 수 있습니다 늘 그래요 방송 중인 올인원스쿼트머신\n"
     ]
    },
    {
     "name": "stderr",
     "output_type": "stream",
     "text": [
      " 17%|█▋        | 2/12 [00:07<00:37,  3.71s/it]"
     ]
    },
    {
     "name": "stdout",
     "output_type": "stream",
     "text": [
      "자동 주문 5,000원 할인을 드려서 처리 도움 드리면 되겠습니까네 색상은 블랙과 화이트가 있습니다 어느 색상 도움 드릴까요 블로그를 해 주시죠 결제는 카드로 하시겠습니까네 카드 번호 말씀 부탁드립니다 잠깐만요네 고객님\n"
     ]
    },
    {
     "name": "stderr",
     "output_type": "stream",
     "text": [
      " 25%|██▌       | 3/12 [00:10<00:31,  3.50s/it]"
     ]
    },
    {
     "name": "stdout",
     "output_type": "stream",
     "text": [
      "네 궁금 궁금 궁금 궁금 궁금 궁금 궁금 하는 고객님 본인 되십니까 아예 배우자입니다 그럼 배우자 성함 말씀 부탁드립니다\n"
     ]
    },
    {
     "name": "stderr",
     "output_type": "stream",
     "text": [
      " 33%|███▎      | 4/12 [00:14<00:28,  3.55s/it]"
     ]
    },
    {
     "name": "stdout",
     "output_type": "stream",
     "text": [
      "공연 확인 감사합니다 000 생년월일 6자리 말씀 부탁드립니다 000000 이야기가 말씀 부탁드립니다 00 00 확인 감사합니다 피디오 개월까지 무이자 할부 가능합니다\n"
     ]
    },
    {
     "name": "stderr",
     "output_type": "stream",
     "text": [
      " 42%|████▏     | 5/12 [00:17<00:25,  3.60s/it]"
     ]
    },
    {
     "name": "stdout",
     "output_type": "stream",
     "text": [
      "몇 개월 철이 도움 드릴까요 근데 아까 그 저 카드 번호가 다 안 된 거 같은데요 00 00 00 맞는데요네 고객님 7개월까지 무이자 할부 가능합니다 예 알겠어요 6개월 해 주세요네\n"
     ]
    },
    {
     "name": "stderr",
     "output_type": "stream",
     "text": [
      " 50%|█████     | 6/12 [00:21<00:21,  3.55s/it]"
     ]
    },
    {
     "name": "stdout",
     "output_type": "stream",
     "text": [
      "6개월 해드릴까요 고객님의 안전한 결제를 위해서 카드인증 ARS로 연결합니다 안내멘트에 따라 카드 비밀번호 앞 두 자리 입력 부탁드립니다 연결 하겠습니다 알겠어요 14만 4천 원 6개월로\n"
     ]
    },
    {
     "name": "stderr",
     "output_type": "stream",
     "text": [
      " 58%|█████▊    | 7/12 [00:25<00:17,  3.59s/it]"
     ]
    },
    {
     "name": "stdout",
     "output_type": "stream",
     "text": [
      "000000입니다 방송하는 거 주문 하려고 하거든요 아 그러십니까 0000 처음 이용하시면 고객 정보 등록 후 상품 주문 도와 드리겠습니다네 그래요 전화 주신 고객님이 회원 서비스 제공 우리의 성함 생년월일 성별\n"
     ]
    },
    {
     "name": "stderr",
     "output_type": "stream",
     "text": [
      " 67%|██████▋   | 8/12 [00:28<00:14,  3.60s/it]"
     ]
    },
    {
     "name": "stdout",
     "output_type": "stream",
     "text": [
      "숭인동 드렸습니다 다음번 편리한 교체를 위해 카드 정보 등록해 드릴까요네 해 주세요네 감사합니다 현금 배송은 일요일 공휴일 재회 일주일 내에 배송됩니다네 교환이나 반품은 배송받으신 날로부터 30일이내 연락 주셔야 하며 제품에 하자 위에\n"
     ]
    },
    {
     "name": "stderr",
     "output_type": "stream",
     "text": [
      " 75%|███████▌  | 9/12 [00:32<00:11,  3.70s/it]"
     ]
    },
    {
     "name": "stdout",
     "output_type": "stream",
     "text": [
      "및 사용 시 기간 경과 시 교환이나 반품이 불가하오니 이점 양해 부탁드립니다이 제품 수령 후 박스 보관 부탁드립니다네 알겠습니다 덥은 야상 없습니까 예 됐습니다 고객님 2019년에도 좋은 상품으로 찾아뵙겠습니다 0 0 0 0\n"
     ]
    },
    {
     "name": "stderr",
     "output_type": "stream",
     "text": [
      " 83%|████████▎ | 10/12 [00:33<00:05,  2.91s/it]"
     ]
    },
    {
     "name": "stdout",
     "output_type": "stream",
     "text": [
      "네 고맙습니다\n"
     ]
    },
    {
     "name": "stderr",
     "output_type": "stream",
     "text": [
      " 92%|█████████▏| 11/12 [00:37<00:03,  3.14s/it]"
     ]
    },
    {
     "name": "stdout",
     "output_type": "stream",
     "text": [
      "주소 연락처를 등록하고 있습니다 이에 동의하십니까네 감사합니다 성함 말씀 부탁드립니다 공룡 확인 감사합니다 생년월일 6자리 말씀 부탁드립니다 0000001 확인 감사합니다\n"
     ]
    },
    {
     "name": "stderr",
     "output_type": "stream",
     "text": [
      "100%|██████████| 12/12 [00:40<00:00,  3.41s/it]\n"
     ]
    },
    {
     "name": "stdout",
     "output_type": "stream",
     "text": [
      "전화번호 말씀 부탁드립니다 000000 소중한 정보 확인 감사 드리겠습니다 유선번호 등록해 드릴까요 없습니다네 감사합니다 주소 말씀 부탁드립니다 대전 중구 0 0 0\n"
     ]
    },
    {
     "name": "stderr",
     "output_type": "stream",
     "text": [
      "  7%|▋         | 1/14 [00:03<00:43,  3.32s/it]"
     ]
    },
    {
     "name": "stdout",
     "output_type": "stream",
     "text": [
      "부탁드리겠습니다 경기도 양평군 00000 주소가 경기도 양평군 00000 맞습니까네\n"
     ]
    },
    {
     "name": "stderr",
     "output_type": "stream",
     "text": [
      " 14%|█▍        | 2/14 [00:07<00:43,  3.65s/it]"
     ]
    },
    {
     "name": "stdout",
     "output_type": "stream",
     "text": [
      "자동 주문 전화 할인 적용해서 주문 도와드리겠습니다네네 고객님 올인원스쿼트머신 149,000원 상품 맞습니까네 맞아요이 블랙과 화이트가 있는데 색상 선택 부탁드리겠습니다 블록으로 해 줘\n"
     ]
    },
    {
     "name": "stderr",
     "output_type": "stream",
     "text": [
      " 21%|██▏       | 3/14 [00:10<00:39,  3.56s/it]"
     ]
    },
    {
     "name": "stdout",
     "output_type": "stream",
     "text": [
      "미 저 자동주문전화 할인 5,000원은 적용에서 했고요 그 이제 20을 하루 2만 원이고요네 인식으로 하는 거니까네 카드 결제 도와 드릴까요네 농협카드는 적용이 되는 거죠 예 맞습니다 카드 번호\n"
     ]
    },
    {
     "name": "stderr",
     "output_type": "stream",
     "text": [
      " 29%|██▊       | 4/14 [00:13<00:34,  3.44s/it]"
     ]
    },
    {
     "name": "stdout",
     "output_type": "stream",
     "text": [
      "여야네 말씀해 주세요 000000 번호가 00 00 00 00 00 00 00\n"
     ]
    },
    {
     "name": "stderr",
     "output_type": "stream",
     "text": [
      " 36%|███▌      | 5/14 [00:17<00:32,  3.63s/it]"
     ]
    },
    {
     "name": "stdout",
     "output_type": "stream",
     "text": [
      "맞아요이 기간 확인 부탁드리겠습니다 공공연 공공 카드 소유자는 고객님 본인 되십니까네 카드 소유자 이신 000 고객님이 생년월일 6자리 확인 부탁드립니다 0 0 0 0\n"
     ]
    },
    {
     "name": "stderr",
     "output_type": "stream",
     "text": [
      " 43%|████▎     | 6/14 [00:21<00:29,  3.68s/it]"
     ]
    },
    {
     "name": "stdout",
     "output_type": "stream",
     "text": [
      "공연 확인 감사합니다 그러시면 20일로 13만 4천 원 결제 요청하겠습니다 13만 4천 원이요네 맞습니다 안 맞는데요네 여기서 이제 그 50% 할인 적용이 되면 이제 추가로 6,700원 청구할인\n"
     ]
    },
    {
     "name": "stderr",
     "output_type": "stream",
     "text": [
      " 50%|█████     | 7/14 [00:25<00:25,  3.58s/it]"
     ]
    },
    {
     "name": "stdout",
     "output_type": "stream",
     "text": [
      "궁금 궁금 궁금 궁금입니다 주문 하려고 그러는데요네 저희 0000 회원 가입이 아직 안 돼 있어서요 그 정부 등록하고 하니까 적용해서 주문 도와드리겠습니다 회원 가입은 돼 있는데요 걸어주신 전화번호는\n"
     ]
    },
    {
     "name": "stderr",
     "output_type": "stream",
     "text": [
      " 57%|█████▋    | 8/14 [00:28<00:21,  3.59s/it]"
     ]
    },
    {
     "name": "stdout",
     "output_type": "stream",
     "text": [
      "그러면은 그게 합해서 12 17,300원이 된다는 건가요 예 맞습니다 아네 알겠습니다 고객님이 안전한 결제를 위해 카드인증 ARS로 연결해 드리겠습니다 안내멘트에 따라 카드 비밀번호 앞 두 자리 입력 부탁드립니다 연결 하겠습니다\n"
     ]
    },
    {
     "name": "stderr",
     "output_type": "stream",
     "text": [
      " 64%|██████▍   | 9/14 [00:32<00:17,  3.58s/it]"
     ]
    },
    {
     "name": "stdout",
     "output_type": "stream",
     "text": [
      "알겠어요네 카드 승인 중입니다네네 그게 잘 되었습니다 그 고객님 카드 정부 등록해 드릴까요 아니에요 근데 모바일 하고 내가 볼 때는 차이가 뭘까요 모바일에서 청구 할인이 TV 프로그램\n"
     ]
    },
    {
     "name": "stderr",
     "output_type": "stream",
     "text": [
      " 71%|███████▏  | 10/14 [00:35<00:14,  3.62s/it]"
     ]
    },
    {
     "name": "stdout",
     "output_type": "stream",
     "text": [
      "아 그래요 또 이제 적립이 있는데 저희 상담 쪽에서 하셔 가지고 적립은 안 되고요 아네 이제 주문을 자주 하시면은 적립금 받는게 이제 더 좋으시고요 뭐 고객님 상황에 따라서 이제 장단점이 있으시겠죠네 알겠습니다\n"
     ]
    },
    {
     "name": "stderr",
     "output_type": "stream",
     "text": [
      " 79%|███████▊  | 11/14 [00:39<00:10,  3.66s/it]"
     ]
    },
    {
     "name": "stdout",
     "output_type": "stream",
     "text": [
      "잘 드셔서 이제 배송은 일요일 공휴일 제외하고 평균 4일 안에 배송이 됩니다네 교환 반품은 배송받으신 날로부터 30일 안에 연락 주셔야 하며 제품하자 회 개봉 및 사용 시 기간 경과 시 교환반품불가 한정 양해 부탁드리겠습니다네 주문 잘\n"
     ]
    },
    {
     "name": "stderr",
     "output_type": "stream",
     "text": [
      " 86%|████████▌ | 12/14 [00:42<00:06,  3.38s/it]"
     ]
    },
    {
     "name": "stdout",
     "output_type": "stream",
     "text": [
      "서문 야시장 없습니까 아네 알겠습니다 2019년에도 좋은 상품으로 찾아뵙겠습니다 000습니다 수고하세요\n"
     ]
    },
    {
     "name": "stderr",
     "output_type": "stream",
     "text": [
      " 93%|█████████▎| 13/14 [00:45<00:03,  3.42s/it]"
     ]
    },
    {
     "name": "stdout",
     "output_type": "stream",
     "text": [
      "그 등록이 안 되어 있어요 공공으로 좀 해 보시겠어요 성함 하루는 조회가 좀 어렵습니다 전화번호는 조회가 가능하고요 000000 한번 해 보시겠어요 되시는데요\n"
     ]
    },
    {
     "name": "stderr",
     "output_type": "stream",
     "text": [
      "100%|██████████| 14/14 [00:49<00:00,  3.53s/it]\n"
     ]
    },
    {
     "name": "stdout",
     "output_type": "stream",
     "text": [
      "그럼 이걸로 할까요네 그래요 정보 확인 후 도움 드리겠습니다 그 성함 확인 부탁드리겠습니다 00025 확인해 주셔서 감사합니다 그 저희 쪽에 그 주소가 아직 그 등록이 안 돼 있어서요\n"
     ]
    },
    {
     "name": "stderr",
     "output_type": "stream",
     "text": [
      "  8%|▊         | 1/13 [00:02<00:34,  2.85s/it]"
     ]
    },
    {
     "name": "stdout",
     "output_type": "stream",
     "text": [
      "밭에 집 전화번호 있으시면 등록해 드릴까요 아니요 없어요네 집 전화번호 따로 없으시고요 주소 확인 부탁드리겠습니다 서울 용산구 공로 00 00 00 00 00 00\n"
     ]
    },
    {
     "name": "stderr",
     "output_type": "stream",
     "text": [
      " 15%|█▌        | 2/13 [00:05<00:32,  2.92s/it]"
     ]
    },
    {
     "name": "stdout",
     "output_type": "stream",
     "text": [
      "말씀해 주신 주소지가 서울 용산구 500 노 00 00 00 00 00 00 맞아요 예 정확하게 등록 처리 완료 되셨습니다 상품 서비스 광고를 문자로 드릴 수 있습니다네 알겠어요\n"
     ]
    },
    {
     "name": "stderr",
     "output_type": "stream",
     "text": [
      " 23%|██▎       | 3/13 [00:09<00:30,  3.09s/it]"
     ]
    },
    {
     "name": "stdout",
     "output_type": "stream",
     "text": [
      "방송 중인 상품 파워스윙 무선진공물걸레청소기 218,000원 주문 바로 도와드릴 텐데요 카드 결제로 도와 드릴까요 그냥 핸드폰으로 계좌번호 보내주시면 제가 납입하고 그렇게 하겠습니다네 가상 계좌로 입금 하시고 있습니다\n"
     ]
    },
    {
     "name": "stderr",
     "output_type": "stream",
     "text": [
      " 31%|███       | 4/13 [00:12<00:27,  3.03s/it]"
     ]
    },
    {
     "name": "stdout",
     "output_type": "stream",
     "text": [
      "네 그렇게 할게요네 색상은 레드와 화이트 좀 어떤 걸로 신청해 드릴까요네 화이트 색상으로 신청해 드리겠습니다 근데 여기 청소기는 회사가 어디 거예요 주식회사 스윙이라는 회사입니다 주식회사 승리요\n"
     ]
    },
    {
     "name": "stderr",
     "output_type": "stream",
     "text": [
      " 38%|███▊      | 5/13 [00:15<00:24,  3.05s/it]"
     ]
    },
    {
     "name": "stdout",
     "output_type": "stream",
     "text": [
      "네 그 회사에서 만든네 알겠어요네 고객님 무료 체험 7일 가능하세요 예 그러면 하겠습니다 지금 주문해 드리도록 하겠습니다 화이트 색상 218,000원 어느 은행이 편하세요 우리은행 이요\n"
     ]
    },
    {
     "name": "stderr",
     "output_type": "stream",
     "text": [
      " 46%|████▌     | 6/13 [00:18<00:21,  3.03s/it]"
     ]
    },
    {
     "name": "stdout",
     "output_type": "stream",
     "text": [
      "우리은행 가상 계좌 금액 문자로 발송해 드리고 있고요 현금 영수증 발행해 드릴까요 아니요 괜찮습니다네 신청해 드리지 않도록 하겠습니다 상품 배송은 고객님께서 결제 완료 해 주시면 일요일 공휴일 제외하고 평균 3일이내 배송됩니다 예 알겠어요 무료체\n"
     ]
    },
    {
     "name": "stderr",
     "output_type": "stream",
     "text": [
      " 54%|█████▍    | 7/13 [00:21<00:18,  3.07s/it]"
     ]
    },
    {
     "name": "stdout",
     "output_type": "stream",
     "text": [
      "공공 쇼핑 0 0 0입니다 여보세요 예 고객님 무엇을 도와드릴까요네 지금 그 방송 중인 물걸레 청소기 주문하려고요 파워스윙 무선진공물걸레청소기 218,000원 주문 도와드릴까요 그거 맞아요 예\n"
     ]
    },
    {
     "name": "stderr",
     "output_type": "stream",
     "text": [
      " 62%|██████▏   | 8/13 [00:24<00:15,  3.18s/it]"
     ]
    },
    {
     "name": "stdout",
     "output_type": "stream",
     "text": [
      "배송일 제외 7일 이시구요네 알겠어요 본체 극세사 걸레 두 장만 무료체험 가능하시고요네 알겠습니다 교환반품은 무료 체험 씨 7일 이내 연락 주셔야 하고 기간 경과 심연 교환반품불가 한 점 양해 부탁드리겠습니다 예 그러면 배달되면 7일 동안 사용하고\n"
     ]
    },
    {
     "name": "stderr",
     "output_type": "stream",
     "text": [
      " 69%|██████▉   | 9/13 [00:28<00:13,  3.28s/it]"
     ]
    },
    {
     "name": "stdout",
     "output_type": "stream",
     "text": [
      "그 이후로는 교환 반품이 안 되는 겁니까네 고객님 그렇습니다 이거 해당 상품이 모두 동일 하세요네 알았습니다 내 사은품은 본품과 같이 배송으로 처리 되실 거예요 거고요 예 알겠어요 고객님께서 일시불로 하셨기 때문에 21\n"
     ]
    },
    {
     "name": "stderr",
     "output_type": "stream",
     "text": [
      " 77%|███████▋  | 10/13 [00:31<00:09,  3.31s/it]"
     ]
    },
    {
     "name": "stdout",
     "output_type": "stream",
     "text": [
      "8,000원 가상계좌 고객님 휴대폰 문자로 발송 처리해 드렸습니다 예 그러면 만약에 7일 되어서 마음에 안 들면 금액은 도로 환불에 반했으니까네 고객님 반품 하신다고 하시면 처리 진행 도와 드릴게요 대신에 고객님 7일 이내 연락 주셔야 됩니다네 고객님\n"
     ]
    },
    {
     "name": "stderr",
     "output_type": "stream",
     "text": [
      " 85%|████████▍ | 11/13 [00:34<00:06,  3.06s/it]"
     ]
    },
    {
     "name": "stdout",
     "output_type": "stream",
     "text": [
      "예 알았습니다네 더 문의사항은 없으니까네 없습니다 예 주문 되었습니다 2019년에는 더 좋은 상품으로 찾아뵙겠습니다 000였습니다 감사합니다\n"
     ]
    },
    {
     "name": "stderr",
     "output_type": "stream",
     "text": [
      " 92%|█████████▏| 12/13 [00:37<00:03,  3.15s/it]"
     ]
    },
    {
     "name": "stdout",
     "output_type": "stream",
     "text": [
      "저희 200 쇼핑 처음 이용해 주셔서 고객 정보 등록 후 주문 도와 드리겠습니다 예 알겠습니다 고객님의 회원 서비스 제공을 위해서 성함 생년월일 성별 주소 연락처 등록하고 있습니다 이에 동의하시겠습니까 동의합니다 예 고객님 본인 성함 말씀 부탁드리겠습니다\n"
     ]
    },
    {
     "name": "stderr",
     "output_type": "stream",
     "text": [
      "100%|██████████| 13/13 [00:40<00:00,  3.13s/it]\n"
     ]
    },
    {
     "name": "stdout",
     "output_type": "stream",
     "text": [
      "0 0 0입니다 000 고객님 생년월일 6자리만 말씀 부탁드리겠습니다 000000 소중한 정보 확인 너무 감사드립니다 휴대폰 번호 말씀 부탁드리겠습니다 000 000 000\n"
     ]
    },
    {
     "name": "stderr",
     "output_type": "stream",
     "text": [
      "  6%|▋         | 1/16 [00:03<00:49,  3.33s/it]"
     ]
    },
    {
     "name": "stdout",
     "output_type": "stream",
     "text": [
      "아니요 고객님이 직접 주문을 하셔야 돼요서 지금 배우자 님과 같이 계시지 않으면 주문을 할 수가 없습니다 고객님의 정보로 회원 가입해 드릴까요 아 그럴까요네 고객님 정보 등록을 위해 고객님의 성함이 년월일 성별 주소 연락처를 등록하고 있습니다 이에 동의하십니까 동의함니다\n"
     ]
    },
    {
     "name": "stderr",
     "output_type": "stream",
     "text": [
      " 12%|█▎        | 2/16 [00:06<00:45,  3.25s/it]"
     ]
    },
    {
     "name": "stdout",
     "output_type": "stream",
     "text": [
      "성함 말씀 부탁드립니다 생년월일 확인 부탁드립니다 0 0 0 0 0 0 0이 주소 말씀해 주시겠습니까 부산광역시 금정구 00 00 00 00 00 단지 아파트\n"
     ]
    },
    {
     "name": "stderr",
     "output_type": "stream",
     "text": [
      " 19%|█▉        | 3/16 [00:09<00:41,  3.19s/it]"
     ]
    },
    {
     "name": "stdout",
     "output_type": "stream",
     "text": [
      "00 00 00 00 00 00 00 00 맞아요네 이벤트나 상품 서비스 광고 문자 드릴 수 있습니다네 알겠어요 회원 가입은 정상적으로 되었고요 그러면\n"
     ]
    },
    {
     "name": "stderr",
     "output_type": "stream",
     "text": [
      " 25%|██▌       | 4/16 [00:12<00:37,  3.16s/it]"
     ]
    },
    {
     "name": "stdout",
     "output_type": "stream",
     "text": [
      "지금 방송 중인 소파스킨스 소파커버 몇 인용이 필요하세요네 알겠습니다 색상 말씀 부탁드립니다 지난번에는 청색 같은 거를 했는데 다른 색으로 해 보려고요 아 그럼 아까 말씀하신 아이보리 색상 맞습니까 그런데 생각해보니 아이보리 별로인 것 같네요 왜냐하면\n"
     ]
    },
    {
     "name": "stderr",
     "output_type": "stream",
     "text": [
      " 31%|███▏      | 5/16 [00:15<00:34,  3.13s/it]"
     ]
    },
    {
     "name": "stdout",
     "output_type": "stream",
     "text": [
      "1인용 침대 옆에 소파가 붙어 있는데 힘들 때까지 파란색이 거거든요 그럼 무슨 색상으로 하시겠습니까 뭐가 있어요 그레이 다크그레이 레드 와인 하고 블루마린의 블루마린을 지금 수가 있어요 브라운 색상은 없나요 자연갈색 같은 거요\n"
     ]
    },
    {
     "name": "stderr",
     "output_type": "stream",
     "text": [
      " 38%|███▊      | 6/16 [00:18<00:30,  3.10s/it]"
     ]
    },
    {
     "name": "stdout",
     "output_type": "stream",
     "text": [
      "4 브라운 색상은 잠깐만요 브라운 아이보리 있습니다 어떤 색상으로 도와드릴까요 그래요 그런데 또 이불이 연분홍색으로 흰색에 가까우니깐 그냥 이번에는 아이보리로 할게요\n"
     ]
    },
    {
     "name": "stderr",
     "output_type": "stream",
     "text": [
      " 44%|████▍     | 7/16 [00:21<00:27,  3.10s/it]"
     ]
    },
    {
     "name": "stdout",
     "output_type": "stream",
     "text": [
      "00 쇼핑 000입니다 예 안녕하세요 지금 방송하는 거 주문 좀 하려고요네 고객님 주문 도와 드릴까요 이거를 지난번에 하나를 신청해 갖고 잘 쓰고 있는데 오늘은 다른 색상으로 하나 주문할 거 싶어서 아 그러십니까\n"
     ]
    },
    {
     "name": "stderr",
     "output_type": "stream",
     "text": [
      " 50%|█████     | 8/16 [00:25<00:24,  3.10s/it]"
     ]
    },
    {
     "name": "stdout",
     "output_type": "stream",
     "text": [
      "네 그럼 밝은 색상으로 할 수가 있어요네 그럴게요 예 라이트 아이보리 색상 만나요 그럼 이거 가격은 얼마입니까 10만 8,000원입니다 아 그때는 98,000원이었는데 만 원 할인 해서 그런 거 였네요네 지금 할인\n"
     ]
    },
    {
     "name": "stderr",
     "output_type": "stream",
     "text": [
      " 56%|█████▋    | 9/16 [00:28<00:21,  3.09s/it]"
     ]
    },
    {
     "name": "stdout",
     "output_type": "stream",
     "text": [
      "정가가 10만 8천 원입니다 그런게 방송에서 체조 거라고 하는 건 뭐예요 국민카드로 할 때 5% 청구할인을 받는 방법이 있습니다 다른 한쪽은 더 없나요네 여기서 더 세일을 하지는 않고요 아 그래요네 5% 청구할인으로 카드 청구서 상에서 확인해 보시면 됩니다\n"
     ]
    },
    {
     "name": "stderr",
     "output_type": "stream",
     "text": [
      " 62%|██████▎   | 10/16 [00:31<00:18,  3.13s/it]"
     ]
    },
    {
     "name": "stdout",
     "output_type": "stream",
     "text": [
      "청구를 내가 해야 된다는 거죠 내 카드 회사에서 해주시는 거라서요 우선은 10만 8천 원으로 카드 승인이 되고요 5% 청구할인은 자동으로 카드사에서 5% 차감된 금액으로 결제가 되는 거라서요 아 그래요 그래서 명세서를 보시고 할인 되었는지 만 확인하시면 되고요 확인은 어떻게 한다고\n"
     ]
    },
    {
     "name": "stderr",
     "output_type": "stream",
     "text": [
      " 69%|██████▉   | 11/16 [00:34<00:15,  3.18s/it]"
     ]
    },
    {
     "name": "stdout",
     "output_type": "stream",
     "text": [
      "명세서에서 보시면 되세요 날라오나요네 결제에는 5% 할인된 금액이 할인과 차감하고 나머지 금액으로 결제가 되기 때문에 그렇게 명세서를 통해서 확인하시면 됩니다 일단 알겠어요 그럼 카드 번호 말씀해 주시겠습니까 등록 후에 결제 처리해 드리겠습니다\n"
     ]
    },
    {
     "name": "stderr",
     "output_type": "stream",
     "text": [
      " 75%|███████▌  | 12/16 [00:37<00:12,  3.17s/it]"
     ]
    },
    {
     "name": "stdout",
     "output_type": "stream",
     "text": [
      "국민카드 00 00 00 00 00 00 00 00네 끝자리가 00002네 맞아요 유효기간 확인 부탁드립니다 0 0 0 0 0 4\n"
     ]
    },
    {
     "name": "stderr",
     "output_type": "stream",
     "text": [
      " 81%|████████▏ | 13/16 [00:40<00:09,  3.12s/it]"
     ]
    },
    {
     "name": "stdout",
     "output_type": "stream",
     "text": [
      "8,000원 10개월 무이자 가능하신데요 무이자 결제 할까요 건데요 되게 있나요 아니요 일시불 할인 혜택 없습니다네 그렇군요 안전한 결제를 위해서 카드인증 ARS로 연결해 드리겠습니다네 알겠어요 안내멘트에 따라 카드\n"
     ]
    },
    {
     "name": "stderr",
     "output_type": "stream",
     "text": [
      " 88%|████████▊ | 14/16 [00:42<00:05,  2.54s/it]"
     ]
    },
    {
     "name": "stdout",
     "output_type": "stream",
     "text": [
      "앞의 두 자리 입력 부탁드립니다 연결 하겠습니다\n"
     ]
    },
    {
     "name": "stderr",
     "output_type": "stream",
     "text": [
      " 94%|█████████▍| 15/16 [00:45<00:02,  2.76s/it]"
     ]
    },
    {
     "name": "stdout",
     "output_type": "stream",
     "text": [
      "색깔이 있었는데요 아이보리 색상이에요 아 그렇구나 그러면 색상을 아이보리로 할까요 그러면 먼저 고객님의 정보 확인 후 주문 도와 드릴게요네 알겠어요 혹시 기존에 주문을 하셨다면 사용하셨던 휴대폰 번호는 몇 번입니까 저는 회원 가입이 안 되어\n"
     ]
    },
    {
     "name": "stderr",
     "output_type": "stream",
     "text": [
      "100%|██████████| 16/16 [00:48<00:00,  3.01s/it]\n"
     ]
    },
    {
     "name": "stdout",
     "output_type": "stream",
     "text": [
      "그때 제가 주문을 안해서요 아 그러면 다시 가입을 해 드릴까요 아 잠깐만요 남편이 아마 자기 거로 주문했을 거예요 아 그렇습니까 00000 한번 해 보세요 혹시 배우자 님과 같이 계세요\n"
     ]
    },
    {
     "name": "stderr",
     "output_type": "stream",
     "text": [
      "  8%|▊         | 1/13 [00:03<00:39,  3.28s/it]"
     ]
    },
    {
     "name": "stdout",
     "output_type": "stream",
     "text": [
      "진행하고 회수 전에 배송도 같이 진행합니다 예 알겠어요 그래서 2월 7일 이후에 고객님 받아 보실 수 있을 것 같고요 예 알겠습니다 수거 진행은 2월 7일 이후에 저희 수거 기사가 고객님 댁으로 방문해서 수거할 예정이고요네 알겠습니다 그리고 주문은\n"
     ]
    },
    {
     "name": "stderr",
     "output_type": "stream",
     "text": [
      " 15%|█▌        | 2/13 [00:06<00:36,  3.34s/it]"
     ]
    },
    {
     "name": "stdout",
     "output_type": "stream",
     "text": [
      "걸로 로즈골드 색상으로 하시고요네 10만 8천 원이고요 결제는 카드로 도와드릴까요 예 그럴게요네 고객님 카드 결제로 주문 도와드리겠습니다 배송지 먼저 확인해 보겠습니다 배송지가 부산 중고 0 0 0 0 0\n"
     ]
    },
    {
     "name": "stderr",
     "output_type": "stream",
     "text": [
      " 23%|██▎       | 3/13 [00:09<00:33,  3.32s/it]"
     ]
    },
    {
     "name": "stdout",
     "output_type": "stream",
     "text": [
      "공 맞습니까네 맞습니다 동 호수 확인 부탁드립니다 공공아파트 0 0 0 0 0 0 0 5 4 확인 감사합니다 결제하실 카드 번호 끝에 4자리 확인 부탁드립니다 카드소유자 본인 맞으십니까\n"
     ]
    },
    {
     "name": "stderr",
     "output_type": "stream",
     "text": [
      " 31%|███       | 4/13 [00:13<00:29,  3.23s/it]"
     ]
    },
    {
     "name": "stdout",
     "output_type": "stream",
     "text": [
      "예 맞아요네 본인 확인차 생년월일 6자리 확인 부탁드립니다 00000 결제 금액 10만 4000원 이고요 일시불로 결제 도와 드릴까요 아니요네 무이자 최대 10개월까지 가능합니다\n"
     ]
    },
    {
     "name": "stderr",
     "output_type": "stream",
     "text": [
      " 38%|███▊      | 5/13 [00:16<00:25,  3.17s/it]"
     ]
    },
    {
     "name": "stdout",
     "output_type": "stream",
     "text": [
      "6개월 해드릴까요 6개월 할게요네 고객님 안전한 결제를 위해 하드 인증 ARS 연결해 드리겠습니다 예 알겠어요 안내멘트에 따라 카드 비밀번호 앞에 두 자리 입력 부탁드립니다 연결해 드리겠습니다 예 알겠어요네 고객님 카드로\n"
     ]
    },
    {
     "name": "stderr",
     "output_type": "stream",
     "text": [
      " 46%|████▌     | 6/13 [00:19<00:22,  3.24s/it]"
     ]
    },
    {
     "name": "stdout",
     "output_type": "stream",
     "text": [
      "104,000원 무이자 6개월 정상승인 되었고요네 그래요 제품은 아까 말씀드렸듯이 10월 7일 이후에 순차적으로 배송해 드리고 있고요네 알겠어요 교환 반품은 배송받으신 날로부터 일주일 이내에 연락 주셔야 하며 제품하자에 착용하시고거나 기간 경과\n"
     ]
    },
    {
     "name": "stderr",
     "output_type": "stream",
     "text": [
      " 54%|█████▍    | 7/13 [00:22<00:19,  3.21s/it]"
     ]
    },
    {
     "name": "stdout",
     "output_type": "stream",
     "text": [
      "안녕하세요 공공 쇼핑 상담사입니다 예 말씀하세요네 고객님 시계 주문 하신 거 남성제품으로 변경 원 하셔가지고 문의주셨는데요 마셔요네 고객님 업체쪽에서 답변이 와서요 답변 안내해 드리려고 전화 드렸습니다\n"
     ]
    },
    {
     "name": "stderr",
     "output_type": "stream",
     "text": [
      " 62%|██████▏   | 8/13 [00:25<00:15,  3.19s/it]"
     ]
    },
    {
     "name": "stdout",
     "output_type": "stream",
     "text": [
      "교환 반품이 불가하오니 이점 양해 부탁드리고요네 그럴게요 사은품은 본품과 같이 배송될 예정입니다네 알겠어요 예 그다음에 반품하실 여성 제품에 관해서 말씀드릴게요 본품과 사은품을 같이 다시 한번 택배 박스에 넣어서 포장 부탁드리고요네 알겠어요\n"
     ]
    },
    {
     "name": "stderr",
     "output_type": "stream",
     "text": [
      " 69%|██████▉   | 9/13 [00:28<00:12,  3.17s/it]"
     ]
    },
    {
     "name": "stdout",
     "output_type": "stream",
     "text": [
      "저희 수거 기사가 고객님 댁으로 방문하여 수고할 예정이고요 수거 기사가 드리는 인식 중에 하나 있습니다네 그래요 그 인수증은 1개월간 보관을 부탁드리고요네 그럴게요 수거 기사가 방문할 주소가 지금 방문 주문하셨던 지금 방금 주문하셨던\n"
     ]
    },
    {
     "name": "stderr",
     "output_type": "stream",
     "text": [
      " 77%|███████▋  | 10/13 [00:32<00:09,  3.21s/it]"
     ]
    },
    {
     "name": "stdout",
     "output_type": "stream",
     "text": [
      "바로 보내 드릴까요네 그렇게 해주세요네 부산 중구로 보내 드릴게요 보내 드리겠습니다네 알겠어요 그러면 카드 결제해 주셨는데 카드 취소 같은 경우는 업체쪽에서 주문하신 여성 제품을 정상적으로 받아보고 확인 후에 문제가 없다고 하면 업체쪽에서 수거 제품 받아본\n"
     ]
    },
    {
     "name": "stderr",
     "output_type": "stream",
     "text": [
      " 85%|████████▍ | 11/13 [00:35<00:06,  3.14s/it]"
     ]
    },
    {
     "name": "stdout",
     "output_type": "stream",
     "text": [
      "3일에서 5일 이내로 주소가 들어갈 예정입니다 혹시 더 문의할 사항 없습니까 예 없어요네 주문 되었고요 반품 접수도 해 드렸습니다 상담 4000네 수고하세요\n"
     ]
    },
    {
     "name": "stderr",
     "output_type": "stream",
     "text": [
      " 92%|█████████▏| 12/13 [00:38<00:03,  3.17s/it]"
     ]
    },
    {
     "name": "stdout",
     "output_type": "stream",
     "text": [
      "그 여성 제품을 남성 제품으로 저희가 따로 교환 처리는 어렵고 기존의 배송 제품 반품 처리하고 남성제품 필요 보내 드리려고 합니다이 부분 양해를 좀 부탁드리겠습니다네 알겠습니다 내일 일단 제품 여성 제품을 반품을 하시고요 다음에 남성제품 다시 한번 추가 주문할게요네 그렇게 할게요\n"
     ]
    },
    {
     "name": "stderr",
     "output_type": "stream",
     "text": [
      "100%|██████████| 13/13 [00:41<00:00,  3.19s/it]\n"
     ]
    },
    {
     "name": "stdout",
     "output_type": "stream",
     "text": [
      "네 이렇게 진행 도와드리도록 하고요 남성제품 다시 한번 주문 도와 드리겠습니다네 알겠어요 색상 확인 부탁드리겠습니다 색상은 로즈골드로 해 주세요네 주소 확인하고 바로 안내해 드리겠습니다 그래요 저희가 일단은 서울 이라서요 다음 주부터\n"
     ]
    },
    {
     "name": "stderr",
     "output_type": "stream",
     "text": [
      "  8%|▊         | 1/12 [00:03<00:36,  3.29s/it]"
     ]
    },
    {
     "name": "stdout",
     "output_type": "stream",
     "text": [
      "예 흐름이 멈춰있다고 확인을 해 달라고 요청을 했고 아마 확인하고 전화 주셨던 것 같은데요 일단 오늘 통화해서 확인한 내용이 지금 오늘부터 이번 주 내 배송이 어렵다고 말씀하셔서요 그럼 정확한 날짜를 알 수 없어요 지금 택배 업무가 다시 재개되는 건 2월 10일부터\n"
     ]
    },
    {
     "name": "stderr",
     "output_type": "stream",
     "text": [
      " 17%|█▋        | 2/12 [00:06<00:32,  3.25s/it]"
     ]
    },
    {
     "name": "stdout",
     "output_type": "stream",
     "text": [
      "차가 움직이기 시작하는데요네 그래요 한꺼번에 물량이 몰리기 때문에 그럴 경우에는 조금 시간소요가 되기 때문에 다음 주쯤 배송이 가능할 거예요 그런가요 빠르면 금주내 가능한데 만약 지연되면 10일에서 11일 12일 자 정도 배송이 될 거 같으세요 배송 20일 날 시작된다는\n"
     ]
    },
    {
     "name": "stderr",
     "output_type": "stream",
     "text": [
      " 25%|██▌       | 3/12 [00:09<00:29,  3.27s/it]"
     ]
    },
    {
     "name": "stdout",
     "output_type": "stream",
     "text": [
      "그때 정도에 도착할 것 같아 그래서 저희가 정확하게 답변을 드리기는 조금 어렵고요 만약에 배송이 된다면 10일에서 12일 사이가 되지 않을까 싶습니다 지금 예상으로는요 그러면 그냥 환불 처리해 주세요 알겠습니다 그러면 지금 저희가 환불은 바로 진행은 안 되고요\n"
     ]
    },
    {
     "name": "stderr",
     "output_type": "stream",
     "text": [
      " 33%|███▎      | 4/12 [00:12<00:25,  3.23s/it]"
     ]
    },
    {
     "name": "stdout",
     "output_type": "stream",
     "text": [
      "이게 상품을 돌려 보내야 돼요 그래서 업체 하고도 사실은 미리 미리 얘기를 해 봤어요 그렇군요 제가 이거 혹시 고객님이 상품을 수령 못 하실 경우 반품 처리가 가능하냐고 물어 봤더니 반품처리는 가능하고 택배사 쪽에서 확인하고 이걸 진행하신다고 하시더라고요네 그래요\n"
     ]
    },
    {
     "name": "stderr",
     "output_type": "stream",
     "text": [
      " 42%|████▏     | 5/12 [00:16<00:23,  3.29s/it]"
     ]
    },
    {
     "name": "stdout",
     "output_type": "stream",
     "text": [
      "환불 처리는 설 연휴가 끝난 이후에 상품이 업체로 돌아오면 환불처리가 가는 환불처리가 진행 가능 하실 거예요 그거는 괜찮으세요네 알겠어요 주문 건 환불 요청을 하면 지금 어차피 배송이 되고 있잖아요 거기에서 그냥 다시백 하는 거죠네 고객님이 만약에 반품 못 하시면\n"
     ]
    },
    {
     "name": "stderr",
     "output_type": "stream",
     "text": [
      " 50%|█████     | 6/12 [00:19<00:19,  3.30s/it]"
     ]
    },
    {
     "name": "stdout",
     "output_type": "stream",
     "text": [
      "업체쪽에서 택배사 쪽으로 바로 통화 하시겠다고 하셨거든요 그렇게 해 주시면 언제 정도에 한 벌 요금이 들어오나요 그 부분은 상품이 업체로 입고되고 확인 후 평일기준 3일에서 4일 이내에 카드 승인 취소가 따로 있습니다 그러면 1월 18일 안으로는 환불 처리가 되는 거예요 될 수도 있고 아니\n"
     ]
    },
    {
     "name": "stderr",
     "output_type": "stream",
     "text": [
      " 58%|█████▊    | 7/12 [00:22<00:16,  3.21s/it]"
     ]
    },
    {
     "name": "stdout",
     "output_type": "stream",
     "text": [
      "네 안녕하세요 공공 쇼핑 위에 2000입니다네 안녕하세요네 정관장 홍삼정 때문에 연락 드렸는데요네 말씀하세요네 고객님 정말 죄송합니다 지금 제가 배송 흐름을 다시 한 번 더 확인해 보고 싶대 사이에 전화해서 통화도 했어요네\n"
     ]
    },
    {
     "name": "stderr",
     "output_type": "stream",
     "text": [
      " 67%|██████▋   | 8/12 [00:25<00:12,  3.23s/it]"
     ]
    },
    {
     "name": "stdout",
     "output_type": "stream",
     "text": [
      "수도 있는데요 설 연휴가 끝나면 바로 이제 회수가 진행되고요 그때 저희가 다시 한번 확인 할 거거든요네 그래요 그래서 만약 지연될 것 같으면 다시 연락을 드리겠습니다 환불은 어디로 해 주시는 건가요 카드 결제하신 건으로 확인 돼서요 이거는 카드 승인 취소 될 것 같습니다 그런데 체크\n"
     ]
    },
    {
     "name": "stderr",
     "output_type": "stream",
     "text": [
      " 75%|███████▌  | 9/12 [00:29<00:09,  3.23s/it]"
     ]
    },
    {
     "name": "stdout",
     "output_type": "stream",
     "text": [
      "결제했는데 그것도 바로 취소가 되는 건가요 이제 체크카드 같은 경우는 카드사 쪽에서 승인 취소가 떨어지면 고객님 계좌로 입금이 되는 것거든요네 그래요네 체크 카드로 하는 경우 그렇게 진행 되세요 예 알겠습니다 불편 드려 죄송합니다 지금 반품 처리 진행을 했고요\n"
     ]
    },
    {
     "name": "stderr",
     "output_type": "stream",
     "text": [
      " 83%|████████▎ | 10/12 [00:31<00:05,  2.85s/it]"
     ]
    },
    {
     "name": "stdout",
     "output_type": "stream",
     "text": [
      "알겠어요 업체 쪽으로 내용 전달에서 빠른 환불 처리 진행할 수 있도록 빨리 회수해 달라고 요청 드려 보겠습니다 죄송합니다 감사합니다\n"
     ]
    },
    {
     "name": "stderr",
     "output_type": "stream",
     "text": [
      " 92%|█████████▏| 11/12 [00:34<00:03,  3.01s/it]"
     ]
    },
    {
     "name": "stdout",
     "output_type": "stream",
     "text": [
      "그런데 지금 배송지 차량 흐름 자체가 지금 명절 연휴 다 보니까 중간 간선차량 이라든지 전체 물량은 모두 멈춘 상태라고 하세요 아 그래요 그래서 이번 주 명절 내로는 지금 배송이 어렵다고 합니다 그럼 다음 주 안에는 오는 건가요 예 연휴 전 배송이 어렵고요\n"
     ]
    },
    {
     "name": "stderr",
     "output_type": "stream",
     "text": [
      "100%|██████████| 12/12 [00:37<00:00,  3.16s/it]\n"
     ]
    },
    {
     "name": "stdout",
     "output_type": "stream",
     "text": [
      "배송은 한다면 명절 이후가 될 것 같아요 저는 명절 전 배송이라 주문 한 건데요 예 이게 지금 배송사 쪽에서 조금 문제가 있는 거라서 말 죄송합니다 예 알겠습니다 저희 쪽에서 지금 확인해 보겠다고 얘기를 해서 저도 전화를 드렸거든요 제가 없애 쪽으로 통화를 했어요 예 그래요\n"
     ]
    },
    {
     "name": "stderr",
     "output_type": "stream",
     "text": [
      "  7%|▋         | 1/14 [00:03<00:44,  3.41s/it]"
     ]
    },
    {
     "name": "stdout",
     "output_type": "stream",
     "text": [
      "0000 0000 맞습니까네 맞습니다 주소 말씀해 주시겠습니까 대구시 달서구 0 00 00 00 00 00 00 00 00 만나요 맞습니다\n"
     ]
    },
    {
     "name": "stderr",
     "output_type": "stream",
     "text": [
      " 14%|█▍        | 2/14 [00:07<00:42,  3.56s/it]"
     ]
    },
    {
     "name": "stdout",
     "output_type": "stream",
     "text": [
      "그다음에요 000 000 000 확인 한번 해 드립니다 대구시 달서구 0 0 0 0\n"
     ]
    },
    {
     "name": "stderr",
     "output_type": "stream",
     "text": [
      " 21%|██▏       | 3/14 [00:10<00:39,  3.62s/it]"
     ]
    },
    {
     "name": "stdout",
     "output_type": "stream",
     "text": [
      "005 맞습니까네 맞습니다네 이벤트나 상품 서비스 광고 문자로 드릴 수 있습니다 받아 보시겠습니까 아니요네 불편 들리지 않도록 주문관련 문자만 발송해 드리겠습니다 주문 도와드리겠습니다 잠깐만요네 고객님\n"
     ]
    },
    {
     "name": "stderr",
     "output_type": "stream",
     "text": [
      " 29%|██▊       | 4/14 [00:14<00:35,  3.55s/it]"
     ]
    },
    {
     "name": "stdout",
     "output_type": "stream",
     "text": [
      "0000 아파트 만나요네 그렇게 되어 있습니다네 알겠습니다 주문하시려면 상품이 현재 TV 방송 중인 캐나다산 000 랍스타 골드 사이즈 119,000원 상품 맞습니까네 맞습니다\n"
     ]
    },
    {
     "name": "stderr",
     "output_type": "stream",
     "text": [
      " 36%|███▌      | 5/14 [00:18<00:32,  3.66s/it]"
     ]
    },
    {
     "name": "stdout",
     "output_type": "stream",
     "text": [
      "주문수량 1 말씀해 주신 주소지로 배송합니다 결제는 카드로 하십니까네 이제 카드 번호 말씀해 주시겠습니까네 잠깐만요네 고객님 00 00 00 00 00\n"
     ]
    },
    {
     "name": "stderr",
     "output_type": "stream",
     "text": [
      " 43%|████▎     | 6/14 [00:22<00:30,  3.77s/it]"
     ]
    },
    {
     "name": "stdout",
     "output_type": "stream",
     "text": [
      "00 00 00 00 00 님 본인명의카드 미가 맞습니다 카드 소주 이신 000 고객님 생년월일 6자리 말씀해 주시겠습니까 000000 유효기간\n"
     ]
    },
    {
     "name": "stderr",
     "output_type": "stream",
     "text": [
      " 50%|█████     | 7/14 [00:25<00:26,  3.79s/it]"
     ]
    },
    {
     "name": "stdout",
     "output_type": "stream",
     "text": [
      "000000 주문 좀 하려는데요네 고객님 전화 주셔서 감사합니다 저희 0000 천천히 오시면 고객 정보 등록 후에 주문 도와 드리겠습니다 고객님의 회원 서비스 제공을 위해\n"
     ]
    },
    {
     "name": "stderr",
     "output_type": "stream",
     "text": [
      " 57%|█████▋    | 8/14 [00:28<00:21,  3.58s/it]"
     ]
    },
    {
     "name": "stdout",
     "output_type": "stream",
     "text": [
      "주시겠습니까 이유 기간이 09년 공공을 무이자 할부 6개월 가능하네요 할부 등록해 드릴까요 의자 6개월 해주세요 결제 금액 11만 9천 원이고 무이자 6개월 해서 한 달에 19833 원입니다\n"
     ]
    },
    {
     "name": "stderr",
     "output_type": "stream",
     "text": [
      " 64%|██████▍   | 9/14 [00:32<00:17,  3.49s/it]"
     ]
    },
    {
     "name": "stdout",
     "output_type": "stream",
     "text": [
      "네 고객님이 안전한 결제를 위해 카드인증 ARS 연결해 되는데요 연결이 되면 안내멘트에 따라 카드 비밀번호 앞 두 자리 입력 부탁드립니다네 알겠습니다 카드인증 ARS 연결합니다\n"
     ]
    },
    {
     "name": "stderr",
     "output_type": "stream",
     "text": [
      " 71%|███████▏  | 10/14 [00:35<00:13,  3.47s/it]"
     ]
    },
    {
     "name": "stdout",
     "output_type": "stream",
     "text": [
      "말씀해 주신 삼성카드로 119,000원 6개월 무이자 할부 정상 결제되었습니다 카드 정보 등록해 드릴까요네 바로 등록합니다 배송은 일요일 월요일 공휴일 제외 평균 3일이내 배송되고\n"
     ]
    },
    {
     "name": "stderr",
     "output_type": "stream",
     "text": [
      " 79%|███████▊  | 11/14 [00:39<00:10,  3.56s/it]"
     ]
    },
    {
     "name": "stdout",
     "output_type": "stream",
     "text": [
      "교환 반품을 배송 받으신 날로부터 일주일 내에 연락 주셔야 하며 제품의 경우 제품 화장품에 단순변심에 의한 교환 반품이 불가하오니 이점 양해 부탁드립니다네 알겠습니다 상품권은 부품 과학 배송됩니다 주문 접수 잘 되었습니다 더 문 열사 없습니까\n"
     ]
    },
    {
     "name": "stderr",
     "output_type": "stream",
     "text": [
      " 86%|████████▌ | 12/14 [00:42<00:06,  3.31s/it]"
     ]
    },
    {
     "name": "stdout",
     "output_type": "stream",
     "text": [
      "아니 없습니다 감사합니다 고객님 늘 최선을 다 하겠습니다 2019년에도 좋은 상품으로 찾아뵙겠습니다 000 없습니다네 수고하세요\n"
     ]
    },
    {
     "name": "stderr",
     "output_type": "stream",
     "text": [
      " 93%|█████████▎| 13/14 [00:46<00:03,  3.46s/it]"
     ]
    },
    {
     "name": "stdout",
     "output_type": "stream",
     "text": [
      "성함 생년월일 성별 주소 연락처 등록하고 있습니다 이에 동의하십니까네 감사합니다 고객님 본인 성함 말씀해 주시겠습니까 000 000 생년월일 말씀해 주시겠습니까 공근면 공 공을\n"
     ]
    },
    {
     "name": "stderr",
     "output_type": "stream",
     "text": [
      "100%|██████████| 14/14 [00:49<00:00,  3.52s/it]\n"
     ]
    },
    {
     "name": "stdout",
     "output_type": "stream",
     "text": [
      "001 휴대전화 번호 말씀해 주시겠습니까 00 00 00 00 00 00 유선전화 등록하는 한데 등록해 드릴까요 4 0 00 00 00 00 00\n"
     ]
    },
    {
     "name": "stderr",
     "output_type": "stream",
     "text": [
      "  7%|▋         | 1/14 [00:03<00:40,  3.11s/it]"
     ]
    },
    {
     "name": "stdout",
     "output_type": "stream",
     "text": [
      "네 그래서 6개월분 하시면 두 개 해서 총 28만 7,000원입니다 그러면 4개월짜리 두 개 등록을 해 주세요 아 그러면 4개월 분을 두 박스 주문해 드리면 될까요 그래요 그러면 각각 따로 따로 발송해 드려요\n"
     ]
    },
    {
     "name": "stderr",
     "output_type": "stream",
     "text": [
      " 14%|█▍        | 2/14 [00:06<00:38,  3.20s/it]"
     ]
    },
    {
     "name": "stdout",
     "output_type": "stream",
     "text": [
      "그게 같이 한 군데 보내면 돼요네 일단은 한 주문으로 진행해 드릴게요 그런데 주문 한 번 더 확인 안 해 주셔도 되나요 4개월분 12개짜리 두 박스 주문 하라는 얘기 아니세요 말씀하셨던 부천시 봉곡로 배송이 되실 거고요\n"
     ]
    },
    {
     "name": "stderr",
     "output_type": "stream",
     "text": [
      " 21%|██▏       | 3/14 [00:09<00:34,  3.11s/it]"
     ]
    },
    {
     "name": "stdout",
     "output_type": "stream",
     "text": [
      "네 그래요 카드 결제 도와 드리면 될까요네 불러 줄게요 잠시만요 예 말씀해주세요 0000\n"
     ]
    },
    {
     "name": "stderr",
     "output_type": "stream",
     "text": [
      " 29%|██▊       | 4/14 [00:12<00:31,  3.12s/it]"
     ]
    },
    {
     "name": "stdout",
     "output_type": "stream",
     "text": [
      "카드 소유주는 고객님 본인 맞으십니까 아니요 아들 거예요네 그럼 카드 소유주 분 성함은 어떻게 되실까요네네 고객님 카드 소유주 분 내 생년월일 6자리 확인 부탁드립니다 0 0 0 0\n"
     ]
    },
    {
     "name": "stderr",
     "output_type": "stream",
     "text": [
      " 36%|███▌      | 5/14 [00:15<00:28,  3.12s/it]"
     ]
    },
    {
     "name": "stdout",
     "output_type": "stream",
     "text": [
      "카드 유효 기간 내 자리 확인 부탁드립니다 유효 기간이 몇 년 몇 월까지 이렇게 되어 있는 거죠 예 숫자 2개 슬러시 숫자 2개 이렇게 되어 있습니다 0000 10개월 무이자로 진행해 드릴까요\n"
     ]
    },
    {
     "name": "stderr",
     "output_type": "stream",
     "text": [
      " 43%|████▎     | 6/14 [00:18<00:24,  3.11s/it]"
     ]
    },
    {
     "name": "stdout",
     "output_type": "stream",
     "text": [
      "네 그럴게요 그러면 37만 6천 원 6개월 무이자 현대카드로 결제하시겠습니까 아 고객님 저희가 원래 금액이 37만 6천 원 인데요 저희가 자동 주문 2,000원 할인 적용 해서 제가 37만 4,000원\n"
     ]
    },
    {
     "name": "stderr",
     "output_type": "stream",
     "text": [
      " 50%|█████     | 7/14 [00:22<00:22,  3.19s/it]"
     ]
    },
    {
     "name": "stdout",
     "output_type": "stream",
     "text": [
      "안녕하세요 고객님 00 쇼핑 상담사 000이라고 합니다네 안녕하세요 저 전화 통화 괜찮으세요네 괜찮습니다 예 고객님 아까 후레쉬 노니 상품 제가 말씀 드릴 때 2개월분 2개월분 자리하고 4개월분 있다고 했잖아요\n"
     ]
    },
    {
     "name": "stderr",
     "output_type": "stream",
     "text": [
      " 57%|█████▋    | 8/14 [00:25<00:18,  3.16s/it]"
     ]
    },
    {
     "name": "stdout",
     "output_type": "stream",
     "text": [
      "무이자로 해서 현대카드로 결제 도와 드릴게요네 감사해요 고객님 안전한 결제를 위해 카드 있는 ARS로 연결해 드리겠습니다네 알겠어요 안내멘트에 따라 카드 비밀번호 앞에 두 자리 입력 부탁드리겠습니다 연결해 드리겠습니다 그래요\n"
     ]
    },
    {
     "name": "stderr",
     "output_type": "stream",
     "text": [
      " 64%|██████▍   | 9/14 [00:28<00:15,  3.19s/it]"
     ]
    },
    {
     "name": "stdout",
     "output_type": "stream",
     "text": [
      "예 감사합니다 37만 4천 원 6개월 무이자 현대카드 결제 승인 되셨구요 그런데 여기는 무슨 홈쇼핑 이예요 공공 쇼핑 이요 그거 저한테 문자 뜨죠 문자로 발송이 될 겁니다네 알겠습니다 며칠 걸리나요\n"
     ]
    },
    {
     "name": "stderr",
     "output_type": "stream",
     "text": [
      " 71%|███████▏  | 10/14 [00:31<00:12,  3.19s/it]"
     ]
    },
    {
     "name": "stdout",
     "output_type": "stream",
     "text": [
      "일단 지금 현재 배송 택배사 마감이 신 거라서 추석 연휴 이후에 2월 7일 이후부터 순차적으로 발송해 되실 거예요네 그렇군요 예 그러시고 상품은 일단 무료체험 보니 있으신데 개별 포장이 포장이 되는 10mm 자리 3 4 3 4는 무료 체험\n"
     ]
    },
    {
     "name": "stderr",
     "output_type": "stream",
     "text": [
      " 79%|███████▊  | 11/14 [00:34<00:09,  3.20s/it]"
     ]
    },
    {
     "name": "stdout",
     "output_type": "stream",
     "text": [
      "하시고요네 알겠습니다 그리고 교환 반품은 받으신 날로부터 7일 이내 연락 주시면 드시고 무료체험 분위기에는 개봉지 사용 기간 경과시 교환반품불가 한 점 양해 해 주세요 예 알겠습니다 카드정보 저희 쪽에 등록해 드릴까요네 그러세요\n"
     ]
    },
    {
     "name": "stderr",
     "output_type": "stream",
     "text": [
      " 86%|████████▌ | 12/14 [00:36<00:05,  2.76s/it]"
     ]
    },
    {
     "name": "stdout",
     "output_type": "stream",
     "text": [
      "더 문의사항은 없으십니까 없어요 예 주문 되었습니다 오늘도 멋진 하루 되세요 0 0 0 0네 수고하세요\n"
     ]
    },
    {
     "name": "stderr",
     "output_type": "stream",
     "text": [
      " 93%|█████████▎| 13/14 [00:39<00:02,  2.93s/it]"
     ]
    },
    {
     "name": "stdout",
     "output_type": "stream",
     "text": [
      "그랬어요 그 2개월분 같은 경우 여섯 박스 가나 가시고요 4개월 보는 12박스가 나가는 거예요 6개월 자리는 없나요 예 6개월 자리는 따로 없으시고 4개월 + 2개월은 되세요 아그래요 6개월 자리는 이렇게 진행을 하면 이렇게 진행을 하면 대시면 됩니다\n"
     ]
    },
    {
     "name": "stderr",
     "output_type": "stream",
     "text": [
      "100%|██████████| 14/14 [00:42<00:00,  3.07s/it]\n"
     ]
    },
    {
     "name": "stdout",
     "output_type": "stream",
     "text": [
      "이게 올라오면 얼마고 4개월로 하면 얼마라고 있나요 잠시만요 고객님 확인해 보겠습니다네 알겠어요 지금 현재 4개월분 12박스가 18만 8천 원이에요 지금 두 달치 여섯 박스는 59,000원 이세요\n"
     ]
    },
    {
     "name": "stderr",
     "output_type": "stream",
     "text": [
      "  8%|▊         | 1/13 [00:03<00:41,  3.46s/it]"
     ]
    },
    {
     "name": "stdout",
     "output_type": "stream",
     "text": [
      "000000 등록하겠습니다네 맞아요네 이벤트나 상품 서비스 광고 문자 드릴 수 있습니다네 알겠어요 현재 방송 중인 올인원스쿼트머신 149,000원 블랙과 화이트 있습니다 그거\n"
     ]
    },
    {
     "name": "stderr",
     "output_type": "stream",
     "text": [
      " 15%|█▌        | 2/13 [00:06<00:37,  3.42s/it]"
     ]
    },
    {
     "name": "stdout",
     "output_type": "stream",
     "text": [
      "11 17,300원 저거는 뭐예요 자동 주문하시면 5천 원 할인이 되고 일시불로 하시면 만 원 할인 됐을 때 134,000원까지 가능합니다 안에 농협 신용 카드 사용해 주시면 청구할인 5%가 진행이 되는데 그러시면 12만 7,300원\n"
     ]
    },
    {
     "name": "stderr",
     "output_type": "stream",
     "text": [
      " 23%|██▎       | 3/13 [00:10<00:33,  3.38s/it]"
     ]
    },
    {
     "name": "stdout",
     "output_type": "stream",
     "text": [
      "합니다네 알겠습니다 지금 처음 그래서 예외적으로 자동 주문하니까 5,000원은 적용을 해 드릴 수 있는데 그렇게 도움 드려도 될까요 감사합니다 책상 지금 블랙 화이팅 하겠습니다 연락할게요네 카드 결제 도와 드릴까요\n"
     ]
    },
    {
     "name": "stderr",
     "output_type": "stream",
     "text": [
      " 31%|███       | 4/13 [00:13<00:31,  3.45s/it]"
     ]
    },
    {
     "name": "stdout",
     "output_type": "stream",
     "text": [
      "네네 카드 번호 말씀 부탁드립니다 00 00 00 고객님 본인 되십니까 아니요네 소장님 성함 말씀 부탁드립니다\n"
     ]
    },
    {
     "name": "stderr",
     "output_type": "stream",
     "text": [
      " 38%|███▊      | 5/13 [00:17<00:28,  3.51s/it]"
     ]
    },
    {
     "name": "stdout",
     "output_type": "stream",
     "text": [
      "네 관계가 어떻게 되시나요 남편 이네요네 부장님 생년월일 6자리 말씀 부탁드립니다네 홍 000000 말씀 부탁드립니다 00 00 00인가요\n"
     ]
    },
    {
     "name": "stderr",
     "output_type": "stream",
     "text": [
      " 46%|████▌     | 6/13 [00:20<00:24,  3.46s/it]"
     ]
    },
    {
     "name": "stdout",
     "output_type": "stream",
     "text": [
      "네 맞아요네 무이자 6개월까지 가능 합니다 그렇게 해 주세요네 14만 4천 원 롯데카드 6개월 결제 좀 드리겠습니다네 안전한 결제를 위해 카드인증 ARS 연결되면 안내멘트에 따라 카드 비밀번호 앞 두 자리 입력 부탁드립니다 연결해\n"
     ]
    },
    {
     "name": "stderr",
     "output_type": "stream",
     "text": [
      " 54%|█████▍    | 7/13 [00:24<00:20,  3.41s/it]"
     ]
    },
    {
     "name": "stdout",
     "output_type": "stream",
     "text": [
      "00 00 00 방송 중인 거 주문하려고요네 감사합니다 고객님 0000 주셔서 성함 생년월일 성별 주소 연락처 등록하고 있습니다 이에 동의하십니까\n"
     ]
    },
    {
     "name": "stderr",
     "output_type": "stream",
     "text": [
      " 62%|██████▏   | 8/13 [00:27<00:17,  3.40s/it]"
     ]
    },
    {
     "name": "stdout",
     "output_type": "stream",
     "text": [
      "있습니다네 알겠어요네 감사합니다 14만 4천 원 6개월 승인되었습니다 카드 정보 등록해 드릴까요네 그래요네 상품은 일요일 공휴일 제외 평균 1주일에 배송되고 교환\n"
     ]
    },
    {
     "name": "stderr",
     "output_type": "stream",
     "text": [
      " 69%|██████▉   | 9/13 [00:30<00:13,  3.41s/it]"
     ]
    },
    {
     "name": "stdout",
     "output_type": "stream",
     "text": [
      "오늘 받으신 날로부터 30일 이내에 연락 주셔야 하는데 제품하자 왜 개봉 사용 기간 경과 시 교환 반품 불가합니다 요거 그 집에서 해야 되는 거예요 어 조림 말씀하시는 건가요 대체적으로 조립이 다 되어가는데 일부 그 조절을 하시거나 그분\n"
     ]
    },
    {
     "name": "stderr",
     "output_type": "stream",
     "text": [
      " 77%|███████▋  | 10/13 [00:34<00:10,  3.36s/it]"
     ]
    },
    {
     "name": "stdout",
     "output_type": "stream",
     "text": [
      "해 주셔야 될 수도 있습니다 어렵지 않나요 저희가 요거 상품 관련해서 설명서도 같이 보내 드리기 때문에 어렵지 않게 하실 수 있습니다 예 알겠습니다 예 없습니까 없습니다 4 2019년에 더 좋은 상품으로 찾아뵙겠습니다\n"
     ]
    },
    {
     "name": "stderr",
     "output_type": "stream",
     "text": [
      " 85%|████████▍ | 11/13 [00:35<00:05,  2.67s/it]"
     ]
    },
    {
     "name": "stdout",
     "output_type": "stream",
     "text": [
      "웅 했습니다 수고하세요\n"
     ]
    },
    {
     "name": "stderr",
     "output_type": "stream",
     "text": [
      " 92%|█████████▏| 12/13 [00:38<00:02,  2.88s/it]"
     ]
    },
    {
     "name": "stdout",
     "output_type": "stream",
     "text": [
      "예 고객님 본인 성함 말씀 부탁드립니다 000 000 고객님 전화번호 말씀 부탁드립니다 00 00 00 00 감사합니다 생년월일 6자리 말씀 부탁드립니다 0 0 0 0\n"
     ]
    },
    {
     "name": "stderr",
     "output_type": "stream",
     "text": [
      "100%|██████████| 13/13 [00:42<00:00,  3.23s/it]\n"
     ]
    },
    {
     "name": "stdout",
     "output_type": "stream",
     "text": [
      "00 00 00 00 00인가요 내일 맞아요네 주소 말씀 부탁드립니다 경북 경주시 00 00 00 00 00 00 경북 경주시 0 0 0 0\n"
     ]
    },
    {
     "name": "stderr",
     "output_type": "stream",
     "text": [
      "  0%|          | 0/12 [00:00<?, ?it/s]"
     ]
    },
    {
     "name": "stdout",
     "output_type": "stream",
     "text": [
      "고객님 주소 말씀 부탁드립니다 경기도 공공 임대 아파트 공고 말씀하신 주소 다시 확인하겠습니다 경기도 00 c0000000 아파트 00\n"
     ]
    },
    {
     "name": "stderr",
     "output_type": "stream",
     "text": [
      " 17%|█▋        | 2/12 [00:07<00:38,  3.82s/it]"
     ]
    },
    {
     "name": "stdout",
     "output_type": "stream",
     "text": [
      "운동 0005 맞습니까 맞아요 고객님 신규 고객 등록 도와 드렸고요 이벤트나 상품 서비스 광고를 문자로 드릴 수 있습니다네 알겠습니다네 저희 공공 쇼핑 처음 이용해 주셨기 때문에 지금 방송 중인 마르조 겨울 밴딩팬츠 3종 상품 자동 주문 1,000원 할인\n"
     ]
    },
    {
     "name": "stderr",
     "output_type": "stream",
     "text": [
      " 25%|██▌       | 3/12 [00:11<00:33,  3.71s/it]"
     ]
    },
    {
     "name": "stdout",
     "output_type": "stream",
     "text": [
      "3만 8천 800원을 결제하실 수 있게 도와 드리겠습니다네 감사합니다 고객님 상품 사이즈는 어느 것으로 도와드릴까요 사이즈가 어떻게 나오나요네이 상품은 사이즈가 오후 6677 사이즈 이렇게 나오고 있습니다 그럼 제가 다른 상품은 28 사이즈를 있는데\n"
     ]
    },
    {
     "name": "stderr",
     "output_type": "stream",
     "text": [
      " 33%|███▎      | 4/12 [00:14<00:29,  3.65s/it]"
     ]
    },
    {
     "name": "stdout",
     "output_type": "stream",
     "text": [
      "사이즈 주문하면 맞을까요 28사이즈 입으시면 66사이즈가 맞을 것 같은데요 그렇죠 그러면 6 사이즈로 해주세요 예 66 사이즈 주문 도와드리겠습니다 3만 8천 800원 결제는 카드로 도와 드릴까요네 결제할 카드 전체 번호 말씀 부탁드립니다\n"
     ]
    },
    {
     "name": "stderr",
     "output_type": "stream",
     "text": [
      " 42%|████▏     | 5/12 [00:18<00:25,  3.62s/it]"
     ]
    },
    {
     "name": "stdout",
     "output_type": "stream",
     "text": [
      "0000 0000 0000 카드 유효기간 말씀 부탁드립니다 00002 확인해 주셔서 감사합니다 국민카드 소유주는 지금 전화 주신 고객님 본인 맞습니까네 맞습니다\n"
     ]
    },
    {
     "name": "stderr",
     "output_type": "stream",
     "text": [
      " 50%|█████     | 6/12 [00:21<00:21,  3.59s/it]"
     ]
    },
    {
     "name": "stdout",
     "output_type": "stream",
     "text": [
      "3만 8천 800원 국민카드로 일시불 결제 도와 드리겠습니다네 고객님이 안전한 카드 결제를 위해 카드 인증 ARS로 전화 연결 하겠습니다 안내멘트에 따라 카드 비밀번호 앞 두 자리 입력 부탁드립니다 알겠습니다\n"
     ]
    },
    {
     "name": "stderr",
     "output_type": "stream",
     "text": [
      " 58%|█████▊    | 7/12 [00:25<00:18,  3.62s/it]"
     ]
    },
    {
     "name": "stdout",
     "output_type": "stream",
     "text": [
      "00 쇼핑 000입니다 지금 공공 쇼핑에 나오는 밴딩바지 주문 하려고 하는데요네 저희 공공 쇼핑은 처음 이용하시는 겁니까 저희 공공 쇼핑 이용해 주셔서 감사합니다 고객님 신규 고객 정보 등록 후에 지금 방송 중인 상품 특별히\n"
     ]
    },
    {
     "name": "stderr",
     "output_type": "stream",
     "text": [
      " 67%|██████▋   | 8/12 [00:29<00:14,  3.63s/it]"
     ]
    },
    {
     "name": "stdout",
     "output_type": "stream",
     "text": [
      "3만 8천 800원 국민카드로 20일 카드 승인 완료 되셨구요 다음번에 간편하게 이용하실 수 있도록 결제한 카드 정보 등록해 드릴까요네 정도는 안전하게 등록해 드렸고요 고객님 말씀하셨던 배송지로 저희가 일요일 공휴일 제외 평균 3일이내 배송됩니다 예 알겠습니다\n"
     ]
    },
    {
     "name": "stderr",
     "output_type": "stream",
     "text": [
      " 75%|███████▌  | 9/12 [00:32<00:10,  3.65s/it]"
     ]
    },
    {
     "name": "stdout",
     "output_type": "stream",
     "text": [
      "교환 반품은 배송받으신 날로부터 15일 이내에 연락 주셔야 하며 제품하자를 제외한 재거나 외부 착용 세탁 기간 경과시에는 교환 반품이 나 교환이나 반품이 불가하오니 이점 양해 부탁드립니다 예 알겠습니다 본상품은 세트상품으로 부분교환 부분 반품은 불가하니 점 양해 바랍니다 더\n"
     ]
    },
    {
     "name": "stderr",
     "output_type": "stream",
     "text": [
      " 83%|████████▎ | 10/12 [00:34<00:06,  3.06s/it]"
     ]
    },
    {
     "name": "stdout",
     "output_type": "stream",
     "text": [
      "시상 있으십니까 없어요 00 쇼핑 000이었습니다네\n"
     ]
    },
    {
     "name": "stderr",
     "output_type": "stream",
     "text": [
      " 92%|█████████▏| 11/12 [00:38<00:03,  3.26s/it]"
     ]
    },
    {
     "name": "stdout",
     "output_type": "stream",
     "text": [
      "주문 할인가 적용해서 주문 도와드리겠습니다 감사합니다 고객님 회원 서비스 제공 우리의 성함 생년월일 성별 주소 연락처를 등록하고 있습니다 이에 동의하십니까네 동해 주셔서 감사합니다 전화 주신 고객님 본인 성함 말씀 부탁드립니다 0 0 0 2 0\n"
     ]
    },
    {
     "name": "stderr",
     "output_type": "stream",
     "text": [
      "100%|██████████| 12/12 [00:41<00:00,  3.49s/it]\n"
     ]
    },
    {
     "name": "stdout",
     "output_type": "stream",
     "text": [
      "반갑습니다 000 고객님 본인 맞습니까네 맞아요 본인 생년월일 6자리 말씀 부탁드립니다 00 00 00네 고객님 지금 사용 중인 전화번호 말씀 부탁드립니다 0 0 0 0 0 0\n"
     ]
    },
    {
     "name": "stderr",
     "output_type": "stream",
     "text": [
      "  7%|▋         | 1/15 [00:03<00:46,  3.34s/it]"
     ]
    },
    {
     "name": "stdout",
     "output_type": "stream",
     "text": [
      "지금 휴가를 진행을 못 하기 때문에 식품이라서 냉동보관을 부탁하시는 거 같더라고요네 그래요 일단 환불 위해서는 수거를 진행한다고 합니다 20일 정도 보관 해 달라는 거는 진짜 너무하네요 정말 죄송합니다 명절이 껴 있지 않을 경우에는 저희도 바로 진행 합니다 양해 부탁드립니다\n"
     ]
    },
    {
     "name": "stderr",
     "output_type": "stream",
     "text": [
      " 13%|█▎        | 2/15 [00:06<00:41,  3.21s/it]"
     ]
    },
    {
     "name": "stdout",
     "output_type": "stream",
     "text": [
      "취소 접수 한지 사거리 지났어요네 고객님 죄송합니다 그런데 이제 전화 와서는 수거 마감입니까 20일간 냉동 보관 해 달라고 하면 어떻게 합니까 예 고객님 죄송합니다 수건은 택배사에서 진행을 하는데요 수거 진행을 좀 늦게 한다고 해서 저희쪽에서도 고객님께 이렇게 불편 드린 점 안내해 드리고 있어요\n"
     ]
    },
    {
     "name": "stderr",
     "output_type": "stream",
     "text": [
      " 20%|██        | 3/15 [00:09<00:38,  3.24s/it]"
     ]
    },
    {
     "name": "stdout",
     "output_type": "stream",
     "text": [
      "그러면 그 카드 중에는 어떻게 됩니까 그것도 물어보고 결제 처리 되는 건가요 고객님 저희는 00 쇼핑은 후불제로 인해서 상품 먼저 회수 진행되고 환불 진행 됩니다 제가 카드로 결제를 했는데 그러면 어떻게 진행 되는 거예요 예 카드사에서 청구가 진행이 되었다\n"
     ]
    },
    {
     "name": "stderr",
     "output_type": "stream",
     "text": [
      " 27%|██▋       | 4/15 [00:13<00:36,  3.31s/it]"
     ]
    },
    {
     "name": "stdout",
     "output_type": "stream",
     "text": [
      "그 다음 달로 고객님께서 사용하신 카드가 있으시잖아요 그 카드 금액에서 청구된 금액 이만큼 차감하고 나머지만 청구가 되는 거죠 아 그래요 고객님 한달 청구가 되었잖아요 예를 들어서 다음 달에 50만 원 결제 하시겠다 그러면 결제 취소 된 금액을 빼고 나머지 금액만 청소 진행 합니다 제가\n"
     ]
    },
    {
     "name": "stderr",
     "output_type": "stream",
     "text": [
      " 33%|███▎      | 5/15 [00:16<00:32,  3.24s/it]"
     ]
    },
    {
     "name": "stdout",
     "output_type": "stream",
     "text": [
      "얼마를 카드로 결제 했거든요 고객님께서 지금 0002 황제소갈비살 주문 하셨고 결제 금액은 ARS 할인 적용 해서 68,000 900원으로 결제 되셨고요 5개월 할부로 진행하셨습니다 그렇게 되면 어떻게 합니까 예 1월 28일 날 결제하신 부분이라서\n"
     ]
    },
    {
     "name": "stderr",
     "output_type": "stream",
     "text": [
      " 40%|████      | 6/15 [00:19<00:29,  3.23s/it]"
     ]
    },
    {
     "name": "stdout",
     "output_type": "stream",
     "text": [
      "고객님께 혹시 청구 진행한 다음에 결제 취소가 접수가 된다면 저희가 말씀 먼저 드린 것처럼 다음 달 청구 금액에서 1회분 청구된 금액이 차감되고 청구되는 거죠 예 알겠어요 예 그 날짜 전에 취소가 안 되면 일해 보니 친구가 될 거예요 그러면 그 다음 달에 청구되는 총 금액에서 일해 보니 차가\n"
     ]
    },
    {
     "name": "stderr",
     "output_type": "stream",
     "text": [
      " 47%|████▋     | 7/15 [00:22<00:25,  3.22s/it]"
     ]
    },
    {
     "name": "stdout",
     "output_type": "stream",
     "text": [
      "공공 쇼핑입니다 공공임대십니까 맞습니다 예 고객님께서 입금 하신대요 업체 쪽에 확인 요청 해서 확인되었습니다 그래서 반품 접수 도와 드리려고 전화 드렸습니다 예 그런데 고객님 안타깝게도 지금 수거를 다 마감을 했기 때문에 정말 죄송합니다\n"
     ]
    },
    {
     "name": "stderr",
     "output_type": "stream",
     "text": [
      " 53%|█████▎    | 8/15 [00:25<00:22,  3.22s/it]"
     ]
    },
    {
     "name": "stdout",
     "output_type": "stream",
     "text": [
      "청구 되는 겁니다 고객님 통장으로 돈이 들어가는 건 아니에요 아니 지금 내가 신용카드로 결제를 한 거 있잖아요 승인취소를 그쪽에서 시킬 거 잖아요 고객님 정말 죄송합니다 안내해 드린 것처럼 저희 200 쇼핑은 후불제로 인해서 상품 먼저 회수되고 카드 취소 접수로 확인 되는 거예요 알겠어요\n"
     ]
    },
    {
     "name": "stderr",
     "output_type": "stream",
     "text": [
      " 60%|██████    | 9/15 [00:29<00:19,  3.23s/it]"
     ]
    },
    {
     "name": "stdout",
     "output_type": "stream",
     "text": [
      "승인 취소 나는 시점이 결제일이지나 청구가 진행이 되었다 그러면은 11만 빠져나가는 거고요 청구 되기 전에 취소승인 라면은 결제 청구 되지 않아요 그럼 언제 청구가 되나요 고객님 청구 날짜를 저희가 알 수가 알 수가 없기 때문에 이렇게 기본적인 안내를 드려요네 알겠습니다 그런데 그걸 어떻게 하나요\n"
     ]
    },
    {
     "name": "stderr",
     "output_type": "stream",
     "text": [
      " 67%|██████▋   | 10/15 [00:32<00:16,  3.23s/it]"
     ]
    },
    {
     "name": "stdout",
     "output_type": "stream",
     "text": [
      "청구서에 내역이 나와요 어떻게 나옵니까 청구된 1월분 금액이 - 표시로 나와요 그러면 5개월 할부 했는데 그렇게 계속 진행이 된다고요 결제 취소 처리가 승인되고 그 승인된 시점에 이미 정도가 되었다 그러면이 부분에 대한 것만 있고 그 다음 달 분은\n"
     ]
    },
    {
     "name": "stderr",
     "output_type": "stream",
     "text": [
      " 73%|███████▎  | 11/15 [00:35<00:12,  3.08s/it]"
     ]
    },
    {
     "name": "stdout",
     "output_type": "stream",
     "text": [
      "안 되죠 알겠습니다네 불편 드려 정말 죄송합니다 주소 확인하겠습니다 주소가 서울 노원구 공릉로 2길 맞습니까 예 맞아요 이하 주소 말씀 부탁드립니다 00 00 00 00 00 00\n"
     ]
    },
    {
     "name": "stderr",
     "output_type": "stream",
     "text": [
      " 80%|████████  | 12/15 [00:38<00:09,  3.11s/it]"
     ]
    },
    {
     "name": "stdout",
     "output_type": "stream",
     "text": [
      "확인해 주셔서 감사합니다 그리고 부모 수신 동의 안 하는 쪽으로 해 주세요네 알겠습니다 취소하겠습니다 불편 드려 정말 죄송합니다 그러면은 그 택배 기사가 언제 온다는 겁니까 연락을 옵니까네 그럼 방문 전 연락 바란다고 메모 남겨 놓겠습니다\n"
     ]
    },
    {
     "name": "stderr",
     "output_type": "stream",
     "text": [
      " 87%|████████▋ | 13/15 [00:41<00:06,  3.01s/it]"
     ]
    },
    {
     "name": "stdout",
     "output_type": "stream",
     "text": [
      "언제 온다고요 저희쪽에서는 정확한 날짜를 알 수 없기 때문에 방문 전에 연락 드릴 수 있도록 하겠습니다 그럼 알겠습니다네 더 문의할 사항 없으니까 늘 최선을 다하겠습니다네 알겠어요\n"
     ]
    },
    {
     "name": "stderr",
     "output_type": "stream",
     "text": [
      " 93%|█████████▎| 14/15 [00:44<00:03,  3.05s/it]"
     ]
    },
    {
     "name": "stdout",
     "output_type": "stream",
     "text": [
      "네 그럼 어떻게 해요 2월 11일 이후에 기사가 방문해서 수거합니다 그때까지 냉동 보관 좀 부탁드려도 될까요 그게 무슨 말인가요 1월 24일 이후로는 그거를 다 마감을 했어요 그래서 설 명절 이후로 최적으로 방문해서 수거를 진행한다고 하는데요 택배 회사에서는 수건은 2월\n"
     ]
    },
    {
     "name": "stderr",
     "output_type": "stream",
     "text": [
      "100%|██████████| 15/15 [00:47<00:00,  3.16s/it]\n"
     ]
    },
    {
     "name": "stdout",
     "output_type": "stream",
     "text": [
      "10일 이후 진행한다 그렇게 공지가 와서이 부분 안내해 드리고 있습니다 그럼 언제 온다고요 2월 11일 이후 주말 공휴일 제외 하고 일주일 이내 일주일 이내에 방문하여 수고합니다 그럼 20일간 보관 해 달라고 하는 겁니까 예 택배 기사가 택배회사 쪽에서\n"
     ]
    },
    {
     "name": "stderr",
     "output_type": "stream",
     "text": [
      "  8%|▊         | 1/13 [00:02<00:35,  2.96s/it]"
     ]
    },
    {
     "name": "stdout",
     "output_type": "stream",
     "text": [
      "알겠어요 저희가 확인했을 때는 본품 배송 완료 후 별도 배송되는 사은품으로는 위니아 레트로 소형 냉장고로 확인되고 있습니다 소형 냉장고 만드는 거예요네 현재는 그렇게 확인되었습니다 예 알겠어요네 바로 결제 도움 드리면 될까요\n"
     ]
    },
    {
     "name": "stderr",
     "output_type": "stream",
     "text": [
      " 15%|█▌        | 2/13 [00:06<00:33,  3.02s/it]"
     ]
    },
    {
     "name": "stdout",
     "output_type": "stream",
     "text": [
      "예 36개월 할부로 해 주세요네 결제하실 카드 말씀해 주세요 국민카드 처음부터 다 불러요 예 저희 처음 이용하셔서요 전체 번호 불러 주시겠습니까 0000 0000\n"
     ]
    },
    {
     "name": "stderr",
     "output_type": "stream",
     "text": [
      " 23%|██▎       | 3/13 [00:09<00:30,  3.05s/it]"
     ]
    },
    {
     "name": "stdout",
     "output_type": "stream",
     "text": [
      "항공 확인 감사합니다 해당카드 소주 분 성함 말씀 부탁드립니다 생년월일 생년월일 6자리 말씀 부탁드립니다 2000 말씀 감사합니다 할부는 무이자 10개월까지 가능한데 36개월\n"
     ]
    },
    {
     "name": "stderr",
     "output_type": "stream",
     "text": [
      " 31%|███       | 4/13 [00:12<00:27,  3.01s/it]"
     ]
    },
    {
     "name": "stdout",
     "output_type": "stream",
     "text": [
      "도와 드릴까요 그럼 10개월로 해 주세요네 알겠습니다 고객님의 안전한 결제 위해서 카드 인증 ARS로 연결해 드리겠습니다네 알겠어요 안내멘트에 따라 카드 비밀번호 앞 두 자리 입력 부탁드립니다 그럴게요\n"
     ]
    },
    {
     "name": "stderr",
     "output_type": "stream",
     "text": [
      " 38%|███▊      | 5/13 [00:15<00:24,  3.02s/it]"
     ]
    },
    {
     "name": "stdout",
     "output_type": "stream",
     "text": [
      "바로 연결해 드리겠습니다네네 고객님 240 89,000원 무이자 10개월로 정상 승인되었습니다 248만 9천 원이요 예 맞습니다 그럼 경기서 5% 할인 된다는 거죠네 현재 고객님께서 국민카드로\n"
     ]
    },
    {
     "name": "stderr",
     "output_type": "stream",
     "text": [
      " 46%|████▌     | 6/13 [00:18<00:20,  3.00s/it]"
     ]
    },
    {
     "name": "stdout",
     "output_type": "stream",
     "text": [
      "해 주셨을 때 추가 청구할인 가능하신 걸로 확인 되고요네 지금 결제시에는 제가 지금 말씀드린 금액 248만 9천 원입니다 그러면 나중에 카드 결제한 청구서에 나오셔 예 맞습니다 카드 청구서 상으로 확인 가능하십니다 그리고 상품은 언제 오나요\n"
     ]
    },
    {
     "name": "stderr",
     "output_type": "stream",
     "text": [
      " 54%|█████▍    | 7/13 [00:21<00:17,  3.00s/it]"
     ]
    },
    {
     "name": "stdout",
     "output_type": "stream",
     "text": [
      "고객님 안녕하십니까 잠시 전에 통화 진행했던 상담사 쇼핑 있고요네 말씀하세요네 현재 말씀해 주신 사항 확인 후에 연락 드렸는데요네 말씀해 주신 것처럼 추가사은품 고객님 댁으로 배송 가능 해서\n"
     ]
    },
    {
     "name": "stderr",
     "output_type": "stream",
     "text": [
      " 62%|██████▏   | 8/13 [00:23<00:14,  2.92s/it]"
     ]
    },
    {
     "name": "stdout",
     "output_type": "stream",
     "text": [
      "네 바로 말씀드리겠습니다 설 연휴 이후 평일기준 3일 이내 설치기사가 따로 해피콜로 연락을 드릴 예정입니다네 연휴 지나서 3월이네요 연휴 지나서 배송 기사가 상품 받으시는 고객님께 연락을 드릴 예정이고요네 알겠어요\n"
     ]
    },
    {
     "name": "stderr",
     "output_type": "stream",
     "text": [
      " 69%|██████▉   | 9/13 [00:26<00:11,  2.96s/it]"
     ]
    },
    {
     "name": "stdout",
     "output_type": "stream",
     "text": [
      "연락 드리고 평일기준 7일 이내에 같은 전문기사가 배송해서 박스 개봉까지 다 진행해드립니다 예 알겠습니다 예 설치 후 사용하시려는 상품 하자로 인한 교환 반품은 AS 센터 저희 쪽에 연락 주셔서 접수 후에 처리 가능하며 단순변심으로 인한 반품은\n"
     ]
    },
    {
     "name": "stderr",
     "output_type": "stream",
     "text": [
      " 77%|███████▋  | 10/13 [00:30<00:09,  3.06s/it]"
     ]
    },
    {
     "name": "stdout",
     "output_type": "stream",
     "text": [
      "점 양해 부탁드립니다 예 알겠습니다 다음 부문 토요일 일요일 공휴일 제외 3주 이내에 별도로 배송되니 양해 부탁드립니다네 알겠습니다네 더 문의사항은 없으니까 예 없어요네 확인 처리되었습니다 2019년에는 더 좋은 상품으로 찾아뵙겠습니다\n"
     ]
    },
    {
     "name": "stderr",
     "output_type": "stream",
     "text": [
      " 85%|████████▍ | 11/13 [00:31<00:04,  2.42s/it]"
     ]
    },
    {
     "name": "stdout",
     "output_type": "stream",
     "text": [
      "00 뉴스입니다네 고맙습니다\n",
      "바로 결제 처리 좀 드리겠습니다 예 그러세요네 상품 배송 받으신 주소는 양천구 공공 주소지 아드님 주소지를 좀 확인했고요네 맞아요 고객님 주소지 또한 확인해서 사은품도 배송해 드리겠습니다네 그러면 냄비는 안 주는 거예요\n"
     ]
    },
    {
     "name": "stderr",
     "output_type": "stream",
     "text": [
      "100%|██████████| 13/13 [00:37<00:00,  2.87s/it]\n"
     ]
    },
    {
     "name": "stdout",
     "output_type": "stream",
     "text": [
      "현재 사은품이 따로 고객님 댁으로 배송 가능하다는 말씀드렸습니다 그러니까요 작은 냉장고 주는 거예요 상품에 사은품구성 말씀이십니까 예 그래요 잠시만 기다려 주시면 상품 구성 다시 한번 정확하게 확인하고 말씀 드리겠습니다\n"
     ]
    },
    {
     "name": "stderr",
     "output_type": "stream",
     "text": [
      " 14%|█▍        | 1/7 [00:03<00:18,  3.16s/it]"
     ]
    },
    {
     "name": "stdout",
     "output_type": "stream",
     "text": [
      "네 알겠어요네 기다려 주셔서 감사합니다 요한 주소는 배송 받으셨던 서울 관악구 봉곡로 맞습니까네 맞습니다네 나머지 주소 확인 부탁드립니다 00 00 00 00 00 00 00\n"
     ]
    },
    {
     "name": "stderr",
     "output_type": "stream",
     "text": [
      " 29%|██▊       | 2/7 [00:06<00:15,  3.19s/it]"
     ]
    },
    {
     "name": "stdout",
     "output_type": "stream",
     "text": [
      "네 확인 감사합니다 수거지도 동일한 곳에서 진행해 드리면 될까요네 그렇게 해주세요 상품은 받으신 그대로 포장해 2시면 택배 기사가 주말 공휴일 제외하고 4일 내 방문하여 수거할 예정입니다네 알겠어요 수고 기사가 드리는 인수증은 1개월간 보관 부탁합니다\n"
     ]
    },
    {
     "name": "stderr",
     "output_type": "stream",
     "text": [
      " 43%|████▎     | 3/7 [00:09<00:12,  3.18s/it]"
     ]
    },
    {
     "name": "stdout",
     "output_type": "stream",
     "text": [
      "네 알겠습니다 배송 동안 일요일 공휴일 제외하고 평균 3일에서 5일 정도 소요될 예정입니다 예 잘 알겠어요 공공 쇼핑은 맞교환 처리가 어렵습니다 수거가 먼저 될 수도 있고 배송이 먼저 될 수도 있는 점 양해 부탁드립니다 알겠어요 더 문의사항은 없으니까\n"
     ]
    },
    {
     "name": "stderr",
     "output_type": "stream",
     "text": [
      " 57%|█████▋    | 4/7 [00:11<00:07,  2.55s/it]"
     ]
    },
    {
     "name": "stdout",
     "output_type": "stream",
     "text": [
      "네 없어요네 교환 처리되었습니다 0002 얻습니다 감사합니다 수고하세요\n"
     ]
    },
    {
     "name": "stderr",
     "output_type": "stream",
     "text": [
      " 71%|███████▏  | 5/7 [00:14<00:05,  2.69s/it]"
     ]
    },
    {
     "name": "stdout",
     "output_type": "stream",
     "text": [
      "실례지만 000 고객님 맞습니까네 맞습니다네 공공 쇼핑에서 연락을 드렸습니다 아 그렇군요 주문하신 잭필드 프라우덴 경량다운 상품권 업체에 전달하였고요 업체에서 교환해 달라는 답변을 받았습니다네 감사합니다\n"
     ]
    },
    {
     "name": "stderr",
     "output_type": "stream",
     "text": [
      " 86%|████████▌ | 6/7 [00:17<00:02,  2.86s/it]"
     ]
    },
    {
     "name": "stdout",
     "output_type": "stream",
     "text": [
      "네 교환 처리 도와 드릴 텐데요 100사이즈로 해 드리면 될까요 아니 난 무서운게 계속 빠지니까요 앞에가 안 빠지면 되는데 앞뒤 다 빠져 버리잖아요네 그 부분은 확인을 해 봤는데 어느 정도는 빠진다고 합니다 아 그래요네 상품 택 제거 나\n"
     ]
    },
    {
     "name": "stderr",
     "output_type": "stream",
     "text": [
      "100%|██████████| 7/7 [00:20<00:00,  2.93s/it]\n"
     ]
    },
    {
     "name": "stdout",
     "output_type": "stream",
     "text": [
      "하셨습니까 아니요 안 했어요네 블랙 100사이즈로 교환해 드리면 될까요 아니면 다른 색상은 뭐가 있나요 블랙 네이비 그레이가 있습니다 네이비로 해주세요네 잠시만 기다려 주시겠습니까\n"
     ]
    },
    {
     "name": "stderr",
     "output_type": "stream",
     "text": [
      "  8%|▊         | 1/12 [00:03<00:40,  3.70s/it]"
     ]
    },
    {
     "name": "stdout",
     "output_type": "stream",
     "text": [
      "공공아파트 00 00 00 00 서울 009 아파트 배송지등록 도와 드리겠습니다 예 알겠습니다 유선 전화번호 있으시면 등록해 드릴까\n"
     ]
    },
    {
     "name": "stderr",
     "output_type": "stream",
     "text": [
      " 17%|█▋        | 2/12 [00:07<00:36,  3.61s/it]"
     ]
    },
    {
     "name": "stdout",
     "output_type": "stream",
     "text": [
      "없어요 소중한 정보 확인 감사합니다 이벤트나 상품 서비스 광고를 문자로 드릴 수 있습니다 아니요네 고객님 불편 드리지 않게 주문에 관련된 문자만 발송하겠습니다 예 알겠어요네 지금 방송하고 있는 마르조 겨울 밴딩팬츠 3종\n"
     ]
    },
    {
     "name": "stderr",
     "output_type": "stream",
     "text": [
      " 25%|██▌       | 3/12 [00:10<00:31,  3.54s/it]"
     ]
    },
    {
     "name": "stdout",
     "output_type": "stream",
     "text": [
      "39,800원 상품 주문 도와드릴까요 상품 사이즈는 어느 곳으로 도와 드릴까요네 상품 77사이즈로 주문 도와드리겠습니다 카드 결제로 도와드릴까요 카드로 할게요 결제하실 카드 전체 번호 확인 부탁드립니다\n"
     ]
    },
    {
     "name": "stderr",
     "output_type": "stream",
     "text": [
      " 33%|███▎      | 4/12 [00:13<00:27,  3.42s/it]"
     ]
    },
    {
     "name": "stdout",
     "output_type": "stream",
     "text": [
      "00 00 00 00 00 카드 소유주 고객님 본인 되십니까 예 맞아요 카드 인증을 위해 고객님의 생년월일 6자리 다시 말씀 부탁드립니다 000000 카드 유효기간 확인 부탁드립니다\n"
     ]
    },
    {
     "name": "stderr",
     "output_type": "stream",
     "text": [
      " 42%|████▏     | 5/12 [00:17<00:23,  3.39s/it]"
     ]
    },
    {
     "name": "stdout",
     "output_type": "stream",
     "text": [
      "0000 확인 감사합니다 마르조 겨울 밴딩팬츠 삼존 39,800원 상품 농협카드로 일시불결제 하시겠습니까 고객님의 안전한 결제를 위해 카드인증 ARS로 연결해 드리겠습니다 안내멘트에 따라 카드 비밀번호 앞 두 자리 입력\n"
     ]
    },
    {
     "name": "stderr",
     "output_type": "stream",
     "text": [
      " 50%|█████     | 6/12 [00:20<00:20,  3.41s/it]"
     ]
    },
    {
     "name": "stdout",
     "output_type": "stream",
     "text": [
      "예 알겠습니다 고객님 39,800원 일시불 승인 되었고요 다음번에 편리하게 결제하실게 카드정보 등록해 되니까요 아니요네 고객님 말씀대로 정보 삭제 해 드렸고요\n"
     ]
    },
    {
     "name": "stderr",
     "output_type": "stream",
     "text": [
      " 58%|█████▊    | 7/12 [00:24<00:17,  3.48s/it]"
     ]
    },
    {
     "name": "stdout",
     "output_type": "stream",
     "text": [
      "00 쇼핑 0 0 0입니다 고객님 무엇을 도와드릴까요네 수고하십니다 방송 중인 상품 주문 하려고 하는데요네 저희 공공 쇼핑 처음 이용하시면 고객 정보 등록 후 주문 도와드리겠습니다 예 알겠습니다네 고객님 회원 서비스 제공을 위해\n"
     ]
    },
    {
     "name": "stderr",
     "output_type": "stream",
     "text": [
      " 67%|██████▋   | 8/12 [00:28<00:14,  3.54s/it]"
     ]
    },
    {
     "name": "stdout",
     "output_type": "stream",
     "text": [
      "일요일 공휴일 제외하고 평균 3일이내 배송이 됩니다 예 알겠습니다 교환 반품은 배송 받으신 날로부터 15일네 연락 주셔야 되고 제품하자에 책 재범이 외부 착용 세탁 기간 경과 시 교환 반품 불가 하고 부분 교환 반품 불가합니다 양해 부탁드립니다 확인하고\n"
     ]
    },
    {
     "name": "stderr",
     "output_type": "stream",
     "text": [
      " 75%|███████▌  | 9/12 [00:31<00:10,  3.53s/it]"
     ]
    },
    {
     "name": "stdout",
     "output_type": "stream",
     "text": [
      "안 맞으면 교환 안 되는 거죠 사이즈가 안 맞으면 상품 사용하지 마시고 기간 안에 연락 주셔서 교환이나 반품 받아 보시면 될 것 같습니다 예 알겠습니다 좋은 되었습니다 더 문 열 사항 있습니까 없어요 00 쇼핑 0 0 0 4\n"
     ]
    },
    {
     "name": "stderr",
     "output_type": "stream",
     "text": [
      " 92%|█████████▏| 11/12 [00:35<00:02,  2.83s/it]"
     ]
    },
    {
     "name": "stdout",
     "output_type": "stream",
     "text": [
      "정아 생년월일 성별 주소 연락처를 등록하고 있습니다 이에 동의하십니까네 감사합니다 전화 주신 고객님 본인 성함과 생년월일 6자리 말씀 부탁드립니다 00029 맞습니까\n"
     ]
    },
    {
     "name": "stderr",
     "output_type": "stream",
     "text": [
      "100%|██████████| 12/12 [00:39<00:00,  3.28s/it]\n"
     ]
    },
    {
     "name": "stdout",
     "output_type": "stream",
     "text": [
      "내일 맞아요 사용하고 계신 전화번호 말씀 부탁드립니다 000000 상품 배송 받으실 주소 확인 부탁드리겠습니다 서울 0009\n"
     ]
    },
    {
     "name": "stderr",
     "output_type": "stream",
     "text": [
      "  8%|▊         | 1/12 [00:03<00:39,  3.58s/it]"
     ]
    },
    {
     "name": "stdout",
     "output_type": "stream",
     "text": [
      "공동 공공아파트 0000 0000 말씀하실 주소지로 등록 도와 드리겠습니다 마르죠 겨울 밴딩팬츠 3종 39,800원 상품으로 주문하시는 거 맞습니까 예 주문하신 상품 사이즈\n"
     ]
    },
    {
     "name": "stderr",
     "output_type": "stream",
     "text": [
      " 17%|█▋        | 2/12 [00:07<00:37,  3.72s/it]"
     ]
    },
    {
     "name": "stdout",
     "output_type": "stream",
     "text": [
      "어느 것으로 도와드릴까요 사이즈 때문에 말씀 드리는 건데이 상품 저희 엄마가 입으실 거라서요 정 사이즈 7 7 정도 이거든요 정 사이즈로 제작이 되어 있어서 주문하시면 상품은 평소 입으시는 사이즈로 주문하시면 되실 것 같습니다 그러면 혹시 사이즈 안 맞으면 교환이나 반품은 할 수 있는\n"
     ]
    },
    {
     "name": "stderr",
     "output_type": "stream",
     "text": [
      " 25%|██▌       | 3/12 [00:11<00:33,  3.72s/it]"
     ]
    },
    {
     "name": "stdout",
     "output_type": "stream",
     "text": [
      "저희 쪽 연락 주신 전화 번호로 연락 주시면 되고요 교환 반품은 배송 받으신 날로부터 15일 안에 연락 주셔야 하며 15일 안에는 교환 제품 배송비는 따로 없이 저희가 진행이 되고 있습니다 예 알겠습니다 고객님 사이즈 선택을 아직 안 하셨는데 사이즈는 어느 것으로\n"
     ]
    },
    {
     "name": "stderr",
     "output_type": "stream",
     "text": [
      " 33%|███▎      | 4/12 [00:14<00:29,  3.65s/it]"
     ]
    },
    {
     "name": "stdout",
     "output_type": "stream",
     "text": [
      "될까요 사이즈로 해주세요 겨울 밴딩팬츠 3종 현재 판매 금액은 39,800원 2시고 77사이즈 결제 도와 드리면 되겠습니까 결제는 카드로 하십니까 예 결제하실 카드 전체\n"
     ]
    },
    {
     "name": "stderr",
     "output_type": "stream",
     "text": [
      " 42%|████▏     | 5/12 [00:18<00:25,  3.63s/it]"
     ]
    },
    {
     "name": "stdout",
     "output_type": "stream",
     "text": [
      "말씀 부탁드립니다 신한카드 구요 0000 고객님 본인 맞습니까네 맞아요 카드 유효기간 말씀 부탁드립니다 0 0 0 0\n"
     ]
    },
    {
     "name": "stderr",
     "output_type": "stream",
     "text": [
      " 50%|█████     | 6/12 [00:21<00:21,  3.56s/it]"
     ]
    },
    {
     "name": "stdout",
     "output_type": "stream",
     "text": [
      "결제 도와드리겠습니다 안전한 결제를 위해 카드 인증 ARS로 연결해 드리겠습니다 안내멘트에 따라 카드 비밀번호 앞 두 자리 입력 부탁드립니다 예 알겠습니다\n"
     ]
    },
    {
     "name": "stderr",
     "output_type": "stream",
     "text": [
      " 58%|█████▊    | 7/12 [00:25<00:17,  3.59s/it]"
     ]
    },
    {
     "name": "stdout",
     "output_type": "stream",
     "text": [
      "00 쇼핑 0 0 0입니다 지금 TV에서 나오고 있는 밴딩바지 주문 하려고 하는데요 예 그렇습니까 고객님 저희 공공 쇼핑 처음 이용 있으면 고객 정보 등록 후에 주문 도와드리겠습니다 예 알겠습니다 고객님의 회원 서비스 제공을 위해 성하 생명\n"
     ]
    },
    {
     "name": "stderr",
     "output_type": "stream",
     "text": [
      " 67%|██████▋   | 8/12 [00:28<00:14,  3.53s/it]"
     ]
    },
    {
     "name": "stdout",
     "output_type": "stream",
     "text": [
      "결제 정상승인 되었고요 다음번 주문하실 때 현리 하시게 카드정보 등록해 드릴까요 아니요 말씀하신 대로 카드 정보 삭제 해 드렸습니다 상품 배송은 일요일 공휴일 제외 평균 3일 안에 배송이 됩니다 예 알겠습니다 교환 반품은 배송받으신 날로부터 15일\n"
     ]
    },
    {
     "name": "stderr",
     "output_type": "stream",
     "text": [
      " 75%|███████▌  | 9/12 [00:32<00:10,  3.52s/it]"
     ]
    },
    {
     "name": "stdout",
     "output_type": "stream",
     "text": [
      "네 연락 주셔야 하며 택 제거 나 사용하시면 교환이나 반품이 어려우신이 양해 부탁드립니다 알겠습니다 그리고 본 상품을 세트상품으로 부분 교환 부분반품이 어려운 점 양해 부탁드립니다 더 문의할 사항이 있으십니까 없어요 공공 쇼핑 000이었습니다\n"
     ]
    },
    {
     "name": "stderr",
     "output_type": "stream",
     "text": [
      " 83%|████████▎ | 10/12 [00:33<00:05,  2.79s/it]"
     ]
    },
    {
     "name": "stdout",
     "output_type": "stream",
     "text": [
      "네 수고하셨어요\n"
     ]
    },
    {
     "name": "stderr",
     "output_type": "stream",
     "text": [
      " 92%|█████████▏| 11/12 [00:36<00:02,  2.98s/it]"
     ]
    },
    {
     "name": "stdout",
     "output_type": "stream",
     "text": [
      "성별 주소 연락처를 등록하고 있습니다 이에 동의하십니까 예 연락 주시면 고객님 상황과 전화 번호 말씀 부탁드립니다 00029 고객님 본인 생년월일\n"
     ]
    },
    {
     "name": "stderr",
     "output_type": "stream",
     "text": [
      "100%|██████████| 12/12 [00:40<00:00,  3.37s/it]\n"
     ]
    },
    {
     "name": "stdout",
     "output_type": "stream",
     "text": [
      "6자리만 말씀 부탁드립니다 000000네 확인 감사합니다 유선 전화번호 등록해 드릴까요 괜찮아요네 확인 감사합니다 상품 받으실 주소지 말씀 부탁드리겠습니다 서울시 금천구 1,500\n"
     ]
    },
    {
     "name": "stderr",
     "output_type": "stream",
     "text": [
      "  8%|▊         | 1/12 [00:03<00:38,  3.50s/it]"
     ]
    },
    {
     "name": "stdout",
     "output_type": "stream",
     "text": [
      "000000입니다 소중한 정보 말씀해 주셔서 감사합니다 전화번호는 아까 000000 말씀해 주셨고요 전화번호 등록해 드릴까요 4 0 0 0 0\n"
     ]
    },
    {
     "name": "stderr",
     "output_type": "stream",
     "text": [
      " 17%|█▋        | 2/12 [00:07<00:35,  3.55s/it]"
     ]
    },
    {
     "name": "stdout",
     "output_type": "stream",
     "text": [
      "감사합니다 고객님 주소 확인 부탁드립니다 내일 서울시 관악구 공공 길 100-20 상품 서비스 광고를 문자로 안내해 드릴 수 있습니다 예 그러세요네 고객님 신규 고객 등록해 드렸습니다\n"
     ]
    },
    {
     "name": "stderr",
     "output_type": "stream",
     "text": [
      " 25%|██▌       | 3/12 [00:10<00:33,  3.71s/it]"
     ]
    },
    {
     "name": "stdout",
     "output_type": "stream",
     "text": [
      "알겠습니다 저희 공공 쇼핑 처음 이용해 주셨기 때문에 지금 방송 중인 슬레진저 고마타 다이얼 방 1 + 기모 옵티마 자동 주문 할인가 적용해서 58,800원으로 주문해 드리겠습니다네 감사합니다 고객님 설정 발사이즈 말씀 부탁드립니다네 블랙 색상 282\n"
     ]
    },
    {
     "name": "stderr",
     "output_type": "stream",
     "text": [
      " 33%|███▎      | 4/12 [00:14<00:29,  3.70s/it]"
     ]
    },
    {
     "name": "stdout",
     "output_type": "stream",
     "text": [
      "블랙 280 주문 도와드리겠습니다 58,800원 결제는 카드로 도와 드릴까요 고객님 결제할 카드 번호 처음부터 말씀 부탁드립니다 4 0 0 0 0\n"
     ]
    },
    {
     "name": "stderr",
     "output_type": "stream",
     "text": [
      " 42%|████▏     | 5/12 [00:18<00:25,  3.66s/it]"
     ]
    },
    {
     "name": "stdout",
     "output_type": "stream",
     "text": [
      "확인됩니다 카드 번호 밑에 보면 유효기간 내 자리가 있습니다 지금 전화 주신 000 고객님 확인 주셔서 감사합니다 고객님 카드 연결해 드리겠습니다 안내멘트에 따라 카드 비밀\n"
     ]
    },
    {
     "name": "stderr",
     "output_type": "stream",
     "text": [
      " 50%|█████     | 6/12 [00:21<00:21,  3.66s/it]"
     ]
    },
    {
     "name": "stdout",
     "output_type": "stream",
     "text": [
      "앞 두 자리 입력 부탁드립니다 전화 연결해 드리겠습니다네 알겠습니다네 입력 확인 되었습니다 신한카드로 58,800원 무이자 5개월까지 결제 가능합니다 고객님 5개월로 해 드릴까요네 5개월로 할게요\n"
     ]
    },
    {
     "name": "stderr",
     "output_type": "stream",
     "text": [
      " 58%|█████▊    | 7/12 [00:25<00:17,  3.54s/it]"
     ]
    },
    {
     "name": "stdout",
     "output_type": "stream",
     "text": [
      "00 쇼핑 0 0 0입니다네 안녕하세요 지금 방송 중인 신발 주문하려고요네 고객님 실례지만 저희 공공 쇼핑 처음이요 있으니까 실례지만 고객님 휴대폰 번호 말씀해 주시면 고객 정보 등록 조회해 드리겠습니다 4 0 0 0\n"
     ]
    },
    {
     "name": "stderr",
     "output_type": "stream",
     "text": [
      " 67%|██████▋   | 8/12 [00:29<00:14,  3.67s/it]"
     ]
    },
    {
     "name": "stdout",
     "output_type": "stream",
     "text": [
      "네 고객님 카드 승인 완료 되었습니다 지금 결제한 신한카드 저희 공주병에 등록해 드릴까요네네 카드 정보는 안전하게 등록해 드리겠습니다네 감사합니다 고객님 말씀해 주신 배송지로 일요일 공휴일 제외 평균 3일이내 배송했습니다\n"
     ]
    }
   ],
   "source": [
    "# 하나씩 sr로 구글에 보내 변환하기\n",
    "\n",
    "BASE_DIR = r\"C:\\Users\\hkit\\PycharmProjects\\e_commerce\\38_음성을_30초로_자르기\\samples\"\n",
    "os.chdir(BASE_DIR)\n",
    "folderlist = os.listdir()\n",
    "\n",
    "r = sr.Recognizer()\n",
    "for folder in folderlist:\n",
    "    audio_list = glob.glob(os.path.join(BASE_DIR, folder, \"*.wav\"))\n",
    "    for file in tqdm(audio_list):\n",
    "        audSeg = AudioSegment.from_wav(os.path.join(BASE_DIR, folder, os.path.basename(file)))\n",
    "        audio_ex = sr.AudioFile(file)\n",
    "\n",
    "        with audio_ex as source:\n",
    "            audiodata = r.record(audio_ex)\n",
    "\n",
    "        try:\n",
    "            text = r.recognize_google(audio_data=audiodata, language='ko-kr')\n",
    "            print(text)\n",
    "            with open(f\"{file.split('#')[0]}\" + '.txt', 'a', encoding='utf-8') as f:\n",
    "                f.write(text + \" \")\n",
    "        except:\n",
    "            pass"
   ],
   "metadata": {
    "collapsed": false,
    "is_executing": true,
    "ExecuteTime": {
     "start_time": "2023-06-16T02:43:50.731561300Z"
    }
   }
  }
 ],
 "metadata": {
  "kernelspec": {
   "display_name": "Python 3",
   "language": "python",
   "name": "python3"
  },
  "language_info": {
   "codemirror_mode": {
    "name": "ipython",
    "version": 2
   },
   "file_extension": ".py",
   "mimetype": "text/x-python",
   "name": "python",
   "nbconvert_exporter": "python",
   "pygments_lexer": "ipython2",
   "version": "2.7.6"
  }
 },
 "nbformat": 4,
 "nbformat_minor": 0
}
