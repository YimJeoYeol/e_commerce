{
 "cells": [
  {
   "cell_type": "code",
   "execution_count": 1,
   "outputs": [],
   "source": [
    "with open(\"extremum_20230509161209.csv\", encoding=\"cp949\") as f:\n",
    "    text_list = f.readlines()"
   ],
   "metadata": {
    "collapsed": false,
    "ExecuteTime": {
     "end_time": "2023-05-09T07:57:45.920879Z",
     "start_time": "2023-05-09T07:57:45.861406200Z"
    }
   }
  },
  {
   "cell_type": "code",
   "execution_count": 2,
   "outputs": [
    {
     "data": {
      "text/plain": "['\\t\\t지점번호,지점명,일시,평균기온(℃),최고기온(℃),\\t최고기온시각,최저기온(℃),최저기온시각일교차\\n',\n '\\t\\t143,대구,1907-01-31,,0.8,,-7.0,,7.8\\n',\n '\\t\\t143,대구,1907-02-01,,,,,,\\n',\n '\\t\\t143,대구,1907-02-02,,,,,,\\n',\n '\\t\\t143,대구,1907-02-03,,,,,,\\n',\n '\\t\\t143,대구,1907-02-04,,,,,,\\n',\n '\\t\\t143,대구,1907-02-05,,,,,,\\n',\n '\\t\\t143,대구,1907-02-06,,,,,,\\n',\n '\\t\\t143,대구,1907-02-07,,,,,,\\n',\n '\\t\\t143,대구,1907-02-08,,,,,,\\n']"
     },
     "execution_count": 2,
     "metadata": {},
     "output_type": "execute_result"
    }
   ],
   "source": [
    "text_list[:10]"
   ],
   "metadata": {
    "collapsed": false,
    "ExecuteTime": {
     "end_time": "2023-05-09T07:57:46.811203700Z",
     "start_time": "2023-05-09T07:57:46.781129600Z"
    }
   }
  },
  {
   "cell_type": "code",
   "execution_count": 3,
   "outputs": [],
   "source": [
    "text_list = [i.replace(\"\\t\", \"\") for i in text_list]"
   ],
   "metadata": {
    "collapsed": false,
    "ExecuteTime": {
     "end_time": "2023-05-09T07:57:48.685172700Z",
     "start_time": "2023-05-09T07:57:48.652769800Z"
    }
   }
  },
  {
   "cell_type": "code",
   "execution_count": 4,
   "outputs": [],
   "source": [
    "text_list[:5]\n",
    "text_list[0] = '지점번호,지점명,일시,평균기온(℃),최고기온(℃),최고기온시각,최저기온(℃),최저기온시각,일교차\\n'"
   ],
   "metadata": {
    "collapsed": false,
    "ExecuteTime": {
     "end_time": "2023-05-09T07:57:51.052077900Z",
     "start_time": "2023-05-09T07:57:51.028028800Z"
    }
   }
  },
  {
   "cell_type": "code",
   "execution_count": 5,
   "outputs": [
    {
     "data": {
      "text/plain": "['지점번호,지점명,일시,평균기온(℃),최고기온(℃),최고기온시각,최저기온(℃),최저기온시각,일교차\\n',\n '143,대구,1907-01-31,,0.8,,-7.0,,7.8\\n',\n '143,대구,1907-02-01,,,,,,\\n',\n '143,대구,1907-02-02,,,,,,\\n',\n '143,대구,1907-02-03,,,,,,\\n']"
     },
     "execution_count": 5,
     "metadata": {},
     "output_type": "execute_result"
    }
   ],
   "source": [
    "text_list[:5]"
   ],
   "metadata": {
    "collapsed": false,
    "ExecuteTime": {
     "end_time": "2023-05-09T07:57:52.040065600Z",
     "start_time": "2023-05-09T07:57:52.021072800Z"
    }
   }
  },
  {
   "cell_type": "code",
   "execution_count": 6,
   "outputs": [],
   "source": [
    "columns = text_list[0]\n",
    "data = text_list[1:]"
   ],
   "metadata": {
    "collapsed": false,
    "ExecuteTime": {
     "end_time": "2023-05-09T07:57:54.489689700Z",
     "start_time": "2023-05-09T07:57:54.461674400Z"
    }
   }
  },
  {
   "cell_type": "code",
   "execution_count": 7,
   "outputs": [],
   "source": [
    "text_list = [i for i in text_list if i != \"\\n\"]"
   ],
   "metadata": {
    "collapsed": false,
    "ExecuteTime": {
     "end_time": "2023-05-09T07:57:56.687187300Z",
     "start_time": "2023-05-09T07:57:56.667187900Z"
    }
   }
  },
  {
   "cell_type": "code",
   "execution_count": 8,
   "outputs": [
    {
     "data": {
      "text/plain": "['143,대구,2023-05-04,18.8,22.9,12:40,15.1,05:08,7.8\\n',\n '143,대구,2023-05-05,19.0,20.8,14:50,16.8,00:05,4\\n',\n '143,대구,2023-05-06,13.7,19.5,02:13,11.5,23:06,8\\n',\n '143,대구,2023-05-07,11.4,13.6,10:22,9.3,23:48,4.3\\n',\n '143,대구,2023-05-08,13.7,21.1,15:16,5.7,05:27,15.4\\n']"
     },
     "execution_count": 8,
     "metadata": {},
     "output_type": "execute_result"
    }
   ],
   "source": [
    "text_list[-5:]"
   ],
   "metadata": {
    "collapsed": false,
    "ExecuteTime": {
     "end_time": "2023-05-09T07:57:57.757225600Z",
     "start_time": "2023-05-09T07:57:57.721230500Z"
    }
   }
  },
  {
   "cell_type": "code",
   "execution_count": 9,
   "outputs": [],
   "source": [
    "text_list = [i.split(\",\") for i in text_list]"
   ],
   "metadata": {
    "collapsed": false,
    "ExecuteTime": {
     "end_time": "2023-05-09T07:58:00.377850400Z",
     "start_time": "2023-05-09T07:58:00.284853Z"
    }
   }
  },
  {
   "cell_type": "code",
   "execution_count": 10,
   "outputs": [],
   "source": [
    "columns = text_list[0]"
   ],
   "metadata": {
    "collapsed": false,
    "ExecuteTime": {
     "end_time": "2023-05-09T07:58:07.742403700Z",
     "start_time": "2023-05-09T07:58:07.718378400Z"
    }
   }
  },
  {
   "cell_type": "code",
   "execution_count": 11,
   "outputs": [],
   "source": [
    "data = text_list[1:]"
   ],
   "metadata": {
    "collapsed": false,
    "ExecuteTime": {
     "end_time": "2023-05-09T07:58:10.613617800Z",
     "start_time": "2023-05-09T07:58:10.591599400Z"
    }
   }
  },
  {
   "cell_type": "code",
   "execution_count": 44,
   "outputs": [
    {
     "data": {
      "text/plain": "  지점번호 지점명          일시 평균기온(℃) 최고기온(℃) 최고기온시각 최저기온(℃) 최저기온시각  일교차\\n\n0  143  대구  1907-01-31             0.8           -7.0         7.8\\n\n1  143  대구  1907-02-01                                           \\n\n2  143  대구  1907-02-02                                           \\n\n3  143  대구  1907-02-03                                           \\n\n4  143  대구  1907-02-04                                           \\n",
      "text/html": "<div>\n<style scoped>\n    .dataframe tbody tr th:only-of-type {\n        vertical-align: middle;\n    }\n\n    .dataframe tbody tr th {\n        vertical-align: top;\n    }\n\n    .dataframe thead th {\n        text-align: right;\n    }\n</style>\n<table border=\"1\" class=\"dataframe\">\n  <thead>\n    <tr style=\"text-align: right;\">\n      <th></th>\n      <th>지점번호</th>\n      <th>지점명</th>\n      <th>일시</th>\n      <th>평균기온(℃)</th>\n      <th>최고기온(℃)</th>\n      <th>최고기온시각</th>\n      <th>최저기온(℃)</th>\n      <th>최저기온시각</th>\n      <th>일교차\\n</th>\n    </tr>\n  </thead>\n  <tbody>\n    <tr>\n      <th>0</th>\n      <td>143</td>\n      <td>대구</td>\n      <td>1907-01-31</td>\n      <td></td>\n      <td>0.8</td>\n      <td></td>\n      <td>-7.0</td>\n      <td></td>\n      <td>7.8\\n</td>\n    </tr>\n    <tr>\n      <th>1</th>\n      <td>143</td>\n      <td>대구</td>\n      <td>1907-02-01</td>\n      <td></td>\n      <td></td>\n      <td></td>\n      <td></td>\n      <td></td>\n      <td>\\n</td>\n    </tr>\n    <tr>\n      <th>2</th>\n      <td>143</td>\n      <td>대구</td>\n      <td>1907-02-02</td>\n      <td></td>\n      <td></td>\n      <td></td>\n      <td></td>\n      <td></td>\n      <td>\\n</td>\n    </tr>\n    <tr>\n      <th>3</th>\n      <td>143</td>\n      <td>대구</td>\n      <td>1907-02-03</td>\n      <td></td>\n      <td></td>\n      <td></td>\n      <td></td>\n      <td></td>\n      <td>\\n</td>\n    </tr>\n    <tr>\n      <th>4</th>\n      <td>143</td>\n      <td>대구</td>\n      <td>1907-02-04</td>\n      <td></td>\n      <td></td>\n      <td></td>\n      <td></td>\n      <td></td>\n      <td>\\n</td>\n    </tr>\n  </tbody>\n</table>\n</div>"
     },
     "execution_count": 44,
     "metadata": {},
     "output_type": "execute_result"
    }
   ],
   "source": [
    "import pandas as pd\n",
    "\n",
    "df = pd.DataFrame(data=data, columns=columns)\n",
    "df.head()"
   ],
   "metadata": {
    "collapsed": false,
    "ExecuteTime": {
     "end_time": "2023-05-09T08:14:58.109749700Z",
     "start_time": "2023-05-09T08:14:58.092451200Z"
    }
   }
  },
  {
   "cell_type": "code",
   "execution_count": 45,
   "outputs": [
    {
     "data": {
      "text/plain": "      지점번호 지점명          일시 평균기온(℃) 최고기온(℃) 최고기온시각 최저기온(℃) 최저기온시각     일교차\n0      143  대구  1907-01-31             0.8           -7.0          7.8\\n\n1      143  대구  1907-02-01                                            \\n\n2      143  대구  1907-02-02                                            \\n\n3      143  대구  1907-02-03                                            \\n\n4      143  대구  1907-02-04                                            \\n\n...    ...  ..         ...     ...     ...    ...     ...    ...     ...\n42462  143  대구  2023-05-04    18.8    22.9  12:40    15.1  05:08   7.8\\n\n42463  143  대구  2023-05-05    19.0    20.8  14:50    16.8  00:05     4\\n\n42464  143  대구  2023-05-06    13.7    19.5  02:13    11.5  23:06     8\\n\n42465  143  대구  2023-05-07    11.4    13.6  10:22     9.3  23:48   4.3\\n\n42466  143  대구  2023-05-08    13.7    21.1  15:16     5.7  05:27  15.4\\n\n\n[42467 rows x 9 columns]",
      "text/html": "<div>\n<style scoped>\n    .dataframe tbody tr th:only-of-type {\n        vertical-align: middle;\n    }\n\n    .dataframe tbody tr th {\n        vertical-align: top;\n    }\n\n    .dataframe thead th {\n        text-align: right;\n    }\n</style>\n<table border=\"1\" class=\"dataframe\">\n  <thead>\n    <tr style=\"text-align: right;\">\n      <th></th>\n      <th>지점번호</th>\n      <th>지점명</th>\n      <th>일시</th>\n      <th>평균기온(℃)</th>\n      <th>최고기온(℃)</th>\n      <th>최고기온시각</th>\n      <th>최저기온(℃)</th>\n      <th>최저기온시각</th>\n      <th>일교차</th>\n    </tr>\n  </thead>\n  <tbody>\n    <tr>\n      <th>0</th>\n      <td>143</td>\n      <td>대구</td>\n      <td>1907-01-31</td>\n      <td></td>\n      <td>0.8</td>\n      <td></td>\n      <td>-7.0</td>\n      <td></td>\n      <td>7.8\\n</td>\n    </tr>\n    <tr>\n      <th>1</th>\n      <td>143</td>\n      <td>대구</td>\n      <td>1907-02-01</td>\n      <td></td>\n      <td></td>\n      <td></td>\n      <td></td>\n      <td></td>\n      <td>\\n</td>\n    </tr>\n    <tr>\n      <th>2</th>\n      <td>143</td>\n      <td>대구</td>\n      <td>1907-02-02</td>\n      <td></td>\n      <td></td>\n      <td></td>\n      <td></td>\n      <td></td>\n      <td>\\n</td>\n    </tr>\n    <tr>\n      <th>3</th>\n      <td>143</td>\n      <td>대구</td>\n      <td>1907-02-03</td>\n      <td></td>\n      <td></td>\n      <td></td>\n      <td></td>\n      <td></td>\n      <td>\\n</td>\n    </tr>\n    <tr>\n      <th>4</th>\n      <td>143</td>\n      <td>대구</td>\n      <td>1907-02-04</td>\n      <td></td>\n      <td></td>\n      <td></td>\n      <td></td>\n      <td></td>\n      <td>\\n</td>\n    </tr>\n    <tr>\n      <th>...</th>\n      <td>...</td>\n      <td>...</td>\n      <td>...</td>\n      <td>...</td>\n      <td>...</td>\n      <td>...</td>\n      <td>...</td>\n      <td>...</td>\n      <td>...</td>\n    </tr>\n    <tr>\n      <th>42462</th>\n      <td>143</td>\n      <td>대구</td>\n      <td>2023-05-04</td>\n      <td>18.8</td>\n      <td>22.9</td>\n      <td>12:40</td>\n      <td>15.1</td>\n      <td>05:08</td>\n      <td>7.8\\n</td>\n    </tr>\n    <tr>\n      <th>42463</th>\n      <td>143</td>\n      <td>대구</td>\n      <td>2023-05-05</td>\n      <td>19.0</td>\n      <td>20.8</td>\n      <td>14:50</td>\n      <td>16.8</td>\n      <td>00:05</td>\n      <td>4\\n</td>\n    </tr>\n    <tr>\n      <th>42464</th>\n      <td>143</td>\n      <td>대구</td>\n      <td>2023-05-06</td>\n      <td>13.7</td>\n      <td>19.5</td>\n      <td>02:13</td>\n      <td>11.5</td>\n      <td>23:06</td>\n      <td>8\\n</td>\n    </tr>\n    <tr>\n      <th>42465</th>\n      <td>143</td>\n      <td>대구</td>\n      <td>2023-05-07</td>\n      <td>11.4</td>\n      <td>13.6</td>\n      <td>10:22</td>\n      <td>9.3</td>\n      <td>23:48</td>\n      <td>4.3\\n</td>\n    </tr>\n    <tr>\n      <th>42466</th>\n      <td>143</td>\n      <td>대구</td>\n      <td>2023-05-08</td>\n      <td>13.7</td>\n      <td>21.1</td>\n      <td>15:16</td>\n      <td>5.7</td>\n      <td>05:27</td>\n      <td>15.4\\n</td>\n    </tr>\n  </tbody>\n</table>\n<p>42467 rows × 9 columns</p>\n</div>"
     },
     "execution_count": 45,
     "metadata": {},
     "output_type": "execute_result"
    }
   ],
   "source": [
    "df[\"일교차\"] = df[\"일교차\\n\"]\n",
    "df.drop(\"일교차\\n\", inplace=True, axis=1)\n",
    "df"
   ],
   "metadata": {
    "collapsed": false,
    "ExecuteTime": {
     "end_time": "2023-05-09T08:15:02.425091700Z",
     "start_time": "2023-05-09T08:15:02.381960600Z"
    }
   }
  },
  {
   "cell_type": "code",
   "execution_count": 46,
   "outputs": [],
   "source": [
    "df[\"일교차\"] = df[\"일교차\"].str.replace(\"\\n\", \"\")"
   ],
   "metadata": {
    "collapsed": false,
    "ExecuteTime": {
     "end_time": "2023-05-09T08:15:04.895218900Z",
     "start_time": "2023-05-09T08:15:04.871609600Z"
    }
   }
  },
  {
   "cell_type": "code",
   "execution_count": 47,
   "outputs": [
    {
     "data": {
      "text/plain": "0         7.8\n1            \n2            \n3            \n4            \n         ... \n42462     7.8\n42463       4\n42464       8\n42465     4.3\n42466    15.4\nName: 일교차, Length: 42467, dtype: object"
     },
     "execution_count": 47,
     "metadata": {},
     "output_type": "execute_result"
    }
   ],
   "source": [
    "df[\"일교차\"]"
   ],
   "metadata": {
    "collapsed": false,
    "ExecuteTime": {
     "end_time": "2023-05-09T08:15:06.575951500Z",
     "start_time": "2023-05-09T08:15:06.549929700Z"
    }
   }
  },
  {
   "cell_type": "code",
   "execution_count": 48,
   "outputs": [
    {
     "data": {
      "text/plain": "Index(['지점번호', '지점명', '일시', '평균기온(℃)', '최고기온(℃)', '최고기온시각', '최저기온(℃)',\n       '최저기온시각', '일교차'],\n      dtype='object')"
     },
     "execution_count": 48,
     "metadata": {},
     "output_type": "execute_result"
    }
   ],
   "source": [
    "df.columns"
   ],
   "metadata": {
    "collapsed": false,
    "ExecuteTime": {
     "end_time": "2023-05-09T08:15:09.314661800Z",
     "start_time": "2023-05-09T08:15:09.287309700Z"
    }
   }
  },
  {
   "cell_type": "code",
   "execution_count": 17,
   "outputs": [],
   "source": [
    "df = df[[\"일시\", \"평균기온(℃)\"]]"
   ],
   "metadata": {
    "collapsed": false,
    "ExecuteTime": {
     "end_time": "2023-05-09T08:00:29.902969800Z",
     "start_time": "2023-05-09T08:00:29.877271900Z"
    }
   }
  },
  {
   "cell_type": "code",
   "execution_count": 49,
   "outputs": [
    {
     "data": {
      "text/plain": "      지점번호 지점명          일시 평균기온(℃) 최고기온(℃) 최고기온시각 최저기온(℃) 최저기온시각   일교차\n0      143  대구  1907-01-31             0.8           -7.0          7.8\n1      143  대구  1907-02-01                                            \n2      143  대구  1907-02-02                                            \n3      143  대구  1907-02-03                                            \n4      143  대구  1907-02-04                                            \n...    ...  ..         ...     ...     ...    ...     ...    ...   ...\n42462  143  대구  2023-05-04    18.8    22.9  12:40    15.1  05:08   7.8\n42463  143  대구  2023-05-05    19.0    20.8  14:50    16.8  00:05     4\n42464  143  대구  2023-05-06    13.7    19.5  02:13    11.5  23:06     8\n42465  143  대구  2023-05-07    11.4    13.6  10:22     9.3  23:48   4.3\n42466  143  대구  2023-05-08    13.7    21.1  15:16     5.7  05:27  15.4\n\n[42467 rows x 9 columns]",
      "text/html": "<div>\n<style scoped>\n    .dataframe tbody tr th:only-of-type {\n        vertical-align: middle;\n    }\n\n    .dataframe tbody tr th {\n        vertical-align: top;\n    }\n\n    .dataframe thead th {\n        text-align: right;\n    }\n</style>\n<table border=\"1\" class=\"dataframe\">\n  <thead>\n    <tr style=\"text-align: right;\">\n      <th></th>\n      <th>지점번호</th>\n      <th>지점명</th>\n      <th>일시</th>\n      <th>평균기온(℃)</th>\n      <th>최고기온(℃)</th>\n      <th>최고기온시각</th>\n      <th>최저기온(℃)</th>\n      <th>최저기온시각</th>\n      <th>일교차</th>\n    </tr>\n  </thead>\n  <tbody>\n    <tr>\n      <th>0</th>\n      <td>143</td>\n      <td>대구</td>\n      <td>1907-01-31</td>\n      <td></td>\n      <td>0.8</td>\n      <td></td>\n      <td>-7.0</td>\n      <td></td>\n      <td>7.8</td>\n    </tr>\n    <tr>\n      <th>1</th>\n      <td>143</td>\n      <td>대구</td>\n      <td>1907-02-01</td>\n      <td></td>\n      <td></td>\n      <td></td>\n      <td></td>\n      <td></td>\n      <td></td>\n    </tr>\n    <tr>\n      <th>2</th>\n      <td>143</td>\n      <td>대구</td>\n      <td>1907-02-02</td>\n      <td></td>\n      <td></td>\n      <td></td>\n      <td></td>\n      <td></td>\n      <td></td>\n    </tr>\n    <tr>\n      <th>3</th>\n      <td>143</td>\n      <td>대구</td>\n      <td>1907-02-03</td>\n      <td></td>\n      <td></td>\n      <td></td>\n      <td></td>\n      <td></td>\n      <td></td>\n    </tr>\n    <tr>\n      <th>4</th>\n      <td>143</td>\n      <td>대구</td>\n      <td>1907-02-04</td>\n      <td></td>\n      <td></td>\n      <td></td>\n      <td></td>\n      <td></td>\n      <td></td>\n    </tr>\n    <tr>\n      <th>...</th>\n      <td>...</td>\n      <td>...</td>\n      <td>...</td>\n      <td>...</td>\n      <td>...</td>\n      <td>...</td>\n      <td>...</td>\n      <td>...</td>\n      <td>...</td>\n    </tr>\n    <tr>\n      <th>42462</th>\n      <td>143</td>\n      <td>대구</td>\n      <td>2023-05-04</td>\n      <td>18.8</td>\n      <td>22.9</td>\n      <td>12:40</td>\n      <td>15.1</td>\n      <td>05:08</td>\n      <td>7.8</td>\n    </tr>\n    <tr>\n      <th>42463</th>\n      <td>143</td>\n      <td>대구</td>\n      <td>2023-05-05</td>\n      <td>19.0</td>\n      <td>20.8</td>\n      <td>14:50</td>\n      <td>16.8</td>\n      <td>00:05</td>\n      <td>4</td>\n    </tr>\n    <tr>\n      <th>42464</th>\n      <td>143</td>\n      <td>대구</td>\n      <td>2023-05-06</td>\n      <td>13.7</td>\n      <td>19.5</td>\n      <td>02:13</td>\n      <td>11.5</td>\n      <td>23:06</td>\n      <td>8</td>\n    </tr>\n    <tr>\n      <th>42465</th>\n      <td>143</td>\n      <td>대구</td>\n      <td>2023-05-07</td>\n      <td>11.4</td>\n      <td>13.6</td>\n      <td>10:22</td>\n      <td>9.3</td>\n      <td>23:48</td>\n      <td>4.3</td>\n    </tr>\n    <tr>\n      <th>42466</th>\n      <td>143</td>\n      <td>대구</td>\n      <td>2023-05-08</td>\n      <td>13.7</td>\n      <td>21.1</td>\n      <td>15:16</td>\n      <td>5.7</td>\n      <td>05:27</td>\n      <td>15.4</td>\n    </tr>\n  </tbody>\n</table>\n<p>42467 rows × 9 columns</p>\n</div>"
     },
     "execution_count": 49,
     "metadata": {},
     "output_type": "execute_result"
    }
   ],
   "source": [
    "df"
   ],
   "metadata": {
    "collapsed": false,
    "ExecuteTime": {
     "end_time": "2023-05-09T08:15:14.959929Z",
     "start_time": "2023-05-09T08:15:14.886774500Z"
    }
   }
  },
  {
   "cell_type": "code",
   "execution_count": 50,
   "outputs": [],
   "source": [
    "df = df.dropna()"
   ],
   "metadata": {
    "collapsed": false,
    "ExecuteTime": {
     "end_time": "2023-05-09T08:15:19.130901200Z",
     "start_time": "2023-05-09T08:15:19.085900900Z"
    }
   }
  },
  {
   "cell_type": "code",
   "execution_count": 51,
   "outputs": [
    {
     "data": {
      "text/plain": "      지점번호 지점명          일시 평균기온(℃) 최고기온(℃) 최고기온시각 최저기온(℃) 최저기온시각   일교차\n0      143  대구  1907-01-31             0.8           -7.0          7.8\n1      143  대구  1907-02-01                                            \n2      143  대구  1907-02-02                                            \n3      143  대구  1907-02-03                                            \n4      143  대구  1907-02-04                                            \n...    ...  ..         ...     ...     ...    ...     ...    ...   ...\n42462  143  대구  2023-05-04    18.8    22.9  12:40    15.1  05:08   7.8\n42463  143  대구  2023-05-05    19.0    20.8  14:50    16.8  00:05     4\n42464  143  대구  2023-05-06    13.7    19.5  02:13    11.5  23:06     8\n42465  143  대구  2023-05-07    11.4    13.6  10:22     9.3  23:48   4.3\n42466  143  대구  2023-05-08    13.7    21.1  15:16     5.7  05:27  15.4\n\n[42467 rows x 9 columns]",
      "text/html": "<div>\n<style scoped>\n    .dataframe tbody tr th:only-of-type {\n        vertical-align: middle;\n    }\n\n    .dataframe tbody tr th {\n        vertical-align: top;\n    }\n\n    .dataframe thead th {\n        text-align: right;\n    }\n</style>\n<table border=\"1\" class=\"dataframe\">\n  <thead>\n    <tr style=\"text-align: right;\">\n      <th></th>\n      <th>지점번호</th>\n      <th>지점명</th>\n      <th>일시</th>\n      <th>평균기온(℃)</th>\n      <th>최고기온(℃)</th>\n      <th>최고기온시각</th>\n      <th>최저기온(℃)</th>\n      <th>최저기온시각</th>\n      <th>일교차</th>\n    </tr>\n  </thead>\n  <tbody>\n    <tr>\n      <th>0</th>\n      <td>143</td>\n      <td>대구</td>\n      <td>1907-01-31</td>\n      <td></td>\n      <td>0.8</td>\n      <td></td>\n      <td>-7.0</td>\n      <td></td>\n      <td>7.8</td>\n    </tr>\n    <tr>\n      <th>1</th>\n      <td>143</td>\n      <td>대구</td>\n      <td>1907-02-01</td>\n      <td></td>\n      <td></td>\n      <td></td>\n      <td></td>\n      <td></td>\n      <td></td>\n    </tr>\n    <tr>\n      <th>2</th>\n      <td>143</td>\n      <td>대구</td>\n      <td>1907-02-02</td>\n      <td></td>\n      <td></td>\n      <td></td>\n      <td></td>\n      <td></td>\n      <td></td>\n    </tr>\n    <tr>\n      <th>3</th>\n      <td>143</td>\n      <td>대구</td>\n      <td>1907-02-03</td>\n      <td></td>\n      <td></td>\n      <td></td>\n      <td></td>\n      <td></td>\n      <td></td>\n    </tr>\n    <tr>\n      <th>4</th>\n      <td>143</td>\n      <td>대구</td>\n      <td>1907-02-04</td>\n      <td></td>\n      <td></td>\n      <td></td>\n      <td></td>\n      <td></td>\n      <td></td>\n    </tr>\n    <tr>\n      <th>...</th>\n      <td>...</td>\n      <td>...</td>\n      <td>...</td>\n      <td>...</td>\n      <td>...</td>\n      <td>...</td>\n      <td>...</td>\n      <td>...</td>\n      <td>...</td>\n    </tr>\n    <tr>\n      <th>42462</th>\n      <td>143</td>\n      <td>대구</td>\n      <td>2023-05-04</td>\n      <td>18.8</td>\n      <td>22.9</td>\n      <td>12:40</td>\n      <td>15.1</td>\n      <td>05:08</td>\n      <td>7.8</td>\n    </tr>\n    <tr>\n      <th>42463</th>\n      <td>143</td>\n      <td>대구</td>\n      <td>2023-05-05</td>\n      <td>19.0</td>\n      <td>20.8</td>\n      <td>14:50</td>\n      <td>16.8</td>\n      <td>00:05</td>\n      <td>4</td>\n    </tr>\n    <tr>\n      <th>42464</th>\n      <td>143</td>\n      <td>대구</td>\n      <td>2023-05-06</td>\n      <td>13.7</td>\n      <td>19.5</td>\n      <td>02:13</td>\n      <td>11.5</td>\n      <td>23:06</td>\n      <td>8</td>\n    </tr>\n    <tr>\n      <th>42465</th>\n      <td>143</td>\n      <td>대구</td>\n      <td>2023-05-07</td>\n      <td>11.4</td>\n      <td>13.6</td>\n      <td>10:22</td>\n      <td>9.3</td>\n      <td>23:48</td>\n      <td>4.3</td>\n    </tr>\n    <tr>\n      <th>42466</th>\n      <td>143</td>\n      <td>대구</td>\n      <td>2023-05-08</td>\n      <td>13.7</td>\n      <td>21.1</td>\n      <td>15:16</td>\n      <td>5.7</td>\n      <td>05:27</td>\n      <td>15.4</td>\n    </tr>\n  </tbody>\n</table>\n<p>42467 rows × 9 columns</p>\n</div>"
     },
     "execution_count": 51,
     "metadata": {},
     "output_type": "execute_result"
    }
   ],
   "source": [
    "df"
   ],
   "metadata": {
    "collapsed": false,
    "ExecuteTime": {
     "end_time": "2023-05-09T08:15:20.128682600Z",
     "start_time": "2023-05-09T08:15:20.100656200Z"
    }
   }
  },
  {
   "cell_type": "code",
   "execution_count": 52,
   "outputs": [
    {
     "data": {
      "text/plain": "0        False\n1        False\n2        False\n3        False\n4        False\n         ...  \n42462     True\n42463     True\n42464     True\n42465     True\n42466     True\nName: 평균기온(℃), Length: 42467, dtype: bool"
     },
     "execution_count": 52,
     "metadata": {},
     "output_type": "execute_result"
    }
   ],
   "source": [
    "df[\"평균기온(℃)\"] != \"\""
   ],
   "metadata": {
    "collapsed": false,
    "ExecuteTime": {
     "end_time": "2023-05-09T08:15:29.604383Z",
     "start_time": "2023-05-09T08:15:29.572544900Z"
    }
   }
  },
  {
   "cell_type": "code",
   "execution_count": 53,
   "outputs": [],
   "source": [
    "df = df[df[\"평균기온(℃)\"] != \"\"]"
   ],
   "metadata": {
    "collapsed": false,
    "ExecuteTime": {
     "end_time": "2023-05-09T08:15:32.738060400Z",
     "start_time": "2023-05-09T08:15:32.696033800Z"
    }
   }
  },
  {
   "cell_type": "code",
   "execution_count": 54,
   "outputs": [
    {
     "data": {
      "text/plain": "      지점번호 지점명          일시 평균기온(℃) 최고기온(℃) 최고기온시각 최저기온(℃) 최저기온시각   일교차\n701    143  대구  1909-01-01    -4.1     0.1           -8.0          8.1\n702    143  대구  1909-01-02    -0.8     6.1           -6.7         12.8\n703    143  대구  1909-01-03     1.0     3.6           -2.4            6\n704    143  대구  1909-01-04     4.2     9.2            0.0          9.2\n705    143  대구  1909-01-05     3.4     9.0           -0.4          9.4\n...    ...  ..         ...     ...     ...    ...     ...    ...   ...\n42462  143  대구  2023-05-04    18.8    22.9  12:40    15.1  05:08   7.8\n42463  143  대구  2023-05-05    19.0    20.8  14:50    16.8  00:05     4\n42464  143  대구  2023-05-06    13.7    19.5  02:13    11.5  23:06     8\n42465  143  대구  2023-05-07    11.4    13.6  10:22     9.3  23:48   4.3\n42466  143  대구  2023-05-08    13.7    21.1  15:16     5.7  05:27  15.4\n\n[41764 rows x 9 columns]",
      "text/html": "<div>\n<style scoped>\n    .dataframe tbody tr th:only-of-type {\n        vertical-align: middle;\n    }\n\n    .dataframe tbody tr th {\n        vertical-align: top;\n    }\n\n    .dataframe thead th {\n        text-align: right;\n    }\n</style>\n<table border=\"1\" class=\"dataframe\">\n  <thead>\n    <tr style=\"text-align: right;\">\n      <th></th>\n      <th>지점번호</th>\n      <th>지점명</th>\n      <th>일시</th>\n      <th>평균기온(℃)</th>\n      <th>최고기온(℃)</th>\n      <th>최고기온시각</th>\n      <th>최저기온(℃)</th>\n      <th>최저기온시각</th>\n      <th>일교차</th>\n    </tr>\n  </thead>\n  <tbody>\n    <tr>\n      <th>701</th>\n      <td>143</td>\n      <td>대구</td>\n      <td>1909-01-01</td>\n      <td>-4.1</td>\n      <td>0.1</td>\n      <td></td>\n      <td>-8.0</td>\n      <td></td>\n      <td>8.1</td>\n    </tr>\n    <tr>\n      <th>702</th>\n      <td>143</td>\n      <td>대구</td>\n      <td>1909-01-02</td>\n      <td>-0.8</td>\n      <td>6.1</td>\n      <td></td>\n      <td>-6.7</td>\n      <td></td>\n      <td>12.8</td>\n    </tr>\n    <tr>\n      <th>703</th>\n      <td>143</td>\n      <td>대구</td>\n      <td>1909-01-03</td>\n      <td>1.0</td>\n      <td>3.6</td>\n      <td></td>\n      <td>-2.4</td>\n      <td></td>\n      <td>6</td>\n    </tr>\n    <tr>\n      <th>704</th>\n      <td>143</td>\n      <td>대구</td>\n      <td>1909-01-04</td>\n      <td>4.2</td>\n      <td>9.2</td>\n      <td></td>\n      <td>0.0</td>\n      <td></td>\n      <td>9.2</td>\n    </tr>\n    <tr>\n      <th>705</th>\n      <td>143</td>\n      <td>대구</td>\n      <td>1909-01-05</td>\n      <td>3.4</td>\n      <td>9.0</td>\n      <td></td>\n      <td>-0.4</td>\n      <td></td>\n      <td>9.4</td>\n    </tr>\n    <tr>\n      <th>...</th>\n      <td>...</td>\n      <td>...</td>\n      <td>...</td>\n      <td>...</td>\n      <td>...</td>\n      <td>...</td>\n      <td>...</td>\n      <td>...</td>\n      <td>...</td>\n    </tr>\n    <tr>\n      <th>42462</th>\n      <td>143</td>\n      <td>대구</td>\n      <td>2023-05-04</td>\n      <td>18.8</td>\n      <td>22.9</td>\n      <td>12:40</td>\n      <td>15.1</td>\n      <td>05:08</td>\n      <td>7.8</td>\n    </tr>\n    <tr>\n      <th>42463</th>\n      <td>143</td>\n      <td>대구</td>\n      <td>2023-05-05</td>\n      <td>19.0</td>\n      <td>20.8</td>\n      <td>14:50</td>\n      <td>16.8</td>\n      <td>00:05</td>\n      <td>4</td>\n    </tr>\n    <tr>\n      <th>42464</th>\n      <td>143</td>\n      <td>대구</td>\n      <td>2023-05-06</td>\n      <td>13.7</td>\n      <td>19.5</td>\n      <td>02:13</td>\n      <td>11.5</td>\n      <td>23:06</td>\n      <td>8</td>\n    </tr>\n    <tr>\n      <th>42465</th>\n      <td>143</td>\n      <td>대구</td>\n      <td>2023-05-07</td>\n      <td>11.4</td>\n      <td>13.6</td>\n      <td>10:22</td>\n      <td>9.3</td>\n      <td>23:48</td>\n      <td>4.3</td>\n    </tr>\n    <tr>\n      <th>42466</th>\n      <td>143</td>\n      <td>대구</td>\n      <td>2023-05-08</td>\n      <td>13.7</td>\n      <td>21.1</td>\n      <td>15:16</td>\n      <td>5.7</td>\n      <td>05:27</td>\n      <td>15.4</td>\n    </tr>\n  </tbody>\n</table>\n<p>41764 rows × 9 columns</p>\n</div>"
     },
     "execution_count": 54,
     "metadata": {},
     "output_type": "execute_result"
    }
   ],
   "source": [
    "df"
   ],
   "metadata": {
    "collapsed": false,
    "ExecuteTime": {
     "end_time": "2023-05-09T08:15:34.321121300Z",
     "start_time": "2023-05-09T08:15:34.303129100Z"
    }
   }
  },
  {
   "cell_type": "code",
   "execution_count": 55,
   "outputs": [
    {
     "name": "stdout",
     "output_type": "stream",
     "text": [
      "<class 'pandas.core.frame.DataFrame'>\n",
      "Int64Index: 41764 entries, 701 to 42466\n",
      "Data columns (total 9 columns):\n",
      " #   Column   Non-Null Count  Dtype \n",
      "---  ------   --------------  ----- \n",
      " 0   지점번호     41764 non-null  object\n",
      " 1   지점명      41764 non-null  object\n",
      " 2   일시       41764 non-null  object\n",
      " 3   평균기온(℃)  41764 non-null  object\n",
      " 4   최고기온(℃)  41764 non-null  object\n",
      " 5   최고기온시각   41764 non-null  object\n",
      " 6   최저기온(℃)  41764 non-null  object\n",
      " 7   최저기온시각   41764 non-null  object\n",
      " 8   일교차      41764 non-null  object\n",
      "dtypes: object(9)\n",
      "memory usage: 3.2+ MB\n"
     ]
    }
   ],
   "source": [
    "df.info()"
   ],
   "metadata": {
    "collapsed": false,
    "ExecuteTime": {
     "end_time": "2023-05-09T08:15:40.312297600Z",
     "start_time": "2023-05-09T08:15:40.238289200Z"
    }
   }
  },
  {
   "cell_type": "code",
   "execution_count": 56,
   "outputs": [],
   "source": [
    "# df[[\"year\", \"month\", \"day\"]] 생성할 것.\n",
    "\n",
    "def 연_추출(x):\n",
    "    # 1999-01-01 -> [\"1999\", \"01\", \"01\"]\n",
    "    return x.split(\"-\")[0]  # \"1999\"\n",
    "\n",
    "def 월_추출(x):\n",
    "    # 1999-01-01 -> [\"1999\", \"01\", \"01\"]\n",
    "    return x.split(\"-\")[1]  # \"01\"\n",
    "\n",
    "def 일_추출(x):\n",
    "    # 1999-01-01 -> [\"1999\", \"01\", \"01\"]\n",
    "    return x.split(\"-\")[2]  # \"01\""
   ],
   "metadata": {
    "collapsed": false,
    "ExecuteTime": {
     "end_time": "2023-05-09T08:15:47.188822600Z",
     "start_time": "2023-05-09T08:15:47.166777400Z"
    }
   }
  },
  {
   "cell_type": "code",
   "execution_count": 57,
   "outputs": [
    {
     "name": "stderr",
     "output_type": "stream",
     "text": [
      "C:\\Users\\hkit\\AppData\\Local\\Temp\\ipykernel_12224\\1119954090.py:1: SettingWithCopyWarning: \n",
      "A value is trying to be set on a copy of a slice from a DataFrame.\n",
      "Try using .loc[row_indexer,col_indexer] = value instead\n",
      "\n",
      "See the caveats in the documentation: https://pandas.pydata.org/pandas-docs/stable/user_guide/indexing.html#returning-a-view-versus-a-copy\n",
      "  df[\"year\"] = df[\"일시\"].apply(연_추출)\n"
     ]
    }
   ],
   "source": [
    "df[\"year\"] = df[\"일시\"].apply(연_추출)"
   ],
   "metadata": {
    "collapsed": false,
    "ExecuteTime": {
     "end_time": "2023-05-09T08:15:55.944383700Z",
     "start_time": "2023-05-09T08:15:55.901496700Z"
    }
   }
  },
  {
   "cell_type": "code",
   "execution_count": 58,
   "outputs": [
    {
     "data": {
      "text/plain": "701      1909\n702      1909\n703      1909\n704      1909\n705      1909\n         ... \n42462    2023\n42463    2023\n42464    2023\n42465    2023\n42466    2023\nName: year, Length: 41764, dtype: object"
     },
     "execution_count": 58,
     "metadata": {},
     "output_type": "execute_result"
    }
   ],
   "source": [
    "df[\"year\"]"
   ],
   "metadata": {
    "collapsed": false,
    "ExecuteTime": {
     "end_time": "2023-05-09T08:15:57.362036Z",
     "start_time": "2023-05-09T08:15:57.334008800Z"
    }
   }
  },
  {
   "cell_type": "code",
   "execution_count": 59,
   "outputs": [
    {
     "name": "stderr",
     "output_type": "stream",
     "text": [
      "C:\\Users\\hkit\\AppData\\Local\\Temp\\ipykernel_12224\\3612505921.py:1: SettingWithCopyWarning: \n",
      "A value is trying to be set on a copy of a slice from a DataFrame.\n",
      "Try using .loc[row_indexer,col_indexer] = value instead\n",
      "\n",
      "See the caveats in the documentation: https://pandas.pydata.org/pandas-docs/stable/user_guide/indexing.html#returning-a-view-versus-a-copy\n",
      "  df[\"month\"] = df[\"일시\"].apply(월_추출)\n"
     ]
    }
   ],
   "source": [
    "df[\"month\"] = df[\"일시\"].apply(월_추출)"
   ],
   "metadata": {
    "collapsed": false,
    "ExecuteTime": {
     "end_time": "2023-05-09T08:15:58.902875400Z",
     "start_time": "2023-05-09T08:15:58.854852700Z"
    }
   }
  },
  {
   "cell_type": "code",
   "execution_count": 63,
   "outputs": [
    {
     "data": {
      "text/plain": "Index(['지점번호', '지점명', '일시', '평균기온(℃)', '최고기온(℃)', '최고기온시각', '최저기온(℃)',\n       '최저기온시각', '일교차', 'year', 'month'],\n      dtype='object')"
     },
     "execution_count": 63,
     "metadata": {},
     "output_type": "execute_result"
    }
   ],
   "source": [
    "df.columns"
   ],
   "metadata": {
    "collapsed": false,
    "ExecuteTime": {
     "end_time": "2023-05-09T08:17:09.906323700Z",
     "start_time": "2023-05-09T08:17:09.870108700Z"
    }
   }
  },
  {
   "cell_type": "code",
   "execution_count": 64,
   "outputs": [],
   "source": [
    "df.columns = ['지점번호', '지점명', '일시', '평균기온', '최고기온', '최고기온시각', '최저기온',\n",
    "       '최저기온시각', '일교차', 'year', 'month']"
   ],
   "metadata": {
    "collapsed": false,
    "ExecuteTime": {
     "end_time": "2023-05-09T08:17:40.899155600Z",
     "start_time": "2023-05-09T08:17:40.869980800Z"
    }
   }
  },
  {
   "cell_type": "code",
   "execution_count": 65,
   "outputs": [
    {
     "data": {
      "text/plain": "     year month  평균기온 최고기온  최저기온\n701  1909    01  -4.1  0.1  -8.0\n702  1909    01  -0.8  6.1  -6.7\n703  1909    01   1.0  3.6  -2.4\n704  1909    01   4.2  9.2   0.0\n705  1909    01   3.4  9.0  -0.4",
      "text/html": "<div>\n<style scoped>\n    .dataframe tbody tr th:only-of-type {\n        vertical-align: middle;\n    }\n\n    .dataframe tbody tr th {\n        vertical-align: top;\n    }\n\n    .dataframe thead th {\n        text-align: right;\n    }\n</style>\n<table border=\"1\" class=\"dataframe\">\n  <thead>\n    <tr style=\"text-align: right;\">\n      <th></th>\n      <th>year</th>\n      <th>month</th>\n      <th>평균기온</th>\n      <th>최고기온</th>\n      <th>최저기온</th>\n    </tr>\n  </thead>\n  <tbody>\n    <tr>\n      <th>701</th>\n      <td>1909</td>\n      <td>01</td>\n      <td>-4.1</td>\n      <td>0.1</td>\n      <td>-8.0</td>\n    </tr>\n    <tr>\n      <th>702</th>\n      <td>1909</td>\n      <td>01</td>\n      <td>-0.8</td>\n      <td>6.1</td>\n      <td>-6.7</td>\n    </tr>\n    <tr>\n      <th>703</th>\n      <td>1909</td>\n      <td>01</td>\n      <td>1.0</td>\n      <td>3.6</td>\n      <td>-2.4</td>\n    </tr>\n    <tr>\n      <th>704</th>\n      <td>1909</td>\n      <td>01</td>\n      <td>4.2</td>\n      <td>9.2</td>\n      <td>0.0</td>\n    </tr>\n    <tr>\n      <th>705</th>\n      <td>1909</td>\n      <td>01</td>\n      <td>3.4</td>\n      <td>9.0</td>\n      <td>-0.4</td>\n    </tr>\n  </tbody>\n</table>\n</div>"
     },
     "execution_count": 65,
     "metadata": {},
     "output_type": "execute_result"
    }
   ],
   "source": [
    "df = df[[\"year\", \"month\", \"평균기온\", \"최고기온\", \"최저기온\"]]\n",
    "df.head()"
   ],
   "metadata": {
    "collapsed": false,
    "ExecuteTime": {
     "end_time": "2023-05-09T08:18:11.522977100Z",
     "start_time": "2023-05-09T08:18:11.464977900Z"
    }
   }
  },
  {
   "cell_type": "code",
   "execution_count": 72,
   "outputs": [],
   "source": [
    "df = df[df[\"최저기온\"] != \"\"]"
   ],
   "metadata": {
    "collapsed": false,
    "ExecuteTime": {
     "end_time": "2023-05-09T08:19:51.083178800Z",
     "start_time": "2023-05-09T08:19:51.013575200Z"
    }
   }
  },
  {
   "cell_type": "code",
   "execution_count": 69,
   "outputs": [],
   "source": [
    "df[\"평균기온\"] = df[\"평균기온\"].astype(float)"
   ],
   "metadata": {
    "collapsed": false,
    "ExecuteTime": {
     "end_time": "2023-05-09T08:19:25.879625500Z",
     "start_time": "2023-05-09T08:19:25.800809400Z"
    }
   }
  },
  {
   "cell_type": "code",
   "execution_count": 73,
   "outputs": [],
   "source": [
    "df[\"최고기온\"] = df[\"최고기온\"].astype(float)"
   ],
   "metadata": {
    "collapsed": false,
    "ExecuteTime": {
     "end_time": "2023-05-09T08:19:54.217602900Z",
     "start_time": "2023-05-09T08:19:54.182036700Z"
    }
   }
  },
  {
   "cell_type": "code",
   "execution_count": 74,
   "outputs": [],
   "source": [
    "df[\"최저기온\"] = df[\"최저기온\"].astype(float)"
   ],
   "metadata": {
    "collapsed": false,
    "ExecuteTime": {
     "end_time": "2023-05-09T08:19:56.128715200Z",
     "start_time": "2023-05-09T08:19:56.062760700Z"
    }
   }
  },
  {
   "cell_type": "code",
   "execution_count": 75,
   "outputs": [
    {
     "data": {
      "text/plain": "<Axes: xlabel='year'>"
     },
     "execution_count": 75,
     "metadata": {},
     "output_type": "execute_result"
    },
    {
     "data": {
      "text/plain": "<Figure size 640x480 with 1 Axes>",
      "image/png": "[encoded data removed]"
     },
     "metadata": {},
     "output_type": "display_data"
    }
   ],
   "source": [
    "import matplotlib as mpl\n",
    "\n",
    "mpl.rcParams['font.family'] = 'Gulim'  # 서체 변경\n",
    "mpl.rcParams['font.size'] = 20  # 글자크기 변경\n",
    "\n",
    "df[[\"year\", \"평균기온\"]].groupby(\"year\").mean().plot.line()"
   ],
   "metadata": {
    "collapsed": false,
    "ExecuteTime": {
     "end_time": "2023-05-09T08:20:08.647023500Z",
     "start_time": "2023-05-09T08:20:08.499020200Z"
    }
   }
  },
  {
   "cell_type": "code",
   "execution_count": 76,
   "outputs": [
    {
     "data": {
      "text/plain": "<bound method DataFrame.info of        year month  평균기온  최고기온  최저기온\n701    1909    01  -4.1   0.1  -8.0\n702    1909    01  -0.8   6.1  -6.7\n703    1909    01   1.0   3.6  -2.4\n704    1909    01   4.2   9.2   0.0\n705    1909    01   3.4   9.0  -0.4\n...     ...   ...   ...   ...   ...\n42462  2023    05  18.8  22.9  15.1\n42463  2023    05  19.0  20.8  16.8\n42464  2023    05  13.7  19.5  11.5\n42465  2023    05  11.4  13.6   9.3\n42466  2023    05  13.7  21.1   5.7\n\n[41762 rows x 5 columns]>"
     },
     "execution_count": 76,
     "metadata": {},
     "output_type": "execute_result"
    }
   ],
   "source": [
    "df.info"
   ],
   "metadata": {
    "collapsed": false,
    "ExecuteTime": {
     "end_time": "2023-05-09T08:21:05.132848700Z",
     "start_time": "2023-05-09T08:21:05.035936400Z"
    }
   }
  },
  {
   "cell_type": "code",
   "execution_count": 89,
   "outputs": [
    {
     "data": {
      "text/plain": "701      01\n702      01\n703      01\n704      01\n705      01\n         ..\n42462    05\n42463    05\n42464    05\n42465    05\n42466    05\nName: month, Length: 41762, dtype: object"
     },
     "execution_count": 89,
     "metadata": {},
     "output_type": "execute_result"
    }
   ],
   "source": [
    "df[\"month\"]"
   ],
   "metadata": {
    "collapsed": false,
    "ExecuteTime": {
     "end_time": "2023-05-09T08:55:21.654871200Z",
     "start_time": "2023-05-09T08:55:21.639146400Z"
    }
   }
  },
  {
   "cell_type": "code",
   "execution_count": 93,
   "outputs": [],
   "source": [
    "df[\"month\"] = df[\"month\"].astype(int)"
   ],
   "metadata": {
    "collapsed": false,
    "ExecuteTime": {
     "end_time": "2023-05-09T08:56:45.174022Z",
     "start_time": "2023-05-09T08:56:45.127093700Z"
    }
   }
  },
  {
   "cell_type": "code",
   "execution_count": 94,
   "outputs": [],
   "source": [
    "df[\"year\"] = df[\"year\"].astype(int)"
   ],
   "metadata": {
    "collapsed": false,
    "ExecuteTime": {
     "end_time": "2023-05-09T08:56:54.045524200Z",
     "start_time": "2023-05-09T08:56:54.014283Z"
    }
   }
  },
  {
   "cell_type": "code",
   "execution_count": 95,
   "outputs": [
    {
     "data": {
      "text/plain": "       year  month  평균기온  최고기온  최저기온\n701    1909      1  -4.1   0.1  -8.0\n702    1909      1  -0.8   6.1  -6.7\n703    1909      1   1.0   3.6  -2.4\n704    1909      1   4.2   9.2   0.0\n705    1909      1   3.4   9.0  -0.4\n...     ...    ...   ...   ...   ...\n42462  2023      5  18.8  22.9  15.1\n42463  2023      5  19.0  20.8  16.8\n42464  2023      5  13.7  19.5  11.5\n42465  2023      5  11.4  13.6   9.3\n42466  2023      5  13.7  21.1   5.7\n\n[41762 rows x 5 columns]",
      "text/html": "<div>\n<style scoped>\n    .dataframe tbody tr th:only-of-type {\n        vertical-align: middle;\n    }\n\n    .dataframe tbody tr th {\n        vertical-align: top;\n    }\n\n    .dataframe thead th {\n        text-align: right;\n    }\n</style>\n<table border=\"1\" class=\"dataframe\">\n  <thead>\n    <tr style=\"text-align: right;\">\n      <th></th>\n      <th>year</th>\n      <th>month</th>\n      <th>평균기온</th>\n      <th>최고기온</th>\n      <th>최저기온</th>\n    </tr>\n  </thead>\n  <tbody>\n    <tr>\n      <th>701</th>\n      <td>1909</td>\n      <td>1</td>\n      <td>-4.1</td>\n      <td>0.1</td>\n      <td>-8.0</td>\n    </tr>\n    <tr>\n      <th>702</th>\n      <td>1909</td>\n      <td>1</td>\n      <td>-0.8</td>\n      <td>6.1</td>\n      <td>-6.7</td>\n    </tr>\n    <tr>\n      <th>703</th>\n      <td>1909</td>\n      <td>1</td>\n      <td>1.0</td>\n      <td>3.6</td>\n      <td>-2.4</td>\n    </tr>\n    <tr>\n      <th>704</th>\n      <td>1909</td>\n      <td>1</td>\n      <td>4.2</td>\n      <td>9.2</td>\n      <td>0.0</td>\n    </tr>\n    <tr>\n      <th>705</th>\n      <td>1909</td>\n      <td>1</td>\n      <td>3.4</td>\n      <td>9.0</td>\n      <td>-0.4</td>\n    </tr>\n    <tr>\n      <th>...</th>\n      <td>...</td>\n      <td>...</td>\n      <td>...</td>\n      <td>...</td>\n      <td>...</td>\n    </tr>\n    <tr>\n      <th>42462</th>\n      <td>2023</td>\n      <td>5</td>\n      <td>18.8</td>\n      <td>22.9</td>\n      <td>15.1</td>\n    </tr>\n    <tr>\n      <th>42463</th>\n      <td>2023</td>\n      <td>5</td>\n      <td>19.0</td>\n      <td>20.8</td>\n      <td>16.8</td>\n    </tr>\n    <tr>\n      <th>42464</th>\n      <td>2023</td>\n      <td>5</td>\n      <td>13.7</td>\n      <td>19.5</td>\n      <td>11.5</td>\n    </tr>\n    <tr>\n      <th>42465</th>\n      <td>2023</td>\n      <td>5</td>\n      <td>11.4</td>\n      <td>13.6</td>\n      <td>9.3</td>\n    </tr>\n    <tr>\n      <th>42466</th>\n      <td>2023</td>\n      <td>5</td>\n      <td>13.7</td>\n      <td>21.1</td>\n      <td>5.7</td>\n    </tr>\n  </tbody>\n</table>\n<p>41762 rows × 5 columns</p>\n</div>"
     },
     "execution_count": 95,
     "metadata": {},
     "output_type": "execute_result"
    }
   ],
   "source": [
    "df"
   ],
   "metadata": {
    "collapsed": false,
    "ExecuteTime": {
     "end_time": "2023-05-09T08:56:55.102224100Z",
     "start_time": "2023-05-09T08:56:55.086570300Z"
    }
   }
  },
  {
   "cell_type": "code",
   "execution_count": 96,
   "outputs": [
    {
     "name": "stdout",
     "output_type": "stream",
     "text": [
      "<class 'pandas.core.frame.DataFrame'>\n",
      "Int64Index: 41762 entries, 701 to 42466\n",
      "Data columns (total 5 columns):\n",
      " #   Column  Non-Null Count  Dtype  \n",
      "---  ------  --------------  -----  \n",
      " 0   year    41762 non-null  int32  \n",
      " 1   month   41762 non-null  int32  \n",
      " 2   평균기온    41762 non-null  float64\n",
      " 3   최고기온    41762 non-null  float64\n",
      " 4   최저기온    41762 non-null  float64\n",
      "dtypes: float64(3), int32(2)\n",
      "memory usage: 1.6 MB\n"
     ]
    }
   ],
   "source": [
    "df.info()"
   ],
   "metadata": {
    "collapsed": false,
    "ExecuteTime": {
     "end_time": "2023-05-09T08:56:59.535275900Z",
     "start_time": "2023-05-09T08:56:59.503997800Z"
    }
   }
  },
  {
   "cell_type": "code",
   "execution_count": 100,
   "outputs": [
    {
     "data": {
      "text/plain": "       year  month  평균기온  최고기온  최저기온\n852    1909      6  22.2  30.6  18.5\n853    1909      6  23.1  33.9  14.0\n854    1909      6  24.3  33.0  15.6\n855    1909      6  20.9  23.5  20.3\n856    1909      6  23.3  25.6  21.0\n...     ...    ...   ...   ...   ...\n42242  2022      9  18.5  21.9  15.5\n42243  2022      9  20.3  26.4  16.6\n42244  2022      9  19.4  26.2  14.8\n42245  2022      9  20.8  29.3  13.7\n42246  2022      9  21.6  31.2  14.1\n\n[13906 rows x 5 columns]",
      "text/html": "<div>\n<style scoped>\n    .dataframe tbody tr th:only-of-type {\n        vertical-align: middle;\n    }\n\n    .dataframe tbody tr th {\n        vertical-align: top;\n    }\n\n    .dataframe thead th {\n        text-align: right;\n    }\n</style>\n<table border=\"1\" class=\"dataframe\">\n  <thead>\n    <tr style=\"text-align: right;\">\n      <th></th>\n      <th>year</th>\n      <th>month</th>\n      <th>평균기온</th>\n      <th>최고기온</th>\n      <th>최저기온</th>\n    </tr>\n  </thead>\n  <tbody>\n    <tr>\n      <th>852</th>\n      <td>1909</td>\n      <td>6</td>\n      <td>22.2</td>\n      <td>30.6</td>\n      <td>18.5</td>\n    </tr>\n    <tr>\n      <th>853</th>\n      <td>1909</td>\n      <td>6</td>\n      <td>23.1</td>\n      <td>33.9</td>\n      <td>14.0</td>\n    </tr>\n    <tr>\n      <th>854</th>\n      <td>1909</td>\n      <td>6</td>\n      <td>24.3</td>\n      <td>33.0</td>\n      <td>15.6</td>\n    </tr>\n    <tr>\n      <th>855</th>\n      <td>1909</td>\n      <td>6</td>\n      <td>20.9</td>\n      <td>23.5</td>\n      <td>20.3</td>\n    </tr>\n    <tr>\n      <th>856</th>\n      <td>1909</td>\n      <td>6</td>\n      <td>23.3</td>\n      <td>25.6</td>\n      <td>21.0</td>\n    </tr>\n    <tr>\n      <th>...</th>\n      <td>...</td>\n      <td>...</td>\n      <td>...</td>\n      <td>...</td>\n      <td>...</td>\n    </tr>\n    <tr>\n      <th>42242</th>\n      <td>2022</td>\n      <td>9</td>\n      <td>18.5</td>\n      <td>21.9</td>\n      <td>15.5</td>\n    </tr>\n    <tr>\n      <th>42243</th>\n      <td>2022</td>\n      <td>9</td>\n      <td>20.3</td>\n      <td>26.4</td>\n      <td>16.6</td>\n    </tr>\n    <tr>\n      <th>42244</th>\n      <td>2022</td>\n      <td>9</td>\n      <td>19.4</td>\n      <td>26.2</td>\n      <td>14.8</td>\n    </tr>\n    <tr>\n      <th>42245</th>\n      <td>2022</td>\n      <td>9</td>\n      <td>20.8</td>\n      <td>29.3</td>\n      <td>13.7</td>\n    </tr>\n    <tr>\n      <th>42246</th>\n      <td>2022</td>\n      <td>9</td>\n      <td>21.6</td>\n      <td>31.2</td>\n      <td>14.1</td>\n    </tr>\n  </tbody>\n</table>\n<p>13906 rows × 5 columns</p>\n</div>"
     },
     "execution_count": 100,
     "metadata": {},
     "output_type": "execute_result"
    }
   ],
   "source": [
    "# df[df[\"month\"] > 5 and df[\"month\"] < 10] # 로는 오류 발생\n",
    "df.query('month > 5 and month < 10')"
   ],
   "metadata": {
    "collapsed": false,
    "ExecuteTime": {
     "end_time": "2023-05-09T08:58:32.688347100Z",
     "start_time": "2023-05-09T08:58:32.651872100Z"
    }
   }
  },
  {
   "cell_type": "code",
   "execution_count": 101,
   "outputs": [
    {
     "data": {
      "text/plain": "<Axes: xlabel='year'>"
     },
     "execution_count": 101,
     "metadata": {},
     "output_type": "execute_result"
    },
    {
     "data": {
      "text/plain": "<Figure size 640x480 with 1 Axes>",
      "image/png": "[encoded data removed]"
     },
     "metadata": {},
     "output_type": "display_data"
    }
   ],
   "source": [
    "df.query('month > 5 and month < 10').groupby(\"year\").mean().plot.line()"
   ],
   "metadata": {
    "collapsed": false,
    "ExecuteTime": {
     "end_time": "2023-05-09T08:58:52.010313Z",
     "start_time": "2023-05-09T08:58:51.804280700Z"
    }
   }
  },
  {
   "cell_type": "code",
   "execution_count": null,
   "outputs": [],
   "source": [],
   "metadata": {
    "collapsed": false
   }
  }
 ],
 "metadata": {
  "kernelspec": {
   "display_name": "Python 3",
   "language": "python",
   "name": "python3"
  },
  "language_info": {
   "codemirror_mode": {
    "name": "ipython",
    "version": 2
   },
   "file_extension": ".py",
   "mimetype": "text/x-python",
   "name": "python",
   "nbconvert_exporter": "python",
   "pygments_lexer": "ipython2",
   "version": "2.7.6"
  }
 },
 "nbformat": 4,
 "nbformat_minor": 0
}
