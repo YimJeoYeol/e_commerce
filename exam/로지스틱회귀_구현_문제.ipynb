{
 "cells": [
  {
   "cell_type": "code",
   "execution_count": 1,
   "metadata": {
    "ExecuteTime": {
     "end_time": "2023-06-22T06:09:15.810877200Z",
     "start_time": "2023-06-22T06:09:14.298470Z"
    }
   },
   "outputs": [],
   "source": [
    "import numpy as np\n",
    "import matplotlib.pyplot as plt\n",
    "import copy\n",
    "import h5py\n",
    "import matplotlib.pyplot as plt\n",
    "from PIL import Image"
   ]
  },
  {
   "cell_type": "code",
   "execution_count": 2,
   "outputs": [],
   "source": [
    "# 데이터 불러오기 함수\n",
    "def load_dataset():\n",
    "    train_dataset = h5py.File('train_catvnoncat.h5', \"r\")\n",
    "    train_set_x_orig = np.array(train_dataset[\"train_set_x\"][:])  # your train set features\n",
    "    train_set_y_orig = np.array(train_dataset[\"train_set_y\"][:])  # your train set labels\n",
    "\n",
    "    test_dataset = h5py.File('test_catvnoncat.h5', \"r\")\n",
    "    test_set_x_orig = np.array(test_dataset[\"test_set_x\"][:])  # your test set features\n",
    "    test_set_y_orig = np.array(test_dataset[\"test_set_y\"][:])  # your test set labels\n",
    "\n",
    "    classes = np.array(test_dataset[\"list_classes\"][:])  # the list of classes\n",
    "\n",
    "    train_set_y_orig = train_set_y_orig.reshape((1, train_set_y_orig.shape[0]))\n",
    "    test_set_y_orig = test_set_y_orig.reshape((1, test_set_y_orig.shape[0]))\n",
    "\n",
    "    return train_set_x_orig, train_set_y_orig, test_set_x_orig, test_set_y_orig, classes"
   ],
   "metadata": {
    "collapsed": false,
    "ExecuteTime": {
     "end_time": "2023-06-22T06:09:20.608022300Z",
     "start_time": "2023-06-22T06:09:20.513874200Z"
    }
   }
  },
  {
   "cell_type": "code",
   "execution_count": 8,
   "outputs": [],
   "source": [
    "import os\n",
    "os.getcwd()\n",
    "os.chdir(r\"C:\\Users\\User\\e_commerce\\exam\")"
   ],
   "metadata": {
    "collapsed": false,
    "ExecuteTime": {
     "end_time": "2023-06-22T06:11:52.049168400Z",
     "start_time": "2023-06-22T06:11:52.005854Z"
    }
   }
  },
  {
   "cell_type": "code",
   "execution_count": 9,
   "metadata": {
    "ExecuteTime": {
     "end_time": "2023-06-22T06:11:52.929298700Z",
     "start_time": "2023-06-22T06:11:52.818675900Z"
    }
   },
   "outputs": [],
   "source": [
    "# 데이터 불러오기\n",
    "train_set_x_orig, train_set_y, test_set_x_orig, test_set_y, classes = load_dataset()"
   ]
  },
  {
   "cell_type": "code",
   "execution_count": 10,
   "metadata": {
    "ExecuteTime": {
     "end_time": "2023-06-22T06:11:56.852587200Z",
     "start_time": "2023-06-22T06:11:54.845891600Z"
    }
   },
   "outputs": [
    {
     "name": "stdout",
     "output_type": "stream",
     "text": [
      "y = [1], it's a 'cat' picture.\n"
     ]
    },
    {
     "data": {
      "text/plain": "<Figure size 640x480 with 1 Axes>",
      "image/png": "[encoded data removed]"
     },
     "metadata": {},
     "output_type": "display_data"
    }
   ],
   "source": [
    "# 이미지 예제\n",
    "index = 24\n",
    "plt.imshow(train_set_x_orig[index])\n",
    "print(\"y = \" + str(train_set_y[:, index]) +\\\n",
    "      \", it's a '\" + classes[np.squeeze(train_set_y[:, index])].decode(\"utf-8\") + \"' picture.\")"
   ]
  },
  {
   "cell_type": "markdown",
   "source": [
    "# 문제1 : 데이터셋의 크기 정의"
   ],
   "metadata": {
    "collapsed": false
   }
  },
  {
   "cell_type": "code",
   "execution_count": 11,
   "metadata": {
    "deletable": false,
    "nbgrader": {
     "cell_type": "code",
     "checksum": "921fe679a632ec7ec9963069fa405725",
     "grade": false,
     "grade_id": "cell-c4e7e9c1f174eb83",
     "locked": false,
     "schema_version": 3,
     "solution": true,
     "task": false
    },
    "ExecuteTime": {
     "end_time": "2023-06-22T06:12:07.262985100Z",
     "start_time": "2023-06-22T06:12:07.101946800Z"
    }
   },
   "outputs": [
    {
     "ename": "SyntaxError",
     "evalue": "invalid syntax (1276385577.py, line 6)",
     "output_type": "error",
     "traceback": [
      "\u001B[1;36m  Cell \u001B[1;32mIn[11], line 6\u001B[1;36m\u001B[0m\n\u001B[1;33m    m_train =\u001B[0m\n\u001B[1;37m             ^\u001B[0m\n\u001B[1;31mSyntaxError\u001B[0m\u001B[1;31m:\u001B[0m invalid syntax\n"
     ]
    }
   ],
   "source": [
    "# 문제1. m_train, m_test 및 num_px를 각각 정의하시오.\n",
    "# m_train = ..\n",
    "# m_test = ..\n",
    "# num_px = ..\n",
    "# 아래 약 3줄의 코드를 완성하세요.\n",
    "m_train =\n",
    "m_test =\n",
    "num_px =\n",
    "# 여기까지 작성하세요.\n",
    "\n",
    "print(\"Number of training examples: m_train = \" + str(m_train))\n",
    "print(\"Number of testing examples: m_test = \" + str(m_test))\n",
    "print(\"Height/Width of each image: num_px = \" + str(num_px))\n",
    "print(\"Each image is of size: (\" + str(num_px) + \", \" + str(num_px) + \", 3)\")\n",
    "print(\"train_set_x shape: \" + str(train_set_x_orig.shape))\n",
    "print(\"train_set_y shape: \" + str(train_set_y.shape))\n",
    "print(\"test_set_x shape: \" + str(test_set_x_orig.shape))\n",
    "print(\"test_set_y shape: \" + str(test_set_y.shape))"
   ]
  },
  {
   "cell_type": "markdown",
   "metadata": {},
   "source": [
    "### 문제2 설명\n",
    "training 및 test 데이터셋 행렬의 데이터 하나하나를 각각 1행의 데이터로 만들어줍니다.\n",
    "기존의 데이터 사이즈가 (num_px, num_px, 3)이었다면, flatten 적용 후에는\n",
    "1행의 벡터(num\\_px $*$ num\\_px $*$ 3, 1)가 됩니다.\n",
    "\n",
    "**참고** : 2차원 이상의 행렬 하나를 벡터로 변환하는 파이썬 코드는 아래와 같습니다:\n",
    "```python\n",
    "X_flatten = X.reshape(X.shape[0], -1).T      # X.T 명령어는 X의 전치행렬(행과 열이 바뀐 행렬)입니다.\n",
    "```"
   ]
  },
  {
   "cell_type": "markdown",
   "source": [
    "### 문제2 - flattem"
   ],
   "metadata": {
    "collapsed": false
   }
  },
  {
   "cell_type": "code",
   "execution_count": 32,
   "metadata": {
    "deletable": false,
    "nbgrader": {
     "cell_type": "code",
     "checksum": "5a2aa62bdd8c01450111b758ef159aec",
     "grade": false,
     "grade_id": "cell-0f43921062c34e50",
     "locked": false,
     "schema_version": 3,
     "solution": true,
     "task": false
    },
    "ExecuteTime": {
     "end_time": "2023-06-22T04:58:57.723114500Z",
     "start_time": "2023-06-22T04:58:57.691252300Z"
    }
   },
   "outputs": [
    {
     "name": "stdout",
     "output_type": "stream",
     "text": [
      "train_set_x_flatten의 shape: (12288, 209)\n",
      "train_set_y shape: (1, 209)\n",
      "test_set_x_flatten의 shape: (12288, 50)\n",
      "test_set_y shape: (1, 50)\n"
     ]
    }
   ],
   "source": [
    "# 2차원 행렬들을 1차원 벡터로 변환하기\n",
    "#(≈ 2줄의 코드를 작성합니다.)\n",
    "# train_set_x_flatten = ...\n",
    "# test_set_x_flatten = ...\n",
    "# 아래에 코드를 작성해주세요.\n",
    "train_set_x_flatten =\n",
    "test_set_x_flatten =\n",
    "# 여기까지 코드를 작성해주세요.\n",
    "\n",
    "\n",
    "assert np.alltrue(train_set_x_flatten[0:10, 1] == [196, 192, 190, 193, 186, 182, 188, 179, 174,\n",
    "                                                   213]), \"Wrong solution. Use (X.shape[0], -1).T.\"\n",
    "assert np.alltrue(test_set_x_flatten[0:10, 1] == [115, 110, 111, 137, 129, 129, 155, 146, 145,\n",
    "                                                  159]), \"Wrong solution. Use (X.shape[0], -1).T.\"\n",
    "\n",
    "print(\"train_set_x_flatten의 shape: \" + str(train_set_x_flatten.shape))\n",
    "print(\"train_set_y shape: \" + str(train_set_y.shape))\n",
    "print(\"test_set_x_flatten의 shape: \" + str(test_set_x_flatten.shape))\n",
    "print(\"test_set_y shape: \" + str(test_set_y.shape))"
   ]
  },
  {
   "cell_type": "code",
   "execution_count": 9,
   "metadata": {
    "ExecuteTime": {
     "end_time": "2023-06-22T04:49:44.405978500Z",
     "start_time": "2023-06-22T04:49:44.392397200Z"
    }
   },
   "outputs": [],
   "source": [
    "# 0~255의 값 범위를 0~1로 만들어줍니다.\n",
    "train_set_x = train_set_x_flatten / 255.\n",
    "test_set_x = test_set_x_flatten / 255."
   ]
  },
  {
   "cell_type": "markdown",
   "source": [
    "### 문제3 - 시그모이드 함수 구현하기\n",
    "시그모이드의 공식은 아래와 같습니다.\n",
    "\n",
    " $sigmoid(z) = \\frac{1}{1 + e^{-z}}$ for $z = w^T x + b$\n",
    "\n",
    "시그모이드 함수는 분류모델의 마지막 레이어에서 0과 1로 분류하기 위해 사용됩니다.\n",
    "**참고** : np.exp() 함수를 이용하세요."
   ],
   "metadata": {
    "collapsed": false
   }
  },
  {
   "cell_type": "code",
   "execution_count": 34,
   "metadata": {
    "deletable": false,
    "nbgrader": {
     "cell_type": "code",
     "checksum": "239ab1cf1028b721fd14f31b8103c40d",
     "grade": false,
     "grade_id": "cell-520521c430352f3b",
     "locked": false,
     "schema_version": 3,
     "solution": true,
     "task": false
    },
    "ExecuteTime": {
     "end_time": "2023-06-22T05:04:01.179297100Z",
     "start_time": "2023-06-22T05:04:01.166379900Z"
    }
   },
   "outputs": [],
   "source": [
    "# 문제3 - 시그모이드 함수\n",
    "\n",
    "def sigmoid(z):\n",
    "    \"\"\"\n",
    "    z (== W.dot(X) + b)의 시그모이드를 계산하는 함수입니다.\n",
    "\n",
    "    인자:\n",
    "    z -- 넘파이 배열(사이즈 무관)\n",
    "\n",
    "    리턴:\n",
    "    s -- sigmoid(z)\n",
    "    \"\"\"\n",
    "\n",
    "    #(1 줄의 코드를 작성합니다.)\n",
    "    # s = ...\n",
    "    # 코드는 아래에 작성해주세요.\n",
    "    s =\n",
    "    # 여기까지 작성해주세요.\n",
    "\n",
    "    return s"
   ]
  },
  {
   "cell_type": "code",
   "execution_count": 36,
   "metadata": {
    "deletable": false,
    "editable": false,
    "nbgrader": {
     "cell_type": "code",
     "checksum": "0483e6820669111a9c5914d8b24bc315",
     "grade": true,
     "grade_id": "cell-30ea3151cab9c491",
     "locked": true,
     "points": 10,
     "schema_version": 3,
     "solution": false,
     "task": false
    },
    "ExecuteTime": {
     "end_time": "2023-06-22T05:04:34.814384600Z",
     "start_time": "2023-06-22T05:04:34.803348500Z"
    }
   },
   "outputs": [
    {
     "name": "stdout",
     "output_type": "stream",
     "text": [
      "sigmoid([0, 2]) = [0.5        0.88079708]\n"
     ]
    }
   ],
   "source": [
    "# 위의 sigmoid 함수를 사용하는 방법은 아래와 같습니다.\n",
    "print(\"sigmoid([0, 2]) = \" + str(sigmoid(np.array([0, 2]))))"
   ]
  },
  {
   "cell_type": "code",
   "execution_count": 37,
   "metadata": {
    "ExecuteTime": {
     "end_time": "2023-06-22T05:04:37.876696100Z",
     "start_time": "2023-06-22T05:04:37.869946400Z"
    }
   },
   "outputs": [
    {
     "name": "stdout",
     "output_type": "stream",
     "text": [
      "[0.62245933 0.5        0.88079708]\n"
     ]
    }
   ],
   "source": [
    "x = np.array([0.5, 0, 2.0])\n",
    "output = sigmoid(x)\n",
    "print(output)"
   ]
  },
  {
   "cell_type": "markdown",
   "metadata": {},
   "source": [
    "### 문제4 - 모든 파라미터(w, b)를 0으로 초기화\n",
    "아래 셀의 모든 파라미터(w, b)를 0으로 초기화해줍니다. 이 때 w는 0으로 구성된 벡터가 되며, b는 0입니다.\n",
    "**힌트** : np.zeros() 함수를 사용합니다."
   ]
  },
  {
   "cell_type": "code",
   "execution_count": 44,
   "metadata": {
    "deletable": false,
    "nbgrader": {
     "cell_type": "code",
     "checksum": "c4a37e375a85ddab7274a33abf46bb7c",
     "grade": false,
     "grade_id": "cell-befa9335e479864e",
     "locked": false,
     "schema_version": 3,
     "solution": true,
     "task": false
    },
    "ExecuteTime": {
     "end_time": "2023-06-22T05:12:38.798702300Z",
     "start_time": "2023-06-22T05:12:38.790136900Z"
    }
   },
   "outputs": [],
   "source": [
    "# 문제4\n",
    "def initialize_with_zeros(dim):\n",
    "    \"\"\"\n",
    "    이 함수는 w를 (dim, 0)으로 구성된 벡터로 초기화하고,\n",
    "    b를 0.0으로 초기화하여 리턴합니다.\n",
    "    \n",
    "    인자:\n",
    "    dim -- w 벡터의 길이(또는 X 칼럼의 갯수)\n",
    "    \n",
    "    리턴:\n",
    "    w -- (dim, 0)으로 초기화된 영벡터\n",
    "    b -- 0.0\n",
    "    \"\"\"\n",
    "\n",
    "    # (≈ 2줄의 코드를 완성해주세요.)\n",
    "    # w = ...\n",
    "    # b = ...\n",
    "    # 이 라인 아래에 코드를 작성해주세요.\n",
    "    w =\n",
    "    b =\n",
    "    # 여기까지 코드를 작성해주세요.\n",
    "\n",
    "    return w, b"
   ]
  },
  {
   "cell_type": "code",
   "execution_count": 45,
   "metadata": {
    "deletable": false,
    "editable": false,
    "nbgrader": {
     "cell_type": "code",
     "checksum": "a4c13b0eafa46ca94de21b41faea8c58",
     "grade": true,
     "grade_id": "cell-a3b6699f145f3a3f",
     "locked": true,
     "points": 10,
     "schema_version": 3,
     "solution": false,
     "task": false
    },
    "ExecuteTime": {
     "end_time": "2023-06-22T05:12:39.407934Z",
     "start_time": "2023-06-22T05:12:39.386100900Z"
    }
   },
   "outputs": [
    {
     "name": "stdout",
     "output_type": "stream",
     "text": [
      "w = [[0.]\n",
      " [0.]]\n",
      "b = 0.0\n"
     ]
    }
   ],
   "source": [
    "dim = 2\n",
    "w, b = initialize_with_zeros(dim)\n",
    "\n",
    "assert type(b) == float\n",
    "print(\"w = \" + str(w))\n",
    "print(\"b = \" + str(b))"
   ]
  },
  {
   "cell_type": "markdown",
   "metadata": {},
   "source": [
    "### 문제5 - forward propagate\n",
    "비용함수(cost function)과 그래디언트(gradient)를 계산하는 propagate 함수를 완성하세요.\n",
    "\n",
    "**힌트**:\n",
    "\n",
    "Forward Propagation:\n",
    "- 데이터셋 X에 대하여\n",
    "- 다음과 같이 A를 계산합니다. $A = \\sigma(w^T X + b) = (a^{(1)}, a^{(2)}, ..., a^{(m-1)}, a^{(m)})$\n",
    "- A를 이용해 비용함수 J를 계산합니다. $J = -\\frac{1}{m}\\sum_{i=1}^{m}(y^{(i)}\\log(a^{(i)})+(1-y^{(i)})\\log(1-a^{(i)}))$\n",
    "\n",
    "- J를 계산한 후, dJ/dw와 dJ/db는 아래와 같이 계산됩니다.\n",
    "\n",
    "$$ \\frac{\\partial J}{\\partial w} = \\frac{1}{m}X(A-Y)^T$$\n",
    "$$ \\frac{\\partial J}{\\partial b} = \\frac{1}{m} \\sum_{i=1}^m (a^{(i)}-y^{(i)})$$"
   ]
  },
  {
   "cell_type": "code",
   "execution_count": 46,
   "metadata": {
    "deletable": false,
    "nbgrader": {
     "cell_type": "code",
     "checksum": "2ff9081e51809aef5e93bc1c21dc9b7b",
     "grade": false,
     "grade_id": "cell-11af17e28077b3d3",
     "locked": false,
     "schema_version": 3,
     "solution": true,
     "task": false
    },
    "ExecuteTime": {
     "end_time": "2023-06-22T05:30:26.229009900Z",
     "start_time": "2023-06-22T05:30:26.214021400Z"
    }
   },
   "outputs": [],
   "source": [
    "# 문제5 : forward propagation을 수행하는 propagate 함수를 완성하시오.\n",
    "\n",
    "def propagate(w, b, X, Y):\n",
    "    \"\"\"\n",
    "    비용함수와 그래디언트를 계산하는 함수입니다.\n",
    "\n",
    "    인자:\n",
    "    w -- 가중치 벡터로, 넘파이 배열입니다. 사이즈는 (num_px * num_px * 3, 1)\n",
    "    b -- 편향입니다. 스칼라값입니다.\n",
    "    X -- 독립변수 X로, 사이즈는 (num_px * num_px * 3, number of examples)\n",
    "    Y -- 레이블의 실제 값 벡터입니다. (1이면 고양이, 0이면 고양이 아님)\n",
    "         사이즈는 (1, 데이터셋 개수)\n",
    "\n",
    "    리턴:\n",
    "    cost -- 로지스틱 회귀의 비용함수 값\n",
    "    dw -- 가중치벡터의 각 w에 대한 dJ/dw 그래디언트(편미분)값, 사이즈는 w와 동일\n",
    "    db -- b에 대한 비용함수의 기울기(그래디언트), 사이즈는 b와 동일\n",
    "    \n",
    "    힌트:\n",
    "    - np.log()와 np.dot()을 이용하여 차근차근 계산해보세요.\n",
    "    \"\"\"\n",
    "\n",
    "    m = X.shape[1]\n",
    "\n",
    "    # FORWARD PROPAGATION\n",
    "    #(≈ 2줄의 코드를 작성합니다.)\n",
    "    # 먼저 활성화함수(sigmoid)의 결과값 A를 계산해야 합니다.\n",
    "    # A = ...\n",
    "    # sigmoid 함수 안에는 w.T와 X를 np.dot 함수로 계산해야 합니다.\n",
    "    # 이때 편향 b를 더하는 것을 잊지 말아야 합니다.\n",
    "    #\n",
    "    # cost는 상단의 J함수를 통해 계산됩니다.\n",
    "    # cost = ...                                \n",
    "    # 아래 라인에 코드를 완성해주세요.\n",
    "    A =\n",
    "    cost =\n",
    "    # 여기까지 코드를 완성해주세요.\n",
    "\n",
    "    # BACKWARD PROPAGATION (그래디언트를 구하기 위한 과정)\n",
    "    #(≈ 2줄의 코드를 작성합니다.)\n",
    "    # dw = ...\n",
    "    # db = ...\n",
    "    # 아래에 코드를 작성해주세요.\n",
    "    dw =\n",
    "    db =\n",
    "    # 여기까지 코드를 작성해주세요.\n",
    "    cost = np.squeeze(np.array(cost))\n",
    "\n",
    "    grads = {\"dw\": dw,\n",
    "             \"db\": db}\n",
    "\n",
    "    return grads, cost"
   ]
  },
  {
   "cell_type": "code",
   "execution_count": 47,
   "metadata": {
    "deletable": false,
    "editable": false,
    "nbgrader": {
     "cell_type": "code",
     "checksum": "b8a1a4b1ff8d70ac609d721490b4d826",
     "grade": true,
     "grade_id": "cell-d1594d75b61dd554",
     "locked": true,
     "points": 10,
     "schema_version": 3,
     "solution": false,
     "task": false
    },
    "ExecuteTime": {
     "end_time": "2023-06-22T05:30:38.150848800Z",
     "start_time": "2023-06-22T05:30:38.143145Z"
    }
   },
   "outputs": [
    {
     "name": "stdout",
     "output_type": "stream",
     "text": [
      "dw = [[ 0.25071532]\n",
      " [-0.06604096]]\n",
      "db = -0.12500404500439652\n",
      "cost = 0.15900537707692405\n"
     ]
    }
   ],
   "source": [
    "w = np.array([[1.], [2]])\n",
    "b = 1.5\n",
    "X = np.array([[1., -2., -1.], [3., 0.5, -3.2]])\n",
    "Y = np.array([[1, 1, 0]])\n",
    "grads, cost = propagate(w, b, X, Y)\n",
    "\n",
    "assert type(grads[\"dw\"]) == np.ndarray\n",
    "assert grads[\"dw\"].shape == (2, 1)\n",
    "assert type(grads[\"db\"]) == np.float64\n",
    "\n",
    "print(\"dw = \" + str(grads[\"dw\"]))\n",
    "print(\"db = \" + str(grads[\"db\"]))\n",
    "print(\"cost = \" + str(cost))"
   ]
  },
  {
   "cell_type": "markdown",
   "metadata": {},
   "source": [
    "### 문제6 - 최적화(optimize)\n",
    "최적화 함수를 완성할 차례입니다. 이번 함수는 비용함수 J의 값을 최소화하는 w와 b를 구해줍니다.\n",
    "w나 b를 $\\theta$라고 가정하면, 이를 업데이트하는 공식은 $ \\theta = \\theta - \\alpha \\text{ } d\\theta$ 입니다. 여기서 $\\alpha$ 는 학습률을 뜻합니다."
   ]
  },
  {
   "cell_type": "code",
   "execution_count": 48,
   "metadata": {
    "deletable": false,
    "nbgrader": {
     "cell_type": "code",
     "checksum": "49d9b4c1a780bf141c8eb48e06cbb494",
     "grade": false,
     "grade_id": "cell-616d6883e807448d",
     "locked": false,
     "schema_version": 3,
     "solution": true,
     "task": false
    },
    "ExecuteTime": {
     "end_time": "2023-06-22T05:39:42.142125100Z",
     "start_time": "2023-06-22T05:39:42.121445500Z"
    }
   },
   "outputs": [],
   "source": [
    "# 문제6 : 최적화\n",
    "\n",
    "def optimize(w, b, X, Y, num_iterations=100, learning_rate=0.009, print_cost=False):\n",
    "    \"\"\"\n",
    "    경사하강법을 통해 최적의 w와 b를 학습하게 됩니다.\n",
    "    \n",
    "    인자:\n",
    "    w -- 가중치(벡터)\n",
    "    b -- 편향(실수)\n",
    "    X -- 입력 데이터셋, 사이즈는 (num_px * num_px * 3, 데이터셋 갯수)\n",
    "    Y -- 실제 레이블값(1이면 고양이, 0이면 고양이 아님), 사이즈는 (1, 데이터셋 갯수)\n",
    "    num_iterations -- 최적화 반복횟수\n",
    "    learning_rate -- 경사하강법의 학습률 알파\n",
    "    print_cost -- True로 설정시 100에포크에 한 번씩 loss값을 출력함\n",
    "    \n",
    "    리턴:\n",
    "    params -- w와 b의 값을 담고 있는 dict\n",
    "    grads -- w와 b의 그래디언트값을 담고 있는 dict\n",
    "    costs -- 최적화 수행과정에서 계산된 cost를 담고 있는 리스트, 시각화에 필요\n",
    "    \"\"\"\n",
    "\n",
    "    w = copy.deepcopy(w)\n",
    "    b = copy.deepcopy(b)\n",
    "\n",
    "    costs = []\n",
    "\n",
    "    for i in range(num_iterations):\n",
    "        # (≈ 1 lines of code)\n",
    "        # Cost and gradient calculation \n",
    "        # grads, cost = ...\n",
    "        # 아래 라인에 1줄의 코드를 작성해주세요.\n",
    "        grads, cost =\n",
    "        # 여기까지 코드를 완성해주세요.\n",
    "\n",
    "        # grads 사전데이터에서 \"dw\"와 \"db\" 키를 통해 dw와 db값을 가져옵니다.\n",
    "        dw = grads[\"dw\"]\n",
    "        db = grads[\"db\"]\n",
    "\n",
    "        # w와 b를 업데이트하는 과정(2줄의 코드)\n",
    "        # w = ...\n",
    "        # b = ...\n",
    "        # 아래에 코드를 작성해주세요.\n",
    "        w =\n",
    "        b =\n",
    "        # 여기까지 코드를 작성해주세요.\n",
    "\n",
    "        # 모든 cost는 costs 리스트에 append 해줍니다.\n",
    "        if i % 100 == 0:\n",
    "            costs.append(cost)\n",
    "\n",
    "            # 100에포크마다 Cost를 출력해줍니다.\n",
    "            if print_cost:\n",
    "                print(\"Cost after iteration %i: %f\" % (i, cost))\n",
    "\n",
    "    params = {\"w\": w,\n",
    "              \"b\": b}\n",
    "\n",
    "    grads = {\"dw\": dw,\n",
    "             \"db\": db}\n",
    "\n",
    "    return params, grads, costs"
   ]
  },
  {
   "cell_type": "code",
   "execution_count": 50,
   "metadata": {
    "deletable": false,
    "editable": false,
    "nbgrader": {
     "cell_type": "code",
     "checksum": "b65a5c90f86a990614156e41f64b4678",
     "grade": true,
     "grade_id": "cell-8e3d43fbb82a8901",
     "locked": true,
     "points": 10,
     "schema_version": 3,
     "solution": false,
     "task": false
    },
    "ExecuteTime": {
     "end_time": "2023-06-22T05:39:53.153982600Z",
     "start_time": "2023-06-22T05:39:53.098949600Z"
    }
   },
   "outputs": [
    {
     "name": "stdout",
     "output_type": "stream",
     "text": [
      "w = [[0.80956046]\n",
      " [2.0508202 ]]\n",
      "b = 1.5948713189708588\n",
      "dw = [[ 0.17860505]\n",
      " [-0.04840656]]\n",
      "db = -0.08888460336847771\n",
      "Costs = [array(0.15900538)]\n"
     ]
    }
   ],
   "source": [
    "params, grads, costs = optimize(w, b, X, Y, num_iterations=100, learning_rate=0.009, print_cost=False)\n",
    "\n",
    "print(\"w = \" + str(params[\"w\"]))\n",
    "print(\"b = \" + str(params[\"b\"]))\n",
    "print(\"dw = \" + str(grads[\"dw\"]))\n",
    "print(\"db = \" + str(grads[\"db\"]))\n",
    "print(\"Costs = \" + str(costs))"
   ]
  },
  {
   "cell_type": "markdown",
   "metadata": {},
   "source": [
    "### 문제7 - 예측(predict)\n",
    "이전까지의 함수를 통해 최적의 w와 b를 구했습니다.\n",
    "이제 우리는 이 w와 b를 사용해 y값을 예측할 수 있습니다.\n",
    "마지막으로 예측결과를 출력하기 위한 predict 함수를 만들어봅시다.\n",
    "predict 함수는 아래와 같습니다.\n",
    "\n",
    "1. 예측값인 $\\hat{Y} = A = \\sigma(w^T X + b)$\n",
    "\n",
    "2. threshold를 0.5로 가정하면, A가 0.5 이하일 때는 0(고양이가 아닌 것으로 판단)이고,\n",
    "   A가 0.5를 초과하면 1(고양이인 것으로 판단)로 출력합니다."
   ]
  },
  {
   "cell_type": "code",
   "execution_count": 51,
   "metadata": {
    "deletable": false,
    "nbgrader": {
     "cell_type": "code",
     "checksum": "e56419b97ebf382a8f93ac2873988887",
     "grade": false,
     "grade_id": "cell-d6f924f49c51dc2f",
     "locked": false,
     "schema_version": 3,
     "solution": true,
     "task": false
    },
    "ExecuteTime": {
     "end_time": "2023-06-22T05:46:34.316615600Z",
     "start_time": "2023-06-22T05:46:34.291454200Z"
    }
   },
   "outputs": [],
   "source": [
    "# 문제7 : predict 함수 구현\n",
    "\n",
    "def predict(w, b, X):\n",
    "    '''\n",
    "    예측값을 0 또는 1로 판단하여 출력하는 함수\n",
    "    \n",
    "    인자:\n",
    "    w -- 가중치(벡터)\n",
    "    b -- 편향(실수)\n",
    "    X -- 입력 데이터셋. 사이즈는 (num_px * num_px * 3, number of examples)\n",
    "    \n",
    "    리턴:\n",
    "    Y_prediction -- 입력된 X의 값에 따른 예측값(y_hat)의 넘파이 배열\n",
    "    '''\n",
    "\n",
    "    m = X.shape[1]\n",
    "    Y_prediction = np.zeros((1, m))\n",
    "    w = w.reshape(X.shape[0], 1)\n",
    "\n",
    "    # wx+b의 결과인 z를 시그모이드에 넣어 A를 계산\n",
    "    #(≈ 1줄의 코드입니다.)\n",
    "    # A = ...\n",
    "    # 코드는 아래에 작성해주세요.\n",
    "    A =\n",
    "    # 여기까지 코드를 작성해주세요.\n",
    "\n",
    "    for i in range(A.shape[1]):\n",
    "        # if와 else문을 사용해서 A가 0.5 초과이면 1로, A가 0.5 이하이면 0으로 판단합니다.\n",
    "        #(≈ 4줄의 코드입니다.)\n",
    "        # if A[0, i] > ____ :\n",
    "        #     Y_prediction[0,i] = \n",
    "        # else:\n",
    "        #     Y_prediction[0,i] = \n",
    "        # 코드를 아래에 작성해주세요.\n",
    "        if A[0, i] > ____ :\n",
    "            Y_prediction[0,i] =\n",
    "        else:\n",
    "            Y_prediction[0,i] =\n",
    "        # 여기까지 코드를 작성해주세요.\n",
    "\n",
    "    return Y_prediction"
   ]
  },
  {
   "cell_type": "code",
   "execution_count": 52,
   "metadata": {
    "deletable": false,
    "editable": false,
    "nbgrader": {
     "cell_type": "code",
     "checksum": "e3ea12608f15798d542a07c1bc9f561b",
     "grade": true,
     "grade_id": "cell-90b1fb967269548c",
     "locked": true,
     "points": 10,
     "schema_version": 3,
     "solution": false,
     "task": false
    },
    "ExecuteTime": {
     "end_time": "2023-06-22T05:46:38.067125400Z",
     "start_time": "2023-06-22T05:46:38.055611500Z"
    }
   },
   "outputs": [
    {
     "name": "stdout",
     "output_type": "stream",
     "text": [
      "predictions = [[1. 1. 0.]]\n"
     ]
    }
   ],
   "source": [
    "w = np.array([[0.1124579], [0.23106775]])\n",
    "b = -0.3\n",
    "X = np.array([[1., -1.1, -3.2], [1.2, 2., 0.1]])\n",
    "print(\"predictions = \" + str(predict(w, b, X)))"
   ]
  },
  {
   "cell_type": "markdown",
   "source": [
    "# 축하합니다. 모든 코드를 완성하셨습니다. 이제 위 함수를 조합하여 model 함수를 만들 수 있게 되었습니다."
   ],
   "metadata": {
    "collapsed": false
   }
  },
  {
   "cell_type": "code",
   "execution_count": 54,
   "metadata": {
    "deletable": false,
    "nbgrader": {
     "cell_type": "code",
     "checksum": "f23cca6cfb750397e5d2ac44977e2c2a",
     "grade": false,
     "grade_id": "cell-6dcba5967c4cbf8c",
     "locked": false,
     "schema_version": 3,
     "solution": true,
     "task": false
    },
    "ExecuteTime": {
     "end_time": "2023-06-22T05:49:25.529162100Z",
     "start_time": "2023-06-22T05:49:25.512612Z"
    }
   },
   "outputs": [],
   "source": [
    "def model(X_train, Y_train, X_test, Y_test, num_iterations=2000, learning_rate=0.5, print_cost=False):\n",
    "    \"\"\"\n",
    "    로지스틱회귀 모델\n",
    "    \n",
    "    인자:\n",
    "    X_train\n",
    "    Y_train\n",
    "    X_test\n",
    "    Y_test\n",
    "    num_iterations -- 에포크 수\n",
    "    learning_rate -- 학습률\n",
    "    print_cost -- True일 때 100에포크에 한 번씩 cost를 출력\n",
    "    \n",
    "    리턴:\n",
    "    d -- 모델의 파라미터 정보를 담는 사전.\n",
    "    \"\"\"\n",
    "    w, b = np.zeros([X_train.shape[0], 1]), 0.0\n",
    "    params, grads, costs = optimize(w, b, X_train, Y_train, num_iterations=num_iterations, learning_rate=learning_rate, print_cost=print_cost)\n",
    "    w = params['w']\n",
    "    b = params['b']\n",
    "\n",
    "    Y_prediction_test = predict(w, b, X_test)\n",
    "    Y_prediction_train = predict(w, b, X_train)\n",
    "\n",
    "    if print_cost:\n",
    "        print(\"train accuracy: {} %\".format(100 - np.mean(np.abs(Y_prediction_train - Y_train)) * 100))\n",
    "        print(\"test accuracy: {} %\".format(100 - np.mean(np.abs(Y_prediction_test - Y_test)) * 100))\n",
    "\n",
    "    d = {\"costs\": costs,\n",
    "         \"Y_prediction_test\": Y_prediction_test,\n",
    "         \"Y_prediction_train\": Y_prediction_train,\n",
    "         \"w\": w,\n",
    "         \"b\": b,\n",
    "         \"learning_rate\": learning_rate,\n",
    "         \"num_iterations\": num_iterations}\n",
    "\n",
    "    return d"
   ]
  },
  {
   "cell_type": "code",
   "execution_count": 55,
   "metadata": {
    "ExecuteTime": {
     "end_time": "2023-06-22T05:49:34.717997100Z",
     "start_time": "2023-06-22T05:49:30.920407300Z"
    }
   },
   "outputs": [
    {
     "name": "stdout",
     "output_type": "stream",
     "text": [
      "Cost after iteration 0: 0.693147\n",
      "Cost after iteration 100: 0.584508\n",
      "Cost after iteration 200: 0.466949\n",
      "Cost after iteration 300: 0.376007\n",
      "Cost after iteration 400: 0.331463\n",
      "Cost after iteration 500: 0.303273\n",
      "Cost after iteration 600: 0.279880\n",
      "Cost after iteration 700: 0.260042\n",
      "Cost after iteration 800: 0.242941\n",
      "Cost after iteration 900: 0.228004\n",
      "Cost after iteration 1000: 0.214820\n",
      "Cost after iteration 1100: 0.203078\n",
      "Cost after iteration 1200: 0.192544\n",
      "Cost after iteration 1300: 0.183033\n",
      "Cost after iteration 1400: 0.174399\n",
      "Cost after iteration 1500: 0.166521\n",
      "Cost after iteration 1600: 0.159305\n",
      "Cost after iteration 1700: 0.152667\n",
      "Cost after iteration 1800: 0.146542\n",
      "Cost after iteration 1900: 0.140872\n",
      "train accuracy: 99.04306220095694 %\n",
      "test accuracy: 70.0 %\n"
     ]
    }
   ],
   "source": [
    "logistic_regression_model = model(train_set_x, train_set_y, test_set_x, test_set_y, num_iterations=2000,\n",
    "                                  learning_rate=0.005, print_cost=True)"
   ]
  },
  {
   "cell_type": "markdown",
   "metadata": {},
   "source": [
    "우리가 작성한 로지스틱 회귀 모델의 성능을 보니 어떠신가요?\n",
    "결과를 보니 어떤가요? 훈련데이터 정확도는 99%를 우회합니다.\n",
    "모델이 충분히 잘 돌아가고 있다는 의미입니다.\n",
    "단, 테스트 정확도가 70% 부근입니다. 나쁜 수치는 아니지만,\n",
    "다소 오버피팅이 되어 있는 것으로 생각해볼 수 있습니다."
   ]
  },
  {
   "cell_type": "code",
   "execution_count": 58,
   "metadata": {
    "ExecuteTime": {
     "end_time": "2023-06-22T05:52:26.268818400Z",
     "start_time": "2023-06-22T05:52:26.095027100Z"
    }
   },
   "outputs": [
    {
     "name": "stdout",
     "output_type": "stream",
     "text": [
      "y = 1, 이 모델은 이 사진을 \"cat\" 이라고 예측하고 있습니다.\n"
     ]
    },
    {
     "data": {
      "text/plain": "<Figure size 640x480 with 1 Axes>",
      "image/png": "[encoded data removed]"
     },
     "metadata": {},
     "output_type": "display_data"
    }
   ],
   "source": [
    "# 예시\n",
    "index = 1\n",
    "plt.imshow(test_set_x[:, index].reshape((num_px, num_px, 3)))\n",
    "print(\"y = \" + str(test_set_y[0, index]) + \", 이 모델은 이 사진을 \\\"\" + classes[\n",
    "    int(logistic_regression_model['Y_prediction_test'][0, index])].decode(\"utf-8\") + \"\\\" 이라고 예측하고 있습니다.\")"
   ]
  },
  {
   "cell_type": "markdown",
   "metadata": {},
   "source": [
    "마지막으로 비용함수와 그래디언트를 시각화해봅시다."
   ]
  },
  {
   "cell_type": "code",
   "execution_count": 59,
   "metadata": {
    "ExecuteTime": {
     "end_time": "2023-06-22T05:52:50.963068Z",
     "start_time": "2023-06-22T05:52:50.834038300Z"
    }
   },
   "outputs": [
    {
     "data": {
      "text/plain": "<Figure size 640x480 with 1 Axes>",
      "image/png": "[encoded data removed]"
     },
     "metadata": {},
     "output_type": "display_data"
    }
   ],
   "source": [
    "costs = np.squeeze(logistic_regression_model['costs'])\n",
    "plt.plot(costs)\n",
    "plt.ylabel('cost')\n",
    "plt.xlabel('iterations (per hundreds)')\n",
    "plt.title(\"Learning rate =\" + str(logistic_regression_model[\"learning_rate\"]))\n",
    "plt.show()"
   ]
  },
  {
   "cell_type": "markdown",
   "source": [
    "# 끝. 수고하셨습니다."
   ],
   "metadata": {
    "collapsed": false
   }
  }
 ],
 "metadata": {
  "kernelspec": {
   "display_name": "Python 3",
   "language": "python",
   "name": "python3"
  },
  "language_info": {
   "codemirror_mode": {
    "name": "ipython",
    "version": 3
   },
   "file_extension": ".py",
   "mimetype": "text/x-python",
   "name": "python",
   "nbconvert_exporter": "python",
   "pygments_lexer": "ipython3",
   "version": "3.7.6"
  }
 },
 "nbformat": 4,
 "nbformat_minor": 2
}
